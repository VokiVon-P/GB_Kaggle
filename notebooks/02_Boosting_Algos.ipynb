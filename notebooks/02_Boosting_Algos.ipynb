{
 "cells": [
  {
   "cell_type": "markdown",
   "metadata": {},
   "source": [
    "# 02 - Обзор основных алгоритмов Boosting "
   ]
  },
  {
   "cell_type": "code",
   "execution_count": 1,
   "metadata": {},
   "outputs": [],
   "source": [
    "if 0:\n",
    "    !pip install -U xgboost\n",
    "    !pip install -U lightgbm\n",
    "    !pip install -U catboost"
   ]
  },
  {
   "cell_type": "code",
   "execution_count": 2,
   "metadata": {},
   "outputs": [],
   "source": [
    "from tqdm.notebook import tqdm\n",
    "\n",
    "import numpy as np\n",
    "import pandas as pd\n",
    "\n",
    "import matplotlib as mpl\n",
    "import matplotlib.pyplot as plt\n",
    "import seaborn as sns\n",
    "\n",
    "# pd.set_option('display.max_columns', None)\n",
    "%matplotlib inline"
   ]
  },
  {
   "cell_type": "code",
   "execution_count": 3,
   "metadata": {},
   "outputs": [],
   "source": [
    "from sklearn.model_selection import train_test_split\n",
    "from sklearn.metrics import roc_auc_score"
   ]
  },
  {
   "cell_type": "markdown",
   "metadata": {},
   "source": [
    "#### Загрузка данных"
   ]
  },
  {
   "cell_type": "code",
   "execution_count": 4,
   "metadata": {},
   "outputs": [],
   "source": [
    "DATA_TRAIN = \"../data/02/assignment_2_train.csv\"\n",
    "DATA_TEST = \"../data/02/assignment_2_test.csv\""
   ]
  },
  {
   "cell_type": "code",
   "execution_count": 5,
   "metadata": {},
   "outputs": [
    {
     "name": "stdout",
     "output_type": "stream",
     "text": [
      "data.shape = 180000 rows, 394 cols\n"
     ]
    },
    {
     "data": {
      "text/html": [
       "<div>\n",
       "<style scoped>\n",
       "    .dataframe tbody tr th:only-of-type {\n",
       "        vertical-align: middle;\n",
       "    }\n",
       "\n",
       "    .dataframe tbody tr th {\n",
       "        vertical-align: top;\n",
       "    }\n",
       "\n",
       "    .dataframe thead th {\n",
       "        text-align: right;\n",
       "    }\n",
       "</style>\n",
       "<table border=\"1\" class=\"dataframe\">\n",
       "  <thead>\n",
       "    <tr style=\"text-align: right;\">\n",
       "      <th></th>\n",
       "      <th>TransactionID</th>\n",
       "      <th>isFraud</th>\n",
       "      <th>TransactionDT</th>\n",
       "      <th>TransactionAmt</th>\n",
       "      <th>ProductCD</th>\n",
       "      <th>card1</th>\n",
       "      <th>card2</th>\n",
       "      <th>card3</th>\n",
       "      <th>card4</th>\n",
       "      <th>card5</th>\n",
       "      <th>...</th>\n",
       "      <th>V330</th>\n",
       "      <th>V331</th>\n",
       "      <th>V332</th>\n",
       "      <th>V333</th>\n",
       "      <th>V334</th>\n",
       "      <th>V335</th>\n",
       "      <th>V336</th>\n",
       "      <th>V337</th>\n",
       "      <th>V338</th>\n",
       "      <th>V339</th>\n",
       "    </tr>\n",
       "  </thead>\n",
       "  <tbody>\n",
       "    <tr>\n",
       "      <th>0</th>\n",
       "      <td>2987000</td>\n",
       "      <td>0</td>\n",
       "      <td>86400</td>\n",
       "      <td>68.5</td>\n",
       "      <td>W</td>\n",
       "      <td>13926</td>\n",
       "      <td>NaN</td>\n",
       "      <td>150.0</td>\n",
       "      <td>discover</td>\n",
       "      <td>142.0</td>\n",
       "      <td>...</td>\n",
       "      <td>NaN</td>\n",
       "      <td>NaN</td>\n",
       "      <td>NaN</td>\n",
       "      <td>NaN</td>\n",
       "      <td>NaN</td>\n",
       "      <td>NaN</td>\n",
       "      <td>NaN</td>\n",
       "      <td>NaN</td>\n",
       "      <td>NaN</td>\n",
       "      <td>NaN</td>\n",
       "    </tr>\n",
       "    <tr>\n",
       "      <th>1</th>\n",
       "      <td>2987001</td>\n",
       "      <td>0</td>\n",
       "      <td>86401</td>\n",
       "      <td>29.0</td>\n",
       "      <td>W</td>\n",
       "      <td>2755</td>\n",
       "      <td>404.0</td>\n",
       "      <td>150.0</td>\n",
       "      <td>mastercard</td>\n",
       "      <td>102.0</td>\n",
       "      <td>...</td>\n",
       "      <td>NaN</td>\n",
       "      <td>NaN</td>\n",
       "      <td>NaN</td>\n",
       "      <td>NaN</td>\n",
       "      <td>NaN</td>\n",
       "      <td>NaN</td>\n",
       "      <td>NaN</td>\n",
       "      <td>NaN</td>\n",
       "      <td>NaN</td>\n",
       "      <td>NaN</td>\n",
       "    </tr>\n",
       "  </tbody>\n",
       "</table>\n",
       "<p>2 rows × 394 columns</p>\n",
       "</div>"
      ],
      "text/plain": [
       "   TransactionID  isFraud  TransactionDT  TransactionAmt ProductCD  card1  \\\n",
       "0        2987000        0          86400            68.5         W  13926   \n",
       "1        2987001        0          86401            29.0         W   2755   \n",
       "\n",
       "   card2  card3       card4  card5  ... V330  V331  V332  V333  V334 V335  \\\n",
       "0    NaN  150.0    discover  142.0  ...  NaN   NaN   NaN   NaN   NaN  NaN   \n",
       "1  404.0  150.0  mastercard  102.0  ...  NaN   NaN   NaN   NaN   NaN  NaN   \n",
       "\n",
       "  V336  V337  V338  V339  \n",
       "0  NaN   NaN   NaN   NaN  \n",
       "1  NaN   NaN   NaN   NaN  \n",
       "\n",
       "[2 rows x 394 columns]"
      ]
     },
     "execution_count": 5,
     "metadata": {},
     "output_type": "execute_result"
    }
   ],
   "source": [
    "data = pd.read_csv(DATA_TRAIN)\n",
    "print(\"data.shape = {} rows, {} cols\".format(*data.shape))\n",
    "data.head(n=2)"
   ]
  },
  {
   "cell_type": "code",
   "execution_count": 6,
   "metadata": {},
   "outputs": [
    {
     "name": "stdout",
     "output_type": "stream",
     "text": [
      "data_test.shape = 100001 rows, 394 cols\n"
     ]
    },
    {
     "data": {
      "text/html": [
       "<div>\n",
       "<style scoped>\n",
       "    .dataframe tbody tr th:only-of-type {\n",
       "        vertical-align: middle;\n",
       "    }\n",
       "\n",
       "    .dataframe tbody tr th {\n",
       "        vertical-align: top;\n",
       "    }\n",
       "\n",
       "    .dataframe thead th {\n",
       "        text-align: right;\n",
       "    }\n",
       "</style>\n",
       "<table border=\"1\" class=\"dataframe\">\n",
       "  <thead>\n",
       "    <tr style=\"text-align: right;\">\n",
       "      <th></th>\n",
       "      <th>TransactionID</th>\n",
       "      <th>isFraud</th>\n",
       "      <th>TransactionDT</th>\n",
       "      <th>TransactionAmt</th>\n",
       "      <th>ProductCD</th>\n",
       "      <th>card1</th>\n",
       "      <th>card2</th>\n",
       "      <th>card3</th>\n",
       "      <th>card4</th>\n",
       "      <th>card5</th>\n",
       "      <th>...</th>\n",
       "      <th>V330</th>\n",
       "      <th>V331</th>\n",
       "      <th>V332</th>\n",
       "      <th>V333</th>\n",
       "      <th>V334</th>\n",
       "      <th>V335</th>\n",
       "      <th>V336</th>\n",
       "      <th>V337</th>\n",
       "      <th>V338</th>\n",
       "      <th>V339</th>\n",
       "    </tr>\n",
       "  </thead>\n",
       "  <tbody>\n",
       "    <tr>\n",
       "      <th>0</th>\n",
       "      <td>3287000</td>\n",
       "      <td>1</td>\n",
       "      <td>7415038</td>\n",
       "      <td>226.0</td>\n",
       "      <td>W</td>\n",
       "      <td>12473</td>\n",
       "      <td>555.0</td>\n",
       "      <td>150.0</td>\n",
       "      <td>visa</td>\n",
       "      <td>226.0</td>\n",
       "      <td>...</td>\n",
       "      <td>NaN</td>\n",
       "      <td>NaN</td>\n",
       "      <td>NaN</td>\n",
       "      <td>NaN</td>\n",
       "      <td>NaN</td>\n",
       "      <td>NaN</td>\n",
       "      <td>NaN</td>\n",
       "      <td>NaN</td>\n",
       "      <td>NaN</td>\n",
       "      <td>NaN</td>\n",
       "    </tr>\n",
       "    <tr>\n",
       "      <th>1</th>\n",
       "      <td>3287001</td>\n",
       "      <td>0</td>\n",
       "      <td>7415054</td>\n",
       "      <td>3072.0</td>\n",
       "      <td>W</td>\n",
       "      <td>15651</td>\n",
       "      <td>417.0</td>\n",
       "      <td>150.0</td>\n",
       "      <td>visa</td>\n",
       "      <td>226.0</td>\n",
       "      <td>...</td>\n",
       "      <td>NaN</td>\n",
       "      <td>NaN</td>\n",
       "      <td>NaN</td>\n",
       "      <td>NaN</td>\n",
       "      <td>NaN</td>\n",
       "      <td>NaN</td>\n",
       "      <td>NaN</td>\n",
       "      <td>NaN</td>\n",
       "      <td>NaN</td>\n",
       "      <td>NaN</td>\n",
       "    </tr>\n",
       "  </tbody>\n",
       "</table>\n",
       "<p>2 rows × 394 columns</p>\n",
       "</div>"
      ],
      "text/plain": [
       "   TransactionID  isFraud  TransactionDT  TransactionAmt ProductCD  card1  \\\n",
       "0        3287000        1        7415038           226.0         W  12473   \n",
       "1        3287001        0        7415054          3072.0         W  15651   \n",
       "\n",
       "   card2  card3 card4  card5  ... V330  V331  V332  V333  V334 V335 V336  \\\n",
       "0  555.0  150.0  visa  226.0  ...  NaN   NaN   NaN   NaN   NaN  NaN  NaN   \n",
       "1  417.0  150.0  visa  226.0  ...  NaN   NaN   NaN   NaN   NaN  NaN  NaN   \n",
       "\n",
       "   V337  V338  V339  \n",
       "0   NaN   NaN   NaN  \n",
       "1   NaN   NaN   NaN  \n",
       "\n",
       "[2 rows x 394 columns]"
      ]
     },
     "execution_count": 6,
     "metadata": {},
     "output_type": "execute_result"
    }
   ],
   "source": [
    "test_data = pd.read_csv(DATA_TEST)\n",
    "print(\"data_test.shape = {} rows, {} cols\".format(*test_data.shape))\n",
    "test_data.head(n=2)"
   ]
  },
  {
   "cell_type": "markdown",
   "metadata": {},
   "source": [
    "#### Быстрый просмотр данных"
   ]
  },
  {
   "cell_type": "code",
   "execution_count": 7,
   "metadata": {},
   "outputs": [
    {
     "name": "stdout",
     "output_type": "stream",
     "text": [
      "<class 'pandas.core.frame.DataFrame'>\n",
      "RangeIndex: 180000 entries, 0 to 179999\n",
      "Columns: 394 entries, TransactionID to V339\n",
      "dtypes: float64(376), int64(4), object(14)\n",
      "memory usage: 541.1+ MB\n"
     ]
    }
   ],
   "source": [
    "data.info()"
   ]
  },
  {
   "cell_type": "code",
   "execution_count": 8,
   "metadata": {},
   "outputs": [
    {
     "name": "stdout",
     "output_type": "stream",
     "text": [
      "<class 'pandas.core.frame.DataFrame'>\n",
      "RangeIndex: 100001 entries, 0 to 100000\n",
      "Columns: 394 entries, TransactionID to V339\n",
      "dtypes: float64(376), int64(4), object(14)\n",
      "memory usage: 300.6+ MB\n"
     ]
    }
   ],
   "source": [
    "test_data.info()"
   ]
  },
  {
   "cell_type": "code",
   "execution_count": 9,
   "metadata": {},
   "outputs": [],
   "source": [
    "ID_F = 'TransactionID'\n",
    "TARGET_F = 'isFraud'\n",
    "DT_F = 'TransactionDT'\n",
    "NUMERICAL_F = data.select_dtypes(include=[np.number]).columns.drop([TARGET_F, ID_F])\n",
    "CAT_F = data.select_dtypes(include='object').columns"
   ]
  },
  {
   "cell_type": "code",
   "execution_count": 10,
   "metadata": {},
   "outputs": [
    {
     "data": {
      "text/plain": [
       "Index(['TransactionDT', 'TransactionAmt', 'card1', 'card2', 'card3', 'card5',\n",
       "       'addr1', 'addr2', 'dist1', 'dist2',\n",
       "       ...\n",
       "       'V330', 'V331', 'V332', 'V333', 'V334', 'V335', 'V336', 'V337', 'V338',\n",
       "       'V339'],\n",
       "      dtype='object', length=378)"
      ]
     },
     "execution_count": 10,
     "metadata": {},
     "output_type": "execute_result"
    }
   ],
   "source": [
    "NUMERICAL_F"
   ]
  },
  {
   "cell_type": "code",
   "execution_count": 11,
   "metadata": {},
   "outputs": [
    {
     "data": {
      "text/plain": [
       "Index(['ProductCD', 'card4', 'card6', 'P_emaildomain', 'R_emaildomain', 'M1',\n",
       "       'M2', 'M3', 'M4', 'M5', 'M6', 'M7', 'M8', 'M9'],\n",
       "      dtype='object')"
      ]
     },
     "execution_count": 11,
     "metadata": {},
     "output_type": "execute_result"
    }
   ],
   "source": [
    "CAT_F"
   ]
  },
  {
   "cell_type": "code",
   "execution_count": 12,
   "metadata": {},
   "outputs": [],
   "source": [
    "# pd.to_timedelta(tr_data[DT_F], unit='s')"
   ]
  },
  {
   "cell_type": "markdown",
   "metadata": {},
   "source": [
    "### Подготовка данных для моделей"
   ]
  },
  {
   "cell_type": "code",
   "execution_count": 13,
   "metadata": {},
   "outputs": [
    {
     "name": "stdout",
     "output_type": "stream",
     "text": [
      "tr_df.shape = 180000 rows, 392 cols\n"
     ]
    }
   ],
   "source": [
    "target = data[TARGET_F]\n",
    "train_df = data.drop([ID_F, TARGET_F], axis=1)\n",
    "print(\"tr_df.shape = {} rows, {} cols\".format(*train_df.shape))"
   ]
  },
  {
   "cell_type": "markdown",
   "metadata": {},
   "source": [
    "#### Числовые данные"
   ]
  },
  {
   "cell_type": "code",
   "execution_count": 14,
   "metadata": {},
   "outputs": [],
   "source": [
    "def make_numeric_df(df: pd.DataFrame) -> pd.DataFrame:\n",
    "    return df[NUMERICAL_F]"
   ]
  },
  {
   "cell_type": "code",
   "execution_count": 15,
   "metadata": {},
   "outputs": [],
   "source": [
    "num_df = make_numeric_df(train_df)"
   ]
  },
  {
   "cell_type": "markdown",
   "metadata": {},
   "source": [
    "### Категориальные данные"
   ]
  },
  {
   "cell_type": "code",
   "execution_count": 16,
   "metadata": {},
   "outputs": [],
   "source": [
    "def make_small_cat(col: pd.Series, level: float = 0.05) -> pd.Series:\n",
    "    \"\"\" Заменяет значения признака на other если в отсортированной \n",
    "        по возрастанию коммулятивной сумме значение в диапазоне [0, level]\n",
    "    \"\"\"\n",
    "    try:\n",
    "        vc_p =col.value_counts(normalize=True,ascending=True)\n",
    "        p_other_cat = vc_p[vc_p.cumsum() <= 0.05].index.to_list()\n",
    "        return col.apply(lambda x: 'other' if x in p_other_cat else x)\n",
    "    except Exception as err:\n",
    "        print(f'Ошибка при обработке {col.name}')\n",
    "        raise err"
   ]
  },
  {
   "cell_type": "code",
   "execution_count": 17,
   "metadata": {},
   "outputs": [],
   "source": [
    "def make_category_df(df: pd.DataFrame) -> pd.DataFrame:\n",
    "    cat_data = df[CAT_F].copy()\n",
    "    # сократим кол-во категорий в мейлах\n",
    "    cat_data['P_emaildomain'] = make_small_cat(cat_data['P_emaildomain'])\n",
    "    cat_data['R_emaildomain'] = make_small_cat(cat_data['R_emaildomain'])\n",
    "    # encoding бинарных переменных\n",
    "    m_dict = {'T': 0, 'F': 1}\n",
    "    m_cols = {'M1','M2', 'M3', 'M5', 'M6', 'M7', 'M8', 'M9'}\n",
    "    for col in cat_data:\n",
    "        if col in m_cols:\n",
    "            print(col, end='')\n",
    "            cat_data[col] = cat_data[col].apply(m_dict.get)\n",
    "    print()\n",
    "    # дальше все в дамми\n",
    "    return pd.get_dummies(cat_data)"
   ]
  },
  {
   "cell_type": "code",
   "execution_count": 18,
   "metadata": {},
   "outputs": [
    {
     "name": "stdout",
     "output_type": "stream",
     "text": [
      "M1M2M3M5M6M7M8M9\n"
     ]
    }
   ],
   "source": [
    "# обработанные категориальные\n",
    "cat_df = make_category_df(train_df)"
   ]
  },
  {
   "cell_type": "code",
   "execution_count": 19,
   "metadata": {},
   "outputs": [],
   "source": [
    "# num+cat данные\n",
    "prep_df = num_df.join(cat_df)"
   ]
  },
  {
   "cell_type": "code",
   "execution_count": 20,
   "metadata": {},
   "outputs": [
    {
     "name": "stdout",
     "output_type": "stream",
     "text": [
      "<class 'pandas.core.frame.DataFrame'>\n",
      "RangeIndex: 180000 entries, 0 to 179999\n",
      "Columns: 431 entries, TransactionDT to M4_M2\n",
      "dtypes: float64(384), int64(2), uint8(45)\n",
      "memory usage: 537.8 MB\n"
     ]
    }
   ],
   "source": [
    "prep_df.info()"
   ]
  },
  {
   "cell_type": "code",
   "execution_count": 21,
   "metadata": {},
   "outputs": [],
   "source": [
    "# разбиваем все на трайн и валид\n",
    "x_train, x_valid, num_train, num_valid, prep_train, prep_valid, y_train, y_valid = train_test_split(\n",
    "    train_df, num_df, prep_df, target, train_size=0.75, stratify=target, random_state=1\n",
    ")"
   ]
  },
  {
   "cell_type": "code",
   "execution_count": 22,
   "metadata": {},
   "outputs": [
    {
     "name": "stdout",
     "output_type": "stream",
     "text": [
      "x_train.shape = 135000 rows, 392 cols\n",
      "x_valid.shape = 45000 rows, 392 cols\n"
     ]
    }
   ],
   "source": [
    "print(\"x_train.shape = {} rows, {} cols\".format(*x_train.shape))\n",
    "print(\"x_valid.shape = {} rows, {} cols\".format(*x_valid.shape))"
   ]
  },
  {
   "cell_type": "code",
   "execution_count": 23,
   "metadata": {},
   "outputs": [
    {
     "name": "stdout",
     "output_type": "stream",
     "text": [
      "num_train.shape = 135000 rows, 378 cols\n",
      "num_valid.shape = 45000 rows, 378 cols\n"
     ]
    }
   ],
   "source": [
    "print(\"num_train.shape = {} rows, {} cols\".format(*num_train.shape))\n",
    "print(\"num_valid.shape = {} rows, {} cols\".format(*num_valid.shape))"
   ]
  },
  {
   "cell_type": "code",
   "execution_count": 24,
   "metadata": {},
   "outputs": [
    {
     "name": "stdout",
     "output_type": "stream",
     "text": [
      "prep_train.shape = 135000 rows, 431 cols\n",
      "prep_valid.shape = 45000 rows, 431 cols\n"
     ]
    }
   ],
   "source": [
    "print(\"prep_train.shape = {} rows, {} cols\".format(*prep_train.shape))\n",
    "print(\"prep_valid.shape = {} rows, {} cols\".format(*prep_valid.shape))"
   ]
  },
  {
   "cell_type": "markdown",
   "metadata": {},
   "source": [
    "## XGBoost API"
   ]
  },
  {
   "cell_type": "code",
   "execution_count": 25,
   "metadata": {},
   "outputs": [],
   "source": [
    "import xgboost as xgb"
   ]
  },
  {
   "cell_type": "code",
   "execution_count": 26,
   "metadata": {},
   "outputs": [],
   "source": [
    "def train_xgb(params, x_train, x_valid, y_train, y_valid):\n",
    "    \n",
    "    dtrain = xgb.DMatrix(data=x_train, label=y_train)\n",
    "    dvalid = xgb.DMatrix(data=x_valid, label=y_valid)\n",
    "    \n",
    "    xg_model = xgb.train(\n",
    "        params=params,\n",
    "        dtrain=dtrain,\n",
    "        num_boost_round=10000,\n",
    "        early_stopping_rounds=100,\n",
    "        evals=[(dtrain, \"train\"), (dvalid, \"valid\")],\n",
    "        verbose_eval=250,\n",
    "        maximize=True,\n",
    "    )\n",
    "        \n",
    "    return  xg_model\n"
   ]
  },
  {
   "cell_type": "code",
   "execution_count": 27,
   "metadata": {},
   "outputs": [],
   "source": [
    "def cv_xgb(params, x_train, y_train, n_fold=5):\n",
    "    dtrain = xgb.DMatrix(data=x_train, label=y_train)\n",
    "    cv_result = xgb.cv(\n",
    "        params=params,\n",
    "        dtrain=dtrain,\n",
    "        num_boost_round=10000,\n",
    "        early_stopping_rounds=100,\n",
    "        verbose_eval=250,\n",
    "        stratified=True,\n",
    "        metrics=\"auc\",\n",
    "        maximize=True,\n",
    "        shuffle=True,\n",
    "        nfold=n_fold,\n",
    "    )\n",
    "    return cv_result"
   ]
  },
  {
   "cell_type": "code",
   "execution_count": 28,
   "metadata": {},
   "outputs": [],
   "source": [
    "def plotResult(cv_result, algo_title):\n",
    "    fig = plt.figure(figsize=(15, 5))\n",
    "    plt.plot(cv_result[\"train-auc-mean\"], color=\"blue\", linewidth=3, label=\"train\")\n",
    "    plt.plot(cv_result[\"test-auc-mean\"], color=\"orange\", linewidth=3, label=\"test\")\n",
    "    plt.fill_between(\n",
    "        x=cv_result.index,\n",
    "        y1=cv_result[\"train-auc-mean\"] - cv_result[\"train-auc-std\"],\n",
    "        y2=cv_result[\"train-auc-mean\"] + cv_result[\"train-auc-std\"],\n",
    "        alpha=0.25, color=\"blue\"\n",
    "    )\n",
    "    plt.fill_between(\n",
    "        x=cv_result.index,\n",
    "        y1=cv_result[\"test-auc-mean\"] - cv_result[\"test-auc-std\"],\n",
    "        y2=cv_result[\"test-auc-mean\"] + cv_result[\"test-auc-std\"],\n",
    "        alpha=0.25, color=\"orange\"\n",
    "    )\n",
    "    plt.title(f\"{algo_title}, CV-Results\", size=14)\n",
    "    plt.xlabel(\"n_iterations\", size=14)\n",
    "    plt.xlim(0, cv_result.index.max())\n",
    "    plt.ylabel(\"ROC-AUC\", size=14)\n",
    "    plt.legend(loc=\"best\")\n",
    "    \n",
    "    \n",
    "def plotXgbResult(cv_result):\n",
    "    plotResult(cv_result, 'XGBoost')"
   ]
  },
  {
   "cell_type": "code",
   "execution_count": 29,
   "metadata": {},
   "outputs": [],
   "source": [
    "params = {\n",
    "    \"booster\": \"gbtree\",\n",
    "    \"objective\": \"binary:logistic\",\n",
    "    \"eval_metric\": \"auc\",\n",
    "    \"learning_rate\": 1e-2,\n",
    "    # \"n_estimators\": 250,\n",
    "    \"reg_lambda\": 100,\n",
    "    \"max_depth\": 4,\n",
    "    \"gamma\": 10,\n",
    "    \"nthread\": 6,\n",
    "    \"seed\": 42,\n",
    "}\n",
    "params['gpu_id'] = 1\n",
    "params['tree_method'] = 'gpu_hist'\n"
   ]
  },
  {
   "cell_type": "markdown",
   "metadata": {},
   "source": [
    "#### XGBoost - числовые"
   ]
  },
  {
   "cell_type": "code",
   "execution_count": 30,
   "metadata": {},
   "outputs": [
    {
     "name": "stdout",
     "output_type": "stream",
     "text": [
      "[0]\ttrain-auc:0.64819\tvalid-auc:0.65529\n",
      "Multiple eval metrics have been passed: 'valid-auc' will be used for early stopping.\n",
      "\n",
      "Will train until valid-auc hasn't improved in 100 rounds.\n",
      "[250]\ttrain-auc:0.84103\tvalid-auc:0.84759\n",
      "[500]\ttrain-auc:0.87916\tvalid-auc:0.88441\n",
      "[750]\ttrain-auc:0.89065\tvalid-auc:0.89288\n",
      "[1000]\ttrain-auc:0.89668\tvalid-auc:0.89693\n",
      "[1250]\ttrain-auc:0.89839\tvalid-auc:0.89807\n",
      "Stopping. Best iteration:\n",
      "[1172]\ttrain-auc:0.89839\tvalid-auc:0.89807\n",
      "\n",
      "Wall time: 50.2 s\n"
     ]
    }
   ],
   "source": [
    "%%time\n",
    "model = train_xgb(params, num_train, num_valid, y_train, y_valid)"
   ]
  },
  {
   "cell_type": "code",
   "execution_count": 31,
   "metadata": {},
   "outputs": [
    {
     "name": "stdout",
     "output_type": "stream",
     "text": [
      "[0]\ttrain-auc:0.62718+0.01094\ttest-auc:0.62467+0.01491\n",
      "[250]\ttrain-auc:0.83974+0.00112\ttest-auc:0.83700+0.00345\n",
      "[500]\ttrain-auc:0.87775+0.00105\ttest-auc:0.87226+0.00441\n",
      "[750]\ttrain-auc:0.88986+0.00109\ttest-auc:0.88233+0.00449\n",
      "[1000]\ttrain-auc:0.89539+0.00103\ttest-auc:0.88666+0.00476\n",
      "Wall time: 2min 48s\n"
     ]
    }
   ],
   "source": [
    "%%time\n",
    "# кросвалидация\n",
    "cv_xgb_num = cv_xgb(params, num_train, y_train)"
   ]
  },
  {
   "cell_type": "code",
   "execution_count": 32,
   "metadata": {},
   "outputs": [
    {
     "data": {
      "image/png": "[encoded data removed]",
      "text/plain": [
       "<Figure size 1080x360 with 1 Axes>"
      ]
     },
     "metadata": {
      "needs_background": "light"
     },
     "output_type": "display_data"
    }
   ],
   "source": [
    "plotXgbResult(cv_xgb_num)"
   ]
  },
  {
   "cell_type": "markdown",
   "metadata": {},
   "source": [
    "#### XGBoost - числовые и обработанные категориальные"
   ]
  },
  {
   "cell_type": "code",
   "execution_count": 33,
   "metadata": {},
   "outputs": [
    {
     "name": "stdout",
     "output_type": "stream",
     "text": [
      "[0]\ttrain-auc:0.64819\tvalid-auc:0.65529\n",
      "Multiple eval metrics have been passed: 'valid-auc' will be used for early stopping.\n",
      "\n",
      "Will train until valid-auc hasn't improved in 100 rounds.\n",
      "[250]\ttrain-auc:0.84181\tvalid-auc:0.84847\n",
      "[500]\ttrain-auc:0.88333\tvalid-auc:0.88614\n",
      "[750]\ttrain-auc:0.89738\tvalid-auc:0.89762\n",
      "[1000]\ttrain-auc:0.90523\tvalid-auc:0.90272\n",
      "Stopping. Best iteration:\n",
      "[1143]\ttrain-auc:0.90848\tvalid-auc:0.90497\n",
      "\n",
      "Wall time: 42.8 s\n"
     ]
    }
   ],
   "source": [
    "%%time\n",
    "model = train_xgb(params, prep_train, prep_valid, y_train, y_valid)"
   ]
  },
  {
   "cell_type": "code",
   "execution_count": 34,
   "metadata": {},
   "outputs": [
    {
     "name": "stdout",
     "output_type": "stream",
     "text": [
      "[0]\ttrain-auc:0.62718+0.01094\ttest-auc:0.62467+0.01491\n",
      "[250]\ttrain-auc:0.84019+0.00111\ttest-auc:0.83730+0.00358\n",
      "[500]\ttrain-auc:0.88264+0.00097\ttest-auc:0.87638+0.00514\n",
      "[750]\ttrain-auc:0.89716+0.00113\ttest-auc:0.88894+0.00529\n",
      "[1000]\ttrain-auc:0.90448+0.00130\ttest-auc:0.89546+0.00555\n",
      "[1250]\ttrain-auc:0.90552+0.00153\ttest-auc:0.89637+0.00536\n",
      "Wall time: 3min 41s\n"
     ]
    }
   ],
   "source": [
    "%%time\n",
    "# кросвалидация\n",
    "cv_xgb_prep = cv_xgb(params, prep_train, y_train)"
   ]
  },
  {
   "cell_type": "code",
   "execution_count": 35,
   "metadata": {},
   "outputs": [
    {
     "data": {
      "image/png": "[encoded data removed]",
      "text/plain": [
       "<Figure size 1080x360 with 1 Axes>"
      ]
     },
     "metadata": {
      "needs_background": "light"
     },
     "output_type": "display_data"
    }
   ],
   "source": [
    "plotXgbResult(cv_xgb_prep)"
   ]
  },
  {
   "cell_type": "markdown",
   "metadata": {},
   "source": [
    "### Вывод по XGBoost\n",
    "\n",
    "Добавление предобработанных категорий повышает качество на 0,01 "
   ]
  },
  {
   "cell_type": "code",
   "execution_count": null,
   "metadata": {},
   "outputs": [],
   "source": []
  },
  {
   "cell_type": "markdown",
   "metadata": {},
   "source": [
    "## LightGBM\n"
   ]
  },
  {
   "cell_type": "code",
   "execution_count": 36,
   "metadata": {},
   "outputs": [],
   "source": [
    "import lightgbm as lgb"
   ]
  },
  {
   "cell_type": "code",
   "execution_count": 37,
   "metadata": {},
   "outputs": [],
   "source": [
    "def train_lgbm(params, x_train, x_valid, y_train, y_valid, cat_list='auto'):\n",
    "    \n",
    "    dtrain = lgb.Dataset(data=x_train, label=y_train)\n",
    "    dvalid = lgb.Dataset(data=x_valid, label=y_valid)\n",
    "    \n",
    "    model = lgb.train(\n",
    "        params=params,\n",
    "        train_set=dtrain,\n",
    "        num_boost_round=10000,\n",
    "        early_stopping_rounds=50,\n",
    "        valid_sets=[dtrain, dvalid],\n",
    "        valid_names=[\"train\", \"valid\"],\n",
    "        verbose_eval=250,\n",
    "        categorical_feature=\"auto\",\n",
    "    )\n",
    "        \n",
    "    return  model"
   ]
  },
  {
   "cell_type": "code",
   "execution_count": 38,
   "metadata": {},
   "outputs": [],
   "source": [
    "def cv_lgbm(params, x_train, y_train, n_fold=5):\n",
    "    dtrain = lgb.Dataset(data=x_train, label=y_train)\n",
    "    cv_result = lgb.cv(\n",
    "        params=params,\n",
    "        train_set=dtrain,\n",
    "        num_boost_round=10000,\n",
    "        early_stopping_rounds=50,\n",
    "        categorical_feature=\"auto\",\n",
    "        verbose_eval=250,\n",
    "        stratified=True,\n",
    "        metrics=\"auc\",\n",
    "        shuffle=True,\n",
    "        nfold=n_fold,\n",
    "        eval_train_metric=True\n",
    "    )\n",
    "    return cv_result"
   ]
  },
  {
   "cell_type": "code",
   "execution_count": 39,
   "metadata": {},
   "outputs": [],
   "source": [
    "# ['train auc-mean', 'train auc-stdv', 'valid auc-mean', 'valid auc-stdv']\n",
    "def plotLgbmResult(cv_result):\n",
    "    res = pd.DataFrame.from_dict(cv_result)\n",
    "    res.columns =['train-auc-mean', 'train-auc-std', 'test-auc-mean', 'test-auc-std']\n",
    "    plotResult(res, 'LGBM')"
   ]
  },
  {
   "cell_type": "code",
   "execution_count": 40,
   "metadata": {},
   "outputs": [],
   "source": [
    "params = {\n",
    "    \"boosting_type\": \"gbdt\",\n",
    "    \"objective\": \"binary\",\n",
    "    \"metric\": \"auc\",\n",
    "    \"learning_rate\": 0.01,\n",
    "#     \"n_estimators\": 250,\n",
    "    'force_col_wise': True,\n",
    "    \"n_jobs\": 6,\n",
    "    \"seed\": 27\n",
    "}\n",
    "# params['device_type'] = 'gpu'\n",
    "# params['gpu_platform_id'] = 0\n",
    "# params['gpu_device_id'] = 1\n",
    "# params['max_bin'] = 63\n",
    "# params[\"boosting_type\"] = \"goss\""
   ]
  },
  {
   "cell_type": "markdown",
   "metadata": {},
   "source": [
    "#### LGBM - числовые"
   ]
  },
  {
   "cell_type": "code",
   "execution_count": 41,
   "metadata": {},
   "outputs": [
    {
     "name": "stdout",
     "output_type": "stream",
     "text": [
      "[LightGBM] [Info] Number of positive: 3856, number of negative: 131144\n",
      "[LightGBM] [Info] Total Bins 31502\n",
      "[LightGBM] [Info] Number of data points in the train set: 135000, number of used features: 376\n",
      "[LightGBM] [Info] [binary:BoostFromScore]: pavg=0.028563 -> initscore=-3.526666\n",
      "[LightGBM] [Info] Start training from score -3.526666\n",
      "Training until validation scores don't improve for 50 rounds\n",
      "[250]\ttrain's auc: 0.919784\tvalid's auc: 0.90989\n",
      "[500]\ttrain's auc: 0.944073\tvalid's auc: 0.923892\n",
      "[750]\ttrain's auc: 0.958927\tvalid's auc: 0.931948\n",
      "[1000]\ttrain's auc: 0.968498\tvalid's auc: 0.935959\n",
      "[1250]\ttrain's auc: 0.97535\tvalid's auc: 0.939246\n",
      "[1500]\ttrain's auc: 0.98008\tvalid's auc: 0.94146\n",
      "[1750]\ttrain's auc: 0.983133\tvalid's auc: 0.943078\n",
      "[2000]\ttrain's auc: 0.985748\tvalid's auc: 0.944398\n",
      "[2250]\ttrain's auc: 0.987976\tvalid's auc: 0.945346\n",
      "[2500]\ttrain's auc: 0.989686\tvalid's auc: 0.946687\n",
      "[2750]\ttrain's auc: 0.991408\tvalid's auc: 0.947639\n",
      "[3000]\ttrain's auc: 0.992604\tvalid's auc: 0.94858\n",
      "[3250]\ttrain's auc: 0.993802\tvalid's auc: 0.949577\n",
      "[3500]\ttrain's auc: 0.994685\tvalid's auc: 0.950116\n",
      "[3750]\ttrain's auc: 0.995601\tvalid's auc: 0.950817\n",
      "[4000]\ttrain's auc: 0.996227\tvalid's auc: 0.951266\n",
      "[4250]\ttrain's auc: 0.996808\tvalid's auc: 0.951621\n",
      "Early stopping, best iteration is:\n",
      "[4324]\ttrain's auc: 0.997009\tvalid's auc: 0.951668\n",
      "Wall time: 6min 30s\n"
     ]
    }
   ],
   "source": [
    "%%time\n",
    "# числовые данные\n",
    "model = train_lgbm(params, num_train, num_valid, y_train, y_valid)"
   ]
  },
  {
   "cell_type": "code",
   "execution_count": 42,
   "metadata": {},
   "outputs": [
    {
     "name": "stdout",
     "output_type": "stream",
     "text": [
      "[LightGBM] [Info] Number of positive: 3085, number of negative: 104915\n",
      "[LightGBM] [Info] Total Bins 31502\n",
      "[LightGBM] [Info] Number of data points in the train set: 108000, number of used features: 376\n",
      "[LightGBM] [Info] Number of positive: 3085, number of negative: 104915\n",
      "[LightGBM] [Info] Total Bins 31502\n",
      "[LightGBM] [Info] Number of data points in the train set: 108000, number of used features: 376\n",
      "[LightGBM] [Info] Number of positive: 3085, number of negative: 104915\n",
      "[LightGBM] [Info] Total Bins 31502\n",
      "[LightGBM] [Info] Number of data points in the train set: 108000, number of used features: 376\n",
      "[LightGBM] [Info] Number of positive: 3085, number of negative: 104915\n",
      "[LightGBM] [Info] Total Bins 31502\n",
      "[LightGBM] [Info] Number of data points in the train set: 108000, number of used features: 376\n",
      "[LightGBM] [Info] Number of positive: 3084, number of negative: 104916\n",
      "[LightGBM] [Info] Total Bins 31502\n",
      "[LightGBM] [Info] Number of data points in the train set: 108000, number of used features: 376\n",
      "[LightGBM] [Info] [binary:BoostFromScore]: pavg=0.028565 -> initscore=-3.526599\n",
      "[LightGBM] [Info] Start training from score -3.526599\n",
      "[LightGBM] [Info] [binary:BoostFromScore]: pavg=0.028565 -> initscore=-3.526599\n",
      "[LightGBM] [Info] Start training from score -3.526599\n",
      "[LightGBM] [Info] [binary:BoostFromScore]: pavg=0.028565 -> initscore=-3.526599\n",
      "[LightGBM] [Info] Start training from score -3.526599\n",
      "[LightGBM] [Info] [binary:BoostFromScore]: pavg=0.028565 -> initscore=-3.526599\n",
      "[LightGBM] [Info] Start training from score -3.526599\n",
      "[LightGBM] [Info] [binary:BoostFromScore]: pavg=0.028556 -> initscore=-3.526933\n",
      "[LightGBM] [Info] Start training from score -3.526933\n",
      "[250]\tcv_agg's train auc: 0.921282 + 0.00148126\tcv_agg's valid auc: 0.900607 + 0.00517318\n",
      "[500]\tcv_agg's train auc: 0.949113 + 0.000591249\tcv_agg's valid auc: 0.91627 + 0.0045563\n",
      "[750]\tcv_agg's train auc: 0.963701 + 0.000569288\tcv_agg's valid auc: 0.923814 + 0.00401246\n",
      "[1000]\tcv_agg's train auc: 0.972896 + 0.000259447\tcv_agg's valid auc: 0.928467 + 0.00390975\n",
      "[1250]\tcv_agg's train auc: 0.97881 + 0.000249121\tcv_agg's valid auc: 0.931417 + 0.00402219\n",
      "[1500]\tcv_agg's train auc: 0.983085 + 0.000310408\tcv_agg's valid auc: 0.933781 + 0.00388429\n",
      "[1750]\tcv_agg's train auc: 0.98625 + 0.000364515\tcv_agg's valid auc: 0.93564 + 0.0039111\n",
      "[2000]\tcv_agg's train auc: 0.988964 + 0.000411444\tcv_agg's valid auc: 0.937322 + 0.00391458\n",
      "[2250]\tcv_agg's train auc: 0.990991 + 0.000271997\tcv_agg's valid auc: 0.938514 + 0.00395099\n",
      "[2500]\tcv_agg's train auc: 0.992597 + 0.000322634\tcv_agg's valid auc: 0.939265 + 0.00397437\n",
      "[2750]\tcv_agg's train auc: 0.99395 + 0.000329935\tcv_agg's valid auc: 0.940087 + 0.00393277\n",
      "[3000]\tcv_agg's train auc: 0.994962 + 0.00036198\tcv_agg's valid auc: 0.940729 + 0.00389071\n",
      "[3250]\tcv_agg's train auc: 0.995817 + 0.000333682\tcv_agg's valid auc: 0.941144 + 0.00396607\n",
      "[3500]\tcv_agg's train auc: 0.996563 + 0.000299524\tcv_agg's valid auc: 0.941629 + 0.00398883\n",
      "[3750]\tcv_agg's train auc: 0.997186 + 0.000198033\tcv_agg's valid auc: 0.942099 + 0.00395077\n",
      "[4000]\tcv_agg's train auc: 0.99769 + 0.0001606\tcv_agg's valid auc: 0.942555 + 0.00393147\n",
      "[4250]\tcv_agg's train auc: 0.998161 + 0.000112472\tcv_agg's valid auc: 0.942998 + 0.00387079\n",
      "[4500]\tcv_agg's train auc: 0.998541 + 6.90968e-05\tcv_agg's valid auc: 0.943407 + 0.00384163\n",
      "[4750]\tcv_agg's train auc: 0.998807 + 8.64062e-05\tcv_agg's valid auc: 0.943551 + 0.00381884\n",
      "Wall time: 28min 35s\n"
     ]
    }
   ],
   "source": [
    "%%time\n",
    "# кросвалидация\n",
    "cv_lgbm_num = cv_lgbm(params, num_train, y_train)"
   ]
  },
  {
   "cell_type": "code",
   "execution_count": 43,
   "metadata": {},
   "outputs": [
    {
     "data": {
      "image/png": "[encoded data removed]",
      "text/plain": [
       "<Figure size 1080x360 with 1 Axes>"
      ]
     },
     "metadata": {
      "needs_background": "light"
     },
     "output_type": "display_data"
    }
   ],
   "source": [
    "plotLgbmResult(cv_lgbm_num)"
   ]
  },
  {
   "cell_type": "markdown",
   "metadata": {},
   "source": [
    "#### LGBM - числовые и обработанные категориальные"
   ]
  },
  {
   "cell_type": "code",
   "execution_count": 44,
   "metadata": {},
   "outputs": [
    {
     "name": "stdout",
     "output_type": "stream",
     "text": [
      "[LightGBM] [Warning] Find whitespaces in feature_names, replace with underlines\n",
      "[LightGBM] [Info] Number of positive: 3856, number of negative: 131144\n",
      "[LightGBM] [Info] Total Bins 31612\n",
      "[LightGBM] [Info] Number of data points in the train set: 135000, number of used features: 427\n",
      "[LightGBM] [Warning] Find whitespaces in feature_names, replace with underlines\n",
      "[LightGBM] [Info] [binary:BoostFromScore]: pavg=0.028563 -> initscore=-3.526666\n",
      "[LightGBM] [Info] Start training from score -3.526666\n",
      "Training until validation scores don't improve for 50 rounds\n",
      "[250]\ttrain's auc: 0.926076\tvalid's auc: 0.915467\n",
      "[500]\ttrain's auc: 0.953687\tvalid's auc: 0.931435\n",
      "[750]\ttrain's auc: 0.966088\tvalid's auc: 0.939394\n",
      "[1000]\ttrain's auc: 0.974936\tvalid's auc: 0.943624\n",
      "[1250]\ttrain's auc: 0.980555\tvalid's auc: 0.946428\n",
      "[1500]\ttrain's auc: 0.985039\tvalid's auc: 0.948929\n",
      "[1750]\ttrain's auc: 0.988615\tvalid's auc: 0.950649\n",
      "[2000]\ttrain's auc: 0.991141\tvalid's auc: 0.951843\n",
      "[2250]\ttrain's auc: 0.992877\tvalid's auc: 0.952869\n",
      "[2500]\ttrain's auc: 0.994193\tvalid's auc: 0.95347\n",
      "[2750]\ttrain's auc: 0.995126\tvalid's auc: 0.954211\n",
      "[3000]\ttrain's auc: 0.995984\tvalid's auc: 0.95483\n",
      "[3250]\ttrain's auc: 0.996699\tvalid's auc: 0.955467\n",
      "Early stopping, best iteration is:\n",
      "[3445]\ttrain's auc: 0.997248\tvalid's auc: 0.955814\n",
      "Wall time: 4min 15s\n"
     ]
    }
   ],
   "source": [
    "%%time\n",
    "# num + cat подготовленнные\n",
    "model = train_lgbm(params, prep_train, prep_valid, y_train, y_valid)"
   ]
  },
  {
   "cell_type": "code",
   "execution_count": 47,
   "metadata": {},
   "outputs": [
    {
     "name": "stdout",
     "output_type": "stream",
     "text": [
      "[LightGBM] [Warning] Find whitespaces in feature_names, replace with underlines\n",
      "[LightGBM] [Info] Number of positive: 3085, number of negative: 104915\n",
      "[LightGBM] [Info] Total Bins 31612\n",
      "[LightGBM] [Info] Number of data points in the train set: 108000, number of used features: 427\n",
      "[LightGBM] [Info] Number of positive: 3085, number of negative: 104915\n",
      "[LightGBM] [Info] Total Bins 31612\n",
      "[LightGBM] [Info] Number of data points in the train set: 108000, number of used features: 427\n",
      "[LightGBM] [Info] Number of positive: 3085, number of negative: 104915\n",
      "[LightGBM] [Info] Total Bins 31612\n",
      "[LightGBM] [Info] Number of data points in the train set: 108000, number of used features: 427\n",
      "[LightGBM] [Info] Number of positive: 3085, number of negative: 104915\n",
      "[LightGBM] [Info] Total Bins 31612\n",
      "[LightGBM] [Info] Number of data points in the train set: 108000, number of used features: 427\n",
      "[LightGBM] [Info] Number of positive: 3084, number of negative: 104916\n",
      "[LightGBM] [Info] Total Bins 31612\n",
      "[LightGBM] [Info] Number of data points in the train set: 108000, number of used features: 427\n",
      "[LightGBM] [Info] [binary:BoostFromScore]: pavg=0.028565 -> initscore=-3.526599\n",
      "[LightGBM] [Info] Start training from score -3.526599\n",
      "[LightGBM] [Info] [binary:BoostFromScore]: pavg=0.028565 -> initscore=-3.526599\n",
      "[LightGBM] [Info] Start training from score -3.526599\n",
      "[LightGBM] [Info] [binary:BoostFromScore]: pavg=0.028565 -> initscore=-3.526599\n",
      "[LightGBM] [Info] Start training from score -3.526599\n",
      "[LightGBM] [Info] [binary:BoostFromScore]: pavg=0.028565 -> initscore=-3.526599\n",
      "[LightGBM] [Info] Start training from score -3.526599\n",
      "[LightGBM] [Info] [binary:BoostFromScore]: pavg=0.028556 -> initscore=-3.526933\n",
      "[LightGBM] [Info] Start training from score -3.526933\n",
      "[250]\tcv_agg's train auc: 0.928636 + 0.000633302\tcv_agg's valid auc: 0.908579 + 0.00696473\n",
      "[500]\tcv_agg's train auc: 0.957345 + 0.000916128\tcv_agg's valid auc: 0.926201 + 0.0059988\n",
      "[750]\tcv_agg's train auc: 0.970665 + 0.000607106\tcv_agg's valid auc: 0.934135 + 0.0054832\n",
      "[1000]\tcv_agg's train auc: 0.97868 + 0.000539029\tcv_agg's valid auc: 0.938293 + 0.00510048\n",
      "[1250]\tcv_agg's train auc: 0.984212 + 0.000339724\tcv_agg's valid auc: 0.94104 + 0.00489813\n",
      "[1500]\tcv_agg's train auc: 0.987895 + 0.000369001\tcv_agg's valid auc: 0.943083 + 0.00473786\n",
      "[1750]\tcv_agg's train auc: 0.990548 + 0.000488668\tcv_agg's valid auc: 0.944792 + 0.0046457\n",
      "[2000]\tcv_agg's train auc: 0.992712 + 0.000485861\tcv_agg's valid auc: 0.946056 + 0.00459935\n",
      "[2250]\tcv_agg's train auc: 0.994371 + 0.000409056\tcv_agg's valid auc: 0.947317 + 0.00472958\n",
      "[2500]\tcv_agg's train auc: 0.995643 + 0.000316041\tcv_agg's valid auc: 0.948309 + 0.00473191\n",
      "[2750]\tcv_agg's train auc: 0.996583 + 0.000220837\tcv_agg's valid auc: 0.949149 + 0.00472331\n",
      "[3000]\tcv_agg's train auc: 0.997384 + 0.000162867\tcv_agg's valid auc: 0.949772 + 0.00468917\n",
      "[3250]\tcv_agg's train auc: 0.997968 + 0.000117848\tcv_agg's valid auc: 0.950328 + 0.00477746\n",
      "[3500]\tcv_agg's train auc: 0.998424 + 9.55741e-05\tcv_agg's valid auc: 0.950781 + 0.00479757\n",
      "[3750]\tcv_agg's train auc: 0.99876 + 7.75237e-05\tcv_agg's valid auc: 0.951084 + 0.00480676\n",
      "[4000]\tcv_agg's train auc: 0.999005 + 7.22867e-05\tcv_agg's valid auc: 0.951327 + 0.00488651\n",
      "[4250]\tcv_agg's train auc: 0.999193 + 7.74267e-05\tcv_agg's valid auc: 0.95149 + 0.0049092\n",
      "Wall time: 18min 21s\n"
     ]
    }
   ],
   "source": [
    "%%time\n",
    "# кросвалидация\n",
    "cv_lgbm_prep = cv_lgbm(params, prep_train, y_train)"
   ]
  },
  {
   "cell_type": "code",
   "execution_count": 48,
   "metadata": {},
   "outputs": [
    {
     "data": {
      "image/png": "[encoded data removed]",
      "text/plain": [
       "<Figure size 1080x360 with 1 Axes>"
      ]
     },
     "metadata": {
      "needs_background": "light"
     },
     "output_type": "display_data"
    }
   ],
   "source": [
    "plotLgbmResult(cv_lgbm_prep)"
   ]
  },
  {
   "cell_type": "markdown",
   "metadata": {},
   "source": [
    "#### LGBM данные с автоматической обработкой"
   ]
  },
  {
   "cell_type": "code",
   "execution_count": 45,
   "metadata": {},
   "outputs": [],
   "source": [
    "def make_categoty_type(df):\n",
    "    data = df.copy()\n",
    "    for feature in CAT_F:\n",
    "        print(feature, end=' ')\n",
    "        data[feature] = pd.Series(data[feature], dtype=\"category\")\n",
    "    print()\n",
    "    return data"
   ]
  },
  {
   "cell_type": "code",
   "execution_count": 46,
   "metadata": {},
   "outputs": [
    {
     "name": "stdout",
     "output_type": "stream",
     "text": [
      "ProductCD card4 card6 P_emaildomain R_emaildomain M1 M2 M3 M4 M5 M6 M7 M8 M9 \n",
      "ProductCD card4 card6 P_emaildomain R_emaildomain M1 M2 M3 M4 M5 M6 M7 M8 M9 \n"
     ]
    }
   ],
   "source": [
    "lgbm_train = make_categoty_type(x_train)\n",
    "lgbm_valid = make_categoty_type(x_valid)"
   ]
  },
  {
   "cell_type": "code",
   "execution_count": 49,
   "metadata": {},
   "outputs": [
    {
     "name": "stdout",
     "output_type": "stream",
     "text": [
      "[LightGBM] [Info] Number of positive: 3856, number of negative: 131144\n",
      "[LightGBM] [Info] Total Bins 31666\n",
      "[LightGBM] [Info] Number of data points in the train set: 135000, number of used features: 390\n"
     ]
    },
    {
     "name": "stderr",
     "output_type": "stream",
     "text": [
      "D:\\_DL_PyTorch_\\venv\\lib\\site-packages\\lightgbm\\basic.py:1286: UserWarning: Overriding the parameters from Reference Dataset.\n",
      "  warnings.warn('Overriding the parameters from Reference Dataset.')\n",
      "D:\\_DL_PyTorch_\\venv\\lib\\site-packages\\lightgbm\\basic.py:1098: UserWarning: categorical_column in param dict is overridden.\n",
      "  warnings.warn('{} in param dict is overridden.'.format(cat_alias))\n"
     ]
    },
    {
     "name": "stdout",
     "output_type": "stream",
     "text": [
      "[LightGBM] [Info] [binary:BoostFromScore]: pavg=0.028563 -> initscore=-3.526666\n",
      "[LightGBM] [Info] Start training from score -3.526666\n",
      "Training until validation scores don't improve for 50 rounds\n",
      "[250]\ttrain's auc: 0.927106\tvalid's auc: 0.917703\n",
      "[500]\ttrain's auc: 0.954525\tvalid's auc: 0.932758\n",
      "[750]\ttrain's auc: 0.96729\tvalid's auc: 0.940176\n",
      "[1000]\ttrain's auc: 0.975022\tvalid's auc: 0.943361\n",
      "[1250]\ttrain's auc: 0.980811\tvalid's auc: 0.945192\n",
      "[1500]\ttrain's auc: 0.985088\tvalid's auc: 0.946787\n",
      "[1750]\ttrain's auc: 0.988525\tvalid's auc: 0.948651\n",
      "[2000]\ttrain's auc: 0.990796\tvalid's auc: 0.950084\n",
      "[2250]\ttrain's auc: 0.992656\tvalid's auc: 0.951061\n",
      "[2500]\ttrain's auc: 0.994125\tvalid's auc: 0.952186\n",
      "[2750]\ttrain's auc: 0.995084\tvalid's auc: 0.952615\n",
      "[3000]\ttrain's auc: 0.995964\tvalid's auc: 0.953398\n",
      "[3250]\ttrain's auc: 0.996771\tvalid's auc: 0.954021\n",
      "[3500]\ttrain's auc: 0.997412\tvalid's auc: 0.954543\n",
      "Early stopping, best iteration is:\n",
      "[3642]\ttrain's auc: 0.997758\tvalid's auc: 0.954835\n",
      "Wall time: 3min 24s\n"
     ]
    }
   ],
   "source": [
    "%%time\n",
    "# сырые данные с автоматической обработкой\n",
    "model = train_lgbm(params, lgbm_train, lgbm_valid, y_train, y_valid, list(CAT_F))"
   ]
  },
  {
   "cell_type": "code",
   "execution_count": 50,
   "metadata": {},
   "outputs": [
    {
     "name": "stdout",
     "output_type": "stream",
     "text": [
      "[LightGBM] [Info] Number of positive: 3085, number of negative: 104915\n",
      "[LightGBM] [Info] Total Bins 31666\n",
      "[LightGBM] [Info] Number of data points in the train set: 108000, number of used features: 390\n",
      "[LightGBM] [Info] Number of positive: 3085, number of negative: 104915\n",
      "[LightGBM] [Info] Total Bins 31666\n",
      "[LightGBM] [Info] Number of data points in the train set: 108000, number of used features: 390\n",
      "[LightGBM] [Info] Number of positive: 3085, number of negative: 104915\n",
      "[LightGBM] [Info] Total Bins 31666\n",
      "[LightGBM] [Info] Number of data points in the train set: 108000, number of used features: 390\n",
      "[LightGBM] [Info] Number of positive: 3085, number of negative: 104915\n",
      "[LightGBM] [Info] Total Bins 31666\n",
      "[LightGBM] [Info] Number of data points in the train set: 108000, number of used features: 390\n",
      "[LightGBM] [Info] Number of positive: 3084, number of negative: 104916\n",
      "[LightGBM] [Info] Total Bins 31666\n",
      "[LightGBM] [Info] Number of data points in the train set: 108000, number of used features: 390\n",
      "[LightGBM] [Info] [binary:BoostFromScore]: pavg=0.028565 -> initscore=-3.526599\n",
      "[LightGBM] [Info] Start training from score -3.526599\n",
      "[LightGBM] [Info] [binary:BoostFromScore]: pavg=0.028565 -> initscore=-3.526599\n",
      "[LightGBM] [Info] Start training from score -3.526599\n",
      "[LightGBM] [Info] [binary:BoostFromScore]: pavg=0.028565 -> initscore=-3.526599\n",
      "[LightGBM] [Info] Start training from score -3.526599\n",
      "[LightGBM] [Info] [binary:BoostFromScore]: pavg=0.028565 -> initscore=-3.526599\n",
      "[LightGBM] [Info] Start training from score -3.526599\n",
      "[LightGBM] [Info] [binary:BoostFromScore]: pavg=0.028556 -> initscore=-3.526933\n",
      "[LightGBM] [Info] Start training from score -3.526933\n",
      "[250]\tcv_agg's train auc: 0.929981 + 0.0014979\tcv_agg's valid auc: 0.909869 + 0.00742878\n",
      "[500]\tcv_agg's train auc: 0.958256 + 0.000912768\tcv_agg's valid auc: 0.927318 + 0.00699124\n",
      "[750]\tcv_agg's train auc: 0.971638 + 0.000713673\tcv_agg's valid auc: 0.935038 + 0.00608944\n",
      "[1000]\tcv_agg's train auc: 0.979303 + 0.00027376\tcv_agg's valid auc: 0.938951 + 0.00571705\n",
      "[1250]\tcv_agg's train auc: 0.984498 + 0.000249668\tcv_agg's valid auc: 0.941843 + 0.0051157\n",
      "[1500]\tcv_agg's train auc: 0.988257 + 0.000256378\tcv_agg's valid auc: 0.943906 + 0.0048775\n",
      "[1750]\tcv_agg's train auc: 0.991075 + 0.000199559\tcv_agg's valid auc: 0.945309 + 0.00478225\n",
      "[2000]\tcv_agg's train auc: 0.993174 + 0.000305778\tcv_agg's valid auc: 0.946387 + 0.00484121\n",
      "[2250]\tcv_agg's train auc: 0.994675 + 0.000200171\tcv_agg's valid auc: 0.947525 + 0.00483679\n",
      "[2500]\tcv_agg's train auc: 0.9959 + 0.000128663\tcv_agg's valid auc: 0.948277 + 0.00494593\n",
      "[2750]\tcv_agg's train auc: 0.996779 + 0.000105361\tcv_agg's valid auc: 0.949019 + 0.00491231\n",
      "[3000]\tcv_agg's train auc: 0.997487 + 5.98963e-05\tcv_agg's valid auc: 0.949746 + 0.00486346\n",
      "[3250]\tcv_agg's train auc: 0.99805 + 7.52599e-05\tcv_agg's valid auc: 0.950311 + 0.00496394\n",
      "[3500]\tcv_agg's train auc: 0.998475 + 8.26391e-05\tcv_agg's valid auc: 0.95077 + 0.0050882\n",
      "[3750]\tcv_agg's train auc: 0.998799 + 8.05101e-05\tcv_agg's valid auc: 0.951134 + 0.00506143\n",
      "[4000]\tcv_agg's train auc: 0.999061 + 9.27593e-05\tcv_agg's valid auc: 0.951425 + 0.00488102\n",
      "[4250]\tcv_agg's train auc: 0.999257 + 9.56672e-05\tcv_agg's valid auc: 0.951652 + 0.00493086\n",
      "Wall time: 17min 52s\n"
     ]
    }
   ],
   "source": [
    "%%time\n",
    "# кросвалидация\n",
    "cv_lgbm_lgbm = cv_lgbm(params, lgbm_train, y_train)"
   ]
  },
  {
   "cell_type": "code",
   "execution_count": 51,
   "metadata": {},
   "outputs": [
    {
     "data": {
      "image/png": "[encoded data removed]",
      "text/plain": [
       "<Figure size 1080x360 with 1 Axes>"
      ]
     },
     "metadata": {
      "needs_background": "light"
     },
     "output_type": "display_data"
    }
   ],
   "source": [
    "plotLgbmResult(cv_lgbm_lgbm)"
   ]
  },
  {
   "cell_type": "markdown",
   "metadata": {},
   "source": [
    "## CatBoost"
   ]
  },
  {
   "cell_type": "code",
   "execution_count": 75,
   "metadata": {},
   "outputs": [],
   "source": [
    "import catboost as cb"
   ]
  },
  {
   "cell_type": "code",
   "execution_count": 76,
   "metadata": {},
   "outputs": [],
   "source": [
    "cat_f = list(CAT_F)"
   ]
  },
  {
   "cell_type": "code",
   "execution_count": 77,
   "metadata": {},
   "outputs": [],
   "source": [
    "def train_catboost(params, x_train, x_valid, y_train, y_valid, cat_list=[]):\n",
    "    \n",
    "    model = cb.CatBoostClassifier(**cb_params)\n",
    "    \n",
    "    dtrain = cb.Pool(x_train, y_train, cat_features=cat_list)\n",
    "    dvalid = cb.Pool(x_valid, y_valid, cat_features=cat_list)\n",
    "    \n",
    "    return model.fit(dtrain, eval_set=dvalid)"
   ]
  },
  {
   "cell_type": "code",
   "execution_count": 78,
   "metadata": {},
   "outputs": [],
   "source": [
    "def cv_catboost(params, x_train, y_train, cat_list=[], n_fold=5):\n",
    "    dtrain = cb.Pool(x_train, y_train, cat_features=cat_list)\n",
    "    cv_result = cb.cv(\n",
    "        params=params,\n",
    "        dtrain=dtrain,\n",
    "        num_boost_round=5000,\n",
    "        early_stopping_rounds=50,\n",
    "        shuffle=True,\n",
    "        nfold=n_fold,\n",
    "        stratified=True,\n",
    "        verbose = 250,\n",
    "#         metric_period=50,\n",
    "    )\n",
    "    return cv_result"
   ]
  },
  {
   "cell_type": "code",
   "execution_count": 86,
   "metadata": {},
   "outputs": [],
   "source": [
    "def plotCatBoostResult(cv_result):\n",
    "    res = cv_result[['train-AUC-mean','train-AUC-std','test-AUC-mean', 'test-AUC-std']]\n",
    "    res.columns =['train-auc-mean', 'train-auc-std', 'test-auc-mean', 'test-auc-std']\n",
    "    plotResult(res, 'CatBoost')"
   ]
  },
  {
   "cell_type": "code",
   "execution_count": 79,
   "metadata": {},
   "outputs": [],
   "source": [
    "cb_params = {\n",
    "    \"n_estimators\": 10000,\n",
    "    \"loss_function\": \"Logloss\",\n",
    "    \"eval_metric\": \"AUC\",\n",
    "    \"custom_metric\" : \"AUC:hints=skip_train~false\",\n",
    "    \"task_type\": \"GPU\",\n",
    "    \"devices\": '0:1',\n",
    "    \"max_bin\": 64,\n",
    "    \"verbose\": 250,\n",
    "    \"max_depth\": 5,\n",
    "    \"l2_leaf_reg\": 100,\n",
    "    \"early_stopping_rounds\": 50,\n",
    "    \"thread_count\": 6,\n",
    "    \"random_seed\": 42\n",
    "}"
   ]
  },
  {
   "cell_type": "markdown",
   "metadata": {},
   "source": [
    "#### CatBoost - числовые"
   ]
  },
  {
   "cell_type": "code",
   "execution_count": 58,
   "metadata": {},
   "outputs": [
    {
     "name": "stderr",
     "output_type": "stream",
     "text": [
      "Warning: less than 75% gpu memory available for training. Free: 8211.349999 Total: 11264\n"
     ]
    },
    {
     "name": "stdout",
     "output_type": "stream",
     "text": [
      "0:\tlearn: 0.6555312\ttest: 0.6661511\tbest: 0.6661511 (0)\ttotal: 36.8ms\tremaining: 6m 7s\n",
      "250:\tlearn: 0.8755673\ttest: 0.8805734\tbest: 0.8805734 (250)\ttotal: 8.11s\tremaining: 5m 15s\n",
      "500:\tlearn: 0.8846190\ttest: 0.8873058\tbest: 0.8873209 (497)\ttotal: 16.2s\tremaining: 5m 7s\n",
      "750:\tlearn: 0.8890081\ttest: 0.8900202\tbest: 0.8900225 (749)\ttotal: 25.2s\tremaining: 5m 10s\n",
      "1000:\tlearn: 0.8930180\ttest: 0.8924185\tbest: 0.8924185 (1000)\ttotal: 33.6s\tremaining: 5m 1s\n",
      "1250:\tlearn: 0.8963589\ttest: 0.8943980\tbest: 0.8943980 (1250)\ttotal: 41.7s\tremaining: 4m 51s\n",
      "1500:\tlearn: 0.8989106\ttest: 0.8955936\tbest: 0.8955936 (1500)\ttotal: 50.6s\tremaining: 4m 46s\n",
      "1750:\tlearn: 0.9010214\ttest: 0.8966654\tbest: 0.8966655 (1749)\ttotal: 59s\tremaining: 4m 37s\n",
      "2000:\tlearn: 0.9031421\ttest: 0.8977978\tbest: 0.8977978 (2000)\ttotal: 1m 7s\tremaining: 4m 29s\n",
      "2250:\tlearn: 0.9052633\ttest: 0.8990270\tbest: 0.8990270 (2250)\ttotal: 1m 16s\tremaining: 4m 23s\n",
      "2500:\tlearn: 0.9071612\ttest: 0.9001289\tbest: 0.9001289 (2500)\ttotal: 1m 24s\tremaining: 4m 13s\n",
      "2750:\tlearn: 0.9087599\ttest: 0.9010231\tbest: 0.9010231 (2750)\ttotal: 1m 40s\tremaining: 4m 25s\n",
      "3000:\tlearn: 0.9103419\ttest: 0.9018565\tbest: 0.9018565 (3000)\ttotal: 1m 52s\tremaining: 4m 22s\n",
      "3250:\tlearn: 0.9119343\ttest: 0.9029773\tbest: 0.9029773 (3250)\ttotal: 2m 1s\tremaining: 4m 13s\n",
      "3500:\tlearn: 0.9133282\ttest: 0.9038172\tbest: 0.9038235 (3499)\ttotal: 2m 12s\tremaining: 4m 6s\n",
      "3750:\tlearn: 0.9144074\ttest: 0.9044338\tbest: 0.9044340 (3749)\ttotal: 2m 22s\tremaining: 3m 56s\n",
      "4000:\tlearn: 0.9157520\ttest: 0.9052975\tbest: 0.9052975 (4000)\ttotal: 2m 31s\tremaining: 3m 46s\n",
      "4250:\tlearn: 0.9169673\ttest: 0.9059289\tbest: 0.9059309 (4248)\ttotal: 2m 40s\tremaining: 3m 36s\n",
      "4500:\tlearn: 0.9182380\ttest: 0.9068388\tbest: 0.9068397 (4499)\ttotal: 2m 49s\tremaining: 3m 26s\n",
      "4750:\tlearn: 0.9192807\ttest: 0.9075174\tbest: 0.9075174 (4750)\ttotal: 2m 58s\tremaining: 3m 17s\n",
      "5000:\tlearn: 0.9206906\ttest: 0.9084063\tbest: 0.9084126 (4998)\ttotal: 3m 7s\tremaining: 3m 7s\n",
      "5250:\tlearn: 0.9217848\ttest: 0.9091000\tbest: 0.9091000 (5249)\ttotal: 3m 17s\tremaining: 2m 58s\n",
      "5500:\tlearn: 0.9228364\ttest: 0.9097026\tbest: 0.9097026 (5500)\ttotal: 3m 26s\tremaining: 2m 49s\n",
      "5750:\tlearn: 0.9238155\ttest: 0.9102384\tbest: 0.9102384 (5750)\ttotal: 3m 35s\tremaining: 2m 39s\n",
      "6000:\tlearn: 0.9248638\ttest: 0.9109103\tbest: 0.9109103 (6000)\ttotal: 3m 44s\tremaining: 2m 29s\n",
      "6250:\tlearn: 0.9256596\ttest: 0.9114792\tbest: 0.9114795 (6249)\ttotal: 3m 53s\tremaining: 2m 20s\n",
      "6500:\tlearn: 0.9265029\ttest: 0.9121275\tbest: 0.9121275 (6500)\ttotal: 4m 2s\tremaining: 2m 10s\n",
      "6750:\tlearn: 0.9272881\ttest: 0.9125944\tbest: 0.9125973 (6743)\ttotal: 4m 12s\tremaining: 2m 1s\n",
      "7000:\tlearn: 0.9282874\ttest: 0.9132729\tbest: 0.9132784 (6992)\ttotal: 4m 21s\tremaining: 1m 51s\n",
      "7250:\tlearn: 0.9290984\ttest: 0.9138239\tbest: 0.9138266 (7248)\ttotal: 4m 30s\tremaining: 1m 42s\n",
      "7500:\tlearn: 0.9297719\ttest: 0.9142248\tbest: 0.9142248 (7500)\ttotal: 4m 40s\tremaining: 1m 33s\n",
      "7750:\tlearn: 0.9306378\ttest: 0.9147620\tbest: 0.9147621 (7749)\ttotal: 4m 49s\tremaining: 1m 24s\n",
      "8000:\tlearn: 0.9313245\ttest: 0.9151950\tbest: 0.9151992 (7990)\ttotal: 4m 59s\tremaining: 1m 14s\n",
      "8250:\tlearn: 0.9321095\ttest: 0.9157045\tbest: 0.9157046 (8249)\ttotal: 5m 9s\tremaining: 1m 5s\n",
      "8500:\tlearn: 0.9328374\ttest: 0.9162562\tbest: 0.9162562 (8500)\ttotal: 5m 21s\tremaining: 56.7s\n",
      "8750:\tlearn: 0.9335514\ttest: 0.9166734\tbest: 0.9166734 (8750)\ttotal: 5m 32s\tremaining: 47.4s\n",
      "9000:\tlearn: 0.9341734\ttest: 0.9171221\tbest: 0.9171221 (9000)\ttotal: 5m 42s\tremaining: 38.1s\n",
      "9250:\tlearn: 0.9348473\ttest: 0.9175395\tbest: 0.9175395 (9250)\ttotal: 5m 53s\tremaining: 28.6s\n",
      "9500:\tlearn: 0.9356069\ttest: 0.9181729\tbest: 0.9181741 (9497)\ttotal: 6m 3s\tremaining: 19.1s\n",
      "9750:\tlearn: 0.9362931\ttest: 0.9185680\tbest: 0.9185680 (9750)\ttotal: 6m 13s\tremaining: 9.55s\n",
      "9999:\tlearn: 0.9370146\ttest: 0.9190672\tbest: 0.9190686 (9997)\ttotal: 6m 24s\tremaining: 0us\n",
      "bestTest = 0.9190685749\n",
      "bestIteration = 9997\n",
      "Shrink model to first 9998 iterations.\n",
      "Wall time: 7min 23s\n"
     ]
    }
   ],
   "source": [
    "%%time\n",
    "model = train_catboost(cb_params, num_train, num_valid, y_train, y_valid)"
   ]
  },
  {
   "cell_type": "code",
   "execution_count": 80,
   "metadata": {},
   "outputs": [
    {
     "name": "stderr",
     "output_type": "stream",
     "text": [
      "Warning: less than 75% gpu memory available for training. Free: 8211.349999 Total: 11264\n",
      "Warning: less than 75% gpu memory available for training. Free: 8211.349999 Total: 11264\n",
      "Warning: less than 75% gpu memory available for training. Free: 8211.349999 Total: 11264\n",
      "Warning: less than 75% gpu memory available for training. Free: 8211.349999 Total: 11264\n",
      "Warning: less than 75% gpu memory available for training. Free: 8211.349999 Total: 11264\n"
     ]
    },
    {
     "name": "stdout",
     "output_type": "stream",
     "text": [
      "0:\tlearn: 0.6185203\ttest: 0.6166786\tbest: 0.6166786 (0)\n",
      "250:\tlearn: 0.8754069\ttest: 0.8714464\tbest: 0.8714497 (249)\n"
     ]
    },
    {
     "name": "stderr",
     "output_type": "stream",
     "text": [
      "Warning: less than 75% gpu memory available for training. Free: 8211.349999 Total: 11264\n",
      "Warning: less than 75% gpu memory available for training. Free: 8211.349999 Total: 11264\n",
      "Warning: less than 75% gpu memory available for training. Free: 8211.349999 Total: 11264\n",
      "Warning: less than 75% gpu memory available for training. Free: 8211.349999 Total: 11264\n",
      "Warning: less than 75% gpu memory available for training. Free: 8211.349999 Total: 11264\n"
     ]
    },
    {
     "name": "stdout",
     "output_type": "stream",
     "text": [
      "500:\tlearn: 0.8889089\ttest: 0.8828842\tbest: 0.8828842 (500)\n"
     ]
    },
    {
     "name": "stderr",
     "output_type": "stream",
     "text": [
      "Warning: less than 75% gpu memory available for training. Free: 8211.349999 Total: 11264\n",
      "Warning: less than 75% gpu memory available for training. Free: 8211.349999 Total: 11264\n",
      "Warning: less than 75% gpu memory available for training. Free: 8211.349999 Total: 11264\n",
      "Warning: less than 75% gpu memory available for training. Free: 8211.349999 Total: 11264\n",
      "Warning: less than 75% gpu memory available for training. Free: 8211.349999 Total: 11264\n"
     ]
    },
    {
     "name": "stdout",
     "output_type": "stream",
     "text": [
      "750:\tlearn: 0.8962368\ttest: 0.8888778\tbest: 0.8888778 (750)\n"
     ]
    },
    {
     "name": "stderr",
     "output_type": "stream",
     "text": [
      "Warning: less than 75% gpu memory available for training. Free: 8211.349999 Total: 11264\n",
      "Warning: less than 75% gpu memory available for training. Free: 8211.349999 Total: 11264\n",
      "Warning: less than 75% gpu memory available for training. Free: 8211.349999 Total: 11264\n",
      "Warning: less than 75% gpu memory available for training. Free: 8211.349999 Total: 11264\n",
      "Warning: less than 75% gpu memory available for training. Free: 8211.349999 Total: 11264\n"
     ]
    },
    {
     "name": "stdout",
     "output_type": "stream",
     "text": [
      "1000:\tlearn: 0.9012234\ttest: 0.8927383\tbest: 0.8927383 (1000)\ttotal: 8m 46s\tremaining: 35m 4s\n"
     ]
    },
    {
     "name": "stderr",
     "output_type": "stream",
     "text": [
      "Warning: less than 75% gpu memory available for training. Free: 8211.349999 Total: 11264\n",
      "Warning: less than 75% gpu memory available for training. Free: 8211.349999 Total: 11264\n",
      "Warning: less than 75% gpu memory available for training. Free: 8211.349999 Total: 11264\n",
      "Warning: less than 75% gpu memory available for training. Free: 8211.349999 Total: 11264\n",
      "Warning: less than 75% gpu memory available for training. Free: 8211.349999 Total: 11264\n"
     ]
    },
    {
     "name": "stdout",
     "output_type": "stream",
     "text": [
      "1250:\tlearn: 0.9050120\ttest: 0.8956072\tbest: 0.8956072 (1250)\n"
     ]
    },
    {
     "name": "stderr",
     "output_type": "stream",
     "text": [
      "Warning: less than 75% gpu memory available for training. Free: 8211.349999 Total: 11264\n",
      "Warning: less than 75% gpu memory available for training. Free: 8211.349999 Total: 11264\n",
      "Warning: less than 75% gpu memory available for training. Free: 8211.349999 Total: 11264\n",
      "Warning: less than 75% gpu memory available for training. Free: 8211.349999 Total: 11264\n",
      "Warning: less than 75% gpu memory available for training. Free: 8211.349999 Total: 11264\n"
     ]
    },
    {
     "name": "stdout",
     "output_type": "stream",
     "text": [
      "1500:\tlearn: 0.9076267\ttest: 0.8974697\tbest: 0.8974697 (1500)\n"
     ]
    },
    {
     "name": "stderr",
     "output_type": "stream",
     "text": [
      "Warning: less than 75% gpu memory available for training. Free: 8211.349999 Total: 11264\n",
      "Warning: less than 75% gpu memory available for training. Free: 8211.349999 Total: 11264\n",
      "Warning: less than 75% gpu memory available for training. Free: 8211.349999 Total: 11264\n",
      "Warning: less than 75% gpu memory available for training. Free: 8211.349999 Total: 11264\n",
      "Warning: less than 75% gpu memory available for training. Free: 8211.349999 Total: 11264\n",
      "Warning: less than 75% gpu memory available for training. Free: 8211.349999 Total: 11264\n",
      "Warning: less than 75% gpu memory available for training. Free: 8211.349999 Total: 11264\n",
      "Warning: less than 75% gpu memory available for training. Free: 8211.349999 Total: 11264\n",
      "Warning: less than 75% gpu memory available for training. Free: 8211.349999 Total: 11264\n",
      "Warning: less than 75% gpu memory available for training. Free: 8211.349999 Total: 11264\n"
     ]
    },
    {
     "name": "stdout",
     "output_type": "stream",
     "text": [
      "1750:\tlearn: 0.9097749\ttest: 0.8990240\tbest: 0.8990240 (1750)\n"
     ]
    },
    {
     "name": "stderr",
     "output_type": "stream",
     "text": [
      "Warning: less than 75% gpu memory available for training. Free: 8211.349999 Total: 11264\n",
      "Warning: less than 75% gpu memory available for training. Free: 8211.349999 Total: 11264\n",
      "Warning: less than 75% gpu memory available for training. Free: 8211.349999 Total: 11264\n",
      "Warning: less than 75% gpu memory available for training. Free: 8211.349999 Total: 11264\n",
      "Warning: less than 75% gpu memory available for training. Free: 8211.349999 Total: 11264\n"
     ]
    },
    {
     "name": "stdout",
     "output_type": "stream",
     "text": [
      "2000:\tlearn: 0.9120233\ttest: 0.9006064\tbest: 0.9006064 (2000)\n"
     ]
    },
    {
     "name": "stderr",
     "output_type": "stream",
     "text": [
      "Warning: less than 75% gpu memory available for training. Free: 8211.349999 Total: 11264\n",
      "Warning: less than 75% gpu memory available for training. Free: 8211.349999 Total: 11264\n",
      "Warning: less than 75% gpu memory available for training. Free: 8211.349999 Total: 11264\n",
      "Warning: less than 75% gpu memory available for training. Free: 8211.349999 Total: 11264\n",
      "Warning: less than 75% gpu memory available for training. Free: 8211.349999 Total: 11264\n"
     ]
    },
    {
     "name": "stdout",
     "output_type": "stream",
     "text": [
      "2250:\tlearn: 0.9138629\ttest: 0.9020259\tbest: 0.9020260 (2248)\n"
     ]
    },
    {
     "name": "stderr",
     "output_type": "stream",
     "text": [
      "Warning: less than 75% gpu memory available for training. Free: 8211.349999 Total: 11264\n",
      "Warning: less than 75% gpu memory available for training. Free: 8211.349999 Total: 11264\n",
      "Warning: less than 75% gpu memory available for training. Free: 8211.349999 Total: 11264\n",
      "Warning: less than 75% gpu memory available for training. Free: 8211.349999 Total: 11264\n",
      "Warning: less than 75% gpu memory available for training. Free: 8211.349999 Total: 11264\n"
     ]
    },
    {
     "name": "stdout",
     "output_type": "stream",
     "text": [
      "2500:\tlearn: 0.9155242\ttest: 0.9031597\tbest: 0.9031597 (2500)\n"
     ]
    },
    {
     "name": "stderr",
     "output_type": "stream",
     "text": [
      "Warning: less than 75% gpu memory available for training. Free: 8211.349999 Total: 11264\n",
      "Warning: less than 75% gpu memory available for training. Free: 8211.349999 Total: 11264\n",
      "Warning: less than 75% gpu memory available for training. Free: 8211.349999 Total: 11264\n",
      "Warning: less than 75% gpu memory available for training. Free: 8211.349999 Total: 11264\n",
      "Warning: less than 75% gpu memory available for training. Free: 8211.349999 Total: 11264\n"
     ]
    },
    {
     "name": "stdout",
     "output_type": "stream",
     "text": [
      "2750:\tlearn: 0.9170073\ttest: 0.9042259\tbest: 0.9042259 (2750)\n"
     ]
    },
    {
     "name": "stderr",
     "output_type": "stream",
     "text": [
      "Warning: less than 75% gpu memory available for training. Free: 8211.349999 Total: 11264\n",
      "Warning: less than 75% gpu memory available for training. Free: 8211.349999 Total: 11264\n",
      "Warning: less than 75% gpu memory available for training. Free: 8211.349999 Total: 11264\n",
      "Warning: less than 75% gpu memory available for training. Free: 8211.349999 Total: 11264\n",
      "Warning: less than 75% gpu memory available for training. Free: 8211.349999 Total: 11264\n"
     ]
    },
    {
     "name": "stdout",
     "output_type": "stream",
     "text": [
      "3000:\tlearn: 0.9183885\ttest: 0.9052033\tbest: 0.9052052 (2998)\n"
     ]
    },
    {
     "name": "stderr",
     "output_type": "stream",
     "text": [
      "Warning: less than 75% gpu memory available for training. Free: 8211.349999 Total: 11264\n",
      "Warning: less than 75% gpu memory available for training. Free: 8211.349999 Total: 11264\n",
      "Warning: less than 75% gpu memory available for training. Free: 8211.349999 Total: 11264\n",
      "Warning: less than 75% gpu memory available for training. Free: 8211.349999 Total: 11264\n",
      "Warning: less than 75% gpu memory available for training. Free: 8211.349999 Total: 11264\n"
     ]
    },
    {
     "name": "stdout",
     "output_type": "stream",
     "text": [
      "3250:\tlearn: 0.9194125\ttest: 0.9058479\tbest: 0.9058479 (3250)\n"
     ]
    },
    {
     "name": "stderr",
     "output_type": "stream",
     "text": [
      "Warning: less than 75% gpu memory available for training. Free: 8211.349999 Total: 11264\n",
      "Warning: less than 75% gpu memory available for training. Free: 8211.349999 Total: 11264\n",
      "Warning: less than 75% gpu memory available for training. Free: 8211.349999 Total: 11264\n",
      "Warning: less than 75% gpu memory available for training. Free: 8211.349999 Total: 11264\n",
      "Warning: less than 75% gpu memory available for training. Free: 8211.349999 Total: 11264\n"
     ]
    },
    {
     "name": "stdout",
     "output_type": "stream",
     "text": [
      "3500:\tlearn: 0.9207440\ttest: 0.9067442\tbest: 0.9067442 (3500)\n",
      "3750:\tlearn: 0.9220209\ttest: 0.9076320\tbest: 0.9076320 (3750)\n"
     ]
    },
    {
     "name": "stderr",
     "output_type": "stream",
     "text": [
      "Warning: less than 75% gpu memory available for training. Free: 8211.349999 Total: 11264\n",
      "Warning: less than 75% gpu memory available for training. Free: 8211.349999 Total: 11264\n",
      "Warning: less than 75% gpu memory available for training. Free: 8211.349999 Total: 11264\n",
      "Warning: less than 75% gpu memory available for training. Free: 8211.349999 Total: 11264\n",
      "Warning: less than 75% gpu memory available for training. Free: 8211.349999 Total: 11264\n"
     ]
    },
    {
     "name": "stdout",
     "output_type": "stream",
     "text": [
      "4000:\tlearn: 0.9232090\ttest: 0.9084663\tbest: 0.9084663 (4000)\n"
     ]
    },
    {
     "name": "stderr",
     "output_type": "stream",
     "text": [
      "Warning: less than 75% gpu memory available for training. Free: 8211.349999 Total: 11264\n",
      "Warning: less than 75% gpu memory available for training. Free: 8211.349999 Total: 11264\n",
      "Warning: less than 75% gpu memory available for training. Free: 8211.349999 Total: 11264\n",
      "Warning: less than 75% gpu memory available for training. Free: 8211.349999 Total: 11264\n",
      "Warning: less than 75% gpu memory available for training. Free: 8211.349999 Total: 11264\n"
     ]
    },
    {
     "name": "stdout",
     "output_type": "stream",
     "text": [
      "4250:\tlearn: 0.9243513\ttest: 0.9093007\tbest: 0.9093007 (4250)\n"
     ]
    },
    {
     "name": "stderr",
     "output_type": "stream",
     "text": [
      "Warning: less than 75% gpu memory available for training. Free: 8211.349999 Total: 11264\n",
      "Warning: less than 75% gpu memory available for training. Free: 8211.349999 Total: 11264\n",
      "Warning: less than 75% gpu memory available for training. Free: 8211.349999 Total: 11264\n",
      "Warning: less than 75% gpu memory available for training. Free: 8211.349999 Total: 11264\n",
      "Warning: less than 75% gpu memory available for training. Free: 8211.349999 Total: 11264\n"
     ]
    },
    {
     "name": "stdout",
     "output_type": "stream",
     "text": [
      "4500:\tlearn: 0.9254627\ttest: 0.9101221\tbest: 0.9101221 (4500)\n",
      "4750:\tlearn: 0.9264181\ttest: 0.9107149\tbest: 0.9107149 (4750)\n"
     ]
    },
    {
     "name": "stderr",
     "output_type": "stream",
     "text": [
      "Warning: less than 75% gpu memory available for training. Free: 8211.349999 Total: 11264\n",
      "Warning: less than 75% gpu memory available for training. Free: 8211.349999 Total: 11264\n",
      "Warning: less than 75% gpu memory available for training. Free: 8211.349999 Total: 11264\n",
      "Warning: less than 75% gpu memory available for training. Free: 8211.349999 Total: 11264\n",
      "Warning: less than 75% gpu memory available for training. Free: 8211.349999 Total: 11264\n"
     ]
    },
    {
     "name": "stdout",
     "output_type": "stream",
     "text": [
      "4999:\tlearn: 0.9274288\ttest: 0.9113938\tbest: 0.9113939 (4998)\ttotal: 39m 5s\tremaining: 0us\n",
      "Wall time: 39min 8s\n"
     ]
    }
   ],
   "source": [
    "%%time\n",
    "# кросвалидация\n",
    "cv_cboost_num = cv_catboost(cb_params, num_train, y_train)"
   ]
  },
  {
   "cell_type": "code",
   "execution_count": 82,
   "metadata": {},
   "outputs": [
    {
     "data": {
      "text/plain": [
       "Index(['iterations', 'test-AUC-mean', 'test-AUC-std', 'train-AUC-mean',\n",
       "       'train-AUC-std', 'test-Logloss-mean', 'test-Logloss-std',\n",
       "       'train-Logloss-mean', 'train-Logloss-std'],\n",
       "      dtype='object')"
      ]
     },
     "execution_count": 82,
     "metadata": {},
     "output_type": "execute_result"
    }
   ],
   "source": [
    "cv_cboost_num.keys()"
   ]
  },
  {
   "cell_type": "code",
   "execution_count": 87,
   "metadata": {},
   "outputs": [
    {
     "data": {
      "image/png": "[encoded data removed]",
      "text/plain": [
       "<Figure size 1080x360 with 1 Axes>"
      ]
     },
     "metadata": {
      "needs_background": "light"
     },
     "output_type": "display_data"
    }
   ],
   "source": [
    "plotCatBoostResult(cv_cboost_num)"
   ]
  },
  {
   "cell_type": "markdown",
   "metadata": {},
   "source": [
    "#### CatBoost - числовые и обработанные категориальные"
   ]
  },
  {
   "cell_type": "code",
   "execution_count": 89,
   "metadata": {},
   "outputs": [
    {
     "name": "stderr",
     "output_type": "stream",
     "text": [
      "Warning: less than 75% gpu memory available for training. Free: 8211.349999 Total: 11264\n"
     ]
    },
    {
     "name": "stdout",
     "output_type": "stream",
     "text": [
      "0:\tlearn: 0.6555312\ttest: 0.6661511\tbest: 0.6661511 (0)\ttotal: 31.2ms\tremaining: 5m 12s\n",
      "250:\tlearn: 0.8805874\ttest: 0.8856209\tbest: 0.8856209 (250)\ttotal: 9.52s\tremaining: 6m 9s\n",
      "500:\tlearn: 0.8916422\ttest: 0.8939289\tbest: 0.8939289 (500)\ttotal: 17.9s\tremaining: 5m 38s\n",
      "750:\tlearn: 0.8967364\ttest: 0.8975372\tbest: 0.8975394 (748)\ttotal: 28.3s\tremaining: 5m 48s\n",
      "1000:\tlearn: 0.9009990\ttest: 0.9004506\tbest: 0.9004506 (1000)\ttotal: 40.7s\tremaining: 6m 5s\n",
      "1250:\tlearn: 0.9038302\ttest: 0.9024147\tbest: 0.9024147 (1250)\ttotal: 51.8s\tremaining: 6m 2s\n",
      "1500:\tlearn: 0.9065137\ttest: 0.9040969\tbest: 0.9040990 (1499)\ttotal: 1m 2s\tremaining: 5m 56s\n",
      "1750:\tlearn: 0.9088554\ttest: 0.9053457\tbest: 0.9053486 (1749)\ttotal: 1m 13s\tremaining: 5m 47s\n",
      "2000:\tlearn: 0.9113459\ttest: 0.9069597\tbest: 0.9069597 (2000)\ttotal: 1m 25s\tremaining: 5m 41s\n",
      "2250:\tlearn: 0.9135022\ttest: 0.9082320\tbest: 0.9082320 (2250)\ttotal: 1m 36s\tremaining: 5m 30s\n",
      "2500:\tlearn: 0.9155480\ttest: 0.9094180\tbest: 0.9094251 (2497)\ttotal: 1m 47s\tremaining: 5m 21s\n",
      "2750:\tlearn: 0.9171409\ttest: 0.9103210\tbest: 0.9103210 (2750)\ttotal: 1m 58s\tremaining: 5m 11s\n",
      "3000:\tlearn: 0.9187616\ttest: 0.9111817\tbest: 0.9111817 (3000)\ttotal: 2m 7s\tremaining: 4m 57s\n",
      "3250:\tlearn: 0.9202891\ttest: 0.9120961\tbest: 0.9121158 (3233)\ttotal: 2m 15s\tremaining: 4m 42s\n",
      "3500:\tlearn: 0.9218584\ttest: 0.9130561\tbest: 0.9130561 (3500)\ttotal: 2m 24s\tremaining: 4m 27s\n",
      "3750:\tlearn: 0.9233959\ttest: 0.9138494\tbest: 0.9138494 (3748)\ttotal: 2m 32s\tremaining: 4m 14s\n",
      "4000:\tlearn: 0.9245834\ttest: 0.9144214\tbest: 0.9144242 (3998)\ttotal: 2m 41s\tremaining: 4m 1s\n",
      "4250:\tlearn: 0.9256661\ttest: 0.9150020\tbest: 0.9150062 (4223)\ttotal: 2m 49s\tremaining: 3m 48s\n",
      "4500:\tlearn: 0.9268829\ttest: 0.9156318\tbest: 0.9156327 (4495)\ttotal: 2m 57s\tremaining: 3m 36s\n",
      "4750:\tlearn: 0.9279278\ttest: 0.9163515\tbest: 0.9163515 (4750)\ttotal: 3m 6s\tremaining: 3m 25s\n",
      "5000:\tlearn: 0.9289986\ttest: 0.9168479\tbest: 0.9168614 (4989)\ttotal: 3m 14s\tremaining: 3m 14s\n",
      "5250:\tlearn: 0.9299385\ttest: 0.9174028\tbest: 0.9174261 (5236)\ttotal: 3m 23s\tremaining: 3m 3s\n",
      "5500:\tlearn: 0.9307890\ttest: 0.9177718\tbest: 0.9177721 (5499)\ttotal: 3m 34s\tremaining: 2m 55s\n",
      "5750:\tlearn: 0.9315248\ttest: 0.9180731\tbest: 0.9180850 (5745)\ttotal: 3m 47s\tremaining: 2m 48s\n",
      "6000:\tlearn: 0.9324628\ttest: 0.9185672\tbest: 0.9185672 (6000)\ttotal: 3m 59s\tremaining: 2m 39s\n",
      "6250:\tlearn: 0.9333568\ttest: 0.9190960\tbest: 0.9190960 (6250)\ttotal: 4m 13s\tremaining: 2m 31s\n",
      "6500:\tlearn: 0.9340881\ttest: 0.9194584\tbest: 0.9194619 (6490)\ttotal: 4m 24s\tremaining: 2m 22s\n",
      "6750:\tlearn: 0.9350656\ttest: 0.9200676\tbest: 0.9200719 (6745)\ttotal: 4m 35s\tremaining: 2m 12s\n",
      "7000:\tlearn: 0.9358639\ttest: 0.9205497\tbest: 0.9205504 (6992)\ttotal: 4m 46s\tremaining: 2m 2s\n",
      "7250:\tlearn: 0.9365685\ttest: 0.9210566\tbest: 0.9210742 (7233)\ttotal: 4m 57s\tremaining: 1m 52s\n",
      "7500:\tlearn: 0.9373181\ttest: 0.9215323\tbest: 0.9215329 (7497)\ttotal: 5m 8s\tremaining: 1m 42s\n",
      "7750:\tlearn: 0.9383228\ttest: 0.9221642\tbest: 0.9221647 (7748)\ttotal: 5m 19s\tremaining: 1m 32s\n",
      "8000:\tlearn: 0.9389656\ttest: 0.9225166\tbest: 0.9225280 (7999)\ttotal: 5m 31s\tremaining: 1m 22s\n",
      "8250:\tlearn: 0.9398063\ttest: 0.9230122\tbest: 0.9230132 (8249)\ttotal: 5m 43s\tremaining: 1m 12s\n",
      "8500:\tlearn: 0.9404031\ttest: 0.9233317\tbest: 0.9233325 (8498)\ttotal: 5m 54s\tremaining: 1m 2s\n",
      "8750:\tlearn: 0.9410568\ttest: 0.9236860\tbest: 0.9236860 (8750)\ttotal: 6m 6s\tremaining: 52.2s\n",
      "9000:\tlearn: 0.9416721\ttest: 0.9240959\tbest: 0.9240959 (9000)\ttotal: 6m 17s\tremaining: 41.9s\n",
      "9250:\tlearn: 0.9421826\ttest: 0.9242945\tbest: 0.9242945 (9250)\ttotal: 6m 28s\tremaining: 31.4s\n",
      "9500:\tlearn: 0.9428377\ttest: 0.9247320\tbest: 0.9247320 (9500)\ttotal: 6m 39s\tremaining: 21s\n",
      "bestTest = 0.92493397\n",
      "bestIteration = 9614\n",
      "Shrink model to first 9615 iterations.\n",
      "Wall time: 7min 50s\n"
     ]
    }
   ],
   "source": [
    "%%time\n",
    "model = train_catboost(cb_params, prep_train, prep_valid, y_train, y_valid)"
   ]
  },
  {
   "cell_type": "code",
   "execution_count": 90,
   "metadata": {},
   "outputs": [
    {
     "name": "stderr",
     "output_type": "stream",
     "text": [
      "Warning: less than 75% gpu memory available for training. Free: 8211.349999 Total: 11264\n",
      "Warning: less than 75% gpu memory available for training. Free: 8211.349999 Total: 11264\n",
      "Warning: less than 75% gpu memory available for training. Free: 8211.349999 Total: 11264\n",
      "Warning: less than 75% gpu memory available for training. Free: 8211.349999 Total: 11264\n",
      "Warning: less than 75% gpu memory available for training. Free: 8211.349999 Total: 11264\n"
     ]
    },
    {
     "name": "stdout",
     "output_type": "stream",
     "text": [
      "0:\tlearn: 0.6185203\ttest: 0.6166786\tbest: 0.6166786 (0)\n",
      "250:\tlearn: 0.8798090\ttest: 0.8748724\tbest: 0.8748724 (250)\n"
     ]
    },
    {
     "name": "stderr",
     "output_type": "stream",
     "text": [
      "Warning: less than 75% gpu memory available for training. Free: 8211.349999 Total: 11264\n",
      "Warning: less than 75% gpu memory available for training. Free: 8211.349999 Total: 11264\n",
      "Warning: less than 75% gpu memory available for training. Free: 8211.349999 Total: 11264\n",
      "Warning: less than 75% gpu memory available for training. Free: 8211.349999 Total: 11264\n",
      "Warning: less than 75% gpu memory available for training. Free: 8211.349999 Total: 11264\n"
     ]
    },
    {
     "name": "stdout",
     "output_type": "stream",
     "text": [
      "500:\tlearn: 0.8954804\ttest: 0.8883799\tbest: 0.8883799 (500)\n"
     ]
    },
    {
     "name": "stderr",
     "output_type": "stream",
     "text": [
      "Warning: less than 75% gpu memory available for training. Free: 8211.349999 Total: 11264\n",
      "Warning: less than 75% gpu memory available for training. Free: 8211.349999 Total: 11264\n",
      "Warning: less than 75% gpu memory available for training. Free: 8211.349999 Total: 11264\n",
      "Warning: less than 75% gpu memory available for training. Free: 8211.349999 Total: 11264\n",
      "Warning: less than 75% gpu memory available for training. Free: 8211.349999 Total: 11264\n"
     ]
    },
    {
     "name": "stdout",
     "output_type": "stream",
     "text": [
      "750:\tlearn: 0.9037286\ttest: 0.8952843\tbest: 0.8952843 (750)\n"
     ]
    },
    {
     "name": "stderr",
     "output_type": "stream",
     "text": [
      "Warning: less than 75% gpu memory available for training. Free: 8211.349999 Total: 11264\n",
      "Warning: less than 75% gpu memory available for training. Free: 8211.349999 Total: 11264\n",
      "Warning: less than 75% gpu memory available for training. Free: 8211.349999 Total: 11264\n",
      "Warning: less than 75% gpu memory available for training. Free: 8211.349999 Total: 11264\n",
      "Warning: less than 75% gpu memory available for training. Free: 8211.349999 Total: 11264\n",
      "Warning: less than 75% gpu memory available for training. Free: 8211.349999 Total: 11264\n",
      "Warning: less than 75% gpu memory available for training. Free: 8211.349999 Total: 11264\n",
      "Warning: less than 75% gpu memory available for training. Free: 8211.349999 Total: 11264\n",
      "Warning: less than 75% gpu memory available for training. Free: 8211.349999 Total: 11264\n",
      "Warning: less than 75% gpu memory available for training. Free: 8211.349999 Total: 11264\n"
     ]
    },
    {
     "name": "stdout",
     "output_type": "stream",
     "text": [
      "1000:\tlearn: 0.9089835\ttest: 0.8993543\tbest: 0.8993543 (1000)\n"
     ]
    },
    {
     "name": "stderr",
     "output_type": "stream",
     "text": [
      "Warning: less than 75% gpu memory available for training. Free: 8211.349999 Total: 11264\n",
      "Warning: less than 75% gpu memory available for training. Free: 8211.349999 Total: 11264\n",
      "Warning: less than 75% gpu memory available for training. Free: 8211.349999 Total: 11264\n",
      "Warning: less than 75% gpu memory available for training. Free: 8211.349999 Total: 11264\n",
      "Warning: less than 75% gpu memory available for training. Free: 8211.349999 Total: 11264\n"
     ]
    },
    {
     "name": "stdout",
     "output_type": "stream",
     "text": [
      "1250:\tlearn: 0.9129462\ttest: 0.9025564\tbest: 0.9025564 (1250)\n"
     ]
    },
    {
     "name": "stderr",
     "output_type": "stream",
     "text": [
      "Warning: less than 75% gpu memory available for training. Free: 8211.349999 Total: 11264\n",
      "Warning: less than 75% gpu memory available for training. Free: 8211.349999 Total: 11264\n",
      "Warning: less than 75% gpu memory available for training. Free: 8211.349999 Total: 11264\n",
      "Warning: less than 75% gpu memory available for training. Free: 8211.349999 Total: 11264\n",
      "Warning: less than 75% gpu memory available for training. Free: 8211.349999 Total: 11264\n"
     ]
    },
    {
     "name": "stdout",
     "output_type": "stream",
     "text": [
      "1500:\tlearn: 0.9154660\ttest: 0.9044905\tbest: 0.9044905 (1500)\n"
     ]
    },
    {
     "name": "stderr",
     "output_type": "stream",
     "text": [
      "Warning: less than 75% gpu memory available for training. Free: 8211.349999 Total: 11264\n",
      "Warning: less than 75% gpu memory available for training. Free: 8211.349999 Total: 11264\n",
      "Warning: less than 75% gpu memory available for training. Free: 8211.349999 Total: 11264\n",
      "Warning: less than 75% gpu memory available for training. Free: 8211.349999 Total: 11264\n",
      "Warning: less than 75% gpu memory available for training. Free: 8211.349999 Total: 11264\n"
     ]
    },
    {
     "name": "stdout",
     "output_type": "stream",
     "text": [
      "1750:\tlearn: 0.9177466\ttest: 0.9061693\tbest: 0.9061693 (1750)\n"
     ]
    },
    {
     "name": "stderr",
     "output_type": "stream",
     "text": [
      "Warning: less than 75% gpu memory available for training. Free: 8211.349999 Total: 11264\n",
      "Warning: less than 75% gpu memory available for training. Free: 8211.349999 Total: 11264\n",
      "Warning: less than 75% gpu memory available for training. Free: 8211.349999 Total: 11264\n",
      "Warning: less than 75% gpu memory available for training. Free: 8211.349999 Total: 11264\n",
      "Warning: less than 75% gpu memory available for training. Free: 8211.349999 Total: 11264\n"
     ]
    },
    {
     "name": "stdout",
     "output_type": "stream",
     "text": [
      "2000:\tlearn: 0.9202051\ttest: 0.9080754\tbest: 0.9080754 (2000)\n",
      "2250:\tlearn: 0.9220945\ttest: 0.9095764\tbest: 0.9095764 (2250)\n"
     ]
    },
    {
     "name": "stderr",
     "output_type": "stream",
     "text": [
      "Warning: less than 75% gpu memory available for training. Free: 8211.349999 Total: 11264\n",
      "Warning: less than 75% gpu memory available for training. Free: 8211.349999 Total: 11264\n",
      "Warning: less than 75% gpu memory available for training. Free: 8211.349999 Total: 11264\n",
      "Warning: less than 75% gpu memory available for training. Free: 8211.349999 Total: 11264\n",
      "Warning: less than 75% gpu memory available for training. Free: 8211.349999 Total: 11264\n",
      "Warning: less than 75% gpu memory available for training. Free: 8211.349999 Total: 11264\n",
      "Warning: less than 75% gpu memory available for training. Free: 8211.349999 Total: 11264\n",
      "Warning: less than 75% gpu memory available for training. Free: 8211.349999 Total: 11264\n",
      "Warning: less than 75% gpu memory available for training. Free: 8211.349999 Total: 11264\n",
      "Warning: less than 75% gpu memory available for training. Free: 8211.349999 Total: 11264\n"
     ]
    },
    {
     "name": "stdout",
     "output_type": "stream",
     "text": [
      "2500:\tlearn: 0.9237014\ttest: 0.9107885\tbest: 0.9107910 (2499)\n",
      "2750:\tlearn: 0.9249061\ttest: 0.9116058\tbest: 0.9116099 (2747)\n"
     ]
    },
    {
     "name": "stderr",
     "output_type": "stream",
     "text": [
      "Warning: less than 75% gpu memory available for training. Free: 8211.349999 Total: 11264\n",
      "Warning: less than 75% gpu memory available for training. Free: 8211.349999 Total: 11264\n",
      "Warning: less than 75% gpu memory available for training. Free: 8211.349999 Total: 11264\n",
      "Warning: less than 75% gpu memory available for training. Free: 8211.349999 Total: 11264\n",
      "Warning: less than 75% gpu memory available for training. Free: 8211.349999 Total: 11264\n"
     ]
    },
    {
     "name": "stdout",
     "output_type": "stream",
     "text": [
      "3000:\tlearn: 0.9259721\ttest: 0.9123558\tbest: 0.9123558 (3000)\n"
     ]
    },
    {
     "name": "stderr",
     "output_type": "stream",
     "text": [
      "Warning: less than 75% gpu memory available for training. Free: 8211.349999 Total: 11264\n",
      "Warning: less than 75% gpu memory available for training. Free: 8211.349999 Total: 11264\n",
      "Warning: less than 75% gpu memory available for training. Free: 8211.349999 Total: 11264\n",
      "Warning: less than 75% gpu memory available for training. Free: 8211.349999 Total: 11264\n",
      "Warning: less than 75% gpu memory available for training. Free: 8211.349999 Total: 11264\n"
     ]
    },
    {
     "name": "stdout",
     "output_type": "stream",
     "text": [
      "3250:\tlearn: 0.9269453\ttest: 0.9130236\tbest: 0.9130236 (3250)\n"
     ]
    },
    {
     "name": "stderr",
     "output_type": "stream",
     "text": [
      "Warning: less than 75% gpu memory available for training. Free: 8211.349999 Total: 11264\n",
      "Warning: less than 75% gpu memory available for training. Free: 8211.349999 Total: 11264\n",
      "Warning: less than 75% gpu memory available for training. Free: 8211.349999 Total: 11264\n",
      "Warning: less than 75% gpu memory available for training. Free: 8211.349999 Total: 11264\n",
      "Warning: less than 75% gpu memory available for training. Free: 8211.349999 Total: 11264\n"
     ]
    },
    {
     "name": "stdout",
     "output_type": "stream",
     "text": [
      "3500:\tlearn: 0.9283873\ttest: 0.9140577\tbest: 0.9140577 (3500)\n"
     ]
    },
    {
     "name": "stderr",
     "output_type": "stream",
     "text": [
      "Warning: less than 75% gpu memory available for training. Free: 8211.349999 Total: 11264\n",
      "Warning: less than 75% gpu memory available for training. Free: 8211.349999 Total: 11264\n",
      "Warning: less than 75% gpu memory available for training. Free: 8211.349999 Total: 11264\n",
      "Warning: less than 75% gpu memory available for training. Free: 8211.349999 Total: 11264\n",
      "Warning: less than 75% gpu memory available for training. Free: 8211.349999 Total: 11264\n"
     ]
    },
    {
     "name": "stdout",
     "output_type": "stream",
     "text": [
      "3750:\tlearn: 0.9297025\ttest: 0.9150996\tbest: 0.9150996 (3750)\n"
     ]
    },
    {
     "name": "stderr",
     "output_type": "stream",
     "text": [
      "Warning: less than 75% gpu memory available for training. Free: 8211.349999 Total: 11264\n",
      "Warning: less than 75% gpu memory available for training. Free: 8211.349999 Total: 11264\n",
      "Warning: less than 75% gpu memory available for training. Free: 8211.349999 Total: 11264\n",
      "Warning: less than 75% gpu memory available for training. Free: 8211.349999 Total: 11264\n",
      "Warning: less than 75% gpu memory available for training. Free: 8211.349999 Total: 11264\n"
     ]
    },
    {
     "name": "stdout",
     "output_type": "stream",
     "text": [
      "4000:\tlearn: 0.9306994\ttest: 0.9157884\tbest: 0.9157890 (3999)\n"
     ]
    },
    {
     "name": "stderr",
     "output_type": "stream",
     "text": [
      "Warning: less than 75% gpu memory available for training. Free: 8211.349999 Total: 11264\n",
      "Warning: less than 75% gpu memory available for training. Free: 8211.349999 Total: 11264\n",
      "Warning: less than 75% gpu memory available for training. Free: 8211.349999 Total: 11264\n",
      "Warning: less than 75% gpu memory available for training. Free: 8211.349999 Total: 11264\n",
      "Warning: less than 75% gpu memory available for training. Free: 8211.349999 Total: 11264\n"
     ]
    },
    {
     "name": "stdout",
     "output_type": "stream",
     "text": [
      "4250:\tlearn: 0.9317109\ttest: 0.9165812\tbest: 0.9165812 (4250)\n",
      "4500:\tlearn: 0.9327960\ttest: 0.9173284\tbest: 0.9173284 (4500)\n"
     ]
    },
    {
     "name": "stderr",
     "output_type": "stream",
     "text": [
      "Warning: less than 75% gpu memory available for training. Free: 8211.349999 Total: 11264\n",
      "Warning: less than 75% gpu memory available for training. Free: 8211.349999 Total: 11264\n",
      "Warning: less than 75% gpu memory available for training. Free: 8211.349999 Total: 11264\n",
      "Warning: less than 75% gpu memory available for training. Free: 8211.349999 Total: 11264\n",
      "Warning: less than 75% gpu memory available for training. Free: 8211.349999 Total: 11264\n"
     ]
    },
    {
     "name": "stdout",
     "output_type": "stream",
     "text": [
      "4750:\tlearn: 0.9338874\ttest: 0.9181403\tbest: 0.9181403 (4750)\n"
     ]
    },
    {
     "name": "stderr",
     "output_type": "stream",
     "text": [
      "Warning: less than 75% gpu memory available for training. Free: 8211.349999 Total: 11264\n",
      "Warning: less than 75% gpu memory available for training. Free: 8211.349999 Total: 11264\n",
      "Warning: less than 75% gpu memory available for training. Free: 8211.349999 Total: 11264\n",
      "Warning: less than 75% gpu memory available for training. Free: 8211.349999 Total: 11264\n",
      "Warning: less than 75% gpu memory available for training. Free: 8211.349999 Total: 11264\n"
     ]
    },
    {
     "name": "stdout",
     "output_type": "stream",
     "text": [
      "4999:\tlearn: 0.9350932\ttest: 0.9189888\tbest: 0.9189888 (4999)\ttotal: 36m 30s\tremaining: 0us\n",
      "Wall time: 36min 33s\n"
     ]
    }
   ],
   "source": [
    "%%time\n",
    "# кросвалидация\n",
    "cv_cboost_prep = cv_catboost(cb_params, prep_train, y_train)"
   ]
  },
  {
   "cell_type": "code",
   "execution_count": 91,
   "metadata": {},
   "outputs": [
    {
     "data": {
      "image/png": "[encoded data removed]",
      "text/plain": [
       "<Figure size 1080x360 with 1 Axes>"
      ]
     },
     "metadata": {
      "needs_background": "light"
     },
     "output_type": "display_data"
    }
   ],
   "source": [
    "plotCatBoostResult(cv_cboost_prep)"
   ]
  },
  {
   "cell_type": "markdown",
   "metadata": {},
   "source": [
    "#### CatBoost данные с автоматической обработкой"
   ]
  },
  {
   "cell_type": "code",
   "execution_count": 92,
   "metadata": {},
   "outputs": [],
   "source": [
    "def make_categoty_str_type(df):\n",
    "    data = df.copy()\n",
    "    for feature in CAT_F:\n",
    "        print(feature, end=' ')\n",
    "        data[feature] = pd.Series(data[feature], dtype='str')\n",
    "    print()\n",
    "    return data"
   ]
  },
  {
   "cell_type": "code",
   "execution_count": 93,
   "metadata": {},
   "outputs": [
    {
     "name": "stdout",
     "output_type": "stream",
     "text": [
      "ProductCD card4 card6 P_emaildomain R_emaildomain M1 M2 M3 M4 M5 M6 M7 M8 M9 \n",
      "ProductCD card4 card6 P_emaildomain R_emaildomain M1 M2 M3 M4 M5 M6 M7 M8 M9 \n"
     ]
    }
   ],
   "source": [
    "cb_train = make_categoty_str_type(x_train)\n",
    "cb_valid = make_categoty_str_type(x_valid)"
   ]
  },
  {
   "cell_type": "code",
   "execution_count": 94,
   "metadata": {},
   "outputs": [
    {
     "name": "stderr",
     "output_type": "stream",
     "text": [
      "Warning: less than 75% gpu memory available for training. Free: 8211.349999 Total: 11264\n"
     ]
    },
    {
     "name": "stdout",
     "output_type": "stream",
     "text": [
      "0:\tlearn: 0.6958504\ttest: 0.7142413\tbest: 0.7142413 (0)\ttotal: 63.5ms\tremaining: 10m 35s\n",
      "250:\tlearn: 0.8479461\ttest: 0.8509021\tbest: 0.8509021 (250)\ttotal: 14.5s\tremaining: 9m 24s\n",
      "500:\tlearn: 0.8740121\ttest: 0.8750731\tbest: 0.8750741 (499)\ttotal: 29.4s\tremaining: 9m 16s\n",
      "750:\tlearn: 0.8838048\ttest: 0.8836241\tbest: 0.8836241 (748)\ttotal: 44.2s\tremaining: 9m 4s\n",
      "1000:\tlearn: 0.8883788\ttest: 0.8877838\tbest: 0.8877931 (995)\ttotal: 59.4s\tremaining: 8m 53s\n",
      "1250:\tlearn: 0.8912615\ttest: 0.8900560\tbest: 0.8900565 (1246)\ttotal: 1m 16s\tremaining: 8m 53s\n",
      "1500:\tlearn: 0.8937542\ttest: 0.8919634\tbest: 0.8919634 (1500)\ttotal: 1m 35s\tremaining: 9m 3s\n",
      "1750:\tlearn: 0.8963845\ttest: 0.8940465\tbest: 0.8940469 (1748)\ttotal: 1m 51s\tremaining: 8m 44s\n",
      "2000:\tlearn: 0.8980812\ttest: 0.8953263\tbest: 0.8953409 (1979)\ttotal: 2m 7s\tremaining: 8m 27s\n",
      "2250:\tlearn: 0.9000906\ttest: 0.8970711\tbest: 0.8970711 (2249)\ttotal: 2m 22s\tremaining: 8m 9s\n",
      "2500:\tlearn: 0.9014409\ttest: 0.8981109\tbest: 0.8981109 (2500)\ttotal: 2m 37s\tremaining: 7m 52s\n",
      "2750:\tlearn: 0.9028748\ttest: 0.8989082\tbest: 0.8989128 (2740)\ttotal: 2m 53s\tremaining: 7m 36s\n",
      "3000:\tlearn: 0.9040135\ttest: 0.8997346\tbest: 0.8997346 (3000)\ttotal: 3m 8s\tremaining: 7m 19s\n",
      "3250:\tlearn: 0.9048941\ttest: 0.9004926\tbest: 0.9004931 (3249)\ttotal: 3m 24s\tremaining: 7m 3s\n",
      "3500:\tlearn: 0.9062253\ttest: 0.9013777\tbest: 0.9013785 (3497)\ttotal: 3m 39s\tremaining: 6m 47s\n",
      "3750:\tlearn: 0.9071722\ttest: 0.9020566\tbest: 0.9020583 (3738)\ttotal: 3m 55s\tremaining: 6m 31s\n",
      "4000:\tlearn: 0.9079683\ttest: 0.9026035\tbest: 0.9026040 (3999)\ttotal: 4m 10s\tremaining: 6m 15s\n",
      "4250:\tlearn: 0.9088501\ttest: 0.9031743\tbest: 0.9031746 (4249)\ttotal: 4m 25s\tremaining: 5m 59s\n",
      "4500:\tlearn: 0.9098555\ttest: 0.9036849\tbest: 0.9037046 (4496)\ttotal: 4m 41s\tremaining: 5m 43s\n",
      "4750:\tlearn: 0.9108429\ttest: 0.9041173\tbest: 0.9041173 (4750)\ttotal: 4m 57s\tremaining: 5m 28s\n",
      "5000:\tlearn: 0.9117847\ttest: 0.9047627\tbest: 0.9047662 (4996)\ttotal: 5m 12s\tremaining: 5m 12s\n",
      "5250:\tlearn: 0.9125984\ttest: 0.9052522\tbest: 0.9052528 (5241)\ttotal: 5m 28s\tremaining: 4m 57s\n",
      "5500:\tlearn: 0.9130837\ttest: 0.9056213\tbest: 0.9056253 (5473)\ttotal: 5m 44s\tremaining: 4m 41s\n",
      "5750:\tlearn: 0.9135622\ttest: 0.9060836\tbest: 0.9060836 (5750)\ttotal: 5m 59s\tremaining: 4m 25s\n",
      "6000:\tlearn: 0.9142535\ttest: 0.9065262\tbest: 0.9065276 (5996)\ttotal: 6m 15s\tremaining: 4m 10s\n",
      "6250:\tlearn: 0.9148263\ttest: 0.9069670\tbest: 0.9069690 (6225)\ttotal: 6m 31s\tremaining: 3m 55s\n",
      "6500:\tlearn: 0.9153815\ttest: 0.9073561\tbest: 0.9073601 (6497)\ttotal: 6m 47s\tremaining: 3m 39s\n",
      "6750:\tlearn: 0.9161340\ttest: 0.9078552\tbest: 0.9078587 (6742)\ttotal: 7m 3s\tremaining: 3m 23s\n",
      "bestTest = 0.9080245793\n",
      "bestIteration = 6856\n",
      "Shrink model to first 6857 iterations.\n",
      "Wall time: 7min 57s\n"
     ]
    }
   ],
   "source": [
    "%%time\n",
    "model = train_catboost(cb_params, cb_train, cb_valid, y_train, y_valid, cat_list=cat_f)"
   ]
  },
  {
   "cell_type": "code",
   "execution_count": 95,
   "metadata": {},
   "outputs": [
    {
     "name": "stderr",
     "output_type": "stream",
     "text": [
      "Warning: less than 75% gpu memory available for training. Free: 8211.349999 Total: 11264\n",
      "Warning: less than 75% gpu memory available for training. Free: 8211.349999 Total: 11264\n",
      "Warning: less than 75% gpu memory available for training. Free: 8211.349999 Total: 11264\n",
      "Warning: less than 75% gpu memory available for training. Free: 8211.349999 Total: 11264\n",
      "Warning: less than 75% gpu memory available for training. Free: 8211.349999 Total: 11264\n"
     ]
    },
    {
     "name": "stdout",
     "output_type": "stream",
     "text": [
      "0:\tlearn: 0.6712613\ttest: 0.6719733\tbest: 0.6719733 (0)\n",
      "250:\tlearn: 0.8478008\ttest: 0.8487680\tbest: 0.8487680 (250)\n"
     ]
    },
    {
     "name": "stderr",
     "output_type": "stream",
     "text": [
      "Warning: less than 75% gpu memory available for training. Free: 8211.349999 Total: 11264\n",
      "Warning: less than 75% gpu memory available for training. Free: 8211.349999 Total: 11264\n",
      "Warning: less than 75% gpu memory available for training. Free: 8211.349999 Total: 11264\n",
      "Warning: less than 75% gpu memory available for training. Free: 8211.349999 Total: 11264\n",
      "Warning: less than 75% gpu memory available for training. Free: 8211.349999 Total: 11264\n"
     ]
    },
    {
     "name": "stdout",
     "output_type": "stream",
     "text": [
      "500:\tlearn: 0.8596813\ttest: 0.8589892\tbest: 0.8589892 (500)\n"
     ]
    },
    {
     "name": "stderr",
     "output_type": "stream",
     "text": [
      "Warning: less than 75% gpu memory available for training. Free: 8211.349999 Total: 11264\n",
      "Warning: less than 75% gpu memory available for training. Free: 8211.349999 Total: 11264\n",
      "Warning: less than 75% gpu memory available for training. Free: 8211.349999 Total: 11264\n",
      "Warning: less than 75% gpu memory available for training. Free: 8211.349999 Total: 11264\n",
      "Warning: less than 75% gpu memory available for training. Free: 8211.349999 Total: 11264\n"
     ]
    },
    {
     "name": "stdout",
     "output_type": "stream",
     "text": [
      "750:\tlearn: 0.8727551\ttest: 0.8709479\tbest: 0.8709479 (750)\n"
     ]
    },
    {
     "name": "stderr",
     "output_type": "stream",
     "text": [
      "Warning: less than 75% gpu memory available for training. Free: 8211.349999 Total: 11264\n",
      "Warning: less than 75% gpu memory available for training. Free: 8211.349999 Total: 11264\n",
      "Warning: less than 75% gpu memory available for training. Free: 8211.349999 Total: 11264\n",
      "Warning: less than 75% gpu memory available for training. Free: 8211.349999 Total: 11264\n",
      "Warning: less than 75% gpu memory available for training. Free: 8211.349999 Total: 11264\n"
     ]
    },
    {
     "name": "stdout",
     "output_type": "stream",
     "text": [
      "1000:\tlearn: 0.8810181\ttest: 0.8783269\tbest: 0.8783269 (1000)\n"
     ]
    },
    {
     "name": "stderr",
     "output_type": "stream",
     "text": [
      "Warning: less than 75% gpu memory available for training. Free: 8211.349999 Total: 11264\n",
      "Warning: less than 75% gpu memory available for training. Free: 8211.349999 Total: 11264\n",
      "Warning: less than 75% gpu memory available for training. Free: 8211.349999 Total: 11264\n",
      "Warning: less than 75% gpu memory available for training. Free: 8211.349999 Total: 11264\n",
      "Warning: less than 75% gpu memory available for training. Free: 8211.349999 Total: 11264\n"
     ]
    },
    {
     "name": "stdout",
     "output_type": "stream",
     "text": [
      "1250:\tlearn: 0.8857135\ttest: 0.8824183\tbest: 0.8824183 (1250)\n"
     ]
    },
    {
     "name": "stderr",
     "output_type": "stream",
     "text": [
      "Warning: less than 75% gpu memory available for training. Free: 8211.349999 Total: 11264\n",
      "Warning: less than 75% gpu memory available for training. Free: 8211.349999 Total: 11264\n",
      "Warning: less than 75% gpu memory available for training. Free: 8211.349999 Total: 11264\n",
      "Warning: less than 75% gpu memory available for training. Free: 8211.349999 Total: 11264\n",
      "Warning: less than 75% gpu memory available for training. Free: 8211.349999 Total: 11264\n"
     ]
    },
    {
     "name": "stdout",
     "output_type": "stream",
     "text": [
      "1500:\tlearn: 0.8900006\ttest: 0.8860987\tbest: 0.8860987 (1500)\n"
     ]
    },
    {
     "name": "stderr",
     "output_type": "stream",
     "text": [
      "Warning: less than 75% gpu memory available for training. Free: 8211.349999 Total: 11264\n",
      "Warning: less than 75% gpu memory available for training. Free: 8211.349999 Total: 11264\n",
      "Warning: less than 75% gpu memory available for training. Free: 8211.349999 Total: 11264\n",
      "Warning: less than 75% gpu memory available for training. Free: 8211.349999 Total: 11264\n",
      "Warning: less than 75% gpu memory available for training. Free: 8211.349999 Total: 11264\n"
     ]
    },
    {
     "name": "stdout",
     "output_type": "stream",
     "text": [
      "1750:\tlearn: 0.8935294\ttest: 0.8890846\tbest: 0.8890846 (1750)\n"
     ]
    },
    {
     "name": "stderr",
     "output_type": "stream",
     "text": [
      "Warning: less than 75% gpu memory available for training. Free: 8211.349999 Total: 11264\n",
      "Warning: less than 75% gpu memory available for training. Free: 8211.349999 Total: 11264\n",
      "Warning: less than 75% gpu memory available for training. Free: 8211.349999 Total: 11264\n",
      "Warning: less than 75% gpu memory available for training. Free: 8211.349999 Total: 11264\n",
      "Warning: less than 75% gpu memory available for training. Free: 8211.349999 Total: 11264\n"
     ]
    },
    {
     "name": "stdout",
     "output_type": "stream",
     "text": [
      "2000:\tlearn: 0.8959699\ttest: 0.8909395\tbest: 0.8909442 (1998)\n",
      "2250:\tlearn: 0.8980872\ttest: 0.8926621\tbest: 0.8926621 (2250)\n"
     ]
    },
    {
     "name": "stderr",
     "output_type": "stream",
     "text": [
      "Warning: less than 75% gpu memory available for training. Free: 8211.349999 Total: 11264\n",
      "Warning: less than 75% gpu memory available for training. Free: 8211.349999 Total: 11264\n",
      "Warning: less than 75% gpu memory available for training. Free: 8211.349999 Total: 11264\n",
      "Warning: less than 75% gpu memory available for training. Free: 8211.349999 Total: 11264\n",
      "Warning: less than 75% gpu memory available for training. Free: 8211.349999 Total: 11264\n"
     ]
    },
    {
     "name": "stdout",
     "output_type": "stream",
     "text": [
      "2500:\tlearn: 0.9001226\ttest: 0.8943662\tbest: 0.8943662 (2500)\n"
     ]
    },
    {
     "name": "stderr",
     "output_type": "stream",
     "text": [
      "Warning: less than 75% gpu memory available for training. Free: 8211.349999 Total: 11264\n",
      "Warning: less than 75% gpu memory available for training. Free: 8211.349999 Total: 11264\n",
      "Warning: less than 75% gpu memory available for training. Free: 8211.349999 Total: 11264\n",
      "Warning: less than 75% gpu memory available for training. Free: 8211.349999 Total: 11264\n",
      "Warning: less than 75% gpu memory available for training. Free: 8211.349999 Total: 11264\n"
     ]
    },
    {
     "name": "stdout",
     "output_type": "stream",
     "text": [
      "2750:\tlearn: 0.9020826\ttest: 0.8960780\tbest: 0.8960788 (2748)\n"
     ]
    },
    {
     "name": "stderr",
     "output_type": "stream",
     "text": [
      "Warning: less than 75% gpu memory available for training. Free: 8211.349999 Total: 11264\n",
      "Warning: less than 75% gpu memory available for training. Free: 8211.349999 Total: 11264\n",
      "Warning: less than 75% gpu memory available for training. Free: 8211.349999 Total: 11264\n",
      "Warning: less than 75% gpu memory available for training. Free: 8211.349999 Total: 11264\n",
      "Warning: less than 75% gpu memory available for training. Free: 8211.349999 Total: 11264\n"
     ]
    },
    {
     "name": "stdout",
     "output_type": "stream",
     "text": [
      "3000:\tlearn: 0.9034949\ttest: 0.8971795\tbest: 0.8971795 (3000)\n"
     ]
    },
    {
     "name": "stderr",
     "output_type": "stream",
     "text": [
      "Warning: less than 75% gpu memory available for training. Free: 8211.349999 Total: 11264\n",
      "Warning: less than 75% gpu memory available for training. Free: 8211.349999 Total: 11264\n",
      "Warning: less than 75% gpu memory available for training. Free: 8211.349999 Total: 11264\n",
      "Warning: less than 75% gpu memory available for training. Free: 8211.349999 Total: 11264\n",
      "Warning: less than 75% gpu memory available for training. Free: 8211.349999 Total: 11264\n"
     ]
    },
    {
     "name": "stdout",
     "output_type": "stream",
     "text": [
      "3250:\tlearn: 0.9048124\ttest: 0.8982024\tbest: 0.8982024 (3250)\n"
     ]
    },
    {
     "name": "stderr",
     "output_type": "stream",
     "text": [
      "Warning: less than 75% gpu memory available for training. Free: 8211.349999 Total: 11264\n",
      "Warning: less than 75% gpu memory available for training. Free: 8211.349999 Total: 11264\n",
      "Warning: less than 75% gpu memory available for training. Free: 8211.349999 Total: 11264\n",
      "Warning: less than 75% gpu memory available for training. Free: 8211.349999 Total: 11264\n",
      "Warning: less than 75% gpu memory available for training. Free: 8211.349999 Total: 11264\n"
     ]
    },
    {
     "name": "stdout",
     "output_type": "stream",
     "text": [
      "3500:\tlearn: 0.9061246\ttest: 0.8992493\tbest: 0.8992493 (3500)\n"
     ]
    },
    {
     "name": "stderr",
     "output_type": "stream",
     "text": [
      "Warning: less than 75% gpu memory available for training. Free: 8211.349999 Total: 11264\n",
      "Warning: less than 75% gpu memory available for training. Free: 8211.349999 Total: 11264\n",
      "Warning: less than 75% gpu memory available for training. Free: 8211.349999 Total: 11264\n",
      "Warning: less than 75% gpu memory available for training. Free: 8211.349999 Total: 11264\n",
      "Warning: less than 75% gpu memory available for training. Free: 8211.349999 Total: 11264\n"
     ]
    },
    {
     "name": "stdout",
     "output_type": "stream",
     "text": [
      "3750:\tlearn: 0.9074232\ttest: 0.9003260\tbest: 0.9003260 (3750)\n",
      "4000:\tlearn: 0.9084106\ttest: 0.9011223\tbest: 0.9011223 (4000)\n"
     ]
    },
    {
     "name": "stderr",
     "output_type": "stream",
     "text": [
      "Warning: less than 75% gpu memory available for training. Free: 8211.349999 Total: 11264\n",
      "Warning: less than 75% gpu memory available for training. Free: 8211.349999 Total: 11264\n",
      "Warning: less than 75% gpu memory available for training. Free: 8211.349999 Total: 11264\n",
      "Warning: less than 75% gpu memory available for training. Free: 8211.349999 Total: 11264\n",
      "Warning: less than 75% gpu memory available for training. Free: 8211.349999 Total: 11264\n"
     ]
    },
    {
     "name": "stdout",
     "output_type": "stream",
     "text": [
      "4250:\tlearn: 0.9092467\ttest: 0.9018485\tbest: 0.9018485 (4250)\n"
     ]
    },
    {
     "name": "stderr",
     "output_type": "stream",
     "text": [
      "Warning: less than 75% gpu memory available for training. Free: 8211.349999 Total: 11264\n",
      "Warning: less than 75% gpu memory available for training. Free: 8211.349999 Total: 11264\n",
      "Warning: less than 75% gpu memory available for training. Free: 8211.349999 Total: 11264\n",
      "Warning: less than 75% gpu memory available for training. Free: 8211.349999 Total: 11264\n",
      "Warning: less than 75% gpu memory available for training. Free: 8211.349999 Total: 11264\n"
     ]
    },
    {
     "name": "stdout",
     "output_type": "stream",
     "text": [
      "4500:\tlearn: 0.9099963\ttest: 0.9024911\tbest: 0.9024911 (4500)\n"
     ]
    },
    {
     "name": "stderr",
     "output_type": "stream",
     "text": [
      "Warning: less than 75% gpu memory available for training. Free: 8211.349999 Total: 11264\n",
      "Warning: less than 75% gpu memory available for training. Free: 8211.349999 Total: 11264\n",
      "Warning: less than 75% gpu memory available for training. Free: 8211.349999 Total: 11264\n",
      "Warning: less than 75% gpu memory available for training. Free: 8211.349999 Total: 11264\n",
      "Warning: less than 75% gpu memory available for training. Free: 8211.349999 Total: 11264\n"
     ]
    },
    {
     "name": "stdout",
     "output_type": "stream",
     "text": [
      "4750:\tlearn: 0.9107778\ttest: 0.9031111\tbest: 0.9031133 (4748)\n"
     ]
    },
    {
     "name": "stderr",
     "output_type": "stream",
     "text": [
      "Warning: less than 75% gpu memory available for training. Free: 8211.349999 Total: 11264\n",
      "Warning: less than 75% gpu memory available for training. Free: 8211.349999 Total: 11264\n",
      "Warning: less than 75% gpu memory available for training. Free: 8211.349999 Total: 11264\n",
      "Warning: less than 75% gpu memory available for training. Free: 8211.349999 Total: 11264\n",
      "Warning: less than 75% gpu memory available for training. Free: 8211.349999 Total: 11264\n"
     ]
    },
    {
     "name": "stdout",
     "output_type": "stream",
     "text": [
      "4999:\tlearn: 0.9114967\ttest: 0.9037179\tbest: 0.9037185 (4997)\ttotal: 44m 3s\tremaining: 0us\n",
      "Wall time: 44min 6s\n"
     ]
    }
   ],
   "source": [
    "%%time\n",
    "# кросвалидация\n",
    "cv_cboost_cb = cv_catboost(cb_params,  cb_train, y_train, cat_list=cat_f)"
   ]
  },
  {
   "cell_type": "code",
   "execution_count": 96,
   "metadata": {},
   "outputs": [
    {
     "data": {
      "image/png": "[encoded data removed]",
      "text/plain": [
       "<Figure size 1080x360 with 1 Axes>"
      ]
     },
     "metadata": {
      "needs_background": "light"
     },
     "output_type": "display_data"
    }
   ],
   "source": [
    "plotCatBoostResult(cv_cboost_cb)"
   ]
  }
 ],
 "metadata": {
  "kernelspec": {
   "display_name": "PyCharm (GB_Kaggle)",
   "language": "python",
   "name": "pycharm-a6dbb790"
  },
  "language_info": {
   "codemirror_mode": {
    "name": "ipython",
    "version": 3
   },
   "file_extension": ".py",
   "mimetype": "text/x-python",
   "name": "python",
   "nbconvert_exporter": "python",
   "pygments_lexer": "ipython3",
   "version": "3.8.4"
  }
 },
 "nbformat": 4,
 "nbformat_minor": 4
}
