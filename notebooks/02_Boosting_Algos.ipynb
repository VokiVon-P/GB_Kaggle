{
 "cells": [
  {
   "cell_type": "markdown",
   "metadata": {},
   "source": [
    "# 02 - Обзор основных алгоритмов Boosting "
   ]
  },
  {
   "cell_type": "code",
   "execution_count": 2,
   "metadata": {},
   "outputs": [],
   "source": [
    "if 0:\n",
    "    !pip install -U xgboost\n",
    "    !pip install -U lightgbm\n",
    "    !pip install -U catboost"
   ]
  },
  {
   "cell_type": "code",
   "execution_count": 3,
   "metadata": {},
   "outputs": [],
   "source": [
    "from tqdm.notebook import tqdm\n",
    "\n",
    "import numpy as np\n",
    "import pandas as pd\n",
    "\n",
    "import matplotlib as mpl\n",
    "import matplotlib.pyplot as plt\n",
    "import seaborn as sns\n",
    "\n",
    "# pd.set_option('display.max_columns', None)\n",
    "%matplotlib inline"
   ]
  },
  {
   "cell_type": "code",
   "execution_count": 4,
   "metadata": {},
   "outputs": [],
   "source": [
    "from sklearn.model_selection import train_test_split\n",
    "from sklearn.metrics import roc_auc_score"
   ]
  },
  {
   "cell_type": "markdown",
   "metadata": {},
   "source": [
    "#### Загрузка данных"
   ]
  },
  {
   "cell_type": "code",
   "execution_count": 5,
   "metadata": {},
   "outputs": [],
   "source": [
    "DATA_TRAIN = \"../data/02/assignment_2_train.csv\"\n",
    "DATA_TEST = \"../data/02/assignment_2_test.csv\""
   ]
  },
  {
   "cell_type": "code",
   "execution_count": 6,
   "metadata": {},
   "outputs": [
    {
     "name": "stdout",
     "output_type": "stream",
     "text": [
      "data.shape = 180000 rows, 394 cols\n"
     ]
    },
    {
     "data": {
      "text/html": [
       "<div>\n",
       "<style scoped>\n",
       "    .dataframe tbody tr th:only-of-type {\n",
       "        vertical-align: middle;\n",
       "    }\n",
       "\n",
       "    .dataframe tbody tr th {\n",
       "        vertical-align: top;\n",
       "    }\n",
       "\n",
       "    .dataframe thead th {\n",
       "        text-align: right;\n",
       "    }\n",
       "</style>\n",
       "<table border=\"1\" class=\"dataframe\">\n",
       "  <thead>\n",
       "    <tr style=\"text-align: right;\">\n",
       "      <th></th>\n",
       "      <th>TransactionID</th>\n",
       "      <th>isFraud</th>\n",
       "      <th>TransactionDT</th>\n",
       "      <th>TransactionAmt</th>\n",
       "      <th>ProductCD</th>\n",
       "      <th>card1</th>\n",
       "      <th>card2</th>\n",
       "      <th>card3</th>\n",
       "      <th>card4</th>\n",
       "      <th>card5</th>\n",
       "      <th>...</th>\n",
       "      <th>V330</th>\n",
       "      <th>V331</th>\n",
       "      <th>V332</th>\n",
       "      <th>V333</th>\n",
       "      <th>V334</th>\n",
       "      <th>V335</th>\n",
       "      <th>V336</th>\n",
       "      <th>V337</th>\n",
       "      <th>V338</th>\n",
       "      <th>V339</th>\n",
       "    </tr>\n",
       "  </thead>\n",
       "  <tbody>\n",
       "    <tr>\n",
       "      <th>0</th>\n",
       "      <td>2987000</td>\n",
       "      <td>0</td>\n",
       "      <td>86400</td>\n",
       "      <td>68.5</td>\n",
       "      <td>W</td>\n",
       "      <td>13926</td>\n",
       "      <td>NaN</td>\n",
       "      <td>150.0</td>\n",
       "      <td>discover</td>\n",
       "      <td>142.0</td>\n",
       "      <td>...</td>\n",
       "      <td>NaN</td>\n",
       "      <td>NaN</td>\n",
       "      <td>NaN</td>\n",
       "      <td>NaN</td>\n",
       "      <td>NaN</td>\n",
       "      <td>NaN</td>\n",
       "      <td>NaN</td>\n",
       "      <td>NaN</td>\n",
       "      <td>NaN</td>\n",
       "      <td>NaN</td>\n",
       "    </tr>\n",
       "    <tr>\n",
       "      <th>1</th>\n",
       "      <td>2987001</td>\n",
       "      <td>0</td>\n",
       "      <td>86401</td>\n",
       "      <td>29.0</td>\n",
       "      <td>W</td>\n",
       "      <td>2755</td>\n",
       "      <td>404.0</td>\n",
       "      <td>150.0</td>\n",
       "      <td>mastercard</td>\n",
       "      <td>102.0</td>\n",
       "      <td>...</td>\n",
       "      <td>NaN</td>\n",
       "      <td>NaN</td>\n",
       "      <td>NaN</td>\n",
       "      <td>NaN</td>\n",
       "      <td>NaN</td>\n",
       "      <td>NaN</td>\n",
       "      <td>NaN</td>\n",
       "      <td>NaN</td>\n",
       "      <td>NaN</td>\n",
       "      <td>NaN</td>\n",
       "    </tr>\n",
       "  </tbody>\n",
       "</table>\n",
       "<p>2 rows × 394 columns</p>\n",
       "</div>"
      ],
      "text/plain": [
       "   TransactionID  isFraud  TransactionDT  TransactionAmt ProductCD  card1  \\\n",
       "0        2987000        0          86400            68.5         W  13926   \n",
       "1        2987001        0          86401            29.0         W   2755   \n",
       "\n",
       "   card2  card3       card4  card5  ... V330  V331  V332  V333  V334 V335  \\\n",
       "0    NaN  150.0    discover  142.0  ...  NaN   NaN   NaN   NaN   NaN  NaN   \n",
       "1  404.0  150.0  mastercard  102.0  ...  NaN   NaN   NaN   NaN   NaN  NaN   \n",
       "\n",
       "  V336  V337  V338  V339  \n",
       "0  NaN   NaN   NaN   NaN  \n",
       "1  NaN   NaN   NaN   NaN  \n",
       "\n",
       "[2 rows x 394 columns]"
      ]
     },
     "execution_count": 6,
     "metadata": {},
     "output_type": "execute_result"
    }
   ],
   "source": [
    "data = pd.read_csv(DATA_TRAIN)\n",
    "print(\"data.shape = {} rows, {} cols\".format(*data.shape))\n",
    "data.head(n=2)"
   ]
  },
  {
   "cell_type": "code",
   "execution_count": 7,
   "metadata": {},
   "outputs": [
    {
     "name": "stdout",
     "output_type": "stream",
     "text": [
      "data_test.shape = 100001 rows, 394 cols\n"
     ]
    },
    {
     "data": {
      "text/html": [
       "<div>\n",
       "<style scoped>\n",
       "    .dataframe tbody tr th:only-of-type {\n",
       "        vertical-align: middle;\n",
       "    }\n",
       "\n",
       "    .dataframe tbody tr th {\n",
       "        vertical-align: top;\n",
       "    }\n",
       "\n",
       "    .dataframe thead th {\n",
       "        text-align: right;\n",
       "    }\n",
       "</style>\n",
       "<table border=\"1\" class=\"dataframe\">\n",
       "  <thead>\n",
       "    <tr style=\"text-align: right;\">\n",
       "      <th></th>\n",
       "      <th>TransactionID</th>\n",
       "      <th>isFraud</th>\n",
       "      <th>TransactionDT</th>\n",
       "      <th>TransactionAmt</th>\n",
       "      <th>ProductCD</th>\n",
       "      <th>card1</th>\n",
       "      <th>card2</th>\n",
       "      <th>card3</th>\n",
       "      <th>card4</th>\n",
       "      <th>card5</th>\n",
       "      <th>...</th>\n",
       "      <th>V330</th>\n",
       "      <th>V331</th>\n",
       "      <th>V332</th>\n",
       "      <th>V333</th>\n",
       "      <th>V334</th>\n",
       "      <th>V335</th>\n",
       "      <th>V336</th>\n",
       "      <th>V337</th>\n",
       "      <th>V338</th>\n",
       "      <th>V339</th>\n",
       "    </tr>\n",
       "  </thead>\n",
       "  <tbody>\n",
       "    <tr>\n",
       "      <th>0</th>\n",
       "      <td>3287000</td>\n",
       "      <td>1</td>\n",
       "      <td>7415038</td>\n",
       "      <td>226.0</td>\n",
       "      <td>W</td>\n",
       "      <td>12473</td>\n",
       "      <td>555.0</td>\n",
       "      <td>150.0</td>\n",
       "      <td>visa</td>\n",
       "      <td>226.0</td>\n",
       "      <td>...</td>\n",
       "      <td>NaN</td>\n",
       "      <td>NaN</td>\n",
       "      <td>NaN</td>\n",
       "      <td>NaN</td>\n",
       "      <td>NaN</td>\n",
       "      <td>NaN</td>\n",
       "      <td>NaN</td>\n",
       "      <td>NaN</td>\n",
       "      <td>NaN</td>\n",
       "      <td>NaN</td>\n",
       "    </tr>\n",
       "    <tr>\n",
       "      <th>1</th>\n",
       "      <td>3287001</td>\n",
       "      <td>0</td>\n",
       "      <td>7415054</td>\n",
       "      <td>3072.0</td>\n",
       "      <td>W</td>\n",
       "      <td>15651</td>\n",
       "      <td>417.0</td>\n",
       "      <td>150.0</td>\n",
       "      <td>visa</td>\n",
       "      <td>226.0</td>\n",
       "      <td>...</td>\n",
       "      <td>NaN</td>\n",
       "      <td>NaN</td>\n",
       "      <td>NaN</td>\n",
       "      <td>NaN</td>\n",
       "      <td>NaN</td>\n",
       "      <td>NaN</td>\n",
       "      <td>NaN</td>\n",
       "      <td>NaN</td>\n",
       "      <td>NaN</td>\n",
       "      <td>NaN</td>\n",
       "    </tr>\n",
       "  </tbody>\n",
       "</table>\n",
       "<p>2 rows × 394 columns</p>\n",
       "</div>"
      ],
      "text/plain": [
       "   TransactionID  isFraud  TransactionDT  TransactionAmt ProductCD  card1  \\\n",
       "0        3287000        1        7415038           226.0         W  12473   \n",
       "1        3287001        0        7415054          3072.0         W  15651   \n",
       "\n",
       "   card2  card3 card4  card5  ... V330  V331  V332  V333  V334 V335 V336  \\\n",
       "0  555.0  150.0  visa  226.0  ...  NaN   NaN   NaN   NaN   NaN  NaN  NaN   \n",
       "1  417.0  150.0  visa  226.0  ...  NaN   NaN   NaN   NaN   NaN  NaN  NaN   \n",
       "\n",
       "   V337  V338  V339  \n",
       "0   NaN   NaN   NaN  \n",
       "1   NaN   NaN   NaN  \n",
       "\n",
       "[2 rows x 394 columns]"
      ]
     },
     "execution_count": 7,
     "metadata": {},
     "output_type": "execute_result"
    }
   ],
   "source": [
    "test_data = pd.read_csv(DATA_TEST)\n",
    "print(\"data_test.shape = {} rows, {} cols\".format(*test_data.shape))\n",
    "test_data.head(n=2)"
   ]
  },
  {
   "cell_type": "markdown",
   "metadata": {},
   "source": [
    "#### Быстрый просмотр данных"
   ]
  },
  {
   "cell_type": "code",
   "execution_count": 8,
   "metadata": {},
   "outputs": [
    {
     "name": "stdout",
     "output_type": "stream",
     "text": [
      "<class 'pandas.core.frame.DataFrame'>\n",
      "RangeIndex: 180000 entries, 0 to 179999\n",
      "Columns: 394 entries, TransactionID to V339\n",
      "dtypes: float64(376), int64(4), object(14)\n",
      "memory usage: 541.1+ MB\n"
     ]
    }
   ],
   "source": [
    "data.info()"
   ]
  },
  {
   "cell_type": "code",
   "execution_count": 9,
   "metadata": {},
   "outputs": [
    {
     "name": "stdout",
     "output_type": "stream",
     "text": [
      "<class 'pandas.core.frame.DataFrame'>\n",
      "RangeIndex: 100001 entries, 0 to 100000\n",
      "Columns: 394 entries, TransactionID to V339\n",
      "dtypes: float64(376), int64(4), object(14)\n",
      "memory usage: 300.6+ MB\n"
     ]
    }
   ],
   "source": [
    "test_data.info()"
   ]
  },
  {
   "cell_type": "code",
   "execution_count": 10,
   "metadata": {},
   "outputs": [],
   "source": [
    "ID_F = 'TransactionID'\n",
    "TARGET_F = 'isFraud'\n",
    "DT_F = 'TransactionDT'\n",
    "NUMERICAL_F = data.select_dtypes(include=[np.number]).columns.drop([TARGET_F, ID_F])\n",
    "CAT_F = data.select_dtypes(include='object').columns"
   ]
  },
  {
   "cell_type": "code",
   "execution_count": 11,
   "metadata": {},
   "outputs": [
    {
     "data": {
      "text/plain": [
       "Index(['TransactionDT', 'TransactionAmt', 'card1', 'card2', 'card3', 'card5',\n",
       "       'addr1', 'addr2', 'dist1', 'dist2',\n",
       "       ...\n",
       "       'V330', 'V331', 'V332', 'V333', 'V334', 'V335', 'V336', 'V337', 'V338',\n",
       "       'V339'],\n",
       "      dtype='object', length=378)"
      ]
     },
     "execution_count": 11,
     "metadata": {},
     "output_type": "execute_result"
    }
   ],
   "source": [
    "NUMERICAL_F"
   ]
  },
  {
   "cell_type": "code",
   "execution_count": 12,
   "metadata": {},
   "outputs": [
    {
     "data": {
      "text/plain": [
       "Index(['ProductCD', 'card4', 'card6', 'P_emaildomain', 'R_emaildomain', 'M1',\n",
       "       'M2', 'M3', 'M4', 'M5', 'M6', 'M7', 'M8', 'M9'],\n",
       "      dtype='object')"
      ]
     },
     "execution_count": 12,
     "metadata": {},
     "output_type": "execute_result"
    }
   ],
   "source": [
    "CAT_F"
   ]
  },
  {
   "cell_type": "code",
   "execution_count": 13,
   "metadata": {},
   "outputs": [],
   "source": [
    "# pd.to_timedelta(tr_data[DT_F], unit='s')"
   ]
  },
  {
   "cell_type": "markdown",
   "metadata": {},
   "source": [
    "### Подготовка данных для моделей"
   ]
  },
  {
   "cell_type": "code",
   "execution_count": 14,
   "metadata": {},
   "outputs": [
    {
     "name": "stdout",
     "output_type": "stream",
     "text": [
      "tr_df.shape = 180000 rows, 392 cols\n"
     ]
    }
   ],
   "source": [
    "target = data[TARGET_F]\n",
    "train_df = data.drop([ID_F, TARGET_F], axis=1)\n",
    "print(\"tr_df.shape = {} rows, {} cols\".format(*train_df.shape))"
   ]
  },
  {
   "cell_type": "markdown",
   "metadata": {},
   "source": [
    "#### Числовые данные"
   ]
  },
  {
   "cell_type": "code",
   "execution_count": 15,
   "metadata": {},
   "outputs": [],
   "source": [
    "def make_numeric_df(df: pd.DataFrame) -> pd.DataFrame:\n",
    "    return df[NUMERICAL_F]"
   ]
  },
  {
   "cell_type": "code",
   "execution_count": 16,
   "metadata": {},
   "outputs": [],
   "source": [
    "num_df = make_numeric_df(train_df)"
   ]
  },
  {
   "cell_type": "markdown",
   "metadata": {},
   "source": [
    "### Категориальные данные"
   ]
  },
  {
   "cell_type": "code",
   "execution_count": 17,
   "metadata": {},
   "outputs": [],
   "source": [
    "def make_small_cat(col: pd.Series, level: float = 0.05) -> pd.Series:\n",
    "    \"\"\" Заменяет значения признака на other если в отсортированной \n",
    "        по возрастанию коммулятивной сумме значение в диапазоне [0, level]\n",
    "    \"\"\"\n",
    "    try:\n",
    "        vc_p =col.value_counts(normalize=True,ascending=True)\n",
    "        p_other_cat = vc_p[vc_p.cumsum() <= 0.05].index.to_list()\n",
    "        return col.apply(lambda x: 'other' if x in p_other_cat else x)\n",
    "    except Exception as err:\n",
    "        print(f'Ошибка при обработке {col.name}')\n",
    "        raise err"
   ]
  },
  {
   "cell_type": "code",
   "execution_count": 18,
   "metadata": {},
   "outputs": [],
   "source": [
    "def make_category_df(df: pd.DataFrame) -> pd.DataFrame:\n",
    "    cat_data = df[CAT_F].copy()\n",
    "    # сократим кол-во категорий в мейлах\n",
    "    cat_data['P_emaildomain'] = make_small_cat(cat_data['P_emaildomain'])\n",
    "    cat_data['R_emaildomain'] = make_small_cat(cat_data['R_emaildomain'])\n",
    "    # encoding бинарных переменных\n",
    "    m_dict = {'T': 0, 'F': 1}\n",
    "    m_cols = {'M1','M2', 'M3', 'M5', 'M6', 'M7', 'M8', 'M9'}\n",
    "    for col in cat_data:\n",
    "        if col in m_cols:\n",
    "            print(col, end='')\n",
    "            cat_data[col] = cat_data[col].apply(m_dict.get)\n",
    "    print()\n",
    "    # дальше все в дамми\n",
    "    return pd.get_dummies(cat_data)"
   ]
  },
  {
   "cell_type": "code",
   "execution_count": 19,
   "metadata": {},
   "outputs": [
    {
     "name": "stdout",
     "output_type": "stream",
     "text": [
      "M1M2M3M5M6M7M8M9\n"
     ]
    }
   ],
   "source": [
    "# обработанные категориальные\n",
    "cat_df = make_category_df(train_df)"
   ]
  },
  {
   "cell_type": "code",
   "execution_count": 20,
   "metadata": {},
   "outputs": [],
   "source": [
    "# num+cat данные\n",
    "prep_df = num_df.join(cat_df)"
   ]
  },
  {
   "cell_type": "code",
   "execution_count": 21,
   "metadata": {},
   "outputs": [
    {
     "name": "stdout",
     "output_type": "stream",
     "text": [
      "<class 'pandas.core.frame.DataFrame'>\n",
      "RangeIndex: 180000 entries, 0 to 179999\n",
      "Columns: 431 entries, TransactionDT to M4_M2\n",
      "dtypes: float64(384), int64(2), uint8(45)\n",
      "memory usage: 537.8 MB\n"
     ]
    }
   ],
   "source": [
    "prep_df.info()"
   ]
  },
  {
   "cell_type": "code",
   "execution_count": 22,
   "metadata": {},
   "outputs": [],
   "source": [
    "# разбиваем все на трайн и валид\n",
    "x_train, x_valid, num_train, num_valid, prep_train, prep_valid, y_train, y_valid = train_test_split(\n",
    "    train_df, num_df, prep_df, target, train_size=0.75, stratify=target, random_state=1\n",
    ")"
   ]
  },
  {
   "cell_type": "code",
   "execution_count": 23,
   "metadata": {},
   "outputs": [
    {
     "name": "stdout",
     "output_type": "stream",
     "text": [
      "x_train.shape = 135000 rows, 392 cols\n",
      "x_valid.shape = 45000 rows, 392 cols\n"
     ]
    }
   ],
   "source": [
    "print(\"x_train.shape = {} rows, {} cols\".format(*x_train.shape))\n",
    "print(\"x_valid.shape = {} rows, {} cols\".format(*x_valid.shape))"
   ]
  },
  {
   "cell_type": "code",
   "execution_count": 24,
   "metadata": {},
   "outputs": [
    {
     "name": "stdout",
     "output_type": "stream",
     "text": [
      "num_train.shape = 135000 rows, 378 cols\n",
      "num_valid.shape = 45000 rows, 378 cols\n"
     ]
    }
   ],
   "source": [
    "print(\"num_train.shape = {} rows, {} cols\".format(*num_train.shape))\n",
    "print(\"num_valid.shape = {} rows, {} cols\".format(*num_valid.shape))"
   ]
  },
  {
   "cell_type": "code",
   "execution_count": 25,
   "metadata": {},
   "outputs": [
    {
     "name": "stdout",
     "output_type": "stream",
     "text": [
      "prep_train.shape = 135000 rows, 431 cols\n",
      "prep_valid.shape = 45000 rows, 431 cols\n"
     ]
    }
   ],
   "source": [
    "print(\"prep_train.shape = {} rows, {} cols\".format(*prep_train.shape))\n",
    "print(\"prep_valid.shape = {} rows, {} cols\".format(*prep_valid.shape))"
   ]
  },
  {
   "cell_type": "markdown",
   "metadata": {},
   "source": [
    "## XGBoost API"
   ]
  },
  {
   "cell_type": "code",
   "execution_count": 28,
   "metadata": {},
   "outputs": [],
   "source": [
    "import xgboost as xgb"
   ]
  },
  {
   "cell_type": "code",
   "execution_count": 29,
   "metadata": {},
   "outputs": [],
   "source": [
    "def train_xgb(params, x_train, x_valid, y_train, y_valid):\n",
    "    \n",
    "    dtrain = xgb.DMatrix(data=x_train, label=y_train)\n",
    "    dvalid = xgb.DMatrix(data=x_valid, label=y_valid)\n",
    "    \n",
    "    xg_model = xgb.train(\n",
    "        params=params,\n",
    "        dtrain=dtrain,\n",
    "        num_boost_round=10000,\n",
    "        early_stopping_rounds=100,\n",
    "        evals=[(dtrain, \"train\"), (dvalid, \"valid\")],\n",
    "        verbose_eval=10,\n",
    "        maximize=True,\n",
    "    )\n",
    "        \n",
    "    return  xg_model\n"
   ]
  },
  {
   "cell_type": "code",
   "execution_count": 30,
   "metadata": {},
   "outputs": [],
   "source": [
    "def cv_xgb(params, x_train, y_train, n_fold=5):\n",
    "    dtrain = xgb.DMatrix(data=x_train, label=y_train)\n",
    "    cv_result = xgb.cv(\n",
    "        params=params,\n",
    "        dtrain=dtrain,\n",
    "        num_boost_round=10000,\n",
    "        early_stopping_rounds=100,\n",
    "        verbose_eval=10,\n",
    "        stratified=True,\n",
    "        metrics=\"auc\",\n",
    "        maximize=True,\n",
    "        shuffle=True,\n",
    "        nfold=n_fold,\n",
    "    )\n",
    "    return cv_result"
   ]
  },
  {
   "cell_type": "code",
   "execution_count": 31,
   "metadata": {},
   "outputs": [],
   "source": [
    "def plotXgbResult(cv_result):\n",
    "    fig = plt.figure(figsize=(15, 5))\n",
    "    plt.plot(cv_result[\"train-auc-mean\"], color=\"blue\", linewidth=3, label=\"train\")\n",
    "    plt.plot(cv_result[\"test-auc-mean\"], color=\"orange\", linewidth=3, label=\"test\")\n",
    "    plt.fill_between(\n",
    "        x=cv_result.index,\n",
    "        y1=cv_result[\"train-auc-mean\"] - cv_result[\"train-auc-std\"],\n",
    "        y2=cv_result[\"train-auc-mean\"] + cv_result[\"train-auc-std\"],\n",
    "        alpha=0.25, color=\"blue\"\n",
    "    )\n",
    "    plt.fill_between(\n",
    "        x=cv_result.index,\n",
    "        y1=cv_result[\"test-auc-mean\"] - cv_result[\"test-auc-std\"],\n",
    "        y2=cv_result[\"test-auc-mean\"] + cv_result[\"test-auc-std\"],\n",
    "        alpha=0.25, color=\"orange\"\n",
    "    )\n",
    "    plt.title(\"XGBoost, CV-Results\", size=14)\n",
    "    plt.xlabel(\"n_iterations\", size=14)\n",
    "    plt.xlim(0, cv_result.index.max())\n",
    "    plt.ylabel(\"ROC-AUC\", size=14)\n",
    "    plt.legend(loc=\"best\")"
   ]
  },
  {
   "cell_type": "code",
   "execution_count": 56,
   "metadata": {},
   "outputs": [],
   "source": [
    "params = {\n",
    "    \"booster\": \"gbtree\",\n",
    "    \"objective\": \"binary:logistic\",\n",
    "    \"eval_metric\": \"auc\",\n",
    "    \"learning_rate\": 1e-1,\n",
    "    # \"n_estimators\": 250,\n",
    "    \"reg_lambda\": 100,\n",
    "    \"max_depth\": 4,\n",
    "    \"gamma\": 10,\n",
    "    \"nthread\": 6,\n",
    "    \"seed\": 42,\n",
    "}\n",
    "params['gpu_id'] = 1\n",
    "params['tree_method'] = 'gpu_hist'\n"
   ]
  },
  {
   "cell_type": "markdown",
   "metadata": {},
   "source": [
    "#### Тренируем и оцениваем модель - числовые данные"
   ]
  },
  {
   "cell_type": "code",
   "execution_count": 33,
   "metadata": {},
   "outputs": [
    {
     "name": "stdout",
     "output_type": "stream",
     "text": [
      "[0]\ttrain-auc:0.64819\tvalid-auc:0.65529\n",
      "Multiple eval metrics have been passed: 'valid-auc' will be used for early stopping.\n",
      "\n",
      "Will train until valid-auc hasn't improved in 100 rounds.\n",
      "[10]\ttrain-auc:0.74610\tvalid-auc:0.74640\n",
      "[20]\ttrain-auc:0.82007\tvalid-auc:0.82447\n",
      "[30]\ttrain-auc:0.86097\tvalid-auc:0.86787\n",
      "[40]\ttrain-auc:0.86795\tvalid-auc:0.87335\n",
      "[50]\ttrain-auc:0.87952\tvalid-auc:0.88496\n",
      "[60]\ttrain-auc:0.88604\tvalid-auc:0.88955\n",
      "[70]\ttrain-auc:0.88928\tvalid-auc:0.89204\n",
      "[80]\ttrain-auc:0.89209\tvalid-auc:0.89382\n",
      "[90]\ttrain-auc:0.89510\tvalid-auc:0.89593\n",
      "[100]\ttrain-auc:0.89765\tvalid-auc:0.89777\n",
      "[110]\ttrain-auc:0.89932\tvalid-auc:0.89906\n",
      "[120]\ttrain-auc:0.89932\tvalid-auc:0.89906\n",
      "[130]\ttrain-auc:0.89932\tvalid-auc:0.89906\n",
      "[140]\ttrain-auc:0.89932\tvalid-auc:0.89906\n",
      "[150]\ttrain-auc:0.89932\tvalid-auc:0.89906\n",
      "[160]\ttrain-auc:0.89932\tvalid-auc:0.89906\n",
      "[170]\ttrain-auc:0.89932\tvalid-auc:0.89906\n",
      "[180]\ttrain-auc:0.89932\tvalid-auc:0.89906\n",
      "[190]\ttrain-auc:0.89932\tvalid-auc:0.89906\n",
      "[200]\ttrain-auc:0.89932\tvalid-auc:0.89906\n",
      "[210]\ttrain-auc:0.89932\tvalid-auc:0.89906\n",
      "Stopping. Best iteration:\n",
      "[110]\ttrain-auc:0.89932\tvalid-auc:0.89906\n",
      "\n",
      "Wall time: 6.32 s\n"
     ]
    }
   ],
   "source": [
    "%%time\n",
    "model = train_xgb(params, num_train, num_valid, y_train, y_valid)"
   ]
  },
  {
   "cell_type": "code",
   "execution_count": 57,
   "metadata": {},
   "outputs": [
    {
     "name": "stdout",
     "output_type": "stream",
     "text": [
      "[0]\ttrain-auc:0.62718+0.01094\ttest-auc:0.62467+0.01491\n",
      "[10]\ttrain-auc:0.77757+0.01413\ttest-auc:0.77465+0.02327\n",
      "[20]\ttrain-auc:0.82439+0.00455\ttest-auc:0.82047+0.00809\n",
      "[30]\ttrain-auc:0.85273+0.00603\ttest-auc:0.84898+0.00637\n",
      "[40]\ttrain-auc:0.86870+0.00143\ttest-auc:0.86369+0.00594\n",
      "[50]\ttrain-auc:0.87906+0.00104\ttest-auc:0.87292+0.00437\n",
      "[60]\ttrain-auc:0.88546+0.00107\ttest-auc:0.87838+0.00422\n",
      "[70]\ttrain-auc:0.88920+0.00097\ttest-auc:0.88141+0.00458\n",
      "[80]\ttrain-auc:0.89198+0.00103\ttest-auc:0.88377+0.00447\n",
      "[90]\ttrain-auc:0.89458+0.00094\ttest-auc:0.88583+0.00472\n",
      "[100]\ttrain-auc:0.89668+0.00073\ttest-auc:0.88742+0.00498\n",
      "[110]\ttrain-auc:0.89667+0.00072\ttest-auc:0.88743+0.00498\n",
      "[120]\ttrain-auc:0.89667+0.00072\ttest-auc:0.88743+0.00498\n",
      "[130]\ttrain-auc:0.89667+0.00072\ttest-auc:0.88743+0.00498\n",
      "[140]\ttrain-auc:0.89667+0.00072\ttest-auc:0.88743+0.00498\n",
      "[150]\ttrain-auc:0.89667+0.00072\ttest-auc:0.88743+0.00498\n",
      "[160]\ttrain-auc:0.89667+0.00072\ttest-auc:0.88743+0.00498\n",
      "[170]\ttrain-auc:0.89667+0.00072\ttest-auc:0.88743+0.00498\n",
      "[180]\ttrain-auc:0.89667+0.00072\ttest-auc:0.88743+0.00498\n",
      "[190]\ttrain-auc:0.89667+0.00072\ttest-auc:0.88743+0.00498\n",
      "[200]\ttrain-auc:0.89667+0.00072\ttest-auc:0.88743+0.00498\n",
      "Wall time: 19.6 s\n"
     ]
    },
    {
     "data": {
      "image/png": "[encoded data removed]",
      "text/plain": [
       "<Figure size 1080x360 with 1 Axes>"
      ]
     },
     "metadata": {
      "needs_background": "light"
     },
     "output_type": "display_data"
    }
   ],
   "source": [
    "%%time\n",
    "# кросвалидация\n",
    "cv_xgb_num = cv_xgb(params, num_train, y_train)\n",
    "plotXgbResult(cv_xgb_num)"
   ]
  },
  {
   "cell_type": "markdown",
   "metadata": {},
   "source": [
    "#### Тренируем и оцениваем модель - числовые и обработанные категориальные"
   ]
  },
  {
   "cell_type": "code",
   "execution_count": 35,
   "metadata": {},
   "outputs": [
    {
     "name": "stdout",
     "output_type": "stream",
     "text": [
      "[0]\ttrain-auc:0.64819\tvalid-auc:0.65529\n",
      "Multiple eval metrics have been passed: 'valid-auc' will be used for early stopping.\n",
      "\n",
      "Will train until valid-auc hasn't improved in 100 rounds.\n",
      "[10]\ttrain-auc:0.74610\tvalid-auc:0.74640\n",
      "[20]\ttrain-auc:0.81983\tvalid-auc:0.82434\n",
      "[30]\ttrain-auc:0.86089\tvalid-auc:0.86836\n",
      "[40]\ttrain-auc:0.87294\tvalid-auc:0.87844\n",
      "[50]\ttrain-auc:0.88426\tvalid-auc:0.88780\n",
      "[60]\ttrain-auc:0.89188\tvalid-auc:0.89390\n",
      "[70]\ttrain-auc:0.89637\tvalid-auc:0.89715\n",
      "[80]\ttrain-auc:0.90030\tvalid-auc:0.90037\n",
      "[90]\ttrain-auc:0.90348\tvalid-auc:0.90253\n",
      "[100]\ttrain-auc:0.90560\tvalid-auc:0.90403\n",
      "[110]\ttrain-auc:0.90783\tvalid-auc:0.90497\n",
      "[120]\ttrain-auc:0.90923\tvalid-auc:0.90609\n",
      "[130]\ttrain-auc:0.90923\tvalid-auc:0.90609\n",
      "[140]\ttrain-auc:0.90923\tvalid-auc:0.90609\n",
      "[150]\ttrain-auc:0.90923\tvalid-auc:0.90609\n",
      "[160]\ttrain-auc:0.90923\tvalid-auc:0.90609\n",
      "[170]\ttrain-auc:0.90923\tvalid-auc:0.90609\n",
      "[180]\ttrain-auc:0.90923\tvalid-auc:0.90609\n",
      "[190]\ttrain-auc:0.90923\tvalid-auc:0.90609\n",
      "[200]\ttrain-auc:0.90923\tvalid-auc:0.90609\n",
      "[210]\ttrain-auc:0.90923\tvalid-auc:0.90609\n",
      "Stopping. Best iteration:\n",
      "[118]\ttrain-auc:0.90923\tvalid-auc:0.90609\n",
      "\n",
      "Wall time: 7.06 s\n"
     ]
    }
   ],
   "source": [
    "%%time\n",
    "model = train_xgb(params, prep_train, prep_valid, y_train, y_valid)"
   ]
  },
  {
   "cell_type": "code",
   "execution_count": 58,
   "metadata": {},
   "outputs": [
    {
     "name": "stdout",
     "output_type": "stream",
     "text": [
      "[0]\ttrain-auc:0.62718+0.01094\ttest-auc:0.62467+0.01491\n",
      "[10]\ttrain-auc:0.77759+0.01414\ttest-auc:0.77467+0.02329\n",
      "[20]\ttrain-auc:0.82452+0.00473\ttest-auc:0.82056+0.00820\n",
      "[30]\ttrain-auc:0.85605+0.00445\ttest-auc:0.85167+0.00655\n",
      "[40]\ttrain-auc:0.87199+0.00122\ttest-auc:0.86674+0.00679\n",
      "[50]\ttrain-auc:0.88326+0.00106\ttest-auc:0.87713+0.00488\n",
      "[60]\ttrain-auc:0.89045+0.00071\ttest-auc:0.88319+0.00560\n",
      "[70]\ttrain-auc:0.89566+0.00078\ttest-auc:0.88793+0.00543\n",
      "[80]\ttrain-auc:0.89949+0.00093\ttest-auc:0.89136+0.00551\n",
      "[90]\ttrain-auc:0.90226+0.00118\ttest-auc:0.89387+0.00527\n",
      "[100]\ttrain-auc:0.90490+0.00118\ttest-auc:0.89598+0.00527\n",
      "[110]\ttrain-auc:0.90646+0.00145\ttest-auc:0.89738+0.00507\n",
      "[120]\ttrain-auc:0.90646+0.00145\ttest-auc:0.89738+0.00507\n",
      "[130]\ttrain-auc:0.90646+0.00145\ttest-auc:0.89738+0.00507\n",
      "[140]\ttrain-auc:0.90646+0.00145\ttest-auc:0.89738+0.00507\n",
      "[150]\ttrain-auc:0.90646+0.00145\ttest-auc:0.89738+0.00507\n",
      "[160]\ttrain-auc:0.90646+0.00145\ttest-auc:0.89738+0.00507\n",
      "[170]\ttrain-auc:0.90646+0.00145\ttest-auc:0.89738+0.00507\n",
      "[180]\ttrain-auc:0.90646+0.00145\ttest-auc:0.89738+0.00507\n",
      "[190]\ttrain-auc:0.90646+0.00145\ttest-auc:0.89738+0.00507\n",
      "[200]\ttrain-auc:0.90646+0.00145\ttest-auc:0.89738+0.00507\n",
      "Wall time: 23.7 s\n"
     ]
    },
    {
     "data": {
      "image/png": "[encoded data removed]",
      "text/plain": [
       "<Figure size 1080x360 with 1 Axes>"
      ]
     },
     "metadata": {
      "needs_background": "light"
     },
     "output_type": "display_data"
    }
   ],
   "source": [
    "%%time\n",
    "# кросвалидация\n",
    "cv_xgb_prep = cv_xgb(params, prep_train, y_train)\n",
    "plotXgbResult(cv_xgb_prep)"
   ]
  },
  {
   "cell_type": "markdown",
   "metadata": {},
   "source": [
    "### Вывод по XGBoost\n",
    "\n",
    "Добавление предобработанных данных повышает качество на 0,01 "
   ]
  },
  {
   "cell_type": "code",
   "execution_count": null,
   "metadata": {},
   "outputs": [],
   "source": []
  },
  {
   "cell_type": "markdown",
   "metadata": {},
   "source": [
    "## LightGBM\n"
   ]
  },
  {
   "cell_type": "code",
   "execution_count": 37,
   "metadata": {},
   "outputs": [],
   "source": [
    "import lightgbm as lgb"
   ]
  },
  {
   "cell_type": "code",
   "execution_count": 89,
   "metadata": {},
   "outputs": [],
   "source": [
    "def train_lgbm(params, x_train, x_valid, y_train, y_valid, cat_list='auto'):\n",
    "    \n",
    "    dtrain = lgb.Dataset(data=x_train, label=y_train)\n",
    "    dvalid = lgb.Dataset(data=x_valid, label=y_valid)\n",
    "    \n",
    "    model = lgb.train(\n",
    "        params=params,\n",
    "        train_set=dtrain,\n",
    "        num_boost_round=10000,\n",
    "        early_stopping_rounds=50,\n",
    "        valid_sets=[dtrain, dvalid],\n",
    "        valid_names=[\"train\", \"valid\"],\n",
    "        verbose_eval=50,\n",
    "        categorical_feature=\"auto\",\n",
    "    )\n",
    "        \n",
    "    return  model"
   ]
  },
  {
   "cell_type": "code",
   "execution_count": 66,
   "metadata": {},
   "outputs": [],
   "source": [
    "def cv_lgbm(params, x_train, y_train, n_fold=5):\n",
    "    dtrain = lgb.Dataset(data=x_train, label=y_train)\n",
    "    cv_result = lgb.cv(\n",
    "        params=params,\n",
    "        train_set=dtrain,\n",
    "        num_boost_round=10000,\n",
    "        early_stopping_rounds=50,\n",
    "        categorical_feature=\"auto\",\n",
    "        verbose_eval=50,\n",
    "        stratified=True,\n",
    "        metrics=\"auc\",\n",
    "        shuffle=True,\n",
    "        nfold=n_fold,\n",
    "        eval_train_metric=True\n",
    "    )\n",
    "    return cv_result"
   ]
  },
  {
   "cell_type": "code",
   "execution_count": 67,
   "metadata": {},
   "outputs": [],
   "source": [
    "params = {\n",
    "    \"boosting_type\": \"gbdt\",\n",
    "    \"objective\": \"binary\",\n",
    "    \"metric\": \"auc\",\n",
    "    \"learning_rate\": 0.01,\n",
    "#     \"n_estimators\": 250,\n",
    "    'force_col_wise': True,\n",
    "    \"n_jobs\": 6,\n",
    "    \"seed\": 27\n",
    "}\n",
    "# params['device_type'] = 'gpu'\n",
    "# params['gpu_platform_id'] = 0\n",
    "# params['gpu_device_id'] = 1\n",
    "# params['max_bin'] = 63\n",
    "# params[\"boosting_type\"] = \"goss\""
   ]
  },
  {
   "cell_type": "code",
   "execution_count": 64,
   "metadata": {},
   "outputs": [
    {
     "name": "stdout",
     "output_type": "stream",
     "text": [
      "[LightGBM] [Info] Number of positive: 3856, number of negative: 131144\n",
      "[LightGBM] [Info] Total Bins 31502\n",
      "[LightGBM] [Info] Number of data points in the train set: 135000, number of used features: 376\n",
      "[LightGBM] [Info] [binary:BoostFromScore]: pavg=0.028563 -> initscore=-3.526666\n",
      "[LightGBM] [Info] Start training from score -3.526666\n",
      "Training until validation scores don't improve for 50 rounds\n",
      "[50]\ttrain's auc: 0.87376\tvalid's auc: 0.876981\n",
      "[100]\ttrain's auc: 0.889835\tvalid's auc: 0.889648\n",
      "[150]\ttrain's auc: 0.901469\tvalid's auc: 0.898772\n",
      "[200]\ttrain's auc: 0.910303\tvalid's auc: 0.905218\n",
      "[250]\ttrain's auc: 0.919784\tvalid's auc: 0.90989\n",
      "[300]\ttrain's auc: 0.926771\tvalid's auc: 0.913232\n",
      "[350]\ttrain's auc: 0.932686\tvalid's auc: 0.91684\n",
      "[400]\ttrain's auc: 0.936827\tvalid's auc: 0.919423\n",
      "[450]\ttrain's auc: 0.940738\tvalid's auc: 0.922061\n",
      "[500]\ttrain's auc: 0.944073\tvalid's auc: 0.923892\n",
      "[550]\ttrain's auc: 0.948033\tvalid's auc: 0.926292\n",
      "[600]\ttrain's auc: 0.951111\tvalid's auc: 0.928175\n",
      "[650]\ttrain's auc: 0.953577\tvalid's auc: 0.929547\n",
      "[700]\ttrain's auc: 0.956442\tvalid's auc: 0.930807\n",
      "[750]\ttrain's auc: 0.958927\tvalid's auc: 0.931948\n",
      "[800]\ttrain's auc: 0.961301\tvalid's auc: 0.933109\n",
      "[850]\ttrain's auc: 0.963345\tvalid's auc: 0.933983\n",
      "[900]\ttrain's auc: 0.965163\tvalid's auc: 0.93466\n",
      "[950]\ttrain's auc: 0.966939\tvalid's auc: 0.935128\n",
      "[1000]\ttrain's auc: 0.968498\tvalid's auc: 0.935959\n",
      "[1050]\ttrain's auc: 0.970101\tvalid's auc: 0.936522\n",
      "[1100]\ttrain's auc: 0.971622\tvalid's auc: 0.937061\n",
      "[1150]\ttrain's auc: 0.973087\tvalid's auc: 0.937957\n",
      "[1200]\ttrain's auc: 0.974298\tvalid's auc: 0.938721\n",
      "[1250]\ttrain's auc: 0.97535\tvalid's auc: 0.939246\n",
      "[1300]\ttrain's auc: 0.976336\tvalid's auc: 0.939645\n",
      "[1350]\ttrain's auc: 0.977338\tvalid's auc: 0.940076\n",
      "[1400]\ttrain's auc: 0.978361\tvalid's auc: 0.94063\n",
      "[1450]\ttrain's auc: 0.979205\tvalid's auc: 0.940917\n",
      "[1500]\ttrain's auc: 0.98008\tvalid's auc: 0.94146\n",
      "[1550]\ttrain's auc: 0.980762\tvalid's auc: 0.94174\n",
      "[1600]\ttrain's auc: 0.981345\tvalid's auc: 0.942244\n",
      "[1650]\ttrain's auc: 0.981955\tvalid's auc: 0.942557\n",
      "[1700]\ttrain's auc: 0.982587\tvalid's auc: 0.942793\n",
      "[1750]\ttrain's auc: 0.983133\tvalid's auc: 0.943078\n",
      "[1800]\ttrain's auc: 0.983616\tvalid's auc: 0.943187\n",
      "[1850]\ttrain's auc: 0.984164\tvalid's auc: 0.943467\n",
      "[1900]\ttrain's auc: 0.984602\tvalid's auc: 0.943799\n",
      "[1950]\ttrain's auc: 0.985157\tvalid's auc: 0.944077\n",
      "[2000]\ttrain's auc: 0.985748\tvalid's auc: 0.944398\n",
      "[2050]\ttrain's auc: 0.986214\tvalid's auc: 0.944577\n",
      "[2100]\ttrain's auc: 0.986693\tvalid's auc: 0.944921\n",
      "[2150]\ttrain's auc: 0.987151\tvalid's auc: 0.945116\n",
      "[2200]\ttrain's auc: 0.987566\tvalid's auc: 0.945264\n",
      "[2250]\ttrain's auc: 0.987976\tvalid's auc: 0.945346\n",
      "[2300]\ttrain's auc: 0.988326\tvalid's auc: 0.94551\n",
      "[2350]\ttrain's auc: 0.988655\tvalid's auc: 0.945769\n",
      "[2400]\ttrain's auc: 0.989036\tvalid's auc: 0.946138\n",
      "[2450]\ttrain's auc: 0.989356\tvalid's auc: 0.946422\n",
      "[2500]\ttrain's auc: 0.989686\tvalid's auc: 0.946687\n",
      "[2550]\ttrain's auc: 0.990041\tvalid's auc: 0.946891\n",
      "[2600]\ttrain's auc: 0.990296\tvalid's auc: 0.947067\n",
      "[2650]\ttrain's auc: 0.990625\tvalid's auc: 0.947296\n",
      "[2700]\ttrain's auc: 0.991041\tvalid's auc: 0.947415\n",
      "[2750]\ttrain's auc: 0.991408\tvalid's auc: 0.947639\n",
      "[2800]\ttrain's auc: 0.991662\tvalid's auc: 0.947859\n",
      "[2850]\ttrain's auc: 0.991881\tvalid's auc: 0.9481\n",
      "[2900]\ttrain's auc: 0.992144\tvalid's auc: 0.94835\n",
      "[2950]\ttrain's auc: 0.992382\tvalid's auc: 0.948445\n",
      "[3000]\ttrain's auc: 0.992604\tvalid's auc: 0.94858\n",
      "[3050]\ttrain's auc: 0.992829\tvalid's auc: 0.948737\n",
      "[3100]\ttrain's auc: 0.993068\tvalid's auc: 0.949029\n",
      "[3150]\ttrain's auc: 0.993291\tvalid's auc: 0.949181\n",
      "[3200]\ttrain's auc: 0.993483\tvalid's auc: 0.949355\n",
      "[3250]\ttrain's auc: 0.993802\tvalid's auc: 0.949577\n",
      "[3300]\ttrain's auc: 0.993977\tvalid's auc: 0.949611\n",
      "[3350]\ttrain's auc: 0.9942\tvalid's auc: 0.949752\n",
      "[3400]\ttrain's auc: 0.994383\tvalid's auc: 0.94984\n",
      "[3450]\ttrain's auc: 0.994545\tvalid's auc: 0.949991\n",
      "[3500]\ttrain's auc: 0.994685\tvalid's auc: 0.950116\n",
      "[3550]\ttrain's auc: 0.994835\tvalid's auc: 0.950281\n",
      "[3600]\ttrain's auc: 0.995088\tvalid's auc: 0.950436\n",
      "[3650]\ttrain's auc: 0.995295\tvalid's auc: 0.950555\n",
      "[3700]\ttrain's auc: 0.995437\tvalid's auc: 0.950685\n",
      "[3750]\ttrain's auc: 0.995601\tvalid's auc: 0.950817\n",
      "[3800]\ttrain's auc: 0.995729\tvalid's auc: 0.950902\n",
      "[3850]\ttrain's auc: 0.99589\tvalid's auc: 0.950957\n",
      "[3900]\ttrain's auc: 0.996014\tvalid's auc: 0.95108\n",
      "[3950]\ttrain's auc: 0.996126\tvalid's auc: 0.951152\n",
      "[4000]\ttrain's auc: 0.996227\tvalid's auc: 0.951266\n",
      "[4050]\ttrain's auc: 0.996321\tvalid's auc: 0.951346\n",
      "[4100]\ttrain's auc: 0.996417\tvalid's auc: 0.951376\n",
      "[4150]\ttrain's auc: 0.996554\tvalid's auc: 0.95151\n",
      "[4200]\ttrain's auc: 0.99672\tvalid's auc: 0.951575\n",
      "[4250]\ttrain's auc: 0.996808\tvalid's auc: 0.951621\n",
      "[4300]\ttrain's auc: 0.996931\tvalid's auc: 0.951646\n",
      "[4350]\ttrain's auc: 0.99707\tvalid's auc: 0.951648\n",
      "Early stopping, best iteration is:\n",
      "[4324]\ttrain's auc: 0.997009\tvalid's auc: 0.951668\n",
      "Wall time: 4min 31s\n"
     ]
    }
   ],
   "source": [
    "%%time\n",
    "# числовые данные\n",
    "model = train_lgbm(params, num_train, num_valid, y_train, y_valid)"
   ]
  },
  {
   "cell_type": "code",
   "execution_count": 68,
   "metadata": {},
   "outputs": [
    {
     "name": "stdout",
     "output_type": "stream",
     "text": [
      "[LightGBM] [Info] Number of positive: 3085, number of negative: 104915\n",
      "[LightGBM] [Info] Total Bins 31502\n",
      "[LightGBM] [Info] Number of data points in the train set: 108000, number of used features: 376\n",
      "[LightGBM] [Info] Number of positive: 3085, number of negative: 104915\n",
      "[LightGBM] [Info] Total Bins 31502\n",
      "[LightGBM] [Info] Number of data points in the train set: 108000, number of used features: 376\n",
      "[LightGBM] [Info] Number of positive: 3085, number of negative: 104915\n",
      "[LightGBM] [Info] Total Bins 31502\n",
      "[LightGBM] [Info] Number of data points in the train set: 108000, number of used features: 376\n",
      "[LightGBM] [Info] Number of positive: 3085, number of negative: 104915\n",
      "[LightGBM] [Info] Total Bins 31502\n",
      "[LightGBM] [Info] Number of data points in the train set: 108000, number of used features: 376\n",
      "[LightGBM] [Info] Number of positive: 3084, number of negative: 104916\n",
      "[LightGBM] [Info] Total Bins 31502\n",
      "[LightGBM] [Info] Number of data points in the train set: 108000, number of used features: 376\n",
      "[LightGBM] [Info] [binary:BoostFromScore]: pavg=0.028565 -> initscore=-3.526599\n",
      "[LightGBM] [Info] Start training from score -3.526599\n",
      "[LightGBM] [Info] [binary:BoostFromScore]: pavg=0.028565 -> initscore=-3.526599\n",
      "[LightGBM] [Info] Start training from score -3.526599\n",
      "[LightGBM] [Info] [binary:BoostFromScore]: pavg=0.028565 -> initscore=-3.526599\n",
      "[LightGBM] [Info] Start training from score -3.526599\n",
      "[LightGBM] [Info] [binary:BoostFromScore]: pavg=0.028565 -> initscore=-3.526599\n",
      "[LightGBM] [Info] Start training from score -3.526599\n",
      "[LightGBM] [Info] [binary:BoostFromScore]: pavg=0.028556 -> initscore=-3.526933\n",
      "[LightGBM] [Info] Start training from score -3.526933\n",
      "[50]\tcv_agg's auc: 0.868867 + 0.00433114\n",
      "[100]\tcv_agg's auc: 0.880093 + 0.00441151\n",
      "[150]\tcv_agg's auc: 0.888303 + 0.0054223\n",
      "[200]\tcv_agg's auc: 0.894721 + 0.00515357\n",
      "[250]\tcv_agg's auc: 0.900607 + 0.00517318\n",
      "[300]\tcv_agg's auc: 0.90503 + 0.00550988\n",
      "[350]\tcv_agg's auc: 0.908519 + 0.00543981\n",
      "[400]\tcv_agg's auc: 0.911682 + 0.00541177\n",
      "[450]\tcv_agg's auc: 0.914165 + 0.00494973\n",
      "[500]\tcv_agg's auc: 0.91627 + 0.0045563\n",
      "[550]\tcv_agg's auc: 0.918379 + 0.00420583\n",
      "[600]\tcv_agg's auc: 0.919894 + 0.0041048\n",
      "[650]\tcv_agg's auc: 0.921341 + 0.00404542\n",
      "[700]\tcv_agg's auc: 0.922662 + 0.00397005\n",
      "[750]\tcv_agg's auc: 0.923814 + 0.00401246\n",
      "[800]\tcv_agg's auc: 0.924883 + 0.00394646\n",
      "[850]\tcv_agg's auc: 0.926134 + 0.00397168\n",
      "[900]\tcv_agg's auc: 0.927035 + 0.00397304\n",
      "[950]\tcv_agg's auc: 0.927785 + 0.0039757\n",
      "[1000]\tcv_agg's auc: 0.928467 + 0.00390975\n",
      "[1050]\tcv_agg's auc: 0.92909 + 0.0038401\n",
      "[1100]\tcv_agg's auc: 0.929652 + 0.00392102\n",
      "[1150]\tcv_agg's auc: 0.930267 + 0.00398389\n",
      "[1200]\tcv_agg's auc: 0.930825 + 0.00397389\n",
      "[1250]\tcv_agg's auc: 0.931417 + 0.00402219\n",
      "[1300]\tcv_agg's auc: 0.932 + 0.00403371\n",
      "[1350]\tcv_agg's auc: 0.93254 + 0.00392798\n",
      "[1400]\tcv_agg's auc: 0.933035 + 0.00392989\n",
      "[1450]\tcv_agg's auc: 0.933416 + 0.00391594\n",
      "[1500]\tcv_agg's auc: 0.933781 + 0.00388429\n",
      "[1550]\tcv_agg's auc: 0.934195 + 0.00387465\n",
      "[1600]\tcv_agg's auc: 0.934592 + 0.00386702\n",
      "[1650]\tcv_agg's auc: 0.934846 + 0.00394806\n",
      "[1700]\tcv_agg's auc: 0.935254 + 0.00390067\n",
      "[1750]\tcv_agg's auc: 0.93564 + 0.0039111\n",
      "[1800]\tcv_agg's auc: 0.936048 + 0.00391588\n",
      "[1850]\tcv_agg's auc: 0.936354 + 0.0039009\n",
      "[1900]\tcv_agg's auc: 0.936667 + 0.00389105\n",
      "[1950]\tcv_agg's auc: 0.936957 + 0.00392207\n",
      "[2000]\tcv_agg's auc: 0.937322 + 0.00391458\n",
      "[2050]\tcv_agg's auc: 0.937559 + 0.00390947\n",
      "[2100]\tcv_agg's auc: 0.937825 + 0.00387138\n",
      "[2150]\tcv_agg's auc: 0.938059 + 0.0038823\n",
      "[2200]\tcv_agg's auc: 0.938305 + 0.00396978\n",
      "[2250]\tcv_agg's auc: 0.938514 + 0.00395099\n",
      "[2300]\tcv_agg's auc: 0.938674 + 0.00395872\n",
      "[2350]\tcv_agg's auc: 0.93886 + 0.00395067\n",
      "[2400]\tcv_agg's auc: 0.939033 + 0.00399261\n",
      "[2450]\tcv_agg's auc: 0.939151 + 0.00397786\n",
      "[2500]\tcv_agg's auc: 0.939265 + 0.00397437\n",
      "[2550]\tcv_agg's auc: 0.93945 + 0.00399391\n",
      "[2600]\tcv_agg's auc: 0.939638 + 0.00395026\n",
      "[2650]\tcv_agg's auc: 0.939814 + 0.00400071\n",
      "[2700]\tcv_agg's auc: 0.939937 + 0.00397152\n",
      "[2750]\tcv_agg's auc: 0.940087 + 0.00393277\n",
      "[2800]\tcv_agg's auc: 0.940224 + 0.00393285\n",
      "[2850]\tcv_agg's auc: 0.940369 + 0.00385316\n",
      "[2900]\tcv_agg's auc: 0.940494 + 0.00386032\n",
      "[2950]\tcv_agg's auc: 0.94058 + 0.00392303\n",
      "[3000]\tcv_agg's auc: 0.940729 + 0.00389071\n",
      "[3050]\tcv_agg's auc: 0.940833 + 0.00389175\n",
      "[3100]\tcv_agg's auc: 0.940905 + 0.00385757\n",
      "[3150]\tcv_agg's auc: 0.940965 + 0.0038684\n",
      "[3200]\tcv_agg's auc: 0.941089 + 0.00394156\n",
      "[3250]\tcv_agg's auc: 0.941144 + 0.00396607\n",
      "[3300]\tcv_agg's auc: 0.941177 + 0.00396326\n",
      "[3350]\tcv_agg's auc: 0.941295 + 0.00397205\n",
      "[3400]\tcv_agg's auc: 0.941471 + 0.00397648\n",
      "[3450]\tcv_agg's auc: 0.941561 + 0.00397508\n",
      "[3500]\tcv_agg's auc: 0.941629 + 0.00398883\n",
      "[3550]\tcv_agg's auc: 0.941723 + 0.00400528\n",
      "[3600]\tcv_agg's auc: 0.941819 + 0.00401562\n",
      "[3650]\tcv_agg's auc: 0.941908 + 0.00402022\n",
      "[3700]\tcv_agg's auc: 0.941942 + 0.00396968\n",
      "[3750]\tcv_agg's auc: 0.942099 + 0.00395077\n",
      "[3800]\tcv_agg's auc: 0.942228 + 0.00388915\n",
      "[3850]\tcv_agg's auc: 0.942305 + 0.00390697\n",
      "[3900]\tcv_agg's auc: 0.942397 + 0.00393572\n",
      "[3950]\tcv_agg's auc: 0.942474 + 0.00394007\n",
      "[4000]\tcv_agg's auc: 0.942555 + 0.00393147\n",
      "[4050]\tcv_agg's auc: 0.942663 + 0.00393921\n",
      "[4100]\tcv_agg's auc: 0.942764 + 0.00388211\n",
      "[4150]\tcv_agg's auc: 0.942869 + 0.00390196\n",
      "[4200]\tcv_agg's auc: 0.94292 + 0.00389049\n",
      "[4250]\tcv_agg's auc: 0.942998 + 0.00387079\n",
      "[4300]\tcv_agg's auc: 0.943097 + 0.00382915\n",
      "[4350]\tcv_agg's auc: 0.943196 + 0.00382063\n",
      "[4400]\tcv_agg's auc: 0.943275 + 0.00384636\n",
      "[4450]\tcv_agg's auc: 0.943345 + 0.00382533\n",
      "[4500]\tcv_agg's auc: 0.943407 + 0.00384163\n",
      "[4550]\tcv_agg's auc: 0.943458 + 0.00384176\n",
      "[4600]\tcv_agg's auc: 0.943476 + 0.00385293\n",
      "[4650]\tcv_agg's auc: 0.943513 + 0.0038398\n",
      "[4700]\tcv_agg's auc: 0.943516 + 0.00382713\n",
      "[4750]\tcv_agg's auc: 0.943551 + 0.00381884\n",
      "[4800]\tcv_agg's auc: 0.943544 + 0.00381851\n",
      "Wall time: 18min 27s\n"
     ]
    }
   ],
   "source": [
    "%%time\n",
    "# кросвалидация\n",
    "cv_lgbm_num = cv_lgbm(params, num_train, y_train)"
   ]
  },
  {
   "cell_type": "code",
   "execution_count": 76,
   "metadata": {},
   "outputs": [
    {
     "data": {
      "text/plain": [
       "dict_keys(['auc-mean', 'auc-stdv'])"
      ]
     },
     "execution_count": 76,
     "metadata": {},
     "output_type": "execute_result"
    }
   ],
   "source": [
    "cv_lgbm_num.keys()\n",
    "# plotXgbResult(cv_lgbm_num)"
   ]
  },
  {
   "cell_type": "code",
   "execution_count": 79,
   "metadata": {},
   "outputs": [
    {
     "name": "stdout",
     "output_type": "stream",
     "text": [
      "[LightGBM] [Warning] Find whitespaces in feature_names, replace with underlines\n",
      "[LightGBM] [Info] Number of positive: 3856, number of negative: 131144\n",
      "[LightGBM] [Info] Total Bins 31612\n",
      "[LightGBM] [Info] Number of data points in the train set: 135000, number of used features: 427\n",
      "[LightGBM] [Warning] Find whitespaces in feature_names, replace with underlines\n",
      "[LightGBM] [Info] [binary:BoostFromScore]: pavg=0.028563 -> initscore=-3.526666\n",
      "[LightGBM] [Info] Start training from score -3.526666\n",
      "Training until validation scores don't improve for 50 rounds\n",
      "[50]\ttrain's auc: 0.878613\tvalid's auc: 0.881964\n",
      "[100]\ttrain's auc: 0.897259\tvalid's auc: 0.897807\n",
      "[150]\ttrain's auc: 0.907622\tvalid's auc: 0.904398\n",
      "[200]\ttrain's auc: 0.91616\tvalid's auc: 0.909759\n",
      "[250]\ttrain's auc: 0.926076\tvalid's auc: 0.915467\n",
      "[300]\ttrain's auc: 0.93396\tvalid's auc: 0.920033\n",
      "[350]\ttrain's auc: 0.940227\tvalid's auc: 0.923485\n",
      "[400]\ttrain's auc: 0.944911\tvalid's auc: 0.926196\n",
      "[450]\ttrain's auc: 0.949262\tvalid's auc: 0.928862\n",
      "[500]\ttrain's auc: 0.953687\tvalid's auc: 0.931435\n",
      "[550]\ttrain's auc: 0.956688\tvalid's auc: 0.933882\n",
      "[600]\ttrain's auc: 0.959449\tvalid's auc: 0.935674\n",
      "[650]\ttrain's auc: 0.961727\tvalid's auc: 0.937111\n",
      "[700]\ttrain's auc: 0.963972\tvalid's auc: 0.938378\n",
      "[750]\ttrain's auc: 0.966088\tvalid's auc: 0.939394\n",
      "[800]\ttrain's auc: 0.967999\tvalid's auc: 0.940375\n",
      "[850]\ttrain's auc: 0.96994\tvalid's auc: 0.941283\n",
      "[900]\ttrain's auc: 0.971886\tvalid's auc: 0.942298\n",
      "[950]\ttrain's auc: 0.973479\tvalid's auc: 0.942983\n",
      "[1000]\ttrain's auc: 0.974936\tvalid's auc: 0.943624\n",
      "[1050]\ttrain's auc: 0.976203\tvalid's auc: 0.944428\n",
      "[1100]\ttrain's auc: 0.977292\tvalid's auc: 0.944994\n",
      "[1150]\ttrain's auc: 0.978328\tvalid's auc: 0.945467\n",
      "[1200]\ttrain's auc: 0.979522\tvalid's auc: 0.945914\n",
      "[1250]\ttrain's auc: 0.980555\tvalid's auc: 0.946428\n",
      "[1300]\ttrain's auc: 0.981561\tvalid's auc: 0.946899\n",
      "[1350]\ttrain's auc: 0.982533\tvalid's auc: 0.947329\n",
      "[1400]\ttrain's auc: 0.983391\tvalid's auc: 0.947988\n",
      "[1450]\ttrain's auc: 0.984293\tvalid's auc: 0.948466\n",
      "[1500]\ttrain's auc: 0.985039\tvalid's auc: 0.948929\n",
      "[1550]\ttrain's auc: 0.985798\tvalid's auc: 0.949277\n",
      "[1600]\ttrain's auc: 0.98661\tvalid's auc: 0.949735\n",
      "[1650]\ttrain's auc: 0.987252\tvalid's auc: 0.950141\n",
      "[1700]\ttrain's auc: 0.987953\tvalid's auc: 0.950397\n",
      "[1750]\ttrain's auc: 0.988615\tvalid's auc: 0.950649\n",
      "[1800]\ttrain's auc: 0.989141\tvalid's auc: 0.950885\n",
      "[1850]\ttrain's auc: 0.989703\tvalid's auc: 0.951213\n",
      "[1900]\ttrain's auc: 0.990237\tvalid's auc: 0.951451\n",
      "[1950]\ttrain's auc: 0.990707\tvalid's auc: 0.951644\n",
      "[2000]\ttrain's auc: 0.991141\tvalid's auc: 0.951843\n",
      "[2050]\ttrain's auc: 0.991526\tvalid's auc: 0.9521\n",
      "[2100]\ttrain's auc: 0.991889\tvalid's auc: 0.952309\n",
      "[2150]\ttrain's auc: 0.992267\tvalid's auc: 0.952475\n",
      "[2200]\ttrain's auc: 0.992561\tvalid's auc: 0.952727\n",
      "[2250]\ttrain's auc: 0.992877\tvalid's auc: 0.952869\n",
      "[2300]\ttrain's auc: 0.993143\tvalid's auc: 0.953084\n",
      "[2350]\ttrain's auc: 0.993457\tvalid's auc: 0.953214\n",
      "[2400]\ttrain's auc: 0.993685\tvalid's auc: 0.953274\n",
      "[2450]\ttrain's auc: 0.993949\tvalid's auc: 0.953426\n",
      "[2500]\ttrain's auc: 0.994193\tvalid's auc: 0.95347\n",
      "[2550]\ttrain's auc: 0.99443\tvalid's auc: 0.953679\n",
      "[2600]\ttrain's auc: 0.994612\tvalid's auc: 0.953822\n",
      "[2650]\ttrain's auc: 0.994773\tvalid's auc: 0.953902\n",
      "[2700]\ttrain's auc: 0.994919\tvalid's auc: 0.954079\n",
      "[2750]\ttrain's auc: 0.995126\tvalid's auc: 0.954211\n",
      "[2800]\ttrain's auc: 0.995282\tvalid's auc: 0.954285\n",
      "[2850]\ttrain's auc: 0.995479\tvalid's auc: 0.954442\n",
      "[2900]\ttrain's auc: 0.995631\tvalid's auc: 0.954532\n",
      "[2950]\ttrain's auc: 0.995808\tvalid's auc: 0.95474\n",
      "[3000]\ttrain's auc: 0.995984\tvalid's auc: 0.95483\n",
      "[3050]\ttrain's auc: 0.996142\tvalid's auc: 0.955067\n",
      "[3100]\ttrain's auc: 0.996286\tvalid's auc: 0.955153\n",
      "[3150]\ttrain's auc: 0.996456\tvalid's auc: 0.95527\n",
      "[3200]\ttrain's auc: 0.996574\tvalid's auc: 0.955405\n",
      "[3250]\ttrain's auc: 0.996699\tvalid's auc: 0.955467\n",
      "[3300]\ttrain's auc: 0.996829\tvalid's auc: 0.955534\n",
      "[3350]\ttrain's auc: 0.996959\tvalid's auc: 0.955624\n",
      "[3400]\ttrain's auc: 0.99713\tvalid's auc: 0.955772\n",
      "[3450]\ttrain's auc: 0.99726\tvalid's auc: 0.955792\n",
      "Early stopping, best iteration is:\n",
      "[3445]\ttrain's auc: 0.997248\tvalid's auc: 0.955814\n",
      "Wall time: 3min 34s\n"
     ]
    }
   ],
   "source": [
    "%%time\n",
    "# num + cat подготовленнные\n",
    "model = train_lgbm(params, prep_train, prep_valid, y_train, y_valid)"
   ]
  },
  {
   "cell_type": "code",
   "execution_count": 103,
   "metadata": {},
   "outputs": [],
   "source": [
    "def make_categoty_type(df):\n",
    "    data = df.copy()\n",
    "    for feature in CAT_F:\n",
    "        print(feature, end=' ')\n",
    "        data[feature] = pd.Series(data[feature], dtype=\"category\")\n",
    "    print()\n",
    "    return data"
   ]
  },
  {
   "cell_type": "code",
   "execution_count": 100,
   "metadata": {},
   "outputs": [
    {
     "name": "stdout",
     "output_type": "stream",
     "text": [
      "ProductCD card4 card6 P_emaildomain R_emaildomain M1 M2 M3 M4 M5 M6 M7 M8 M9 \n",
      "ProductCD card4 card6 P_emaildomain R_emaildomain M1 M2 M3 M4 M5 M6 M7 M8 M9 \n"
     ]
    }
   ],
   "source": [
    "lgbm_train = make_categoty_type(x_train)\n",
    "lgbm_valid = make_categoty_type(x_valid)"
   ]
  },
  {
   "cell_type": "code",
   "execution_count": 101,
   "metadata": {},
   "outputs": [
    {
     "name": "stdout",
     "output_type": "stream",
     "text": [
      "[LightGBM] [Info] Number of positive: 3856, number of negative: 131144\n",
      "[LightGBM] [Info] Total Bins 31666\n",
      "[LightGBM] [Info] Number of data points in the train set: 135000, number of used features: 390\n"
     ]
    },
    {
     "name": "stderr",
     "output_type": "stream",
     "text": [
      "d:\\_dl_pytorch_\\venv\\lib\\site-packages\\lightgbm\\basic.py:1286: UserWarning: Overriding the parameters from Reference Dataset.\n",
      "  warnings.warn('Overriding the parameters from Reference Dataset.')\n",
      "d:\\_dl_pytorch_\\venv\\lib\\site-packages\\lightgbm\\basic.py:1098: UserWarning: categorical_column in param dict is overridden.\n",
      "  warnings.warn('{} in param dict is overridden.'.format(cat_alias))\n"
     ]
    },
    {
     "name": "stdout",
     "output_type": "stream",
     "text": [
      "[LightGBM] [Info] [binary:BoostFromScore]: pavg=0.028563 -> initscore=-3.526666\n",
      "[LightGBM] [Info] Start training from score -3.526666\n",
      "Training until validation scores don't improve for 50 rounds\n",
      "[50]\ttrain's auc: 0.876066\tvalid's auc: 0.879463\n",
      "[100]\ttrain's auc: 0.899913\tvalid's auc: 0.89755\n",
      "[150]\ttrain's auc: 0.910151\tvalid's auc: 0.905915\n",
      "[200]\ttrain's auc: 0.91916\tvalid's auc: 0.912087\n",
      "[250]\ttrain's auc: 0.927106\tvalid's auc: 0.917703\n",
      "[300]\ttrain's auc: 0.934509\tvalid's auc: 0.921847\n",
      "[350]\ttrain's auc: 0.940721\tvalid's auc: 0.924578\n",
      "[400]\ttrain's auc: 0.945625\tvalid's auc: 0.926998\n",
      "[450]\ttrain's auc: 0.950085\tvalid's auc: 0.929761\n",
      "[500]\ttrain's auc: 0.954525\tvalid's auc: 0.932758\n",
      "[550]\ttrain's auc: 0.95791\tvalid's auc: 0.934601\n",
      "[600]\ttrain's auc: 0.960727\tvalid's auc: 0.936537\n",
      "[650]\ttrain's auc: 0.963295\tvalid's auc: 0.938227\n",
      "[700]\ttrain's auc: 0.965344\tvalid's auc: 0.939388\n",
      "[750]\ttrain's auc: 0.96729\tvalid's auc: 0.940176\n",
      "[800]\ttrain's auc: 0.968998\tvalid's auc: 0.940774\n",
      "[850]\ttrain's auc: 0.97078\tvalid's auc: 0.941543\n",
      "[900]\ttrain's auc: 0.972466\tvalid's auc: 0.942145\n",
      "[950]\ttrain's auc: 0.973772\tvalid's auc: 0.942862\n",
      "[1000]\ttrain's auc: 0.975022\tvalid's auc: 0.943361\n",
      "[1050]\ttrain's auc: 0.976164\tvalid's auc: 0.943728\n",
      "[1100]\ttrain's auc: 0.977395\tvalid's auc: 0.944177\n",
      "[1150]\ttrain's auc: 0.978485\tvalid's auc: 0.944495\n",
      "[1200]\ttrain's auc: 0.979589\tvalid's auc: 0.944887\n",
      "[1250]\ttrain's auc: 0.980811\tvalid's auc: 0.945192\n",
      "[1300]\ttrain's auc: 0.981896\tvalid's auc: 0.945545\n",
      "[1350]\ttrain's auc: 0.982842\tvalid's auc: 0.945938\n",
      "[1400]\ttrain's auc: 0.983687\tvalid's auc: 0.946253\n",
      "[1450]\ttrain's auc: 0.984334\tvalid's auc: 0.946478\n",
      "[1500]\ttrain's auc: 0.985088\tvalid's auc: 0.946787\n",
      "[1550]\ttrain's auc: 0.985783\tvalid's auc: 0.947126\n",
      "[1600]\ttrain's auc: 0.986516\tvalid's auc: 0.94752\n",
      "[1650]\ttrain's auc: 0.987179\tvalid's auc: 0.947884\n",
      "[1700]\ttrain's auc: 0.987913\tvalid's auc: 0.948211\n",
      "[1750]\ttrain's auc: 0.988525\tvalid's auc: 0.948651\n",
      "[1800]\ttrain's auc: 0.988963\tvalid's auc: 0.948879\n",
      "[1850]\ttrain's auc: 0.989405\tvalid's auc: 0.949209\n",
      "[1900]\ttrain's auc: 0.989963\tvalid's auc: 0.949515\n",
      "[1950]\ttrain's auc: 0.99046\tvalid's auc: 0.949796\n",
      "[2000]\ttrain's auc: 0.990796\tvalid's auc: 0.950084\n",
      "[2050]\ttrain's auc: 0.991182\tvalid's auc: 0.950266\n",
      "[2100]\ttrain's auc: 0.991525\tvalid's auc: 0.950476\n",
      "[2150]\ttrain's auc: 0.99191\tvalid's auc: 0.950642\n",
      "[2200]\ttrain's auc: 0.992248\tvalid's auc: 0.950966\n",
      "[2250]\ttrain's auc: 0.992656\tvalid's auc: 0.951061\n",
      "[2300]\ttrain's auc: 0.993008\tvalid's auc: 0.951272\n",
      "[2350]\ttrain's auc: 0.993349\tvalid's auc: 0.951573\n",
      "[2400]\ttrain's auc: 0.993622\tvalid's auc: 0.951719\n",
      "[2450]\ttrain's auc: 0.993872\tvalid's auc: 0.951912\n",
      "[2500]\ttrain's auc: 0.994125\tvalid's auc: 0.952186\n",
      "[2550]\ttrain's auc: 0.99433\tvalid's auc: 0.952249\n",
      "[2600]\ttrain's auc: 0.994512\tvalid's auc: 0.952314\n",
      "[2650]\ttrain's auc: 0.994703\tvalid's auc: 0.95243\n",
      "[2700]\ttrain's auc: 0.994895\tvalid's auc: 0.952526\n",
      "[2750]\ttrain's auc: 0.995084\tvalid's auc: 0.952615\n",
      "[2800]\ttrain's auc: 0.995313\tvalid's auc: 0.952725\n",
      "[2850]\ttrain's auc: 0.995471\tvalid's auc: 0.952883\n",
      "[2900]\ttrain's auc: 0.995631\tvalid's auc: 0.953098\n",
      "[2950]\ttrain's auc: 0.995783\tvalid's auc: 0.953289\n",
      "[3000]\ttrain's auc: 0.995964\tvalid's auc: 0.953398\n",
      "[3050]\ttrain's auc: 0.996143\tvalid's auc: 0.953532\n",
      "[3100]\ttrain's auc: 0.996306\tvalid's auc: 0.953665\n",
      "[3150]\ttrain's auc: 0.996453\tvalid's auc: 0.953775\n",
      "[3200]\ttrain's auc: 0.996632\tvalid's auc: 0.953888\n",
      "[3250]\ttrain's auc: 0.996771\tvalid's auc: 0.954021\n",
      "[3300]\ttrain's auc: 0.996925\tvalid's auc: 0.954198\n",
      "[3350]\ttrain's auc: 0.997067\tvalid's auc: 0.954317\n",
      "[3400]\ttrain's auc: 0.997219\tvalid's auc: 0.954401\n",
      "[3450]\ttrain's auc: 0.99732\tvalid's auc: 0.9545\n",
      "[3500]\ttrain's auc: 0.997412\tvalid's auc: 0.954543\n",
      "[3550]\ttrain's auc: 0.997498\tvalid's auc: 0.954606\n",
      "[3600]\ttrain's auc: 0.997648\tvalid's auc: 0.954813\n",
      "[3650]\ttrain's auc: 0.99777\tvalid's auc: 0.954816\n",
      "Early stopping, best iteration is:\n",
      "[3642]\ttrain's auc: 0.997758\tvalid's auc: 0.954835\n",
      "Wall time: 3min 41s\n"
     ]
    }
   ],
   "source": [
    "%%time\n",
    "# сырые данные с автоматической обработкой\n",
    "model = train_lgbm(params, lgbm_train, lgbm_valid, y_train, y_valid, list(CAT_F))"
   ]
  },
  {
   "cell_type": "code",
   "execution_count": null,
   "metadata": {},
   "outputs": [],
   "source": []
  },
  {
   "cell_type": "markdown",
   "metadata": {},
   "source": [
    "## CatBoost"
   ]
  },
  {
   "cell_type": "code",
   "execution_count": 27,
   "metadata": {},
   "outputs": [],
   "source": [
    "import catboost as cb"
   ]
  },
  {
   "cell_type": "code",
   "execution_count": 58,
   "metadata": {},
   "outputs": [],
   "source": [
    "cat_f = list(CAT_F)"
   ]
  },
  {
   "cell_type": "code",
   "execution_count": 61,
   "metadata": {},
   "outputs": [],
   "source": [
    "def train_catboost(params, x_train, x_valid, y_train, y_valid, cat_list=[]):\n",
    "    \n",
    "    model = cb.CatBoostClassifier(**cb_params)\n",
    "    \n",
    "    dtrain = cb.Pool(x_train, y_train, cat_features=cat_list)\n",
    "    dvalid = cb.Pool(x_valid, y_valid, cat_features=cat_list)\n",
    "    \n",
    "    return model.fit(dtrain, eval_set=dvalid)"
   ]
  },
  {
   "cell_type": "code",
   "execution_count": 64,
   "metadata": {},
   "outputs": [],
   "source": [
    "cb_params = {\n",
    "    \"n_estimators\": 10000,\n",
    "    \"loss_function\": \"Logloss\",\n",
    "    \"eval_metric\": \"AUC\",\n",
    "    \"task_type\": \"GPU\",\n",
    "    \"devices\": '1',\n",
    "    \"max_bin\": 64,\n",
    "    \"verbose\": 100,\n",
    "    \"max_depth\": 5,\n",
    "    \"l2_leaf_reg\": 100,\n",
    "    \"early_stopping_rounds\": 50,\n",
    "    \"thread_count\": 6,\n",
    "    \"random_seed\": 42\n",
    "}"
   ]
  },
  {
   "cell_type": "markdown",
   "metadata": {},
   "source": [
    "#### numeric"
   ]
  },
  {
   "cell_type": "code",
   "execution_count": 63,
   "metadata": {},
   "outputs": [
    {
     "name": "stdout",
     "output_type": "stream",
     "text": [
      "0:\tlearn: 0.6396321\ttest: 0.6428615\tbest: 0.6428615 (0)\ttotal: 16.9ms\tremaining: 2m 49s\n",
      "50:\tlearn: 0.8392602\ttest: 0.8436866\tbest: 0.8436866 (50)\ttotal: 1.02s\tremaining: 3m 18s\n",
      "100:\tlearn: 0.8478016\ttest: 0.8558811\tbest: 0.8558811 (100)\ttotal: 1.99s\tremaining: 3m 15s\n",
      "150:\tlearn: 0.8624712\ttest: 0.8690299\tbest: 0.8690299 (150)\ttotal: 2.92s\tremaining: 3m 10s\n",
      "200:\tlearn: 0.8701346\ttest: 0.8754754\tbest: 0.8754754 (200)\ttotal: 3.77s\tremaining: 3m 3s\n",
      "250:\tlearn: 0.8759481\ttest: 0.8802985\tbest: 0.8802985 (250)\ttotal: 4.71s\tremaining: 3m 2s\n",
      "300:\tlearn: 0.8785817\ttest: 0.8820664\tbest: 0.8820664 (300)\ttotal: 5.57s\tremaining: 2m 59s\n",
      "350:\tlearn: 0.8805563\ttest: 0.8835579\tbest: 0.8835579 (350)\ttotal: 6.39s\tremaining: 2m 55s\n",
      "400:\tlearn: 0.8821465\ttest: 0.8847972\tbest: 0.8847972 (400)\ttotal: 7.28s\tremaining: 2m 54s\n",
      "450:\tlearn: 0.8836047\ttest: 0.8856752\tbest: 0.8856752 (450)\ttotal: 8.15s\tremaining: 2m 52s\n",
      "500:\tlearn: 0.8849949\ttest: 0.8867279\tbest: 0.8867279 (500)\ttotal: 8.96s\tremaining: 2m 49s\n",
      "550:\tlearn: 0.8861288\ttest: 0.8874551\tbest: 0.8874551 (549)\ttotal: 9.74s\tremaining: 2m 47s\n",
      "600:\tlearn: 0.8871768\ttest: 0.8881586\tbest: 0.8881677 (598)\ttotal: 10.6s\tremaining: 2m 45s\n",
      "650:\tlearn: 0.8881469\ttest: 0.8887298\tbest: 0.8887298 (650)\ttotal: 11.4s\tremaining: 2m 44s\n",
      "700:\tlearn: 0.8890199\ttest: 0.8893245\tbest: 0.8893323 (696)\ttotal: 12.3s\tremaining: 2m 43s\n",
      "750:\tlearn: 0.8903611\ttest: 0.8901465\tbest: 0.8901465 (750)\ttotal: 13.2s\tremaining: 2m 42s\n",
      "800:\tlearn: 0.8913546\ttest: 0.8907788\tbest: 0.8907805 (799)\ttotal: 14s\tremaining: 2m 40s\n",
      "850:\tlearn: 0.8923770\ttest: 0.8913307\tbest: 0.8913307 (850)\ttotal: 14.9s\tremaining: 2m 39s\n",
      "900:\tlearn: 0.8932278\ttest: 0.8917698\tbest: 0.8917845 (892)\ttotal: 15.7s\tremaining: 2m 38s\n",
      "950:\tlearn: 0.8939227\ttest: 0.8922753\tbest: 0.8922753 (950)\ttotal: 16.5s\tremaining: 2m 37s\n",
      "1000:\tlearn: 0.8943518\ttest: 0.8925402\tbest: 0.8925432 (991)\ttotal: 17.4s\tremaining: 2m 36s\n",
      "1050:\tlearn: 0.8948726\ttest: 0.8929259\tbest: 0.8929259 (1050)\ttotal: 18.2s\tremaining: 2m 35s\n",
      "1100:\tlearn: 0.8954234\ttest: 0.8932726\tbest: 0.8932726 (1100)\ttotal: 19s\tremaining: 2m 33s\n",
      "1150:\tlearn: 0.8959731\ttest: 0.8935608\tbest: 0.8935608 (1150)\ttotal: 19.9s\tremaining: 2m 32s\n",
      "1200:\tlearn: 0.8966934\ttest: 0.8940062\tbest: 0.8940089 (1198)\ttotal: 20.7s\tremaining: 2m 31s\n",
      "1250:\tlearn: 0.8970016\ttest: 0.8941544\tbest: 0.8941592 (1243)\ttotal: 21.5s\tremaining: 2m 30s\n",
      "1300:\tlearn: 0.8973563\ttest: 0.8944612\tbest: 0.8944612 (1300)\ttotal: 22.4s\tremaining: 2m 29s\n",
      "1350:\tlearn: 0.8978966\ttest: 0.8947577\tbest: 0.8947664 (1349)\ttotal: 23.2s\tremaining: 2m 28s\n",
      "1400:\tlearn: 0.8981697\ttest: 0.8949322\tbest: 0.8949322 (1400)\ttotal: 24.1s\tremaining: 2m 27s\n",
      "1450:\tlearn: 0.8986507\ttest: 0.8952020\tbest: 0.8952020 (1450)\ttotal: 25s\tremaining: 2m 27s\n",
      "1500:\tlearn: 0.8991911\ttest: 0.8955535\tbest: 0.8955535 (1500)\ttotal: 25.8s\tremaining: 2m 26s\n",
      "1550:\tlearn: 0.8997840\ttest: 0.8960764\tbest: 0.8960764 (1550)\ttotal: 26.7s\tremaining: 2m 25s\n",
      "1600:\tlearn: 0.9002129\ttest: 0.8963808\tbest: 0.8963818 (1598)\ttotal: 27.6s\tremaining: 2m 24s\n",
      "1650:\tlearn: 0.9008096\ttest: 0.8966361\tbest: 0.8966453 (1640)\ttotal: 28.5s\tremaining: 2m 24s\n",
      "1700:\tlearn: 0.9014997\ttest: 0.8969589\tbest: 0.8969592 (1696)\ttotal: 29.3s\tremaining: 2m 22s\n",
      "1750:\tlearn: 0.9019476\ttest: 0.8972932\tbest: 0.8972977 (1748)\ttotal: 30.1s\tremaining: 2m 21s\n",
      "1800:\tlearn: 0.9023317\ttest: 0.8976057\tbest: 0.8976072 (1799)\ttotal: 30.9s\tremaining: 2m 20s\n",
      "1850:\tlearn: 0.9027716\ttest: 0.8976846\tbest: 0.8976846 (1850)\ttotal: 31.8s\tremaining: 2m 19s\n",
      "1900:\tlearn: 0.9030648\ttest: 0.8976765\tbest: 0.8976958 (1858)\ttotal: 32.7s\tremaining: 2m 19s\n",
      "1950:\tlearn: 0.9034717\ttest: 0.8979559\tbest: 0.8979559 (1950)\ttotal: 33.6s\tremaining: 2m 18s\n",
      "2000:\tlearn: 0.9039945\ttest: 0.8983504\tbest: 0.8983523 (1999)\ttotal: 34.4s\tremaining: 2m 17s\n",
      "2050:\tlearn: 0.9043306\ttest: 0.8985426\tbest: 0.8985438 (2049)\ttotal: 35.2s\tremaining: 2m 16s\n",
      "2100:\tlearn: 0.9047254\ttest: 0.8987175\tbest: 0.8987175 (2100)\ttotal: 36.1s\tremaining: 2m 15s\n",
      "2150:\tlearn: 0.9051456\ttest: 0.8989499\tbest: 0.8989575 (2147)\ttotal: 37s\tremaining: 2m 15s\n",
      "2200:\tlearn: 0.9054093\ttest: 0.8990980\tbest: 0.8991090 (2194)\ttotal: 37.9s\tremaining: 2m 14s\n",
      "2250:\tlearn: 0.9059159\ttest: 0.8994724\tbest: 0.8994724 (2250)\ttotal: 38.8s\tremaining: 2m 13s\n",
      "2300:\tlearn: 0.9063624\ttest: 0.8997464\tbest: 0.8997464 (2300)\ttotal: 39.8s\tremaining: 2m 13s\n",
      "2350:\tlearn: 0.9068488\ttest: 0.9001202\tbest: 0.9001255 (2343)\ttotal: 40.8s\tremaining: 2m 12s\n",
      "2400:\tlearn: 0.9072207\ttest: 0.9003228\tbest: 0.9003228 (2400)\ttotal: 41.6s\tremaining: 2m 11s\n",
      "2450:\tlearn: 0.9075944\ttest: 0.9005711\tbest: 0.9005778 (2446)\ttotal: 42.5s\tremaining: 2m 10s\n",
      "2500:\tlearn: 0.9079434\ttest: 0.9008340\tbest: 0.9008340 (2499)\ttotal: 43.4s\tremaining: 2m 10s\n",
      "2550:\tlearn: 0.9082842\ttest: 0.9009584\tbest: 0.9009878 (2546)\ttotal: 44.3s\tremaining: 2m 9s\n",
      "2600:\tlearn: 0.9087369\ttest: 0.9011928\tbest: 0.9011976 (2590)\ttotal: 45.2s\tremaining: 2m 8s\n",
      "2650:\tlearn: 0.9092112\ttest: 0.9015263\tbest: 0.9015263 (2650)\ttotal: 46.1s\tremaining: 2m 7s\n",
      "2700:\tlearn: 0.9095824\ttest: 0.9017730\tbest: 0.9017730 (2700)\ttotal: 46.9s\tremaining: 2m 6s\n",
      "2750:\tlearn: 0.9099283\ttest: 0.9019274\tbest: 0.9019315 (2743)\ttotal: 47.7s\tremaining: 2m 5s\n",
      "2800:\tlearn: 0.9102157\ttest: 0.9020234\tbest: 0.9020234 (2800)\ttotal: 48.7s\tremaining: 2m 5s\n",
      "2850:\tlearn: 0.9104890\ttest: 0.9021818\tbest: 0.9021838 (2849)\ttotal: 49.6s\tremaining: 2m 4s\n",
      "2900:\tlearn: 0.9107569\ttest: 0.9023486\tbest: 0.9023553 (2897)\ttotal: 50.4s\tremaining: 2m 3s\n",
      "2950:\tlearn: 0.9109382\ttest: 0.9024431\tbest: 0.9024446 (2946)\ttotal: 51.3s\tremaining: 2m 2s\n",
      "3000:\tlearn: 0.9111736\ttest: 0.9025678\tbest: 0.9025678 (3000)\ttotal: 52.1s\tremaining: 2m 1s\n",
      "3050:\tlearn: 0.9115441\ttest: 0.9028769\tbest: 0.9028798 (3046)\ttotal: 53s\tremaining: 2m\n",
      "3100:\tlearn: 0.9117951\ttest: 0.9030727\tbest: 0.9030727 (3100)\ttotal: 53.9s\tremaining: 2m\n",
      "3150:\tlearn: 0.9121432\ttest: 0.9032894\tbest: 0.9032894 (3150)\ttotal: 54.8s\tremaining: 1m 59s\n",
      "3200:\tlearn: 0.9123912\ttest: 0.9033898\tbest: 0.9034046 (3190)\ttotal: 55.7s\tremaining: 1m 58s\n",
      "3250:\tlearn: 0.9126761\ttest: 0.9036030\tbest: 0.9036034 (3249)\ttotal: 56.5s\tremaining: 1m 57s\n",
      "3300:\tlearn: 0.9129522\ttest: 0.9037634\tbest: 0.9037634 (3300)\ttotal: 57.3s\tremaining: 1m 56s\n",
      "3350:\tlearn: 0.9132399\ttest: 0.9039925\tbest: 0.9039925 (3350)\ttotal: 58.2s\tremaining: 1m 55s\n",
      "3400:\tlearn: 0.9136106\ttest: 0.9041595\tbest: 0.9041603 (3396)\ttotal: 59.1s\tremaining: 1m 54s\n",
      "3450:\tlearn: 0.9138076\ttest: 0.9042130\tbest: 0.9042203 (3441)\ttotal: 60s\tremaining: 1m 53s\n",
      "3500:\tlearn: 0.9140630\ttest: 0.9044246\tbest: 0.9044248 (3499)\ttotal: 1m\tremaining: 1m 52s\n",
      "3550:\tlearn: 0.9143526\ttest: 0.9046037\tbest: 0.9046044 (3547)\ttotal: 1m 1s\tremaining: 1m 51s\n",
      "3600:\tlearn: 0.9145725\ttest: 0.9047963\tbest: 0.9047966 (3599)\ttotal: 1m 2s\tremaining: 1m 51s\n",
      "3650:\tlearn: 0.9148122\ttest: 0.9049193\tbest: 0.9049193 (3650)\ttotal: 1m 3s\tremaining: 1m 50s\n",
      "3700:\tlearn: 0.9151189\ttest: 0.9050560\tbest: 0.9050561 (3699)\ttotal: 1m 4s\tremaining: 1m 49s\n",
      "3750:\tlearn: 0.9153714\ttest: 0.9051972\tbest: 0.9051972 (3750)\ttotal: 1m 5s\tremaining: 1m 48s\n",
      "3800:\tlearn: 0.9156432\ttest: 0.9053019\tbest: 0.9053092 (3798)\ttotal: 1m 5s\tremaining: 1m 47s\n",
      "3850:\tlearn: 0.9159719\ttest: 0.9055222\tbest: 0.9055347 (3841)\ttotal: 1m 6s\tremaining: 1m 46s\n",
      "3900:\tlearn: 0.9162249\ttest: 0.9057292\tbest: 0.9057332 (3897)\ttotal: 1m 7s\tremaining: 1m 45s\n",
      "3950:\tlearn: 0.9164765\ttest: 0.9058312\tbest: 0.9058312 (3950)\ttotal: 1m 8s\tremaining: 1m 44s\n",
      "4000:\tlearn: 0.9167261\ttest: 0.9060470\tbest: 0.9060509 (3997)\ttotal: 1m 9s\tremaining: 1m 44s\n",
      "4050:\tlearn: 0.9169414\ttest: 0.9061194\tbest: 0.9061194 (4050)\ttotal: 1m 10s\tremaining: 1m 43s\n",
      "4100:\tlearn: 0.9171312\ttest: 0.9062544\tbest: 0.9062544 (4100)\ttotal: 1m 11s\tremaining: 1m 42s\n",
      "4150:\tlearn: 0.9173428\ttest: 0.9064314\tbest: 0.9064320 (4147)\ttotal: 1m 12s\tremaining: 1m 41s\n",
      "4200:\tlearn: 0.9175578\ttest: 0.9065677\tbest: 0.9065694 (4199)\ttotal: 1m 13s\tremaining: 1m 41s\n",
      "4250:\tlearn: 0.9177745\ttest: 0.9066847\tbest: 0.9066934 (4242)\ttotal: 1m 14s\tremaining: 1m 40s\n",
      "4300:\tlearn: 0.9180118\ttest: 0.9068356\tbest: 0.9068430 (4297)\ttotal: 1m 15s\tremaining: 1m 39s\n",
      "4350:\tlearn: 0.9183311\ttest: 0.9070443\tbest: 0.9070443 (4350)\ttotal: 1m 16s\tremaining: 1m 38s\n",
      "4400:\tlearn: 0.9184864\ttest: 0.9071614\tbest: 0.9071716 (4389)\ttotal: 1m 17s\tremaining: 1m 37s\n",
      "4450:\tlearn: 0.9186922\ttest: 0.9073204\tbest: 0.9073204 (4449)\ttotal: 1m 17s\tremaining: 1m 37s\n",
      "4500:\tlearn: 0.9188044\ttest: 0.9073789\tbest: 0.9073847 (4483)\ttotal: 1m 18s\tremaining: 1m 36s\n",
      "4550:\tlearn: 0.9190216\ttest: 0.9074861\tbest: 0.9074891 (4549)\ttotal: 1m 19s\tremaining: 1m 35s\n",
      "4600:\tlearn: 0.9192731\ttest: 0.9076672\tbest: 0.9076762 (4594)\ttotal: 1m 20s\tremaining: 1m 34s\n",
      "4650:\tlearn: 0.9194703\ttest: 0.9077809\tbest: 0.9077809 (4650)\ttotal: 1m 21s\tremaining: 1m 33s\n",
      "4700:\tlearn: 0.9197413\ttest: 0.9079352\tbest: 0.9079352 (4700)\ttotal: 1m 22s\tremaining: 1m 33s\n",
      "4750:\tlearn: 0.9199937\ttest: 0.9081383\tbest: 0.9081422 (4749)\ttotal: 1m 23s\tremaining: 1m 32s\n",
      "4800:\tlearn: 0.9201837\ttest: 0.9082225\tbest: 0.9082268 (4797)\ttotal: 1m 24s\tremaining: 1m 31s\n",
      "4850:\tlearn: 0.9203328\ttest: 0.9083014\tbest: 0.9083014 (4850)\ttotal: 1m 25s\tremaining: 1m 30s\n",
      "4900:\tlearn: 0.9205522\ttest: 0.9084462\tbest: 0.9084462 (4900)\ttotal: 1m 26s\tremaining: 1m 29s\n",
      "4950:\tlearn: 0.9208356\ttest: 0.9085920\tbest: 0.9085933 (4949)\ttotal: 1m 27s\tremaining: 1m 28s\n",
      "5000:\tlearn: 0.9210559\ttest: 0.9087400\tbest: 0.9087400 (5000)\ttotal: 1m 27s\tremaining: 1m 27s\n",
      "5050:\tlearn: 0.9212171\ttest: 0.9088538\tbest: 0.9088538 (5050)\ttotal: 1m 28s\tremaining: 1m 27s\n",
      "5100:\tlearn: 0.9214377\ttest: 0.9089435\tbest: 0.9089512 (5096)\ttotal: 1m 29s\tremaining: 1m 26s\n",
      "5150:\tlearn: 0.9216326\ttest: 0.9090583\tbest: 0.9090608 (5149)\ttotal: 1m 30s\tremaining: 1m 25s\n",
      "5200:\tlearn: 0.9218333\ttest: 0.9092151\tbest: 0.9092151 (5200)\ttotal: 1m 31s\tremaining: 1m 24s\n",
      "5250:\tlearn: 0.9220826\ttest: 0.9093118\tbest: 0.9093158 (5246)\ttotal: 1m 32s\tremaining: 1m 23s\n",
      "5300:\tlearn: 0.9222314\ttest: 0.9094537\tbest: 0.9094537 (5300)\ttotal: 1m 33s\tremaining: 1m 22s\n",
      "5350:\tlearn: 0.9223473\ttest: 0.9095308\tbest: 0.9095393 (5344)\ttotal: 1m 34s\tremaining: 1m 21s\n",
      "5400:\tlearn: 0.9226045\ttest: 0.9097076\tbest: 0.9097084 (5399)\ttotal: 1m 35s\tremaining: 1m 21s\n",
      "5450:\tlearn: 0.9228497\ttest: 0.9098319\tbest: 0.9098319 (5450)\ttotal: 1m 36s\tremaining: 1m 20s\n",
      "5500:\tlearn: 0.9230677\ttest: 0.9099230\tbest: 0.9099293 (5496)\ttotal: 1m 37s\tremaining: 1m 19s\n",
      "5550:\tlearn: 0.9232645\ttest: 0.9100516\tbest: 0.9100516 (5550)\ttotal: 1m 37s\tremaining: 1m 18s\n",
      "5600:\tlearn: 0.9234763\ttest: 0.9101762\tbest: 0.9101914 (5599)\ttotal: 1m 38s\tremaining: 1m 17s\n",
      "5650:\tlearn: 0.9236151\ttest: 0.9103200\tbest: 0.9103200 (5650)\ttotal: 1m 39s\tremaining: 1m 16s\n",
      "5700:\tlearn: 0.9237180\ttest: 0.9103028\tbest: 0.9103339 (5662)\ttotal: 1m 40s\tremaining: 1m 15s\n",
      "5750:\tlearn: 0.9239003\ttest: 0.9104158\tbest: 0.9104158 (5749)\ttotal: 1m 41s\tremaining: 1m 14s\n",
      "5800:\tlearn: 0.9240704\ttest: 0.9104740\tbest: 0.9104740 (5800)\ttotal: 1m 42s\tremaining: 1m 14s\n",
      "5850:\tlearn: 0.9243335\ttest: 0.9107143\tbest: 0.9107143 (5850)\ttotal: 1m 43s\tremaining: 1m 13s\n",
      "5900:\tlearn: 0.9245425\ttest: 0.9108746\tbest: 0.9108766 (5899)\ttotal: 1m 44s\tremaining: 1m 12s\n",
      "5950:\tlearn: 0.9247400\ttest: 0.9110343\tbest: 0.9110348 (5947)\ttotal: 1m 44s\tremaining: 1m 11s\n",
      "6000:\tlearn: 0.9249430\ttest: 0.9111409\tbest: 0.9111479 (5998)\ttotal: 1m 45s\tremaining: 1m 10s\n",
      "6050:\tlearn: 0.9250814\ttest: 0.9112416\tbest: 0.9112437 (6049)\ttotal: 1m 46s\tremaining: 1m 9s\n",
      "6100:\tlearn: 0.9252596\ttest: 0.9113914\tbest: 0.9113914 (6100)\ttotal: 1m 47s\tremaining: 1m 8s\n",
      "6150:\tlearn: 0.9253846\ttest: 0.9114897\tbest: 0.9114897 (6150)\ttotal: 1m 48s\tremaining: 1m 7s\n",
      "6200:\tlearn: 0.9254854\ttest: 0.9115260\tbest: 0.9115269 (6174)\ttotal: 1m 49s\tremaining: 1m 6s\n",
      "6250:\tlearn: 0.9256911\ttest: 0.9116397\tbest: 0.9116397 (6250)\ttotal: 1m 50s\tremaining: 1m 6s\n",
      "6300:\tlearn: 0.9258576\ttest: 0.9117169\tbest: 0.9117241 (6294)\ttotal: 1m 50s\tremaining: 1m 5s\n",
      "6350:\tlearn: 0.9259834\ttest: 0.9117683\tbest: 0.9117737 (6343)\ttotal: 1m 51s\tremaining: 1m 4s\n",
      "6400:\tlearn: 0.9261182\ttest: 0.9118456\tbest: 0.9118480 (6396)\ttotal: 1m 52s\tremaining: 1m 3s\n",
      "6450:\tlearn: 0.9263218\ttest: 0.9120046\tbest: 0.9120119 (6447)\ttotal: 1m 53s\tremaining: 1m 2s\n",
      "6500:\tlearn: 0.9264721\ttest: 0.9120189\tbest: 0.9120197 (6498)\ttotal: 1m 54s\tremaining: 1m 1s\n",
      "6550:\tlearn: 0.9265417\ttest: 0.9120577\tbest: 0.9120691 (6540)\ttotal: 1m 55s\tremaining: 1m\n",
      "6600:\tlearn: 0.9267274\ttest: 0.9121758\tbest: 0.9121773 (6596)\ttotal: 1m 56s\tremaining: 60s\n",
      "6650:\tlearn: 0.9269136\ttest: 0.9122850\tbest: 0.9122850 (6650)\ttotal: 1m 57s\tremaining: 59.1s\n",
      "6700:\tlearn: 0.9270852\ttest: 0.9124476\tbest: 0.9124510 (6695)\ttotal: 1m 58s\tremaining: 58.3s\n",
      "6750:\tlearn: 0.9272282\ttest: 0.9125919\tbest: 0.9125919 (6750)\ttotal: 1m 59s\tremaining: 57.4s\n",
      "6800:\tlearn: 0.9273797\ttest: 0.9126679\tbest: 0.9126679 (6800)\ttotal: 2m\tremaining: 56.6s\n",
      "6850:\tlearn: 0.9274753\ttest: 0.9127427\tbest: 0.9127481 (6848)\ttotal: 2m 1s\tremaining: 55.7s\n",
      "6900:\tlearn: 0.9276161\ttest: 0.9128125\tbest: 0.9128134 (6899)\ttotal: 2m 2s\tremaining: 54.9s\n",
      "6950:\tlearn: 0.9277511\ttest: 0.9129461\tbest: 0.9129461 (6950)\ttotal: 2m 3s\tremaining: 54s\n",
      "7000:\tlearn: 0.9279224\ttest: 0.9130448\tbest: 0.9130518 (6999)\ttotal: 2m 3s\tremaining: 53.1s\n",
      "7050:\tlearn: 0.9281512\ttest: 0.9132516\tbest: 0.9132516 (7050)\ttotal: 2m 4s\tremaining: 52.2s\n",
      "7100:\tlearn: 0.9283077\ttest: 0.9133205\tbest: 0.9133205 (7100)\ttotal: 2m 5s\tremaining: 51.3s\n",
      "7150:\tlearn: 0.9284440\ttest: 0.9134212\tbest: 0.9134212 (7150)\ttotal: 2m 6s\tremaining: 50.4s\n",
      "7200:\tlearn: 0.9286663\ttest: 0.9136015\tbest: 0.9136015 (7200)\ttotal: 2m 7s\tremaining: 49.5s\n",
      "7250:\tlearn: 0.9288286\ttest: 0.9136493\tbest: 0.9136654 (7229)\ttotal: 2m 8s\tremaining: 48.7s\n",
      "7300:\tlearn: 0.9289815\ttest: 0.9137655\tbest: 0.9137661 (7295)\ttotal: 2m 9s\tremaining: 47.8s\n",
      "7350:\tlearn: 0.9291540\ttest: 0.9138921\tbest: 0.9138923 (7349)\ttotal: 2m 10s\tremaining: 46.9s\n",
      "7400:\tlearn: 0.9292686\ttest: 0.9139510\tbest: 0.9139525 (7399)\ttotal: 2m 10s\tremaining: 46s\n",
      "7450:\tlearn: 0.9294053\ttest: 0.9140572\tbest: 0.9140572 (7450)\ttotal: 2m 11s\tremaining: 45.1s\n",
      "7500:\tlearn: 0.9295400\ttest: 0.9141928\tbest: 0.9141958 (7497)\ttotal: 2m 12s\tremaining: 44.2s\n",
      "7550:\tlearn: 0.9297707\ttest: 0.9143862\tbest: 0.9143865 (7549)\ttotal: 2m 13s\tremaining: 43.3s\n",
      "7600:\tlearn: 0.9299755\ttest: 0.9145393\tbest: 0.9145393 (7600)\ttotal: 2m 14s\tremaining: 42.4s\n",
      "7650:\tlearn: 0.9301890\ttest: 0.9147018\tbest: 0.9147018 (7650)\ttotal: 2m 15s\tremaining: 41.6s\n",
      "7700:\tlearn: 0.9303024\ttest: 0.9147531\tbest: 0.9147568 (7697)\ttotal: 2m 16s\tremaining: 40.7s\n",
      "7750:\tlearn: 0.9304452\ttest: 0.9148360\tbest: 0.9148443 (7742)\ttotal: 2m 17s\tremaining: 39.8s\n",
      "7800:\tlearn: 0.9306058\ttest: 0.9149428\tbest: 0.9149480 (7797)\ttotal: 2m 18s\tremaining: 38.9s\n",
      "7850:\tlearn: 0.9307651\ttest: 0.9150241\tbest: 0.9150267 (7846)\ttotal: 2m 18s\tremaining: 38s\n",
      "7900:\tlearn: 0.9309721\ttest: 0.9151835\tbest: 0.9151835 (7900)\ttotal: 2m 19s\tremaining: 37.2s\n",
      "7950:\tlearn: 0.9311542\ttest: 0.9153000\tbest: 0.9153031 (7948)\ttotal: 2m 20s\tremaining: 36.3s\n",
      "8000:\tlearn: 0.9313162\ttest: 0.9154128\tbest: 0.9154155 (7998)\ttotal: 2m 21s\tremaining: 35.4s\n",
      "8050:\tlearn: 0.9313923\ttest: 0.9154263\tbest: 0.9154348 (8018)\ttotal: 2m 22s\tremaining: 34.5s\n",
      "bestTest = 0.9154348075\n",
      "bestIteration = 8018\n",
      "Shrink model to first 8019 iterations.\n",
      "Wall time: 3min 4s\n"
     ]
    }
   ],
   "source": [
    "%%time\n",
    "model = train_catboost(cb_params, num_train, num_valid, y_train, y_valid)"
   ]
  },
  {
   "cell_type": "code",
   "execution_count": 65,
   "metadata": {},
   "outputs": [
    {
     "name": "stdout",
     "output_type": "stream",
     "text": [
      "0:\tlearn: 0.6396321\ttest: 0.6428615\tbest: 0.6428615 (0)\ttotal: 15.4ms\tremaining: 2m 33s\n",
      "100:\tlearn: 0.8495834\ttest: 0.8573451\tbest: 0.8573451 (100)\ttotal: 1.89s\tremaining: 3m 5s\n",
      "200:\tlearn: 0.8769727\ttest: 0.8827421\tbest: 0.8827421 (200)\ttotal: 3.86s\tremaining: 3m 8s\n",
      "300:\tlearn: 0.8868943\ttest: 0.8904108\tbest: 0.8904108 (300)\ttotal: 5.55s\tremaining: 2m 58s\n",
      "400:\tlearn: 0.8901703\ttest: 0.8927070\tbest: 0.8927070 (400)\ttotal: 7.2s\tremaining: 2m 52s\n",
      "500:\tlearn: 0.8938037\ttest: 0.8951279\tbest: 0.8951281 (499)\ttotal: 8.97s\tremaining: 2m 50s\n",
      "600:\tlearn: 0.8957067\ttest: 0.8964755\tbest: 0.8964758 (598)\ttotal: 10.8s\tremaining: 2m 49s\n",
      "700:\tlearn: 0.8973790\ttest: 0.8974811\tbest: 0.8974811 (700)\ttotal: 13.6s\tremaining: 3m\n",
      "800:\tlearn: 0.8991018\ttest: 0.8984433\tbest: 0.8984440 (799)\ttotal: 18.1s\tremaining: 3m 27s\n",
      "900:\tlearn: 0.9008102\ttest: 0.8994193\tbest: 0.8994360 (895)\ttotal: 22.7s\tremaining: 3m 49s\n",
      "1000:\tlearn: 0.9020970\ttest: 0.9003863\tbest: 0.9003863 (1000)\ttotal: 27s\tremaining: 4m 2s\n",
      "1100:\tlearn: 0.9030360\ttest: 0.9009570\tbest: 0.9009580 (1099)\ttotal: 31.3s\tremaining: 4m 13s\n",
      "1200:\tlearn: 0.9043985\ttest: 0.9017957\tbest: 0.9017977 (1195)\ttotal: 35.7s\tremaining: 4m 21s\n",
      "1300:\tlearn: 0.9051318\ttest: 0.9023352\tbest: 0.9023352 (1300)\ttotal: 40s\tremaining: 4m 27s\n",
      "1400:\tlearn: 0.9059707\ttest: 0.9027303\tbest: 0.9027303 (1400)\ttotal: 44.2s\tremaining: 4m 31s\n",
      "1500:\tlearn: 0.9068908\ttest: 0.9033740\tbest: 0.9033800 (1494)\ttotal: 48.8s\tremaining: 4m 36s\n",
      "1600:\tlearn: 0.9080410\ttest: 0.9040756\tbest: 0.9040861 (1595)\ttotal: 53.1s\tremaining: 4m 38s\n",
      "1700:\tlearn: 0.9091561\ttest: 0.9047310\tbest: 0.9047310 (1700)\ttotal: 57.4s\tremaining: 4m 40s\n",
      "1800:\tlearn: 0.9099538\ttest: 0.9053063\tbest: 0.9053076 (1799)\ttotal: 1m 1s\tremaining: 4m 40s\n",
      "1900:\tlearn: 0.9107069\ttest: 0.9056756\tbest: 0.9056770 (1899)\ttotal: 1m 6s\tremaining: 4m 41s\n",
      "2000:\tlearn: 0.9117721\ttest: 0.9064816\tbest: 0.9064821 (1999)\ttotal: 1m 10s\tremaining: 4m 41s\n",
      "2100:\tlearn: 0.9125198\ttest: 0.9068940\tbest: 0.9069028 (2099)\ttotal: 1m 14s\tremaining: 4m 40s\n",
      "2200:\tlearn: 0.9132782\ttest: 0.9073496\tbest: 0.9073596 (2195)\ttotal: 1m 18s\tremaining: 4m 39s\n",
      "2300:\tlearn: 0.9140695\ttest: 0.9078918\tbest: 0.9078918 (2300)\ttotal: 1m 23s\tremaining: 4m 38s\n",
      "2400:\tlearn: 0.9148607\ttest: 0.9084938\tbest: 0.9084938 (2400)\ttotal: 1m 27s\tremaining: 4m 36s\n",
      "2500:\tlearn: 0.9156913\ttest: 0.9090380\tbest: 0.9090380 (2500)\ttotal: 1m 31s\tremaining: 4m 34s\n",
      "2600:\tlearn: 0.9162849\ttest: 0.9093313\tbest: 0.9093330 (2598)\ttotal: 1m 35s\tremaining: 4m 32s\n",
      "2700:\tlearn: 0.9170720\ttest: 0.9097755\tbest: 0.9097760 (2699)\ttotal: 1m 40s\tremaining: 4m 30s\n",
      "2800:\tlearn: 0.9176208\ttest: 0.9099491\tbest: 0.9099518 (2797)\ttotal: 1m 44s\tremaining: 4m 28s\n",
      "2900:\tlearn: 0.9182554\ttest: 0.9103959\tbest: 0.9103959 (2900)\ttotal: 1m 48s\tremaining: 4m 26s\n",
      "3000:\tlearn: 0.9186728\ttest: 0.9106351\tbest: 0.9106351 (3000)\ttotal: 1m 52s\tremaining: 4m 23s\n",
      "3100:\tlearn: 0.9193962\ttest: 0.9110360\tbest: 0.9110369 (3099)\ttotal: 1m 57s\tremaining: 4m 20s\n",
      "3200:\tlearn: 0.9199051\ttest: 0.9113256\tbest: 0.9113323 (3196)\ttotal: 2m 1s\tremaining: 4m 18s\n",
      "3300:\tlearn: 0.9204796\ttest: 0.9116441\tbest: 0.9116441 (3300)\ttotal: 2m 5s\tremaining: 4m 15s\n",
      "3400:\tlearn: 0.9213068\ttest: 0.9120692\tbest: 0.9120783 (3396)\ttotal: 2m 10s\tremaining: 4m 12s\n",
      "3500:\tlearn: 0.9218927\ttest: 0.9124148\tbest: 0.9124148 (3500)\ttotal: 2m 14s\tremaining: 4m 9s\n",
      "3600:\tlearn: 0.9224417\ttest: 0.9127776\tbest: 0.9127819 (3599)\ttotal: 2m 18s\tremaining: 4m 6s\n",
      "3700:\tlearn: 0.9230140\ttest: 0.9130827\tbest: 0.9130836 (3699)\ttotal: 2m 22s\tremaining: 4m 3s\n",
      "3800:\tlearn: 0.9234572\ttest: 0.9133217\tbest: 0.9133248 (3798)\ttotal: 2m 27s\tremaining: 4m\n",
      "3900:\tlearn: 0.9240130\ttest: 0.9135849\tbest: 0.9135996 (3896)\ttotal: 2m 31s\tremaining: 3m 56s\n",
      "4000:\tlearn: 0.9245180\ttest: 0.9139560\tbest: 0.9139560 (4000)\ttotal: 2m 35s\tremaining: 3m 53s\n",
      "4100:\tlearn: 0.9248970\ttest: 0.9141823\tbest: 0.9141874 (4099)\ttotal: 2m 39s\tremaining: 3m 50s\n",
      "4200:\tlearn: 0.9252287\ttest: 0.9143817\tbest: 0.9143862 (4197)\ttotal: 2m 44s\tremaining: 3m 46s\n",
      "4300:\tlearn: 0.9257199\ttest: 0.9146989\tbest: 0.9147035 (4298)\ttotal: 2m 48s\tremaining: 3m 43s\n",
      "4400:\tlearn: 0.9261917\ttest: 0.9149603\tbest: 0.9149625 (4392)\ttotal: 2m 52s\tremaining: 3m 39s\n",
      "4500:\tlearn: 0.9266687\ttest: 0.9152645\tbest: 0.9152672 (4499)\ttotal: 2m 57s\tremaining: 3m 36s\n",
      "4600:\tlearn: 0.9271172\ttest: 0.9154925\tbest: 0.9154962 (4595)\ttotal: 3m 1s\tremaining: 3m 32s\n",
      "4700:\tlearn: 0.9275607\ttest: 0.9156824\tbest: 0.9156846 (4695)\ttotal: 3m 5s\tremaining: 3m 29s\n",
      "4800:\tlearn: 0.9279211\ttest: 0.9158906\tbest: 0.9158906 (4800)\ttotal: 3m 9s\tremaining: 3m 25s\n",
      "4900:\tlearn: 0.9284003\ttest: 0.9161927\tbest: 0.9161935 (4897)\ttotal: 3m 14s\tremaining: 3m 22s\n",
      "5000:\tlearn: 0.9287763\ttest: 0.9164352\tbest: 0.9164383 (4993)\ttotal: 3m 18s\tremaining: 3m 18s\n",
      "5100:\tlearn: 0.9292044\ttest: 0.9166518\tbest: 0.9166518 (5100)\ttotal: 3m 23s\tremaining: 3m 14s\n",
      "5200:\tlearn: 0.9296537\ttest: 0.9168624\tbest: 0.9168655 (5198)\ttotal: 3m 27s\tremaining: 3m 11s\n",
      "5300:\tlearn: 0.9300156\ttest: 0.9170056\tbest: 0.9170096 (5299)\ttotal: 3m 31s\tremaining: 3m 7s\n",
      "5400:\tlearn: 0.9304196\ttest: 0.9172244\tbest: 0.9172244 (5400)\ttotal: 3m 36s\tremaining: 3m 4s\n",
      "5500:\tlearn: 0.9309459\ttest: 0.9175147\tbest: 0.9175147 (5500)\ttotal: 3m 40s\tremaining: 3m\n",
      "5600:\tlearn: 0.9314198\ttest: 0.9179432\tbest: 0.9179499 (5599)\ttotal: 3m 44s\tremaining: 2m 56s\n",
      "5700:\tlearn: 0.9317230\ttest: 0.9180720\tbest: 0.9180988 (5684)\ttotal: 3m 49s\tremaining: 2m 52s\n",
      "5800:\tlearn: 0.9320266\ttest: 0.9182782\tbest: 0.9182820 (5798)\ttotal: 3m 53s\tremaining: 2m 48s\n",
      "5900:\tlearn: 0.9323698\ttest: 0.9184925\tbest: 0.9184925 (5900)\ttotal: 3m 57s\tremaining: 2m 45s\n",
      "6000:\tlearn: 0.9327030\ttest: 0.9187116\tbest: 0.9187162 (5998)\ttotal: 4m 1s\tremaining: 2m 41s\n",
      "bestTest = 0.9187258482\n",
      "bestIteration = 6004\n",
      "Shrink model to first 6005 iterations.\n",
      "Wall time: 4min 36s\n"
     ]
    }
   ],
   "source": [
    "%%time\n",
    "model = train_catboost(cb_params, prep_train, prep_valid, y_train, y_valid)"
   ]
  },
  {
   "cell_type": "code",
   "execution_count": 66,
   "metadata": {},
   "outputs": [],
   "source": [
    "def make_categoty_str_type(df):\n",
    "    data = df.copy()\n",
    "    for feature in CAT_F:\n",
    "        print(feature, end=' ')\n",
    "        data[feature] = pd.Series(data[feature], dtype='str')\n",
    "    print()\n",
    "    return data"
   ]
  },
  {
   "cell_type": "code",
   "execution_count": 67,
   "metadata": {},
   "outputs": [
    {
     "name": "stdout",
     "output_type": "stream",
     "text": [
      "ProductCD card4 card6 P_emaildomain R_emaildomain M1 M2 M3 M4 M5 M6 M7 M8 M9 \n",
      "ProductCD card4 card6 P_emaildomain R_emaildomain M1 M2 M3 M4 M5 M6 M7 M8 M9 \n"
     ]
    }
   ],
   "source": [
    "cb_train = make_categoty_str_type(x_train)\n",
    "cb_valid = make_categoty_str_type(x_valid)"
   ]
  },
  {
   "cell_type": "code",
   "execution_count": 68,
   "metadata": {},
   "outputs": [
    {
     "name": "stdout",
     "output_type": "stream",
     "text": [
      "0:\tlearn: 0.6913539\ttest: 0.7025497\tbest: 0.7025497 (0)\ttotal: 54ms\tremaining: 8m 59s\n",
      "100:\tlearn: 0.7831840\ttest: 0.7863421\tbest: 0.7863421 (100)\ttotal: 5.67s\tremaining: 9m 15s\n",
      "200:\tlearn: 0.8413569\ttest: 0.8443944\tbest: 0.8443944 (200)\ttotal: 11.1s\tremaining: 9m 3s\n",
      "300:\tlearn: 0.8561819\ttest: 0.8582412\tbest: 0.8582412 (300)\ttotal: 16.7s\tremaining: 8m 57s\n",
      "400:\tlearn: 0.8677556\ttest: 0.8696395\tbest: 0.8696395 (400)\ttotal: 22.1s\tremaining: 8m 49s\n",
      "500:\tlearn: 0.8743216\ttest: 0.8756148\tbest: 0.8756159 (499)\ttotal: 27.6s\tremaining: 8m 42s\n",
      "600:\tlearn: 0.8796681\ttest: 0.8803839\tbest: 0.8803843 (599)\ttotal: 33s\tremaining: 8m 36s\n",
      "700:\tlearn: 0.8822428\ttest: 0.8825323\tbest: 0.8825335 (698)\ttotal: 38.8s\tremaining: 8m 34s\n",
      "800:\tlearn: 0.8848441\ttest: 0.8847421\tbest: 0.8847421 (800)\ttotal: 44.6s\tremaining: 8m 31s\n",
      "900:\tlearn: 0.8860823\ttest: 0.8857420\tbest: 0.8857420 (900)\ttotal: 50.2s\tremaining: 8m 26s\n",
      "1000:\tlearn: 0.8882031\ttest: 0.8876719\tbest: 0.8876719 (1000)\ttotal: 55.8s\tremaining: 8m 21s\n",
      "1100:\tlearn: 0.8889287\ttest: 0.8882095\tbest: 0.8882113 (1096)\ttotal: 1m 1s\tremaining: 8m 17s\n",
      "1200:\tlearn: 0.8897955\ttest: 0.8888628\tbest: 0.8888628 (1200)\ttotal: 1m 7s\tremaining: 8m 11s\n",
      "1300:\tlearn: 0.8908108\ttest: 0.8897397\tbest: 0.8897397 (1300)\ttotal: 1m 12s\tremaining: 8m 4s\n",
      "1400:\tlearn: 0.8922533\ttest: 0.8908128\tbest: 0.8908150 (1394)\ttotal: 1m 17s\tremaining: 7m 57s\n",
      "1500:\tlearn: 0.8933721\ttest: 0.8917660\tbest: 0.8917660 (1500)\ttotal: 1m 23s\tremaining: 7m 50s\n",
      "1600:\tlearn: 0.8945558\ttest: 0.8926613\tbest: 0.8926676 (1592)\ttotal: 1m 28s\tremaining: 7m 44s\n",
      "1700:\tlearn: 0.8955218\ttest: 0.8932554\tbest: 0.8932554 (1700)\ttotal: 1m 33s\tremaining: 7m 37s\n",
      "1800:\tlearn: 0.8963669\ttest: 0.8941501\tbest: 0.8941501 (1800)\ttotal: 1m 39s\tremaining: 7m 31s\n",
      "1900:\tlearn: 0.8973342\ttest: 0.8949085\tbest: 0.8949108 (1895)\ttotal: 1m 44s\tremaining: 7m 25s\n",
      "2000:\tlearn: 0.8979827\ttest: 0.8953723\tbest: 0.8953809 (1987)\ttotal: 1m 50s\tremaining: 7m 20s\n",
      "2100:\tlearn: 0.8987587\ttest: 0.8960033\tbest: 0.8960033 (2099)\ttotal: 2m 2s\tremaining: 7m 40s\n",
      "2200:\tlearn: 0.8993237\ttest: 0.8964977\tbest: 0.8964978 (2197)\ttotal: 2m 14s\tremaining: 7m 56s\n",
      "2300:\tlearn: 0.9001287\ttest: 0.8971172\tbest: 0.8971261 (2287)\ttotal: 2m 26s\tremaining: 8m 10s\n",
      "2400:\tlearn: 0.9006433\ttest: 0.8975715\tbest: 0.8975716 (2399)\ttotal: 2m 38s\tremaining: 8m 22s\n",
      "2500:\tlearn: 0.9012429\ttest: 0.8980309\tbest: 0.8980311 (2490)\ttotal: 2m 51s\tremaining: 8m 33s\n",
      "2600:\tlearn: 0.9016207\ttest: 0.8982174\tbest: 0.8982174 (2600)\ttotal: 3m 3s\tremaining: 8m 41s\n",
      "2700:\tlearn: 0.9024385\ttest: 0.8986527\tbest: 0.8986527 (2700)\ttotal: 3m 15s\tremaining: 8m 48s\n",
      "2800:\tlearn: 0.9028725\ttest: 0.8989079\tbest: 0.8989079 (2800)\ttotal: 3m 28s\tremaining: 8m 54s\n",
      "2900:\tlearn: 0.9033316\ttest: 0.8992689\tbest: 0.8992689 (2899)\ttotal: 3m 40s\tremaining: 9m\n",
      "3000:\tlearn: 0.9037679\ttest: 0.8995893\tbest: 0.8995893 (3000)\ttotal: 3m 53s\tremaining: 9m 3s\n",
      "3100:\tlearn: 0.9040900\ttest: 0.8997819\tbest: 0.8997854 (3094)\ttotal: 4m 5s\tremaining: 9m 6s\n",
      "3200:\tlearn: 0.9045362\ttest: 0.9001412\tbest: 0.9001458 (3195)\ttotal: 4m 17s\tremaining: 9m 7s\n",
      "3300:\tlearn: 0.9050331\ttest: 0.9005088\tbest: 0.9005098 (3298)\ttotal: 4m 30s\tremaining: 9m 8s\n",
      "3400:\tlearn: 0.9054866\ttest: 0.9007069\tbest: 0.9007069 (3400)\ttotal: 4m 41s\tremaining: 9m 7s\n",
      "3500:\tlearn: 0.9059517\ttest: 0.9011125\tbest: 0.9011134 (3496)\ttotal: 4m 54s\tremaining: 9m 6s\n",
      "3600:\tlearn: 0.9062039\ttest: 0.9013065\tbest: 0.9013065 (3599)\ttotal: 5m 6s\tremaining: 9m 3s\n",
      "3700:\tlearn: 0.9066769\ttest: 0.9017509\tbest: 0.9017509 (3700)\ttotal: 5m 18s\tremaining: 9m 1s\n",
      "3800:\tlearn: 0.9071937\ttest: 0.9019863\tbest: 0.9019863 (3800)\ttotal: 5m 30s\tremaining: 8m 58s\n",
      "3900:\tlearn: 0.9075511\ttest: 0.9021579\tbest: 0.9021606 (3898)\ttotal: 5m 42s\tremaining: 8m 55s\n",
      "4000:\tlearn: 0.9078721\ttest: 0.9024125\tbest: 0.9024143 (3977)\ttotal: 5m 54s\tremaining: 8m 51s\n",
      "4100:\tlearn: 0.9083032\ttest: 0.9026657\tbest: 0.9026657 (4100)\ttotal: 6m 7s\tremaining: 8m 47s\n",
      "4200:\tlearn: 0.9086355\ttest: 0.9028505\tbest: 0.9028510 (4197)\ttotal: 6m 19s\tremaining: 8m 43s\n",
      "4300:\tlearn: 0.9090254\ttest: 0.9030627\tbest: 0.9030629 (4297)\ttotal: 6m 31s\tremaining: 8m 38s\n",
      "4400:\tlearn: 0.9093985\ttest: 0.9033035\tbest: 0.9033214 (4392)\ttotal: 6m 43s\tremaining: 8m 33s\n",
      "4500:\tlearn: 0.9096904\ttest: 0.9034082\tbest: 0.9034308 (4493)\ttotal: 6m 55s\tremaining: 8m 27s\n",
      "4600:\tlearn: 0.9098286\ttest: 0.9034927\tbest: 0.9035046 (4562)\ttotal: 7m 7s\tremaining: 8m 21s\n",
      "4700:\tlearn: 0.9102503\ttest: 0.9037594\tbest: 0.9037594 (4699)\ttotal: 7m 19s\tremaining: 8m 15s\n",
      "4800:\tlearn: 0.9107256\ttest: 0.9041935\tbest: 0.9041935 (4800)\ttotal: 7m 32s\tremaining: 8m 9s\n",
      "4900:\tlearn: 0.9110422\ttest: 0.9043657\tbest: 0.9043657 (4900)\ttotal: 7m 44s\tremaining: 8m 3s\n",
      "5000:\tlearn: 0.9113727\ttest: 0.9045022\tbest: 0.9045029 (4996)\ttotal: 7m 56s\tremaining: 7m 56s\n",
      "5100:\tlearn: 0.9116699\ttest: 0.9047152\tbest: 0.9047166 (5099)\ttotal: 8m 8s\tremaining: 7m 49s\n",
      "5200:\tlearn: 0.9121743\ttest: 0.9049692\tbest: 0.9049704 (5199)\ttotal: 8m 21s\tremaining: 7m 42s\n",
      "5300:\tlearn: 0.9124371\ttest: 0.9052210\tbest: 0.9052210 (5300)\ttotal: 8m 33s\tremaining: 7m 35s\n",
      "5400:\tlearn: 0.9126849\ttest: 0.9054103\tbest: 0.9054103 (5400)\ttotal: 8m 46s\tremaining: 7m 27s\n",
      "5500:\tlearn: 0.9128950\ttest: 0.9056043\tbest: 0.9056134 (5479)\ttotal: 8m 58s\tremaining: 7m 20s\n",
      "5600:\tlearn: 0.9131565\ttest: 0.9057048\tbest: 0.9057139 (5598)\ttotal: 9m 11s\tremaining: 7m 12s\n",
      "5700:\tlearn: 0.9133024\ttest: 0.9057644\tbest: 0.9057777 (5658)\ttotal: 9m 23s\tremaining: 7m 4s\n",
      "5800:\tlearn: 0.9135315\ttest: 0.9059086\tbest: 0.9059123 (5798)\ttotal: 9m 35s\tremaining: 6m 56s\n",
      "5900:\tlearn: 0.9138549\ttest: 0.9060656\tbest: 0.9060656 (5899)\ttotal: 10m 10s\tremaining: 7m 4s\n",
      "6000:\tlearn: 0.9141375\ttest: 0.9061614\tbest: 0.9061705 (5988)\ttotal: 10m 53s\tremaining: 7m 15s\n",
      "6100:\tlearn: 0.9143129\ttest: 0.9063229\tbest: 0.9063229 (6100)\ttotal: 11m 36s\tremaining: 7m 25s\n",
      "6200:\tlearn: 0.9145969\ttest: 0.9065547\tbest: 0.9065547 (6200)\ttotal: 12m 18s\tremaining: 7m 32s\n",
      "6300:\tlearn: 0.9147186\ttest: 0.9066151\tbest: 0.9066278 (6290)\ttotal: 13m\tremaining: 7m 38s\n",
      "6400:\tlearn: 0.9150690\ttest: 0.9068706\tbest: 0.9068706 (6400)\ttotal: 13m 42s\tremaining: 7m 42s\n",
      "6500:\tlearn: 0.9154459\ttest: 0.9070807\tbest: 0.9070807 (6500)\ttotal: 14m 23s\tremaining: 7m 44s\n",
      "6600:\tlearn: 0.9157186\ttest: 0.9072497\tbest: 0.9072500 (6599)\ttotal: 15m 5s\tremaining: 7m 46s\n",
      "6700:\tlearn: 0.9160255\ttest: 0.9073951\tbest: 0.9074019 (6690)\ttotal: 15m 46s\tremaining: 7m 45s\n",
      "6800:\tlearn: 0.9162368\ttest: 0.9075322\tbest: 0.9075322 (6798)\ttotal: 16m 28s\tremaining: 7m 44s\n",
      "6900:\tlearn: 0.9164258\ttest: 0.9076296\tbest: 0.9076407 (6881)\ttotal: 17m 9s\tremaining: 7m 42s\n",
      "7000:\tlearn: 0.9166383\ttest: 0.9078090\tbest: 0.9078098 (6996)\ttotal: 17m 51s\tremaining: 7m 38s\n",
      "7100:\tlearn: 0.9168696\ttest: 0.9079078\tbest: 0.9079085 (7099)\ttotal: 18m 33s\tremaining: 7m 34s\n",
      "7200:\tlearn: 0.9171228\ttest: 0.9080414\tbest: 0.9080414 (7200)\ttotal: 19m 15s\tremaining: 7m 29s\n",
      "7300:\tlearn: 0.9172824\ttest: 0.9081288\tbest: 0.9081288 (7300)\ttotal: 19m 57s\tremaining: 7m 22s\n",
      "7400:\tlearn: 0.9175275\ttest: 0.9082531\tbest: 0.9082534 (7392)\ttotal: 20m 39s\tremaining: 7m 15s\n",
      "7500:\tlearn: 0.9178820\ttest: 0.9084764\tbest: 0.9084764 (7500)\ttotal: 21m 22s\tremaining: 7m 7s\n",
      "7600:\tlearn: 0.9181738\ttest: 0.9086286\tbest: 0.9086306 (7599)\ttotal: 22m 4s\tremaining: 6m 57s\n",
      "7700:\tlearn: 0.9183812\ttest: 0.9087000\tbest: 0.9087062 (7659)\ttotal: 22m 45s\tremaining: 6m 47s\n",
      "bestTest = 0.908706218\n",
      "bestIteration = 7659\n",
      "Shrink model to first 7660 iterations.\n",
      "Wall time: 23min 40s\n"
     ]
    }
   ],
   "source": [
    "%%time\n",
    "model = train_catboost(cb_params, cb_train, cb_valid, y_train, y_valid, cat_list=cat_f)"
   ]
  },
  {
   "cell_type": "code",
   "execution_count": null,
   "metadata": {},
   "outputs": [],
   "source": []
  }
 ],
 "metadata": {
  "kernelspec": {
   "display_name": "Python 3",
   "language": "python",
   "name": "python3"
  },
  "language_info": {
   "codemirror_mode": {
    "name": "ipython",
    "version": 3
   },
   "file_extension": ".py",
   "mimetype": "text/x-python",
   "name": "python",
   "nbconvert_exporter": "python",
   "pygments_lexer": "ipython3",
   "version": "3.8.4"
  }
 },
 "nbformat": 4,
 "nbformat_minor": 4
}
