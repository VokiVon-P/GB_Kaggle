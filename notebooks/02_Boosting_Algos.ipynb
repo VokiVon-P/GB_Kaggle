{
 "cells": [
  {
   "cell_type": "markdown",
   "metadata": {},
   "source": [
    "# 02 - Обзор основных алгоритмов Boosting "
   ]
  },
  {
   "cell_type": "code",
   "execution_count": 2,
   "metadata": {},
   "outputs": [],
   "source": [
    "if 0:\n",
    "    !pip install -U xgboost\n",
    "    !pip install -U lightgbm\n",
    "    !pip install -U catboost"
   ]
  },
  {
   "cell_type": "code",
   "execution_count": 1,
   "metadata": {},
   "outputs": [],
   "source": [
    "from tqdm.notebook import tqdm\n",
    "\n",
    "import numpy as np\n",
    "import pandas as pd\n",
    "\n",
    "import matplotlib as mpl\n",
    "import matplotlib.pyplot as plt\n",
    "import seaborn as sns\n",
    "\n",
    "# pd.set_option('display.max_columns', None)\n",
    "%matplotlib inline"
   ]
  },
  {
   "cell_type": "code",
   "execution_count": 2,
   "metadata": {},
   "outputs": [],
   "source": [
    "from sklearn.model_selection import train_test_split\n",
    "from sklearn.metrics import roc_auc_score"
   ]
  },
  {
   "cell_type": "markdown",
   "metadata": {},
   "source": [
    "#### Загрузка данных"
   ]
  },
  {
   "cell_type": "code",
   "execution_count": 3,
   "metadata": {},
   "outputs": [],
   "source": [
    "DATA_TRAIN = \"../data/02/assignment_2_train.csv\"\n",
    "DATA_TEST = \"../data/02/assignment_2_test.csv\""
   ]
  },
  {
   "cell_type": "code",
   "execution_count": 4,
   "metadata": {},
   "outputs": [
    {
     "name": "stdout",
     "output_type": "stream",
     "text": [
      "data.shape = 180000 rows, 394 cols\n"
     ]
    },
    {
     "data": {
      "text/html": [
       "<div>\n",
       "<style scoped>\n",
       "    .dataframe tbody tr th:only-of-type {\n",
       "        vertical-align: middle;\n",
       "    }\n",
       "\n",
       "    .dataframe tbody tr th {\n",
       "        vertical-align: top;\n",
       "    }\n",
       "\n",
       "    .dataframe thead th {\n",
       "        text-align: right;\n",
       "    }\n",
       "</style>\n",
       "<table border=\"1\" class=\"dataframe\">\n",
       "  <thead>\n",
       "    <tr style=\"text-align: right;\">\n",
       "      <th></th>\n",
       "      <th>TransactionID</th>\n",
       "      <th>isFraud</th>\n",
       "      <th>TransactionDT</th>\n",
       "      <th>TransactionAmt</th>\n",
       "      <th>ProductCD</th>\n",
       "      <th>card1</th>\n",
       "      <th>card2</th>\n",
       "      <th>card3</th>\n",
       "      <th>card4</th>\n",
       "      <th>card5</th>\n",
       "      <th>...</th>\n",
       "      <th>V330</th>\n",
       "      <th>V331</th>\n",
       "      <th>V332</th>\n",
       "      <th>V333</th>\n",
       "      <th>V334</th>\n",
       "      <th>V335</th>\n",
       "      <th>V336</th>\n",
       "      <th>V337</th>\n",
       "      <th>V338</th>\n",
       "      <th>V339</th>\n",
       "    </tr>\n",
       "  </thead>\n",
       "  <tbody>\n",
       "    <tr>\n",
       "      <th>0</th>\n",
       "      <td>2987000</td>\n",
       "      <td>0</td>\n",
       "      <td>86400</td>\n",
       "      <td>68.5</td>\n",
       "      <td>W</td>\n",
       "      <td>13926</td>\n",
       "      <td>NaN</td>\n",
       "      <td>150.0</td>\n",
       "      <td>discover</td>\n",
       "      <td>142.0</td>\n",
       "      <td>...</td>\n",
       "      <td>NaN</td>\n",
       "      <td>NaN</td>\n",
       "      <td>NaN</td>\n",
       "      <td>NaN</td>\n",
       "      <td>NaN</td>\n",
       "      <td>NaN</td>\n",
       "      <td>NaN</td>\n",
       "      <td>NaN</td>\n",
       "      <td>NaN</td>\n",
       "      <td>NaN</td>\n",
       "    </tr>\n",
       "    <tr>\n",
       "      <th>1</th>\n",
       "      <td>2987001</td>\n",
       "      <td>0</td>\n",
       "      <td>86401</td>\n",
       "      <td>29.0</td>\n",
       "      <td>W</td>\n",
       "      <td>2755</td>\n",
       "      <td>404.0</td>\n",
       "      <td>150.0</td>\n",
       "      <td>mastercard</td>\n",
       "      <td>102.0</td>\n",
       "      <td>...</td>\n",
       "      <td>NaN</td>\n",
       "      <td>NaN</td>\n",
       "      <td>NaN</td>\n",
       "      <td>NaN</td>\n",
       "      <td>NaN</td>\n",
       "      <td>NaN</td>\n",
       "      <td>NaN</td>\n",
       "      <td>NaN</td>\n",
       "      <td>NaN</td>\n",
       "      <td>NaN</td>\n",
       "    </tr>\n",
       "  </tbody>\n",
       "</table>\n",
       "<p>2 rows × 394 columns</p>\n",
       "</div>"
      ],
      "text/plain": [
       "   TransactionID  isFraud  TransactionDT  TransactionAmt ProductCD  card1  \\\n",
       "0        2987000        0          86400            68.5         W  13926   \n",
       "1        2987001        0          86401            29.0         W   2755   \n",
       "\n",
       "   card2  card3       card4  card5  ... V330  V331  V332  V333  V334 V335  \\\n",
       "0    NaN  150.0    discover  142.0  ...  NaN   NaN   NaN   NaN   NaN  NaN   \n",
       "1  404.0  150.0  mastercard  102.0  ...  NaN   NaN   NaN   NaN   NaN  NaN   \n",
       "\n",
       "  V336  V337  V338  V339  \n",
       "0  NaN   NaN   NaN   NaN  \n",
       "1  NaN   NaN   NaN   NaN  \n",
       "\n",
       "[2 rows x 394 columns]"
      ]
     },
     "execution_count": 4,
     "metadata": {},
     "output_type": "execute_result"
    }
   ],
   "source": [
    "data = pd.read_csv(DATA_TRAIN)\n",
    "print(\"data.shape = {} rows, {} cols\".format(*data.shape))\n",
    "data.head(n=2)"
   ]
  },
  {
   "cell_type": "code",
   "execution_count": 5,
   "metadata": {},
   "outputs": [
    {
     "name": "stdout",
     "output_type": "stream",
     "text": [
      "data_test.shape = 100001 rows, 394 cols\n"
     ]
    },
    {
     "data": {
      "text/html": [
       "<div>\n",
       "<style scoped>\n",
       "    .dataframe tbody tr th:only-of-type {\n",
       "        vertical-align: middle;\n",
       "    }\n",
       "\n",
       "    .dataframe tbody tr th {\n",
       "        vertical-align: top;\n",
       "    }\n",
       "\n",
       "    .dataframe thead th {\n",
       "        text-align: right;\n",
       "    }\n",
       "</style>\n",
       "<table border=\"1\" class=\"dataframe\">\n",
       "  <thead>\n",
       "    <tr style=\"text-align: right;\">\n",
       "      <th></th>\n",
       "      <th>TransactionID</th>\n",
       "      <th>isFraud</th>\n",
       "      <th>TransactionDT</th>\n",
       "      <th>TransactionAmt</th>\n",
       "      <th>ProductCD</th>\n",
       "      <th>card1</th>\n",
       "      <th>card2</th>\n",
       "      <th>card3</th>\n",
       "      <th>card4</th>\n",
       "      <th>card5</th>\n",
       "      <th>...</th>\n",
       "      <th>V330</th>\n",
       "      <th>V331</th>\n",
       "      <th>V332</th>\n",
       "      <th>V333</th>\n",
       "      <th>V334</th>\n",
       "      <th>V335</th>\n",
       "      <th>V336</th>\n",
       "      <th>V337</th>\n",
       "      <th>V338</th>\n",
       "      <th>V339</th>\n",
       "    </tr>\n",
       "  </thead>\n",
       "  <tbody>\n",
       "    <tr>\n",
       "      <th>0</th>\n",
       "      <td>3287000</td>\n",
       "      <td>1</td>\n",
       "      <td>7415038</td>\n",
       "      <td>226.0</td>\n",
       "      <td>W</td>\n",
       "      <td>12473</td>\n",
       "      <td>555.0</td>\n",
       "      <td>150.0</td>\n",
       "      <td>visa</td>\n",
       "      <td>226.0</td>\n",
       "      <td>...</td>\n",
       "      <td>NaN</td>\n",
       "      <td>NaN</td>\n",
       "      <td>NaN</td>\n",
       "      <td>NaN</td>\n",
       "      <td>NaN</td>\n",
       "      <td>NaN</td>\n",
       "      <td>NaN</td>\n",
       "      <td>NaN</td>\n",
       "      <td>NaN</td>\n",
       "      <td>NaN</td>\n",
       "    </tr>\n",
       "    <tr>\n",
       "      <th>1</th>\n",
       "      <td>3287001</td>\n",
       "      <td>0</td>\n",
       "      <td>7415054</td>\n",
       "      <td>3072.0</td>\n",
       "      <td>W</td>\n",
       "      <td>15651</td>\n",
       "      <td>417.0</td>\n",
       "      <td>150.0</td>\n",
       "      <td>visa</td>\n",
       "      <td>226.0</td>\n",
       "      <td>...</td>\n",
       "      <td>NaN</td>\n",
       "      <td>NaN</td>\n",
       "      <td>NaN</td>\n",
       "      <td>NaN</td>\n",
       "      <td>NaN</td>\n",
       "      <td>NaN</td>\n",
       "      <td>NaN</td>\n",
       "      <td>NaN</td>\n",
       "      <td>NaN</td>\n",
       "      <td>NaN</td>\n",
       "    </tr>\n",
       "  </tbody>\n",
       "</table>\n",
       "<p>2 rows × 394 columns</p>\n",
       "</div>"
      ],
      "text/plain": [
       "   TransactionID  isFraud  TransactionDT  TransactionAmt ProductCD  card1  \\\n",
       "0        3287000        1        7415038           226.0         W  12473   \n",
       "1        3287001        0        7415054          3072.0         W  15651   \n",
       "\n",
       "   card2  card3 card4  card5  ... V330  V331  V332  V333  V334 V335 V336  \\\n",
       "0  555.0  150.0  visa  226.0  ...  NaN   NaN   NaN   NaN   NaN  NaN  NaN   \n",
       "1  417.0  150.0  visa  226.0  ...  NaN   NaN   NaN   NaN   NaN  NaN  NaN   \n",
       "\n",
       "   V337  V338  V339  \n",
       "0   NaN   NaN   NaN  \n",
       "1   NaN   NaN   NaN  \n",
       "\n",
       "[2 rows x 394 columns]"
      ]
     },
     "execution_count": 5,
     "metadata": {},
     "output_type": "execute_result"
    }
   ],
   "source": [
    "test_data = pd.read_csv(DATA_TEST)\n",
    "print(\"data_test.shape = {} rows, {} cols\".format(*test_data.shape))\n",
    "test_data.head(n=2)"
   ]
  },
  {
   "cell_type": "markdown",
   "metadata": {},
   "source": [
    "#### Быстрый просмотр данных"
   ]
  },
  {
   "cell_type": "code",
   "execution_count": 8,
   "metadata": {},
   "outputs": [
    {
     "name": "stdout",
     "output_type": "stream",
     "text": [
      "<class 'pandas.core.frame.DataFrame'>\n",
      "RangeIndex: 180000 entries, 0 to 179999\n",
      "Columns: 394 entries, TransactionID to V339\n",
      "dtypes: float64(376), int64(4), object(14)\n",
      "memory usage: 541.1+ MB\n"
     ]
    }
   ],
   "source": [
    "data.info()"
   ]
  },
  {
   "cell_type": "code",
   "execution_count": 9,
   "metadata": {},
   "outputs": [
    {
     "name": "stdout",
     "output_type": "stream",
     "text": [
      "<class 'pandas.core.frame.DataFrame'>\n",
      "RangeIndex: 100001 entries, 0 to 100000\n",
      "Columns: 394 entries, TransactionID to V339\n",
      "dtypes: float64(376), int64(4), object(14)\n",
      "memory usage: 300.6+ MB\n"
     ]
    }
   ],
   "source": [
    "test_data.info()"
   ]
  },
  {
   "cell_type": "code",
   "execution_count": 6,
   "metadata": {},
   "outputs": [],
   "source": [
    "ID_F = 'TransactionID'\n",
    "TARGET_F = 'isFraud'\n",
    "DT_F = 'TransactionDT'\n",
    "NUMERICAL_F = data.select_dtypes(include=[np.number]).columns.drop([TARGET_F, ID_F])\n",
    "CAT_F = data.select_dtypes(include='object').columns"
   ]
  },
  {
   "cell_type": "code",
   "execution_count": 7,
   "metadata": {},
   "outputs": [
    {
     "data": {
      "text/plain": [
       "Index(['TransactionDT', 'TransactionAmt', 'card1', 'card2', 'card3', 'card5',\n",
       "       'addr1', 'addr2', 'dist1', 'dist2',\n",
       "       ...\n",
       "       'V330', 'V331', 'V332', 'V333', 'V334', 'V335', 'V336', 'V337', 'V338',\n",
       "       'V339'],\n",
       "      dtype='object', length=378)"
      ]
     },
     "execution_count": 7,
     "metadata": {},
     "output_type": "execute_result"
    }
   ],
   "source": [
    "NUMERICAL_F"
   ]
  },
  {
   "cell_type": "code",
   "execution_count": 8,
   "metadata": {},
   "outputs": [
    {
     "data": {
      "text/plain": [
       "Index(['ProductCD', 'card4', 'card6', 'P_emaildomain', 'R_emaildomain', 'M1',\n",
       "       'M2', 'M3', 'M4', 'M5', 'M6', 'M7', 'M8', 'M9'],\n",
       "      dtype='object')"
      ]
     },
     "execution_count": 8,
     "metadata": {},
     "output_type": "execute_result"
    }
   ],
   "source": [
    "CAT_F"
   ]
  },
  {
   "cell_type": "code",
   "execution_count": 9,
   "metadata": {},
   "outputs": [],
   "source": [
    "# pd.to_timedelta(tr_data[DT_F], unit='s')"
   ]
  },
  {
   "cell_type": "markdown",
   "metadata": {},
   "source": [
    "### Подготовка данных для моделей"
   ]
  },
  {
   "cell_type": "code",
   "execution_count": 10,
   "metadata": {},
   "outputs": [
    {
     "name": "stdout",
     "output_type": "stream",
     "text": [
      "tr_df.shape = 180000 rows, 392 cols\n"
     ]
    }
   ],
   "source": [
    "target = data[TARGET_F]\n",
    "train_df = data.drop([ID_F, TARGET_F], axis=1)\n",
    "print(\"tr_df.shape = {} rows, {} cols\".format(*train_df.shape))"
   ]
  },
  {
   "cell_type": "markdown",
   "metadata": {},
   "source": [
    "#### Числовые данные"
   ]
  },
  {
   "cell_type": "code",
   "execution_count": 11,
   "metadata": {},
   "outputs": [],
   "source": [
    "def make_numeric_df(df: pd.DataFrame) -> pd.DataFrame:\n",
    "    return df[NUMERICAL_F]"
   ]
  },
  {
   "cell_type": "code",
   "execution_count": 12,
   "metadata": {},
   "outputs": [],
   "source": [
    "num_df = make_numeric_df(train_df)"
   ]
  },
  {
   "cell_type": "markdown",
   "metadata": {},
   "source": [
    "### Категориальные данные"
   ]
  },
  {
   "cell_type": "code",
   "execution_count": 13,
   "metadata": {},
   "outputs": [],
   "source": [
    "def make_small_cat(col: pd.Series, level: float = 0.05) -> pd.Series:\n",
    "    \"\"\" Заменяет значения признака на other если в отсортированной \n",
    "        по возрастанию коммулятивной сумме значение в диапазоне [0, level]\n",
    "    \"\"\"\n",
    "    try:\n",
    "        vc_p =col.value_counts(normalize=True,ascending=True)\n",
    "        p_other_cat = vc_p[vc_p.cumsum() <= 0.05].index.to_list()\n",
    "        return col.apply(lambda x: 'other' if x in p_other_cat else x)\n",
    "    except Exception as err:\n",
    "        print(f'Ошибка при обработке {col.name}')\n",
    "        raise err"
   ]
  },
  {
   "cell_type": "code",
   "execution_count": 14,
   "metadata": {},
   "outputs": [],
   "source": [
    "def make_category_df(df: pd.DataFrame) -> pd.DataFrame:\n",
    "    cat_data = df[CAT_F].copy()\n",
    "    # сократим кол-во категорий в мейлах\n",
    "    cat_data['P_emaildomain'] = make_small_cat(cat_data['P_emaildomain'])\n",
    "    cat_data['R_emaildomain'] = make_small_cat(cat_data['R_emaildomain'])\n",
    "    # encoding бинарных переменных\n",
    "    m_dict = {'T': 0, 'F': 1}\n",
    "    m_cols = {'M1','M2', 'M3', 'M5', 'M6', 'M7', 'M8', 'M9'}\n",
    "    for col in cat_data:\n",
    "        if col in m_cols:\n",
    "            print(col, end='')\n",
    "            cat_data[col] = cat_data[col].apply(m_dict.get)\n",
    "    print()\n",
    "    # дальше все в дамми\n",
    "    return pd.get_dummies(cat_data)"
   ]
  },
  {
   "cell_type": "code",
   "execution_count": 15,
   "metadata": {},
   "outputs": [
    {
     "name": "stdout",
     "output_type": "stream",
     "text": [
      "M1M2M3M5M6M7M8M9\n"
     ]
    }
   ],
   "source": [
    "# обработанные категориальные\n",
    "cat_df = make_category_df(train_df)"
   ]
  },
  {
   "cell_type": "code",
   "execution_count": 16,
   "metadata": {},
   "outputs": [],
   "source": [
    "# num+cat данные\n",
    "prep_df = num_df.join(cat_df)"
   ]
  },
  {
   "cell_type": "code",
   "execution_count": 17,
   "metadata": {},
   "outputs": [
    {
     "name": "stdout",
     "output_type": "stream",
     "text": [
      "<class 'pandas.core.frame.DataFrame'>\n",
      "RangeIndex: 180000 entries, 0 to 179999\n",
      "Columns: 431 entries, TransactionDT to M4_M2\n",
      "dtypes: float64(384), int64(2), uint8(45)\n",
      "memory usage: 537.8 MB\n"
     ]
    }
   ],
   "source": [
    "prep_df.info()"
   ]
  },
  {
   "cell_type": "code",
   "execution_count": 18,
   "metadata": {},
   "outputs": [],
   "source": [
    "# разбиваем все на трайн и валид\n",
    "x_train, x_valid, num_train, num_valid, prep_train, prep_valid, y_train, y_valid = train_test_split(\n",
    "    train_df, num_df, prep_df, target, train_size=0.75, stratify=target, random_state=1\n",
    ")"
   ]
  },
  {
   "cell_type": "code",
   "execution_count": 19,
   "metadata": {},
   "outputs": [
    {
     "name": "stdout",
     "output_type": "stream",
     "text": [
      "x_train.shape = 135000 rows, 392 cols\n",
      "x_valid.shape = 45000 rows, 392 cols\n"
     ]
    }
   ],
   "source": [
    "print(\"x_train.shape = {} rows, {} cols\".format(*x_train.shape))\n",
    "print(\"x_valid.shape = {} rows, {} cols\".format(*x_valid.shape))"
   ]
  },
  {
   "cell_type": "code",
   "execution_count": 20,
   "metadata": {},
   "outputs": [
    {
     "name": "stdout",
     "output_type": "stream",
     "text": [
      "num_train.shape = 135000 rows, 378 cols\n",
      "num_valid.shape = 45000 rows, 378 cols\n"
     ]
    }
   ],
   "source": [
    "print(\"num_train.shape = {} rows, {} cols\".format(*num_train.shape))\n",
    "print(\"num_valid.shape = {} rows, {} cols\".format(*num_valid.shape))"
   ]
  },
  {
   "cell_type": "code",
   "execution_count": 21,
   "metadata": {},
   "outputs": [
    {
     "name": "stdout",
     "output_type": "stream",
     "text": [
      "prep_train.shape = 135000 rows, 431 cols\n",
      "prep_valid.shape = 45000 rows, 431 cols\n"
     ]
    }
   ],
   "source": [
    "print(\"prep_train.shape = {} rows, {} cols\".format(*prep_train.shape))\n",
    "print(\"prep_valid.shape = {} rows, {} cols\".format(*prep_valid.shape))"
   ]
  },
  {
   "cell_type": "markdown",
   "metadata": {},
   "source": [
    "## XGBoost API"
   ]
  },
  {
   "cell_type": "code",
   "execution_count": 28,
   "metadata": {},
   "outputs": [],
   "source": [
    "import xgboost as xgb"
   ]
  },
  {
   "cell_type": "code",
   "execution_count": 29,
   "metadata": {},
   "outputs": [],
   "source": [
    "def train_xgb(params, x_train, x_valid, y_train, y_valid):\n",
    "    \n",
    "    dtrain = xgb.DMatrix(data=x_train, label=y_train)\n",
    "    dvalid = xgb.DMatrix(data=x_valid, label=y_valid)\n",
    "    \n",
    "    xg_model = xgb.train(\n",
    "        params=params,\n",
    "        dtrain=dtrain,\n",
    "        num_boost_round=10000,\n",
    "        early_stopping_rounds=100,\n",
    "        evals=[(dtrain, \"train\"), (dvalid, \"valid\")],\n",
    "        verbose_eval=10,\n",
    "        maximize=True,\n",
    "    )\n",
    "        \n",
    "    return  xg_model\n"
   ]
  },
  {
   "cell_type": "code",
   "execution_count": 30,
   "metadata": {},
   "outputs": [],
   "source": [
    "def cv_xgb(params, x_train, y_train, n_fold=5):\n",
    "    dtrain = xgb.DMatrix(data=x_train, label=y_train)\n",
    "    cv_result = xgb.cv(\n",
    "        params=params,\n",
    "        dtrain=dtrain,\n",
    "        num_boost_round=10000,\n",
    "        early_stopping_rounds=100,\n",
    "        verbose_eval=10,\n",
    "        stratified=True,\n",
    "        metrics=\"auc\",\n",
    "        maximize=True,\n",
    "        shuffle=True,\n",
    "        nfold=n_fold,\n",
    "    )\n",
    "    return cv_result"
   ]
  },
  {
   "cell_type": "code",
   "execution_count": 125,
   "metadata": {},
   "outputs": [],
   "source": [
    "def plotResult(cv_result, algo_title):\n",
    "    fig = plt.figure(figsize=(15, 5))\n",
    "    plt.plot(cv_result[\"train-auc-mean\"], color=\"blue\", linewidth=3, label=\"train\")\n",
    "    plt.plot(cv_result[\"test-auc-mean\"], color=\"orange\", linewidth=3, label=\"test\")\n",
    "    plt.fill_between(\n",
    "        x=cv_result.index,\n",
    "        y1=cv_result[\"train-auc-mean\"] - cv_result[\"train-auc-std\"],\n",
    "        y2=cv_result[\"train-auc-mean\"] + cv_result[\"train-auc-std\"],\n",
    "        alpha=0.25, color=\"blue\"\n",
    "    )\n",
    "    plt.fill_between(\n",
    "        x=cv_result.index,\n",
    "        y1=cv_result[\"test-auc-mean\"] - cv_result[\"test-auc-std\"],\n",
    "        y2=cv_result[\"test-auc-mean\"] + cv_result[\"test-auc-std\"],\n",
    "        alpha=0.25, color=\"orange\"\n",
    "    )\n",
    "    plt.title(f\"{algo_title}, CV-Results\", size=14)\n",
    "    plt.xlabel(\"n_iterations\", size=14)\n",
    "    plt.xlim(0, cv_result.index.max())\n",
    "    plt.ylabel(\"ROC-AUC\", size=14)\n",
    "    plt.legend(loc=\"best\")\n",
    "    \n",
    "    \n",
    "def plotXgbResult(cv_result):\n",
    "    plotXgbResult(cv_result, 'XGBoost')"
   ]
  },
  {
   "cell_type": "code",
   "execution_count": 56,
   "metadata": {},
   "outputs": [],
   "source": [
    "params = {\n",
    "    \"booster\": \"gbtree\",\n",
    "    \"objective\": \"binary:logistic\",\n",
    "    \"eval_metric\": \"auc\",\n",
    "    \"learning_rate\": 1e-1,\n",
    "    # \"n_estimators\": 250,\n",
    "    \"reg_lambda\": 100,\n",
    "    \"max_depth\": 4,\n",
    "    \"gamma\": 10,\n",
    "    \"nthread\": 6,\n",
    "    \"seed\": 42,\n",
    "}\n",
    "params['gpu_id'] = 1\n",
    "params['tree_method'] = 'gpu_hist'\n"
   ]
  },
  {
   "cell_type": "markdown",
   "metadata": {},
   "source": [
    "#### XGBoost - числовые"
   ]
  },
  {
   "cell_type": "code",
   "execution_count": 33,
   "metadata": {},
   "outputs": [
    {
     "name": "stdout",
     "output_type": "stream",
     "text": [
      "[0]\ttrain-auc:0.64819\tvalid-auc:0.65529\n",
      "Multiple eval metrics have been passed: 'valid-auc' will be used for early stopping.\n",
      "\n",
      "Will train until valid-auc hasn't improved in 100 rounds.\n",
      "[10]\ttrain-auc:0.74610\tvalid-auc:0.74640\n",
      "[20]\ttrain-auc:0.82007\tvalid-auc:0.82447\n",
      "[30]\ttrain-auc:0.86097\tvalid-auc:0.86787\n",
      "[40]\ttrain-auc:0.86795\tvalid-auc:0.87335\n",
      "[50]\ttrain-auc:0.87952\tvalid-auc:0.88496\n",
      "[60]\ttrain-auc:0.88604\tvalid-auc:0.88955\n",
      "[70]\ttrain-auc:0.88928\tvalid-auc:0.89204\n",
      "[80]\ttrain-auc:0.89209\tvalid-auc:0.89382\n",
      "[90]\ttrain-auc:0.89510\tvalid-auc:0.89593\n",
      "[100]\ttrain-auc:0.89765\tvalid-auc:0.89777\n",
      "[110]\ttrain-auc:0.89932\tvalid-auc:0.89906\n",
      "[120]\ttrain-auc:0.89932\tvalid-auc:0.89906\n",
      "[130]\ttrain-auc:0.89932\tvalid-auc:0.89906\n",
      "[140]\ttrain-auc:0.89932\tvalid-auc:0.89906\n",
      "[150]\ttrain-auc:0.89932\tvalid-auc:0.89906\n",
      "[160]\ttrain-auc:0.89932\tvalid-auc:0.89906\n",
      "[170]\ttrain-auc:0.89932\tvalid-auc:0.89906\n",
      "[180]\ttrain-auc:0.89932\tvalid-auc:0.89906\n",
      "[190]\ttrain-auc:0.89932\tvalid-auc:0.89906\n",
      "[200]\ttrain-auc:0.89932\tvalid-auc:0.89906\n",
      "[210]\ttrain-auc:0.89932\tvalid-auc:0.89906\n",
      "Stopping. Best iteration:\n",
      "[110]\ttrain-auc:0.89932\tvalid-auc:0.89906\n",
      "\n",
      "Wall time: 6.32 s\n"
     ]
    }
   ],
   "source": [
    "%%time\n",
    "model = train_xgb(params, num_train, num_valid, y_train, y_valid)"
   ]
  },
  {
   "cell_type": "code",
   "execution_count": 57,
   "metadata": {},
   "outputs": [
    {
     "name": "stdout",
     "output_type": "stream",
     "text": [
      "[0]\ttrain-auc:0.62718+0.01094\ttest-auc:0.62467+0.01491\n",
      "[10]\ttrain-auc:0.77757+0.01413\ttest-auc:0.77465+0.02327\n",
      "[20]\ttrain-auc:0.82439+0.00455\ttest-auc:0.82047+0.00809\n",
      "[30]\ttrain-auc:0.85273+0.00603\ttest-auc:0.84898+0.00637\n",
      "[40]\ttrain-auc:0.86870+0.00143\ttest-auc:0.86369+0.00594\n",
      "[50]\ttrain-auc:0.87906+0.00104\ttest-auc:0.87292+0.00437\n",
      "[60]\ttrain-auc:0.88546+0.00107\ttest-auc:0.87838+0.00422\n",
      "[70]\ttrain-auc:0.88920+0.00097\ttest-auc:0.88141+0.00458\n",
      "[80]\ttrain-auc:0.89198+0.00103\ttest-auc:0.88377+0.00447\n",
      "[90]\ttrain-auc:0.89458+0.00094\ttest-auc:0.88583+0.00472\n",
      "[100]\ttrain-auc:0.89668+0.00073\ttest-auc:0.88742+0.00498\n",
      "[110]\ttrain-auc:0.89667+0.00072\ttest-auc:0.88743+0.00498\n",
      "[120]\ttrain-auc:0.89667+0.00072\ttest-auc:0.88743+0.00498\n",
      "[130]\ttrain-auc:0.89667+0.00072\ttest-auc:0.88743+0.00498\n",
      "[140]\ttrain-auc:0.89667+0.00072\ttest-auc:0.88743+0.00498\n",
      "[150]\ttrain-auc:0.89667+0.00072\ttest-auc:0.88743+0.00498\n",
      "[160]\ttrain-auc:0.89667+0.00072\ttest-auc:0.88743+0.00498\n",
      "[170]\ttrain-auc:0.89667+0.00072\ttest-auc:0.88743+0.00498\n",
      "[180]\ttrain-auc:0.89667+0.00072\ttest-auc:0.88743+0.00498\n",
      "[190]\ttrain-auc:0.89667+0.00072\ttest-auc:0.88743+0.00498\n",
      "[200]\ttrain-auc:0.89667+0.00072\ttest-auc:0.88743+0.00498\n",
      "Wall time: 19.6 s\n"
     ]
    },
    {
     "data": {
      "image/png": "[encoded data removed]",
      "text/plain": [
       "<Figure size 1080x360 with 1 Axes>"
      ]
     },
     "metadata": {
      "needs_background": "light"
     },
     "output_type": "display_data"
    }
   ],
   "source": [
    "%%time\n",
    "# кросвалидация\n",
    "cv_xgb_num = cv_xgb(params, num_train, y_train)\n",
    "plotXgbResult(cv_xgb_num)"
   ]
  },
  {
   "cell_type": "markdown",
   "metadata": {},
   "source": [
    "#### XGBoost - числовые и обработанные категориальные"
   ]
  },
  {
   "cell_type": "code",
   "execution_count": 35,
   "metadata": {},
   "outputs": [
    {
     "name": "stdout",
     "output_type": "stream",
     "text": [
      "[0]\ttrain-auc:0.64819\tvalid-auc:0.65529\n",
      "Multiple eval metrics have been passed: 'valid-auc' will be used for early stopping.\n",
      "\n",
      "Will train until valid-auc hasn't improved in 100 rounds.\n",
      "[10]\ttrain-auc:0.74610\tvalid-auc:0.74640\n",
      "[20]\ttrain-auc:0.81983\tvalid-auc:0.82434\n",
      "[30]\ttrain-auc:0.86089\tvalid-auc:0.86836\n",
      "[40]\ttrain-auc:0.87294\tvalid-auc:0.87844\n",
      "[50]\ttrain-auc:0.88426\tvalid-auc:0.88780\n",
      "[60]\ttrain-auc:0.89188\tvalid-auc:0.89390\n",
      "[70]\ttrain-auc:0.89637\tvalid-auc:0.89715\n",
      "[80]\ttrain-auc:0.90030\tvalid-auc:0.90037\n",
      "[90]\ttrain-auc:0.90348\tvalid-auc:0.90253\n",
      "[100]\ttrain-auc:0.90560\tvalid-auc:0.90403\n",
      "[110]\ttrain-auc:0.90783\tvalid-auc:0.90497\n",
      "[120]\ttrain-auc:0.90923\tvalid-auc:0.90609\n",
      "[130]\ttrain-auc:0.90923\tvalid-auc:0.90609\n",
      "[140]\ttrain-auc:0.90923\tvalid-auc:0.90609\n",
      "[150]\ttrain-auc:0.90923\tvalid-auc:0.90609\n",
      "[160]\ttrain-auc:0.90923\tvalid-auc:0.90609\n",
      "[170]\ttrain-auc:0.90923\tvalid-auc:0.90609\n",
      "[180]\ttrain-auc:0.90923\tvalid-auc:0.90609\n",
      "[190]\ttrain-auc:0.90923\tvalid-auc:0.90609\n",
      "[200]\ttrain-auc:0.90923\tvalid-auc:0.90609\n",
      "[210]\ttrain-auc:0.90923\tvalid-auc:0.90609\n",
      "Stopping. Best iteration:\n",
      "[118]\ttrain-auc:0.90923\tvalid-auc:0.90609\n",
      "\n",
      "Wall time: 7.06 s\n"
     ]
    }
   ],
   "source": [
    "%%time\n",
    "model = train_xgb(params, prep_train, prep_valid, y_train, y_valid)"
   ]
  },
  {
   "cell_type": "code",
   "execution_count": 58,
   "metadata": {},
   "outputs": [
    {
     "name": "stdout",
     "output_type": "stream",
     "text": [
      "[0]\ttrain-auc:0.62718+0.01094\ttest-auc:0.62467+0.01491\n",
      "[10]\ttrain-auc:0.77759+0.01414\ttest-auc:0.77467+0.02329\n",
      "[20]\ttrain-auc:0.82452+0.00473\ttest-auc:0.82056+0.00820\n",
      "[30]\ttrain-auc:0.85605+0.00445\ttest-auc:0.85167+0.00655\n",
      "[40]\ttrain-auc:0.87199+0.00122\ttest-auc:0.86674+0.00679\n",
      "[50]\ttrain-auc:0.88326+0.00106\ttest-auc:0.87713+0.00488\n",
      "[60]\ttrain-auc:0.89045+0.00071\ttest-auc:0.88319+0.00560\n",
      "[70]\ttrain-auc:0.89566+0.00078\ttest-auc:0.88793+0.00543\n",
      "[80]\ttrain-auc:0.89949+0.00093\ttest-auc:0.89136+0.00551\n",
      "[90]\ttrain-auc:0.90226+0.00118\ttest-auc:0.89387+0.00527\n",
      "[100]\ttrain-auc:0.90490+0.00118\ttest-auc:0.89598+0.00527\n",
      "[110]\ttrain-auc:0.90646+0.00145\ttest-auc:0.89738+0.00507\n",
      "[120]\ttrain-auc:0.90646+0.00145\ttest-auc:0.89738+0.00507\n",
      "[130]\ttrain-auc:0.90646+0.00145\ttest-auc:0.89738+0.00507\n",
      "[140]\ttrain-auc:0.90646+0.00145\ttest-auc:0.89738+0.00507\n",
      "[150]\ttrain-auc:0.90646+0.00145\ttest-auc:0.89738+0.00507\n",
      "[160]\ttrain-auc:0.90646+0.00145\ttest-auc:0.89738+0.00507\n",
      "[170]\ttrain-auc:0.90646+0.00145\ttest-auc:0.89738+0.00507\n",
      "[180]\ttrain-auc:0.90646+0.00145\ttest-auc:0.89738+0.00507\n",
      "[190]\ttrain-auc:0.90646+0.00145\ttest-auc:0.89738+0.00507\n",
      "[200]\ttrain-auc:0.90646+0.00145\ttest-auc:0.89738+0.00507\n",
      "Wall time: 23.7 s\n"
     ]
    },
    {
     "data": {
      "image/png": "[encoded data removed]",
      "text/plain": [
       "<Figure size 1080x360 with 1 Axes>"
      ]
     },
     "metadata": {
      "needs_background": "light"
     },
     "output_type": "display_data"
    }
   ],
   "source": [
    "%%time\n",
    "# кросвалидация\n",
    "cv_xgb_prep = cv_xgb(params, prep_train, y_train)\n",
    "plotXgbResult(cv_xgb_prep)"
   ]
  },
  {
   "cell_type": "markdown",
   "metadata": {},
   "source": [
    "### Вывод по XGBoost\n",
    "\n",
    "Добавление предобработанных категорий повышает качество на 0,01 "
   ]
  },
  {
   "cell_type": "code",
   "execution_count": null,
   "metadata": {},
   "outputs": [],
   "source": []
  },
  {
   "cell_type": "markdown",
   "metadata": {},
   "source": [
    "## LightGBM\n"
   ]
  },
  {
   "cell_type": "code",
   "execution_count": 70,
   "metadata": {},
   "outputs": [],
   "source": [
    "import lightgbm as lgb"
   ]
  },
  {
   "cell_type": "code",
   "execution_count": 71,
   "metadata": {},
   "outputs": [],
   "source": [
    "def train_lgbm(params, x_train, x_valid, y_train, y_valid, cat_list='auto'):\n",
    "    \n",
    "    dtrain = lgb.Dataset(data=x_train, label=y_train)\n",
    "    dvalid = lgb.Dataset(data=x_valid, label=y_valid)\n",
    "    \n",
    "    model = lgb.train(\n",
    "        params=params,\n",
    "        train_set=dtrain,\n",
    "        num_boost_round=10000,\n",
    "        early_stopping_rounds=50,\n",
    "        valid_sets=[dtrain, dvalid],\n",
    "        valid_names=[\"train\", \"valid\"],\n",
    "        verbose_eval=50,\n",
    "        categorical_feature=\"auto\",\n",
    "    )\n",
    "        \n",
    "    return  model"
   ]
  },
  {
   "cell_type": "code",
   "execution_count": 72,
   "metadata": {},
   "outputs": [],
   "source": [
    "def cv_lgbm(params, x_train, y_train, n_fold=5):\n",
    "    dtrain = lgb.Dataset(data=x_train, label=y_train)\n",
    "    cv_result = lgb.cv(\n",
    "        params=params,\n",
    "        train_set=dtrain,\n",
    "        num_boost_round=10000,\n",
    "        early_stopping_rounds=50,\n",
    "        categorical_feature=\"auto\",\n",
    "        verbose_eval=50,\n",
    "        stratified=True,\n",
    "        metrics=\"auc\",\n",
    "        shuffle=True,\n",
    "        nfold=n_fold,\n",
    "        eval_train_metric=True\n",
    "    )\n",
    "    return cv_result"
   ]
  },
  {
   "cell_type": "code",
   "execution_count": 126,
   "metadata": {},
   "outputs": [],
   "source": [
    "# ['train auc-mean', 'train auc-stdv', 'valid auc-mean', 'valid auc-stdv']\n",
    "def plotLgbmResult(cv_result):\n",
    "    res = pd.DataFrame.from_dict(cv_result)\n",
    "    res.columns =['train-auc-mean', 'train-auc-std', 'test-auc-mean', 'test-auc-std']\n",
    "    plotResult(res, 'LGBM')"
   ]
  },
  {
   "cell_type": "code",
   "execution_count": 73,
   "metadata": {},
   "outputs": [],
   "source": [
    "params = {\n",
    "    \"boosting_type\": \"gbdt\",\n",
    "    \"objective\": \"binary\",\n",
    "    \"metric\": \"auc\",\n",
    "    \"learning_rate\": 0.01,\n",
    "#     \"n_estimators\": 250,\n",
    "    'force_col_wise': True,\n",
    "    \"n_jobs\": 6,\n",
    "    \"seed\": 27\n",
    "}\n",
    "# params['device_type'] = 'gpu'\n",
    "# params['gpu_platform_id'] = 0\n",
    "# params['gpu_device_id'] = 1\n",
    "# params['max_bin'] = 63\n",
    "# params[\"boosting_type\"] = \"goss\""
   ]
  },
  {
   "cell_type": "markdown",
   "metadata": {},
   "source": [
    "#### LGBM - числовые"
   ]
  },
  {
   "cell_type": "code",
   "execution_count": 64,
   "metadata": {},
   "outputs": [
    {
     "name": "stdout",
     "output_type": "stream",
     "text": [
      "[LightGBM] [Info] Number of positive: 3856, number of negative: 131144\n",
      "[LightGBM] [Info] Total Bins 31502\n",
      "[LightGBM] [Info] Number of data points in the train set: 135000, number of used features: 376\n",
      "[LightGBM] [Info] [binary:BoostFromScore]: pavg=0.028563 -> initscore=-3.526666\n",
      "[LightGBM] [Info] Start training from score -3.526666\n",
      "Training until validation scores don't improve for 50 rounds\n",
      "[50]\ttrain's auc: 0.87376\tvalid's auc: 0.876981\n",
      "[100]\ttrain's auc: 0.889835\tvalid's auc: 0.889648\n",
      "[150]\ttrain's auc: 0.901469\tvalid's auc: 0.898772\n",
      "[200]\ttrain's auc: 0.910303\tvalid's auc: 0.905218\n",
      "[250]\ttrain's auc: 0.919784\tvalid's auc: 0.90989\n",
      "[300]\ttrain's auc: 0.926771\tvalid's auc: 0.913232\n",
      "[350]\ttrain's auc: 0.932686\tvalid's auc: 0.91684\n",
      "[400]\ttrain's auc: 0.936827\tvalid's auc: 0.919423\n",
      "[450]\ttrain's auc: 0.940738\tvalid's auc: 0.922061\n",
      "[500]\ttrain's auc: 0.944073\tvalid's auc: 0.923892\n",
      "[550]\ttrain's auc: 0.948033\tvalid's auc: 0.926292\n",
      "[600]\ttrain's auc: 0.951111\tvalid's auc: 0.928175\n",
      "[650]\ttrain's auc: 0.953577\tvalid's auc: 0.929547\n",
      "[700]\ttrain's auc: 0.956442\tvalid's auc: 0.930807\n",
      "[750]\ttrain's auc: 0.958927\tvalid's auc: 0.931948\n",
      "[800]\ttrain's auc: 0.961301\tvalid's auc: 0.933109\n",
      "[850]\ttrain's auc: 0.963345\tvalid's auc: 0.933983\n",
      "[900]\ttrain's auc: 0.965163\tvalid's auc: 0.93466\n",
      "[950]\ttrain's auc: 0.966939\tvalid's auc: 0.935128\n",
      "[1000]\ttrain's auc: 0.968498\tvalid's auc: 0.935959\n",
      "[1050]\ttrain's auc: 0.970101\tvalid's auc: 0.936522\n",
      "[1100]\ttrain's auc: 0.971622\tvalid's auc: 0.937061\n",
      "[1150]\ttrain's auc: 0.973087\tvalid's auc: 0.937957\n",
      "[1200]\ttrain's auc: 0.974298\tvalid's auc: 0.938721\n",
      "[1250]\ttrain's auc: 0.97535\tvalid's auc: 0.939246\n",
      "[1300]\ttrain's auc: 0.976336\tvalid's auc: 0.939645\n",
      "[1350]\ttrain's auc: 0.977338\tvalid's auc: 0.940076\n",
      "[1400]\ttrain's auc: 0.978361\tvalid's auc: 0.94063\n",
      "[1450]\ttrain's auc: 0.979205\tvalid's auc: 0.940917\n",
      "[1500]\ttrain's auc: 0.98008\tvalid's auc: 0.94146\n",
      "[1550]\ttrain's auc: 0.980762\tvalid's auc: 0.94174\n",
      "[1600]\ttrain's auc: 0.981345\tvalid's auc: 0.942244\n",
      "[1650]\ttrain's auc: 0.981955\tvalid's auc: 0.942557\n",
      "[1700]\ttrain's auc: 0.982587\tvalid's auc: 0.942793\n",
      "[1750]\ttrain's auc: 0.983133\tvalid's auc: 0.943078\n",
      "[1800]\ttrain's auc: 0.983616\tvalid's auc: 0.943187\n",
      "[1850]\ttrain's auc: 0.984164\tvalid's auc: 0.943467\n",
      "[1900]\ttrain's auc: 0.984602\tvalid's auc: 0.943799\n",
      "[1950]\ttrain's auc: 0.985157\tvalid's auc: 0.944077\n",
      "[2000]\ttrain's auc: 0.985748\tvalid's auc: 0.944398\n",
      "[2050]\ttrain's auc: 0.986214\tvalid's auc: 0.944577\n",
      "[2100]\ttrain's auc: 0.986693\tvalid's auc: 0.944921\n",
      "[2150]\ttrain's auc: 0.987151\tvalid's auc: 0.945116\n",
      "[2200]\ttrain's auc: 0.987566\tvalid's auc: 0.945264\n",
      "[2250]\ttrain's auc: 0.987976\tvalid's auc: 0.945346\n",
      "[2300]\ttrain's auc: 0.988326\tvalid's auc: 0.94551\n",
      "[2350]\ttrain's auc: 0.988655\tvalid's auc: 0.945769\n",
      "[2400]\ttrain's auc: 0.989036\tvalid's auc: 0.946138\n",
      "[2450]\ttrain's auc: 0.989356\tvalid's auc: 0.946422\n",
      "[2500]\ttrain's auc: 0.989686\tvalid's auc: 0.946687\n",
      "[2550]\ttrain's auc: 0.990041\tvalid's auc: 0.946891\n",
      "[2600]\ttrain's auc: 0.990296\tvalid's auc: 0.947067\n",
      "[2650]\ttrain's auc: 0.990625\tvalid's auc: 0.947296\n",
      "[2700]\ttrain's auc: 0.991041\tvalid's auc: 0.947415\n",
      "[2750]\ttrain's auc: 0.991408\tvalid's auc: 0.947639\n",
      "[2800]\ttrain's auc: 0.991662\tvalid's auc: 0.947859\n",
      "[2850]\ttrain's auc: 0.991881\tvalid's auc: 0.9481\n",
      "[2900]\ttrain's auc: 0.992144\tvalid's auc: 0.94835\n",
      "[2950]\ttrain's auc: 0.992382\tvalid's auc: 0.948445\n",
      "[3000]\ttrain's auc: 0.992604\tvalid's auc: 0.94858\n",
      "[3050]\ttrain's auc: 0.992829\tvalid's auc: 0.948737\n",
      "[3100]\ttrain's auc: 0.993068\tvalid's auc: 0.949029\n",
      "[3150]\ttrain's auc: 0.993291\tvalid's auc: 0.949181\n",
      "[3200]\ttrain's auc: 0.993483\tvalid's auc: 0.949355\n",
      "[3250]\ttrain's auc: 0.993802\tvalid's auc: 0.949577\n",
      "[3300]\ttrain's auc: 0.993977\tvalid's auc: 0.949611\n",
      "[3350]\ttrain's auc: 0.9942\tvalid's auc: 0.949752\n",
      "[3400]\ttrain's auc: 0.994383\tvalid's auc: 0.94984\n",
      "[3450]\ttrain's auc: 0.994545\tvalid's auc: 0.949991\n",
      "[3500]\ttrain's auc: 0.994685\tvalid's auc: 0.950116\n",
      "[3550]\ttrain's auc: 0.994835\tvalid's auc: 0.950281\n",
      "[3600]\ttrain's auc: 0.995088\tvalid's auc: 0.950436\n",
      "[3650]\ttrain's auc: 0.995295\tvalid's auc: 0.950555\n",
      "[3700]\ttrain's auc: 0.995437\tvalid's auc: 0.950685\n",
      "[3750]\ttrain's auc: 0.995601\tvalid's auc: 0.950817\n",
      "[3800]\ttrain's auc: 0.995729\tvalid's auc: 0.950902\n",
      "[3850]\ttrain's auc: 0.99589\tvalid's auc: 0.950957\n",
      "[3900]\ttrain's auc: 0.996014\tvalid's auc: 0.95108\n",
      "[3950]\ttrain's auc: 0.996126\tvalid's auc: 0.951152\n",
      "[4000]\ttrain's auc: 0.996227\tvalid's auc: 0.951266\n",
      "[4050]\ttrain's auc: 0.996321\tvalid's auc: 0.951346\n",
      "[4100]\ttrain's auc: 0.996417\tvalid's auc: 0.951376\n",
      "[4150]\ttrain's auc: 0.996554\tvalid's auc: 0.95151\n",
      "[4200]\ttrain's auc: 0.99672\tvalid's auc: 0.951575\n",
      "[4250]\ttrain's auc: 0.996808\tvalid's auc: 0.951621\n",
      "[4300]\ttrain's auc: 0.996931\tvalid's auc: 0.951646\n",
      "[4350]\ttrain's auc: 0.99707\tvalid's auc: 0.951648\n",
      "Early stopping, best iteration is:\n",
      "[4324]\ttrain's auc: 0.997009\tvalid's auc: 0.951668\n",
      "Wall time: 4min 31s\n"
     ]
    }
   ],
   "source": [
    "%%time\n",
    "# числовые данные\n",
    "model = train_lgbm(params, num_train, num_valid, y_train, y_valid)"
   ]
  },
  {
   "cell_type": "code",
   "execution_count": 74,
   "metadata": {},
   "outputs": [
    {
     "name": "stdout",
     "output_type": "stream",
     "text": [
      "[LightGBM] [Info] Number of positive: 3085, number of negative: 104915\n",
      "[LightGBM] [Info] Total Bins 31502\n",
      "[LightGBM] [Info] Number of data points in the train set: 108000, number of used features: 376\n",
      "[LightGBM] [Info] Number of positive: 3085, number of negative: 104915\n",
      "[LightGBM] [Info] Total Bins 31502\n",
      "[LightGBM] [Info] Number of data points in the train set: 108000, number of used features: 376\n",
      "[LightGBM] [Info] Number of positive: 3085, number of negative: 104915\n",
      "[LightGBM] [Info] Total Bins 31502\n",
      "[LightGBM] [Info] Number of data points in the train set: 108000, number of used features: 376\n",
      "[LightGBM] [Info] Number of positive: 3085, number of negative: 104915\n",
      "[LightGBM] [Info] Total Bins 31502\n",
      "[LightGBM] [Info] Number of data points in the train set: 108000, number of used features: 376\n",
      "[LightGBM] [Info] Number of positive: 3084, number of negative: 104916\n",
      "[LightGBM] [Info] Total Bins 31502\n",
      "[LightGBM] [Info] Number of data points in the train set: 108000, number of used features: 376\n",
      "[LightGBM] [Info] [binary:BoostFromScore]: pavg=0.028565 -> initscore=-3.526599\n",
      "[LightGBM] [Info] Start training from score -3.526599\n",
      "[LightGBM] [Info] [binary:BoostFromScore]: pavg=0.028565 -> initscore=-3.526599\n",
      "[LightGBM] [Info] Start training from score -3.526599\n",
      "[LightGBM] [Info] [binary:BoostFromScore]: pavg=0.028565 -> initscore=-3.526599\n",
      "[LightGBM] [Info] Start training from score -3.526599\n",
      "[LightGBM] [Info] [binary:BoostFromScore]: pavg=0.028565 -> initscore=-3.526599\n",
      "[LightGBM] [Info] Start training from score -3.526599\n",
      "[LightGBM] [Info] [binary:BoostFromScore]: pavg=0.028556 -> initscore=-3.526933\n",
      "[LightGBM] [Info] Start training from score -3.526933\n",
      "[50]\tcv_agg's train auc: 0.876119 + 0.002209\tcv_agg's valid auc: 0.868867 + 0.00433114\n",
      "[100]\tcv_agg's train auc: 0.891196 + 0.00213764\tcv_agg's valid auc: 0.880093 + 0.00441151\n",
      "[150]\tcv_agg's train auc: 0.902587 + 0.00104407\tcv_agg's valid auc: 0.888303 + 0.0054223\n",
      "[200]\tcv_agg's train auc: 0.911748 + 0.0016127\tcv_agg's valid auc: 0.894721 + 0.00515357\n",
      "[250]\tcv_agg's train auc: 0.921282 + 0.00148126\tcv_agg's valid auc: 0.900607 + 0.00517318\n",
      "[300]\tcv_agg's train auc: 0.92828 + 0.00144838\tcv_agg's valid auc: 0.90503 + 0.00550988\n",
      "[350]\tcv_agg's train auc: 0.93475 + 0.00114776\tcv_agg's valid auc: 0.908519 + 0.00543981\n",
      "[400]\tcv_agg's train auc: 0.940399 + 0.000975153\tcv_agg's valid auc: 0.911682 + 0.00541177\n",
      "[450]\tcv_agg's train auc: 0.945338 + 0.000785213\tcv_agg's valid auc: 0.914165 + 0.00494973\n",
      "[500]\tcv_agg's train auc: 0.949113 + 0.000591249\tcv_agg's valid auc: 0.91627 + 0.0045563\n",
      "[550]\tcv_agg's train auc: 0.953103 + 0.000768133\tcv_agg's valid auc: 0.918379 + 0.00420583\n",
      "[600]\tcv_agg's train auc: 0.956269 + 0.000681141\tcv_agg's valid auc: 0.919894 + 0.0041048\n",
      "[650]\tcv_agg's train auc: 0.958965 + 0.000530203\tcv_agg's valid auc: 0.921341 + 0.00404542\n",
      "[700]\tcv_agg's train auc: 0.961521 + 0.000458366\tcv_agg's valid auc: 0.922662 + 0.00397005\n",
      "[750]\tcv_agg's train auc: 0.963701 + 0.000569288\tcv_agg's valid auc: 0.923814 + 0.00401246\n",
      "[800]\tcv_agg's train auc: 0.965758 + 0.000487875\tcv_agg's valid auc: 0.924883 + 0.00394646\n",
      "[850]\tcv_agg's train auc: 0.967867 + 0.000299792\tcv_agg's valid auc: 0.926134 + 0.00397168\n",
      "[900]\tcv_agg's train auc: 0.96966 + 0.000329636\tcv_agg's valid auc: 0.927035 + 0.00397304\n",
      "[950]\tcv_agg's train auc: 0.971348 + 0.000279089\tcv_agg's valid auc: 0.927785 + 0.0039757\n",
      "[1000]\tcv_agg's train auc: 0.972896 + 0.000259447\tcv_agg's valid auc: 0.928467 + 0.00390975\n",
      "[1050]\tcv_agg's train auc: 0.974247 + 0.000213199\tcv_agg's valid auc: 0.92909 + 0.0038401\n",
      "[1100]\tcv_agg's train auc: 0.975521 + 0.000101415\tcv_agg's valid auc: 0.929652 + 0.00392102\n",
      "[1150]\tcv_agg's train auc: 0.976756 + 0.00021664\tcv_agg's valid auc: 0.930267 + 0.00398389\n",
      "[1200]\tcv_agg's train auc: 0.97786 + 0.000241553\tcv_agg's valid auc: 0.930825 + 0.00397389\n",
      "[1250]\tcv_agg's train auc: 0.97881 + 0.000249121\tcv_agg's valid auc: 0.931417 + 0.00402219\n",
      "[1300]\tcv_agg's train auc: 0.979773 + 0.000280064\tcv_agg's valid auc: 0.932 + 0.00403371\n",
      "[1350]\tcv_agg's train auc: 0.980692 + 0.000249778\tcv_agg's valid auc: 0.93254 + 0.00392798\n",
      "[1400]\tcv_agg's train auc: 0.981567 + 0.000234609\tcv_agg's valid auc: 0.933035 + 0.00392989\n",
      "[1450]\tcv_agg's train auc: 0.98232 + 0.000291153\tcv_agg's valid auc: 0.933416 + 0.00391594\n",
      "[1500]\tcv_agg's train auc: 0.983085 + 0.000310408\tcv_agg's valid auc: 0.933781 + 0.00388429\n",
      "[1550]\tcv_agg's train auc: 0.983795 + 0.00035204\tcv_agg's valid auc: 0.934195 + 0.00387465\n",
      "[1600]\tcv_agg's train auc: 0.984449 + 0.00033861\tcv_agg's valid auc: 0.934592 + 0.00386702\n",
      "[1650]\tcv_agg's train auc: 0.985109 + 0.00034335\tcv_agg's valid auc: 0.934846 + 0.00394806\n",
      "[1700]\tcv_agg's train auc: 0.985729 + 0.000345402\tcv_agg's valid auc: 0.935254 + 0.00390067\n",
      "[1750]\tcv_agg's train auc: 0.98625 + 0.000364515\tcv_agg's valid auc: 0.93564 + 0.0039111\n",
      "[1800]\tcv_agg's train auc: 0.98682 + 0.000372329\tcv_agg's valid auc: 0.936048 + 0.00391588\n",
      "[1850]\tcv_agg's train auc: 0.987366 + 0.000367964\tcv_agg's valid auc: 0.936354 + 0.0039009\n",
      "[1900]\tcv_agg's train auc: 0.987976 + 0.000376436\tcv_agg's valid auc: 0.936667 + 0.00389105\n",
      "[1950]\tcv_agg's train auc: 0.98848 + 0.000410721\tcv_agg's valid auc: 0.936957 + 0.00392207\n",
      "[2000]\tcv_agg's train auc: 0.988964 + 0.000411444\tcv_agg's valid auc: 0.937322 + 0.00391458\n",
      "[2050]\tcv_agg's train auc: 0.989417 + 0.000389031\tcv_agg's valid auc: 0.937559 + 0.00390947\n",
      "[2100]\tcv_agg's train auc: 0.989848 + 0.000335756\tcv_agg's valid auc: 0.937825 + 0.00387138\n",
      "[2150]\tcv_agg's train auc: 0.990253 + 0.000296387\tcv_agg's valid auc: 0.938059 + 0.0038823\n",
      "[2200]\tcv_agg's train auc: 0.990637 + 0.000266372\tcv_agg's valid auc: 0.938305 + 0.00396978\n",
      "[2250]\tcv_agg's train auc: 0.990991 + 0.000271997\tcv_agg's valid auc: 0.938514 + 0.00395099\n",
      "[2300]\tcv_agg's train auc: 0.991303 + 0.000283173\tcv_agg's valid auc: 0.938674 + 0.00395872\n",
      "[2350]\tcv_agg's train auc: 0.991651 + 0.000297239\tcv_agg's valid auc: 0.93886 + 0.00395067\n",
      "[2400]\tcv_agg's train auc: 0.991965 + 0.000310009\tcv_agg's valid auc: 0.939033 + 0.00399261\n",
      "[2450]\tcv_agg's train auc: 0.992299 + 0.000312679\tcv_agg's valid auc: 0.939151 + 0.00397786\n",
      "[2500]\tcv_agg's train auc: 0.992597 + 0.000322634\tcv_agg's valid auc: 0.939265 + 0.00397437\n",
      "[2550]\tcv_agg's train auc: 0.992905 + 0.000326693\tcv_agg's valid auc: 0.93945 + 0.00399391\n",
      "[2600]\tcv_agg's train auc: 0.993157 + 0.000340525\tcv_agg's valid auc: 0.939638 + 0.00395026\n",
      "[2650]\tcv_agg's train auc: 0.99342 + 0.000345495\tcv_agg's valid auc: 0.939814 + 0.00400071\n",
      "[2700]\tcv_agg's train auc: 0.993689 + 0.000342785\tcv_agg's valid auc: 0.939937 + 0.00397152\n",
      "[2750]\tcv_agg's train auc: 0.99395 + 0.000329935\tcv_agg's valid auc: 0.940087 + 0.00393277\n",
      "[2800]\tcv_agg's train auc: 0.994152 + 0.000301917\tcv_agg's valid auc: 0.940224 + 0.00393285\n",
      "[2850]\tcv_agg's train auc: 0.994369 + 0.00030684\tcv_agg's valid auc: 0.940369 + 0.00385316\n",
      "[2900]\tcv_agg's train auc: 0.994581 + 0.000332371\tcv_agg's valid auc: 0.940494 + 0.00386032\n",
      "[2950]\tcv_agg's train auc: 0.994768 + 0.000337497\tcv_agg's valid auc: 0.94058 + 0.00392303\n",
      "[3000]\tcv_agg's train auc: 0.994962 + 0.00036198\tcv_agg's valid auc: 0.940729 + 0.00389071\n",
      "[3050]\tcv_agg's train auc: 0.995138 + 0.000355796\tcv_agg's valid auc: 0.940833 + 0.00389175\n",
      "[3100]\tcv_agg's train auc: 0.995317 + 0.000341458\tcv_agg's valid auc: 0.940905 + 0.00385757\n",
      "[3150]\tcv_agg's train auc: 0.995482 + 0.000319779\tcv_agg's valid auc: 0.940965 + 0.0038684\n",
      "[3200]\tcv_agg's train auc: 0.995644 + 0.000328715\tcv_agg's valid auc: 0.941089 + 0.00394156\n",
      "[3250]\tcv_agg's train auc: 0.995817 + 0.000333682\tcv_agg's valid auc: 0.941144 + 0.00396607\n",
      "[3300]\tcv_agg's train auc: 0.995991 + 0.00033963\tcv_agg's valid auc: 0.941177 + 0.00396326\n",
      "[3350]\tcv_agg's train auc: 0.996149 + 0.000322452\tcv_agg's valid auc: 0.941295 + 0.00397205\n",
      "[3400]\tcv_agg's train auc: 0.996301 + 0.000311322\tcv_agg's valid auc: 0.941471 + 0.00397648\n",
      "[3450]\tcv_agg's train auc: 0.996417 + 0.0003023\tcv_agg's valid auc: 0.941561 + 0.00397508\n",
      "[3500]\tcv_agg's train auc: 0.996563 + 0.000299524\tcv_agg's valid auc: 0.941629 + 0.00398883\n",
      "[3550]\tcv_agg's train auc: 0.996689 + 0.000284694\tcv_agg's valid auc: 0.941723 + 0.00400528\n",
      "[3600]\tcv_agg's train auc: 0.996809 + 0.000263033\tcv_agg's valid auc: 0.941819 + 0.00401562\n",
      "[3650]\tcv_agg's train auc: 0.99693 + 0.000239826\tcv_agg's valid auc: 0.941908 + 0.00402022\n",
      "[3700]\tcv_agg's train auc: 0.997052 + 0.000224224\tcv_agg's valid auc: 0.941942 + 0.00396968\n",
      "[3750]\tcv_agg's train auc: 0.997186 + 0.000198033\tcv_agg's valid auc: 0.942099 + 0.00395077\n",
      "[3800]\tcv_agg's train auc: 0.997284 + 0.000185257\tcv_agg's valid auc: 0.942228 + 0.00388915\n",
      "[3850]\tcv_agg's train auc: 0.99739 + 0.000182819\tcv_agg's valid auc: 0.942305 + 0.00390697\n",
      "[3900]\tcv_agg's train auc: 0.997471 + 0.00017824\tcv_agg's valid auc: 0.942397 + 0.00393572\n",
      "[3950]\tcv_agg's train auc: 0.997581 + 0.000160262\tcv_agg's valid auc: 0.942474 + 0.00394007\n",
      "[4000]\tcv_agg's train auc: 0.99769 + 0.0001606\tcv_agg's valid auc: 0.942555 + 0.00393147\n",
      "[4050]\tcv_agg's train auc: 0.997793 + 0.00015096\tcv_agg's valid auc: 0.942663 + 0.00393921\n",
      "[4100]\tcv_agg's train auc: 0.997886 + 0.000137357\tcv_agg's valid auc: 0.942764 + 0.00388211\n",
      "[4150]\tcv_agg's train auc: 0.99798 + 0.000128862\tcv_agg's valid auc: 0.942869 + 0.00390196\n",
      "[4200]\tcv_agg's train auc: 0.998068 + 0.000118182\tcv_agg's valid auc: 0.94292 + 0.00389049\n",
      "[4250]\tcv_agg's train auc: 0.998161 + 0.000112472\tcv_agg's valid auc: 0.942998 + 0.00387079\n",
      "[4300]\tcv_agg's train auc: 0.998248 + 8.20795e-05\tcv_agg's valid auc: 0.943097 + 0.00382915\n",
      "[4350]\tcv_agg's train auc: 0.998335 + 6.5589e-05\tcv_agg's valid auc: 0.943196 + 0.00382063\n",
      "[4400]\tcv_agg's train auc: 0.998402 + 5.47926e-05\tcv_agg's valid auc: 0.943275 + 0.00384636\n",
      "[4450]\tcv_agg's train auc: 0.998473 + 6.24269e-05\tcv_agg's valid auc: 0.943345 + 0.00382533\n",
      "[4500]\tcv_agg's train auc: 0.998541 + 6.90968e-05\tcv_agg's valid auc: 0.943407 + 0.00384163\n",
      "[4550]\tcv_agg's train auc: 0.998606 + 6.79478e-05\tcv_agg's valid auc: 0.943458 + 0.00384176\n",
      "[4600]\tcv_agg's train auc: 0.998664 + 7.93997e-05\tcv_agg's valid auc: 0.943476 + 0.00385293\n",
      "[4650]\tcv_agg's train auc: 0.998717 + 8.65376e-05\tcv_agg's valid auc: 0.943513 + 0.0038398\n",
      "[4700]\tcv_agg's train auc: 0.998768 + 8.50943e-05\tcv_agg's valid auc: 0.943516 + 0.00382713\n",
      "[4750]\tcv_agg's train auc: 0.998807 + 8.64062e-05\tcv_agg's valid auc: 0.943551 + 0.00381884\n",
      "[4800]\tcv_agg's train auc: 0.998855 + 8.25794e-05\tcv_agg's valid auc: 0.943544 + 0.00381851\n",
      "Wall time: 22min 44s\n"
     ]
    }
   ],
   "source": [
    "%%time\n",
    "# кросвалидация\n",
    "cv_lgbm_num = cv_lgbm(params, num_train, y_train)"
   ]
  },
  {
   "cell_type": "code",
   "execution_count": 127,
   "metadata": {},
   "outputs": [
    {
     "data": {
      "image/png": "[encoded data removed]",
      "text/plain": [
       "<Figure size 1080x360 with 1 Axes>"
      ]
     },
     "metadata": {
      "needs_background": "light"
     },
     "output_type": "display_data"
    }
   ],
   "source": [
    "plotLgbmResult(cv_lgbm_num)"
   ]
  },
  {
   "cell_type": "markdown",
   "metadata": {},
   "source": [
    "#### LGBM - числовые и обработанные категориальные"
   ]
  },
  {
   "cell_type": "code",
   "execution_count": 128,
   "metadata": {},
   "outputs": [
    {
     "name": "stdout",
     "output_type": "stream",
     "text": [
      "[LightGBM] [Warning] Find whitespaces in feature_names, replace with underlines\n",
      "[LightGBM] [Info] Number of positive: 3856, number of negative: 131144\n",
      "[LightGBM] [Info] Total Bins 31612\n",
      "[LightGBM] [Info] Number of data points in the train set: 135000, number of used features: 427\n",
      "[LightGBM] [Warning] Find whitespaces in feature_names, replace with underlines\n",
      "[LightGBM] [Info] [binary:BoostFromScore]: pavg=0.028563 -> initscore=-3.526666\n",
      "[LightGBM] [Info] Start training from score -3.526666\n",
      "Training until validation scores don't improve for 50 rounds\n",
      "[50]\ttrain's auc: 0.878613\tvalid's auc: 0.881964\n",
      "[100]\ttrain's auc: 0.897259\tvalid's auc: 0.897807\n",
      "[150]\ttrain's auc: 0.907622\tvalid's auc: 0.904398\n",
      "[200]\ttrain's auc: 0.91616\tvalid's auc: 0.909759\n",
      "[250]\ttrain's auc: 0.926076\tvalid's auc: 0.915467\n",
      "[300]\ttrain's auc: 0.93396\tvalid's auc: 0.920033\n",
      "[350]\ttrain's auc: 0.940227\tvalid's auc: 0.923485\n",
      "[400]\ttrain's auc: 0.944911\tvalid's auc: 0.926196\n",
      "[450]\ttrain's auc: 0.949262\tvalid's auc: 0.928862\n",
      "[500]\ttrain's auc: 0.953687\tvalid's auc: 0.931435\n",
      "[550]\ttrain's auc: 0.956688\tvalid's auc: 0.933882\n",
      "[600]\ttrain's auc: 0.959449\tvalid's auc: 0.935674\n",
      "[650]\ttrain's auc: 0.961727\tvalid's auc: 0.937111\n",
      "[700]\ttrain's auc: 0.963972\tvalid's auc: 0.938378\n",
      "[750]\ttrain's auc: 0.966088\tvalid's auc: 0.939394\n",
      "[800]\ttrain's auc: 0.967999\tvalid's auc: 0.940375\n",
      "[850]\ttrain's auc: 0.96994\tvalid's auc: 0.941283\n",
      "[900]\ttrain's auc: 0.971886\tvalid's auc: 0.942298\n",
      "[950]\ttrain's auc: 0.973479\tvalid's auc: 0.942983\n",
      "[1000]\ttrain's auc: 0.974936\tvalid's auc: 0.943624\n",
      "[1050]\ttrain's auc: 0.976203\tvalid's auc: 0.944428\n",
      "[1100]\ttrain's auc: 0.977292\tvalid's auc: 0.944994\n",
      "[1150]\ttrain's auc: 0.978328\tvalid's auc: 0.945467\n",
      "[1200]\ttrain's auc: 0.979522\tvalid's auc: 0.945914\n",
      "[1250]\ttrain's auc: 0.980555\tvalid's auc: 0.946428\n",
      "[1300]\ttrain's auc: 0.981561\tvalid's auc: 0.946899\n",
      "[1350]\ttrain's auc: 0.982533\tvalid's auc: 0.947329\n",
      "[1400]\ttrain's auc: 0.983391\tvalid's auc: 0.947988\n",
      "[1450]\ttrain's auc: 0.984293\tvalid's auc: 0.948466\n",
      "[1500]\ttrain's auc: 0.985039\tvalid's auc: 0.948929\n",
      "[1550]\ttrain's auc: 0.985798\tvalid's auc: 0.949277\n",
      "[1600]\ttrain's auc: 0.98661\tvalid's auc: 0.949735\n",
      "[1650]\ttrain's auc: 0.987252\tvalid's auc: 0.950141\n",
      "[1700]\ttrain's auc: 0.987953\tvalid's auc: 0.950397\n",
      "[1750]\ttrain's auc: 0.988615\tvalid's auc: 0.950649\n",
      "[1800]\ttrain's auc: 0.989141\tvalid's auc: 0.950885\n",
      "[1850]\ttrain's auc: 0.989703\tvalid's auc: 0.951213\n",
      "[1900]\ttrain's auc: 0.990237\tvalid's auc: 0.951451\n",
      "[1950]\ttrain's auc: 0.990707\tvalid's auc: 0.951644\n",
      "[2000]\ttrain's auc: 0.991141\tvalid's auc: 0.951843\n",
      "[2050]\ttrain's auc: 0.991526\tvalid's auc: 0.9521\n",
      "[2100]\ttrain's auc: 0.991889\tvalid's auc: 0.952309\n",
      "[2150]\ttrain's auc: 0.992267\tvalid's auc: 0.952475\n",
      "[2200]\ttrain's auc: 0.992561\tvalid's auc: 0.952727\n",
      "[2250]\ttrain's auc: 0.992877\tvalid's auc: 0.952869\n",
      "[2300]\ttrain's auc: 0.993143\tvalid's auc: 0.953084\n",
      "[2350]\ttrain's auc: 0.993457\tvalid's auc: 0.953214\n",
      "[2400]\ttrain's auc: 0.993685\tvalid's auc: 0.953274\n",
      "[2450]\ttrain's auc: 0.993949\tvalid's auc: 0.953426\n",
      "[2500]\ttrain's auc: 0.994193\tvalid's auc: 0.95347\n",
      "[2550]\ttrain's auc: 0.99443\tvalid's auc: 0.953679\n",
      "[2600]\ttrain's auc: 0.994612\tvalid's auc: 0.953822\n",
      "[2650]\ttrain's auc: 0.994773\tvalid's auc: 0.953902\n",
      "[2700]\ttrain's auc: 0.994919\tvalid's auc: 0.954079\n",
      "[2750]\ttrain's auc: 0.995126\tvalid's auc: 0.954211\n",
      "[2800]\ttrain's auc: 0.995282\tvalid's auc: 0.954285\n",
      "[2850]\ttrain's auc: 0.995479\tvalid's auc: 0.954442\n",
      "[2900]\ttrain's auc: 0.995631\tvalid's auc: 0.954532\n",
      "[2950]\ttrain's auc: 0.995808\tvalid's auc: 0.95474\n",
      "[3000]\ttrain's auc: 0.995984\tvalid's auc: 0.95483\n",
      "[3050]\ttrain's auc: 0.996142\tvalid's auc: 0.955067\n",
      "[3100]\ttrain's auc: 0.996286\tvalid's auc: 0.955153\n",
      "[3150]\ttrain's auc: 0.996456\tvalid's auc: 0.95527\n",
      "[3200]\ttrain's auc: 0.996574\tvalid's auc: 0.955405\n",
      "[3250]\ttrain's auc: 0.996699\tvalid's auc: 0.955467\n",
      "[3300]\ttrain's auc: 0.996829\tvalid's auc: 0.955534\n",
      "[3350]\ttrain's auc: 0.996959\tvalid's auc: 0.955624\n",
      "[3400]\ttrain's auc: 0.99713\tvalid's auc: 0.955772\n",
      "[3450]\ttrain's auc: 0.99726\tvalid's auc: 0.955792\n",
      "Early stopping, best iteration is:\n",
      "[3445]\ttrain's auc: 0.997248\tvalid's auc: 0.955814\n",
      "Wall time: 3min 35s\n"
     ]
    }
   ],
   "source": [
    "%%time\n",
    "# num + cat подготовленнные\n",
    "model = train_lgbm(params, prep_train, prep_valid, y_train, y_valid)"
   ]
  },
  {
   "cell_type": "code",
   "execution_count": 132,
   "metadata": {},
   "outputs": [],
   "source": [
    "def make_categoty_type(df):\n",
    "    data = df.copy()\n",
    "    for feature in CAT_F:\n",
    "        print(feature, end=' ')\n",
    "        data[feature] = pd.Series(data[feature], dtype=\"category\")\n",
    "    print()\n",
    "    return data"
   ]
  },
  {
   "cell_type": "code",
   "execution_count": 133,
   "metadata": {},
   "outputs": [
    {
     "name": "stdout",
     "output_type": "stream",
     "text": [
      "ProductCD card4 card6 P_emaildomain R_emaildomain M1 M2 M3 M4 M5 M6 M7 M8 M9 \n",
      "ProductCD card4 card6 P_emaildomain R_emaildomain M1 M2 M3 M4 M5 M6 M7 M8 M9 \n"
     ]
    }
   ],
   "source": [
    "lgbm_train = make_categoty_type(x_train)\n",
    "lgbm_valid = make_categoty_type(x_valid)"
   ]
  },
  {
   "cell_type": "code",
   "execution_count": 129,
   "metadata": {},
   "outputs": [
    {
     "name": "stdout",
     "output_type": "stream",
     "text": [
      "[LightGBM] [Warning] Find whitespaces in feature_names, replace with underlines\n",
      "[LightGBM] [Info] Number of positive: 3085, number of negative: 104915\n",
      "[LightGBM] [Info] Total Bins 31612\n",
      "[LightGBM] [Info] Number of data points in the train set: 108000, number of used features: 427\n",
      "[LightGBM] [Info] Number of positive: 3085, number of negative: 104915\n",
      "[LightGBM] [Info] Total Bins 31612\n",
      "[LightGBM] [Info] Number of data points in the train set: 108000, number of used features: 427\n",
      "[LightGBM] [Info] Number of positive: 3085, number of negative: 104915\n",
      "[LightGBM] [Info] Total Bins 31612\n",
      "[LightGBM] [Info] Number of data points in the train set: 108000, number of used features: 427\n",
      "[LightGBM] [Info] Number of positive: 3085, number of negative: 104915\n",
      "[LightGBM] [Info] Total Bins 31612\n",
      "[LightGBM] [Info] Number of data points in the train set: 108000, number of used features: 427\n",
      "[LightGBM] [Info] Number of positive: 3084, number of negative: 104916\n",
      "[LightGBM] [Info] Total Bins 31612\n",
      "[LightGBM] [Info] Number of data points in the train set: 108000, number of used features: 427\n",
      "[LightGBM] [Info] [binary:BoostFromScore]: pavg=0.028565 -> initscore=-3.526599\n",
      "[LightGBM] [Info] Start training from score -3.526599\n",
      "[LightGBM] [Info] [binary:BoostFromScore]: pavg=0.028565 -> initscore=-3.526599\n",
      "[LightGBM] [Info] Start training from score -3.526599\n",
      "[LightGBM] [Info] [binary:BoostFromScore]: pavg=0.028565 -> initscore=-3.526599\n",
      "[LightGBM] [Info] Start training from score -3.526599\n",
      "[LightGBM] [Info] [binary:BoostFromScore]: pavg=0.028565 -> initscore=-3.526599\n",
      "[LightGBM] [Info] Start training from score -3.526599\n",
      "[LightGBM] [Info] [binary:BoostFromScore]: pavg=0.028556 -> initscore=-3.526933\n",
      "[LightGBM] [Info] Start training from score -3.526933\n",
      "[50]\tcv_agg's train auc: 0.876962 + 0.00200971\tcv_agg's valid auc: 0.869429 + 0.007199\n",
      "[100]\tcv_agg's train auc: 0.898032 + 0.0013217\tcv_agg's valid auc: 0.886057 + 0.00641194\n",
      "[150]\tcv_agg's train auc: 0.909095 + 0.00106684\tcv_agg's valid auc: 0.895169 + 0.00562759\n",
      "[200]\tcv_agg's train auc: 0.918742 + 0.00103741\tcv_agg's valid auc: 0.901638 + 0.00595019\n",
      "[250]\tcv_agg's train auc: 0.928636 + 0.000633302\tcv_agg's valid auc: 0.908579 + 0.00696473\n",
      "[300]\tcv_agg's train auc: 0.936566 + 0.000635692\tcv_agg's valid auc: 0.913982 + 0.00685889\n",
      "[350]\tcv_agg's train auc: 0.943189 + 0.000530029\tcv_agg's valid auc: 0.917883 + 0.0066353\n",
      "[400]\tcv_agg's train auc: 0.948791 + 0.000723073\tcv_agg's valid auc: 0.921156 + 0.00672171\n",
      "[450]\tcv_agg's train auc: 0.953614 + 0.000904636\tcv_agg's valid auc: 0.923785 + 0.00644542\n",
      "[500]\tcv_agg's train auc: 0.957345 + 0.000916128\tcv_agg's valid auc: 0.926201 + 0.0059988\n",
      "[550]\tcv_agg's train auc: 0.960848 + 0.000869925\tcv_agg's valid auc: 0.928271 + 0.00561183\n",
      "[600]\tcv_agg's train auc: 0.963844 + 0.000745478\tcv_agg's valid auc: 0.930127 + 0.00554603\n",
      "[650]\tcv_agg's train auc: 0.966409 + 0.000719765\tcv_agg's valid auc: 0.931662 + 0.00541191\n",
      "[700]\tcv_agg's train auc: 0.968682 + 0.000702158\tcv_agg's valid auc: 0.933003 + 0.00540627\n",
      "[750]\tcv_agg's train auc: 0.970665 + 0.000607106\tcv_agg's valid auc: 0.934135 + 0.0054832\n",
      "[800]\tcv_agg's train auc: 0.972452 + 0.000541235\tcv_agg's valid auc: 0.935144 + 0.00549089\n",
      "[850]\tcv_agg's train auc: 0.97416 + 0.000465033\tcv_agg's valid auc: 0.936014 + 0.0054502\n",
      "[900]\tcv_agg's train auc: 0.975801 + 0.000438645\tcv_agg's valid auc: 0.936796 + 0.00532193\n",
      "[950]\tcv_agg's train auc: 0.977332 + 0.000468406\tcv_agg's valid auc: 0.937587 + 0.00516665\n",
      "[1000]\tcv_agg's train auc: 0.97868 + 0.000539029\tcv_agg's valid auc: 0.938293 + 0.00510048\n",
      "[1050]\tcv_agg's train auc: 0.98003 + 0.000483025\tcv_agg's valid auc: 0.938973 + 0.00500063\n",
      "[1100]\tcv_agg's train auc: 0.981216 + 0.000453528\tcv_agg's valid auc: 0.939601 + 0.00495397\n",
      "[1150]\tcv_agg's train auc: 0.98228 + 0.000404815\tcv_agg's valid auc: 0.940154 + 0.00494371\n",
      "[1200]\tcv_agg's train auc: 0.983254 + 0.000315384\tcv_agg's valid auc: 0.940626 + 0.00490235\n",
      "[1250]\tcv_agg's train auc: 0.984212 + 0.000339724\tcv_agg's valid auc: 0.94104 + 0.00489813\n",
      "[1300]\tcv_agg's train auc: 0.985022 + 0.000350641\tcv_agg's valid auc: 0.941416 + 0.00488198\n",
      "[1350]\tcv_agg's train auc: 0.98583 + 0.000347571\tcv_agg's valid auc: 0.941762 + 0.00485657\n",
      "[1400]\tcv_agg's train auc: 0.98658 + 0.0003679\tcv_agg's valid auc: 0.942169 + 0.00478475\n",
      "[1450]\tcv_agg's train auc: 0.987237 + 0.00036306\tcv_agg's valid auc: 0.942587 + 0.00478327\n",
      "[1500]\tcv_agg's train auc: 0.987895 + 0.000369001\tcv_agg's valid auc: 0.943083 + 0.00473786\n",
      "[1550]\tcv_agg's train auc: 0.988456 + 0.000405542\tcv_agg's valid auc: 0.943401 + 0.00479172\n",
      "[1600]\tcv_agg's train auc: 0.988992 + 0.000435612\tcv_agg's valid auc: 0.943774 + 0.00481284\n",
      "[1650]\tcv_agg's train auc: 0.989518 + 0.000487064\tcv_agg's valid auc: 0.944114 + 0.00479475\n",
      "[1700]\tcv_agg's train auc: 0.990014 + 0.000475122\tcv_agg's valid auc: 0.94448 + 0.00471774\n",
      "[1750]\tcv_agg's train auc: 0.990548 + 0.000488668\tcv_agg's valid auc: 0.944792 + 0.0046457\n",
      "[1800]\tcv_agg's train auc: 0.991032 + 0.000509471\tcv_agg's valid auc: 0.945062 + 0.00462485\n",
      "[1850]\tcv_agg's train auc: 0.991529 + 0.000471716\tcv_agg's valid auc: 0.945363 + 0.00459876\n",
      "[1900]\tcv_agg's train auc: 0.991928 + 0.000488689\tcv_agg's valid auc: 0.945606 + 0.00458652\n",
      "[1950]\tcv_agg's train auc: 0.992318 + 0.000498593\tcv_agg's valid auc: 0.945825 + 0.00459416\n",
      "[2000]\tcv_agg's train auc: 0.992712 + 0.000485861\tcv_agg's valid auc: 0.946056 + 0.00459935\n",
      "[2050]\tcv_agg's train auc: 0.993071 + 0.000482121\tcv_agg's valid auc: 0.946325 + 0.00461473\n",
      "[2100]\tcv_agg's train auc: 0.993429 + 0.000459391\tcv_agg's valid auc: 0.946603 + 0.00461861\n",
      "[2150]\tcv_agg's train auc: 0.993751 + 0.000450564\tcv_agg's valid auc: 0.946836 + 0.00467551\n",
      "[2200]\tcv_agg's train auc: 0.994054 + 0.000435541\tcv_agg's valid auc: 0.947094 + 0.00467338\n",
      "[2250]\tcv_agg's train auc: 0.994371 + 0.000409056\tcv_agg's valid auc: 0.947317 + 0.00472958\n",
      "[2300]\tcv_agg's train auc: 0.994657 + 0.000364401\tcv_agg's valid auc: 0.947518 + 0.0047319\n",
      "[2350]\tcv_agg's train auc: 0.994918 + 0.000343217\tcv_agg's valid auc: 0.947761 + 0.00473281\n",
      "[2400]\tcv_agg's train auc: 0.995166 + 0.000326672\tcv_agg's valid auc: 0.947938 + 0.00474044\n",
      "[2450]\tcv_agg's train auc: 0.995407 + 0.000336422\tcv_agg's valid auc: 0.948155 + 0.00472448\n",
      "[2500]\tcv_agg's train auc: 0.995643 + 0.000316041\tcv_agg's valid auc: 0.948309 + 0.00473191\n",
      "[2550]\tcv_agg's train auc: 0.995845 + 0.000296831\tcv_agg's valid auc: 0.948492 + 0.00475605\n",
      "[2600]\tcv_agg's train auc: 0.996039 + 0.000274593\tcv_agg's valid auc: 0.948728 + 0.00478489\n",
      "[2650]\tcv_agg's train auc: 0.996218 + 0.000255069\tcv_agg's valid auc: 0.948882 + 0.00475511\n",
      "[2700]\tcv_agg's train auc: 0.996397 + 0.000240191\tcv_agg's valid auc: 0.949009 + 0.00477125\n",
      "[2750]\tcv_agg's train auc: 0.996583 + 0.000220837\tcv_agg's valid auc: 0.949149 + 0.00472331\n",
      "[2800]\tcv_agg's train auc: 0.996756 + 0.000209303\tcv_agg's valid auc: 0.949293 + 0.00469724\n",
      "[2850]\tcv_agg's train auc: 0.996948 + 0.000189489\tcv_agg's valid auc: 0.949417 + 0.00467405\n",
      "[2900]\tcv_agg's train auc: 0.99711 + 0.000170483\tcv_agg's valid auc: 0.949558 + 0.00464771\n",
      "[2950]\tcv_agg's train auc: 0.997246 + 0.000165921\tcv_agg's valid auc: 0.949651 + 0.00465193\n",
      "[3000]\tcv_agg's train auc: 0.997384 + 0.000162867\tcv_agg's valid auc: 0.949772 + 0.00468917\n",
      "[3050]\tcv_agg's train auc: 0.997501 + 0.000150617\tcv_agg's valid auc: 0.949916 + 0.00470104\n",
      "[3100]\tcv_agg's train auc: 0.997635 + 0.00012925\tcv_agg's valid auc: 0.950011 + 0.00475656\n",
      "[3150]\tcv_agg's train auc: 0.997752 + 0.000124431\tcv_agg's valid auc: 0.950115 + 0.00475165\n",
      "[3200]\tcv_agg's train auc: 0.997856 + 0.000122744\tcv_agg's valid auc: 0.950224 + 0.00476202\n",
      "[3250]\tcv_agg's train auc: 0.997968 + 0.000117848\tcv_agg's valid auc: 0.950328 + 0.00477746\n",
      "[3300]\tcv_agg's train auc: 0.998064 + 0.000117197\tcv_agg's valid auc: 0.950411 + 0.00476806\n",
      "[3350]\tcv_agg's train auc: 0.998162 + 0.000113346\tcv_agg's valid auc: 0.950496 + 0.00478108\n",
      "[3400]\tcv_agg's train auc: 0.998268 + 0.000102712\tcv_agg's valid auc: 0.950609 + 0.00477007\n",
      "[3450]\tcv_agg's train auc: 0.99834 + 0.000100998\tcv_agg's valid auc: 0.950673 + 0.00477895\n",
      "[3500]\tcv_agg's train auc: 0.998424 + 9.55741e-05\tcv_agg's valid auc: 0.950781 + 0.00479757\n",
      "[3550]\tcv_agg's train auc: 0.998495 + 9.1771e-05\tcv_agg's valid auc: 0.95087 + 0.00477856\n",
      "[3600]\tcv_agg's train auc: 0.998567 + 8.99481e-05\tcv_agg's valid auc: 0.950948 + 0.004802\n",
      "[3650]\tcv_agg's train auc: 0.998642 + 8.39054e-05\tcv_agg's valid auc: 0.951017 + 0.00480407\n",
      "[3700]\tcv_agg's train auc: 0.998703 + 7.9688e-05\tcv_agg's valid auc: 0.951044 + 0.00479516\n",
      "[3750]\tcv_agg's train auc: 0.99876 + 7.75237e-05\tcv_agg's valid auc: 0.951084 + 0.00480676\n",
      "[3800]\tcv_agg's train auc: 0.998813 + 7.41928e-05\tcv_agg's valid auc: 0.951145 + 0.00483647\n",
      "[3850]\tcv_agg's train auc: 0.998865 + 7.76203e-05\tcv_agg's valid auc: 0.951182 + 0.00483581\n",
      "[3900]\tcv_agg's train auc: 0.998917 + 7.74498e-05\tcv_agg's valid auc: 0.951228 + 0.00485823\n",
      "[3950]\tcv_agg's train auc: 0.998959 + 7.91296e-05\tcv_agg's valid auc: 0.951278 + 0.00487252\n",
      "[4000]\tcv_agg's train auc: 0.999005 + 7.22867e-05\tcv_agg's valid auc: 0.951327 + 0.00488651\n",
      "[4050]\tcv_agg's train auc: 0.999046 + 7.33604e-05\tcv_agg's valid auc: 0.951361 + 0.00489276\n",
      "[4100]\tcv_agg's train auc: 0.999083 + 7.46669e-05\tcv_agg's valid auc: 0.951384 + 0.00488199\n",
      "[4150]\tcv_agg's train auc: 0.999121 + 6.85079e-05\tcv_agg's valid auc: 0.951411 + 0.0049165\n",
      "[4200]\tcv_agg's train auc: 0.999156 + 7.48325e-05\tcv_agg's valid auc: 0.951463 + 0.00492463\n",
      "[4250]\tcv_agg's train auc: 0.999193 + 7.74267e-05\tcv_agg's valid auc: 0.95149 + 0.0049092\n",
      "[4300]\tcv_agg's train auc: 0.999241 + 7.47081e-05\tcv_agg's valid auc: 0.951517 + 0.00489324\n",
      "Wall time: 19min 21s\n"
     ]
    }
   ],
   "source": [
    "%%time\n",
    "# кросвалидация\n",
    "cv_lgbm_prep = cv_lgbm(params, prep_train, y_train)"
   ]
  },
  {
   "cell_type": "code",
   "execution_count": 131,
   "metadata": {},
   "outputs": [
    {
     "data": {
      "image/png": "[encoded data removed]",
      "text/plain": [
       "<Figure size 1080x360 with 1 Axes>"
      ]
     },
     "metadata": {
      "needs_background": "light"
     },
     "output_type": "display_data"
    }
   ],
   "source": [
    "plotLgbmResult(cv_lgbm_prep)"
   ]
  },
  {
   "cell_type": "markdown",
   "metadata": {},
   "source": [
    "#### LGBM данные с автоматической обработкой"
   ]
  },
  {
   "cell_type": "code",
   "execution_count": 101,
   "metadata": {},
   "outputs": [
    {
     "name": "stdout",
     "output_type": "stream",
     "text": [
      "[LightGBM] [Info] Number of positive: 3856, number of negative: 131144\n",
      "[LightGBM] [Info] Total Bins 31666\n",
      "[LightGBM] [Info] Number of data points in the train set: 135000, number of used features: 390\n"
     ]
    },
    {
     "name": "stderr",
     "output_type": "stream",
     "text": [
      "d:\\_dl_pytorch_\\venv\\lib\\site-packages\\lightgbm\\basic.py:1286: UserWarning: Overriding the parameters from Reference Dataset.\n",
      "  warnings.warn('Overriding the parameters from Reference Dataset.')\n",
      "d:\\_dl_pytorch_\\venv\\lib\\site-packages\\lightgbm\\basic.py:1098: UserWarning: categorical_column in param dict is overridden.\n",
      "  warnings.warn('{} in param dict is overridden.'.format(cat_alias))\n"
     ]
    },
    {
     "name": "stdout",
     "output_type": "stream",
     "text": [
      "[LightGBM] [Info] [binary:BoostFromScore]: pavg=0.028563 -> initscore=-3.526666\n",
      "[LightGBM] [Info] Start training from score -3.526666\n",
      "Training until validation scores don't improve for 50 rounds\n",
      "[50]\ttrain's auc: 0.876066\tvalid's auc: 0.879463\n",
      "[100]\ttrain's auc: 0.899913\tvalid's auc: 0.89755\n",
      "[150]\ttrain's auc: 0.910151\tvalid's auc: 0.905915\n",
      "[200]\ttrain's auc: 0.91916\tvalid's auc: 0.912087\n",
      "[250]\ttrain's auc: 0.927106\tvalid's auc: 0.917703\n",
      "[300]\ttrain's auc: 0.934509\tvalid's auc: 0.921847\n",
      "[350]\ttrain's auc: 0.940721\tvalid's auc: 0.924578\n",
      "[400]\ttrain's auc: 0.945625\tvalid's auc: 0.926998\n",
      "[450]\ttrain's auc: 0.950085\tvalid's auc: 0.929761\n",
      "[500]\ttrain's auc: 0.954525\tvalid's auc: 0.932758\n",
      "[550]\ttrain's auc: 0.95791\tvalid's auc: 0.934601\n",
      "[600]\ttrain's auc: 0.960727\tvalid's auc: 0.936537\n",
      "[650]\ttrain's auc: 0.963295\tvalid's auc: 0.938227\n",
      "[700]\ttrain's auc: 0.965344\tvalid's auc: 0.939388\n",
      "[750]\ttrain's auc: 0.96729\tvalid's auc: 0.940176\n",
      "[800]\ttrain's auc: 0.968998\tvalid's auc: 0.940774\n",
      "[850]\ttrain's auc: 0.97078\tvalid's auc: 0.941543\n",
      "[900]\ttrain's auc: 0.972466\tvalid's auc: 0.942145\n",
      "[950]\ttrain's auc: 0.973772\tvalid's auc: 0.942862\n",
      "[1000]\ttrain's auc: 0.975022\tvalid's auc: 0.943361\n",
      "[1050]\ttrain's auc: 0.976164\tvalid's auc: 0.943728\n",
      "[1100]\ttrain's auc: 0.977395\tvalid's auc: 0.944177\n",
      "[1150]\ttrain's auc: 0.978485\tvalid's auc: 0.944495\n",
      "[1200]\ttrain's auc: 0.979589\tvalid's auc: 0.944887\n",
      "[1250]\ttrain's auc: 0.980811\tvalid's auc: 0.945192\n",
      "[1300]\ttrain's auc: 0.981896\tvalid's auc: 0.945545\n",
      "[1350]\ttrain's auc: 0.982842\tvalid's auc: 0.945938\n",
      "[1400]\ttrain's auc: 0.983687\tvalid's auc: 0.946253\n",
      "[1450]\ttrain's auc: 0.984334\tvalid's auc: 0.946478\n",
      "[1500]\ttrain's auc: 0.985088\tvalid's auc: 0.946787\n",
      "[1550]\ttrain's auc: 0.985783\tvalid's auc: 0.947126\n",
      "[1600]\ttrain's auc: 0.986516\tvalid's auc: 0.94752\n",
      "[1650]\ttrain's auc: 0.987179\tvalid's auc: 0.947884\n",
      "[1700]\ttrain's auc: 0.987913\tvalid's auc: 0.948211\n",
      "[1750]\ttrain's auc: 0.988525\tvalid's auc: 0.948651\n",
      "[1800]\ttrain's auc: 0.988963\tvalid's auc: 0.948879\n",
      "[1850]\ttrain's auc: 0.989405\tvalid's auc: 0.949209\n",
      "[1900]\ttrain's auc: 0.989963\tvalid's auc: 0.949515\n",
      "[1950]\ttrain's auc: 0.99046\tvalid's auc: 0.949796\n",
      "[2000]\ttrain's auc: 0.990796\tvalid's auc: 0.950084\n",
      "[2050]\ttrain's auc: 0.991182\tvalid's auc: 0.950266\n",
      "[2100]\ttrain's auc: 0.991525\tvalid's auc: 0.950476\n",
      "[2150]\ttrain's auc: 0.99191\tvalid's auc: 0.950642\n",
      "[2200]\ttrain's auc: 0.992248\tvalid's auc: 0.950966\n",
      "[2250]\ttrain's auc: 0.992656\tvalid's auc: 0.951061\n",
      "[2300]\ttrain's auc: 0.993008\tvalid's auc: 0.951272\n",
      "[2350]\ttrain's auc: 0.993349\tvalid's auc: 0.951573\n",
      "[2400]\ttrain's auc: 0.993622\tvalid's auc: 0.951719\n",
      "[2450]\ttrain's auc: 0.993872\tvalid's auc: 0.951912\n",
      "[2500]\ttrain's auc: 0.994125\tvalid's auc: 0.952186\n",
      "[2550]\ttrain's auc: 0.99433\tvalid's auc: 0.952249\n",
      "[2600]\ttrain's auc: 0.994512\tvalid's auc: 0.952314\n",
      "[2650]\ttrain's auc: 0.994703\tvalid's auc: 0.95243\n",
      "[2700]\ttrain's auc: 0.994895\tvalid's auc: 0.952526\n",
      "[2750]\ttrain's auc: 0.995084\tvalid's auc: 0.952615\n",
      "[2800]\ttrain's auc: 0.995313\tvalid's auc: 0.952725\n",
      "[2850]\ttrain's auc: 0.995471\tvalid's auc: 0.952883\n",
      "[2900]\ttrain's auc: 0.995631\tvalid's auc: 0.953098\n",
      "[2950]\ttrain's auc: 0.995783\tvalid's auc: 0.953289\n",
      "[3000]\ttrain's auc: 0.995964\tvalid's auc: 0.953398\n",
      "[3050]\ttrain's auc: 0.996143\tvalid's auc: 0.953532\n",
      "[3100]\ttrain's auc: 0.996306\tvalid's auc: 0.953665\n",
      "[3150]\ttrain's auc: 0.996453\tvalid's auc: 0.953775\n",
      "[3200]\ttrain's auc: 0.996632\tvalid's auc: 0.953888\n",
      "[3250]\ttrain's auc: 0.996771\tvalid's auc: 0.954021\n",
      "[3300]\ttrain's auc: 0.996925\tvalid's auc: 0.954198\n",
      "[3350]\ttrain's auc: 0.997067\tvalid's auc: 0.954317\n",
      "[3400]\ttrain's auc: 0.997219\tvalid's auc: 0.954401\n",
      "[3450]\ttrain's auc: 0.99732\tvalid's auc: 0.9545\n",
      "[3500]\ttrain's auc: 0.997412\tvalid's auc: 0.954543\n",
      "[3550]\ttrain's auc: 0.997498\tvalid's auc: 0.954606\n",
      "[3600]\ttrain's auc: 0.997648\tvalid's auc: 0.954813\n",
      "[3650]\ttrain's auc: 0.99777\tvalid's auc: 0.954816\n",
      "Early stopping, best iteration is:\n",
      "[3642]\ttrain's auc: 0.997758\tvalid's auc: 0.954835\n",
      "Wall time: 3min 41s\n"
     ]
    }
   ],
   "source": [
    "%%time\n",
    "# сырые данные с автоматической обработкой\n",
    "model = train_lgbm(params, lgbm_train, lgbm_valid, y_train, y_valid, list(CAT_F))"
   ]
  },
  {
   "cell_type": "code",
   "execution_count": 134,
   "metadata": {},
   "outputs": [
    {
     "name": "stdout",
     "output_type": "stream",
     "text": [
      "[LightGBM] [Info] Number of positive: 3085, number of negative: 104915\n",
      "[LightGBM] [Info] Total Bins 31666\n",
      "[LightGBM] [Info] Number of data points in the train set: 108000, number of used features: 390\n",
      "[LightGBM] [Info] Number of positive: 3085, number of negative: 104915\n",
      "[LightGBM] [Info] Total Bins 31666\n",
      "[LightGBM] [Info] Number of data points in the train set: 108000, number of used features: 390\n",
      "[LightGBM] [Info] Number of positive: 3085, number of negative: 104915\n",
      "[LightGBM] [Info] Total Bins 31666\n",
      "[LightGBM] [Info] Number of data points in the train set: 108000, number of used features: 390\n",
      "[LightGBM] [Info] Number of positive: 3085, number of negative: 104915\n",
      "[LightGBM] [Info] Total Bins 31666\n",
      "[LightGBM] [Info] Number of data points in the train set: 108000, number of used features: 390\n",
      "[LightGBM] [Info] Number of positive: 3084, number of negative: 104916\n",
      "[LightGBM] [Info] Total Bins 31666\n",
      "[LightGBM] [Info] Number of data points in the train set: 108000, number of used features: 390\n",
      "[LightGBM] [Info] [binary:BoostFromScore]: pavg=0.028565 -> initscore=-3.526599\n",
      "[LightGBM] [Info] Start training from score -3.526599\n",
      "[LightGBM] [Info] [binary:BoostFromScore]: pavg=0.028565 -> initscore=-3.526599\n",
      "[LightGBM] [Info] Start training from score -3.526599\n",
      "[LightGBM] [Info] [binary:BoostFromScore]: pavg=0.028565 -> initscore=-3.526599\n",
      "[LightGBM] [Info] Start training from score -3.526599\n",
      "[LightGBM] [Info] [binary:BoostFromScore]: pavg=0.028565 -> initscore=-3.526599\n",
      "[LightGBM] [Info] Start training from score -3.526599\n",
      "[LightGBM] [Info] [binary:BoostFromScore]: pavg=0.028556 -> initscore=-3.526933\n",
      "[LightGBM] [Info] Start training from score -3.526933\n",
      "[50]\tcv_agg's train auc: 0.877208 + 0.00191651\tcv_agg's valid auc: 0.86958 + 0.00704765\n",
      "[100]\tcv_agg's train auc: 0.899516 + 0.000818074\tcv_agg's valid auc: 0.888194 + 0.00734462\n",
      "[150]\tcv_agg's train auc: 0.912058 + 0.00105214\tcv_agg's valid auc: 0.897845 + 0.00709186\n",
      "[200]\tcv_agg's train auc: 0.920848 + 0.00128317\tcv_agg's valid auc: 0.903789 + 0.00785202\n",
      "[250]\tcv_agg's train auc: 0.929981 + 0.0014979\tcv_agg's valid auc: 0.909869 + 0.00742878\n",
      "[300]\tcv_agg's train auc: 0.938207 + 0.000916637\tcv_agg's valid auc: 0.915438 + 0.00776596\n",
      "[350]\tcv_agg's train auc: 0.944556 + 0.000649814\tcv_agg's valid auc: 0.919539 + 0.00747428\n",
      "[400]\tcv_agg's train auc: 0.949857 + 0.000597426\tcv_agg's valid auc: 0.922875 + 0.00737448\n",
      "[450]\tcv_agg's train auc: 0.954119 + 0.000709864\tcv_agg's valid auc: 0.92504 + 0.0072952\n",
      "[500]\tcv_agg's train auc: 0.958256 + 0.000912768\tcv_agg's valid auc: 0.927318 + 0.00699124\n",
      "[550]\tcv_agg's train auc: 0.961601 + 0.000917295\tcv_agg's valid auc: 0.929274 + 0.00665448\n",
      "[600]\tcv_agg's train auc: 0.964729 + 0.000826078\tcv_agg's valid auc: 0.931075 + 0.00637018\n",
      "[650]\tcv_agg's train auc: 0.967207 + 0.000645409\tcv_agg's valid auc: 0.932608 + 0.00620594\n",
      "[700]\tcv_agg's train auc: 0.969621 + 0.000739141\tcv_agg's valid auc: 0.933926 + 0.00607883\n",
      "[750]\tcv_agg's train auc: 0.971638 + 0.000713673\tcv_agg's valid auc: 0.935038 + 0.00608944\n",
      "[800]\tcv_agg's train auc: 0.973568 + 0.000570145\tcv_agg's valid auc: 0.935941 + 0.00599894\n",
      "[850]\tcv_agg's train auc: 0.975205 + 0.000451107\tcv_agg's valid auc: 0.936755 + 0.00593456\n",
      "[900]\tcv_agg's train auc: 0.976692 + 0.000349043\tcv_agg's valid auc: 0.937515 + 0.00592205\n",
      "[950]\tcv_agg's train auc: 0.978089 + 0.000299767\tcv_agg's valid auc: 0.938297 + 0.00582856\n",
      "[1000]\tcv_agg's train auc: 0.979303 + 0.00027376\tcv_agg's valid auc: 0.938951 + 0.00571705\n",
      "[1050]\tcv_agg's train auc: 0.9805 + 0.000401958\tcv_agg's valid auc: 0.939607 + 0.0055434\n",
      "[1100]\tcv_agg's train auc: 0.981596 + 0.000409044\tcv_agg's valid auc: 0.940238 + 0.00546846\n",
      "[1150]\tcv_agg's train auc: 0.98263 + 0.000362574\tcv_agg's valid auc: 0.940807 + 0.00527828\n",
      "[1200]\tcv_agg's train auc: 0.983625 + 0.00026275\tcv_agg's valid auc: 0.941384 + 0.00516851\n",
      "[1250]\tcv_agg's train auc: 0.984498 + 0.000249668\tcv_agg's valid auc: 0.941843 + 0.0051157\n",
      "[1300]\tcv_agg's train auc: 0.985361 + 0.000228592\tcv_agg's valid auc: 0.94241 + 0.00511511\n",
      "[1350]\tcv_agg's train auc: 0.986072 + 0.00020326\tcv_agg's valid auc: 0.942877 + 0.00503527\n",
      "[1400]\tcv_agg's train auc: 0.986836 + 0.000210567\tcv_agg's valid auc: 0.943233 + 0.00500707\n",
      "[1450]\tcv_agg's train auc: 0.987594 + 0.000254373\tcv_agg's valid auc: 0.943578 + 0.00489243\n",
      "[1500]\tcv_agg's train auc: 0.988257 + 0.000256378\tcv_agg's valid auc: 0.943906 + 0.0048775\n",
      "[1550]\tcv_agg's train auc: 0.988873 + 0.000224593\tcv_agg's valid auc: 0.944231 + 0.00479427\n",
      "[1600]\tcv_agg's train auc: 0.989503 + 0.000219456\tcv_agg's valid auc: 0.944594 + 0.0047769\n",
      "[1650]\tcv_agg's train auc: 0.99007 + 0.000183838\tcv_agg's valid auc: 0.944827 + 0.00478203\n",
      "[1700]\tcv_agg's train auc: 0.990595 + 0.000181081\tcv_agg's valid auc: 0.945142 + 0.00476136\n",
      "[1750]\tcv_agg's train auc: 0.991075 + 0.000199559\tcv_agg's valid auc: 0.945309 + 0.00478225\n",
      "[1800]\tcv_agg's train auc: 0.991545 + 0.0001932\tcv_agg's valid auc: 0.945525 + 0.00480862\n",
      "[1850]\tcv_agg's train auc: 0.991973 + 0.000231176\tcv_agg's valid auc: 0.945729 + 0.00489134\n",
      "[1900]\tcv_agg's train auc: 0.992421 + 0.000258446\tcv_agg's valid auc: 0.94597 + 0.00488838\n",
      "[1950]\tcv_agg's train auc: 0.992806 + 0.000299581\tcv_agg's valid auc: 0.946175 + 0.0048343\n",
      "[2000]\tcv_agg's train auc: 0.993174 + 0.000305778\tcv_agg's valid auc: 0.946387 + 0.00484121\n",
      "[2050]\tcv_agg's train auc: 0.99351 + 0.000269999\tcv_agg's valid auc: 0.946647 + 0.00486948\n",
      "[2100]\tcv_agg's train auc: 0.993827 + 0.000250638\tcv_agg's valid auc: 0.946862 + 0.00481448\n",
      "[2150]\tcv_agg's train auc: 0.994112 + 0.000256929\tcv_agg's valid auc: 0.947101 + 0.00481846\n",
      "[2200]\tcv_agg's train auc: 0.994436 + 0.000230299\tcv_agg's valid auc: 0.947345 + 0.00486041\n",
      "[2250]\tcv_agg's train auc: 0.994675 + 0.000200171\tcv_agg's valid auc: 0.947525 + 0.00483679\n",
      "[2300]\tcv_agg's train auc: 0.994954 + 0.000175887\tcv_agg's valid auc: 0.947709 + 0.00493109\n",
      "[2350]\tcv_agg's train auc: 0.995212 + 0.000160658\tcv_agg's valid auc: 0.94788 + 0.00496664\n",
      "[2400]\tcv_agg's train auc: 0.995456 + 0.000146445\tcv_agg's valid auc: 0.948042 + 0.00496218\n",
      "[2450]\tcv_agg's train auc: 0.995694 + 0.000154021\tcv_agg's valid auc: 0.94819 + 0.00493323\n",
      "[2500]\tcv_agg's train auc: 0.9959 + 0.000128663\tcv_agg's valid auc: 0.948277 + 0.00494593\n",
      "[2550]\tcv_agg's train auc: 0.996099 + 0.000116044\tcv_agg's valid auc: 0.948462 + 0.00495329\n",
      "[2600]\tcv_agg's train auc: 0.99628 + 0.000106931\tcv_agg's valid auc: 0.94861 + 0.00500813\n",
      "[2650]\tcv_agg's train auc: 0.996463 + 9.94393e-05\tcv_agg's valid auc: 0.948739 + 0.00497121\n",
      "[2700]\tcv_agg's train auc: 0.996628 + 9.09927e-05\tcv_agg's valid auc: 0.948896 + 0.00496741\n",
      "[2750]\tcv_agg's train auc: 0.996779 + 0.000105361\tcv_agg's valid auc: 0.949019 + 0.00491231\n",
      "[2800]\tcv_agg's train auc: 0.996944 + 9.9488e-05\tcv_agg's valid auc: 0.949142 + 0.00488805\n",
      "[2850]\tcv_agg's train auc: 0.997094 + 9.13893e-05\tcv_agg's valid auc: 0.949316 + 0.00492098\n",
      "[2900]\tcv_agg's train auc: 0.997227 + 8.68143e-05\tcv_agg's valid auc: 0.949452 + 0.00492813\n",
      "[2950]\tcv_agg's train auc: 0.997363 + 7.81459e-05\tcv_agg's valid auc: 0.949596 + 0.00486649\n",
      "[3000]\tcv_agg's train auc: 0.997487 + 5.98963e-05\tcv_agg's valid auc: 0.949746 + 0.00486346\n",
      "[3050]\tcv_agg's train auc: 0.997615 + 5.67227e-05\tcv_agg's valid auc: 0.949857 + 0.00483334\n",
      "[3100]\tcv_agg's train auc: 0.997734 + 6.83957e-05\tcv_agg's valid auc: 0.950004 + 0.00484625\n",
      "[3150]\tcv_agg's train auc: 0.997843 + 6.74395e-05\tcv_agg's valid auc: 0.950125 + 0.00481229\n",
      "[3200]\tcv_agg's train auc: 0.997936 + 7.84245e-05\tcv_agg's valid auc: 0.950214 + 0.00489178\n",
      "[3250]\tcv_agg's train auc: 0.99805 + 7.52599e-05\tcv_agg's valid auc: 0.950311 + 0.00496394\n",
      "[3300]\tcv_agg's train auc: 0.998134 + 6.58036e-05\tcv_agg's valid auc: 0.950439 + 0.00501758\n",
      "[3350]\tcv_agg's train auc: 0.998224 + 5.42856e-05\tcv_agg's valid auc: 0.950567 + 0.00500946\n",
      "[3400]\tcv_agg's train auc: 0.998304 + 5.97326e-05\tcv_agg's valid auc: 0.950638 + 0.00506268\n",
      "[3450]\tcv_agg's train auc: 0.998392 + 6.81503e-05\tcv_agg's valid auc: 0.950701 + 0.00505631\n",
      "[3500]\tcv_agg's train auc: 0.998475 + 8.26391e-05\tcv_agg's valid auc: 0.95077 + 0.0050882\n",
      "[3550]\tcv_agg's train auc: 0.998569 + 7.89979e-05\tcv_agg's valid auc: 0.950855 + 0.00509515\n",
      "[3600]\tcv_agg's train auc: 0.998626 + 8.46128e-05\tcv_agg's valid auc: 0.950914 + 0.00508523\n",
      "[3650]\tcv_agg's train auc: 0.998691 + 8.66657e-05\tcv_agg's valid auc: 0.950981 + 0.00507632\n",
      "[3700]\tcv_agg's train auc: 0.99875 + 8.26588e-05\tcv_agg's valid auc: 0.951055 + 0.00507165\n",
      "[3750]\tcv_agg's train auc: 0.998799 + 8.05101e-05\tcv_agg's valid auc: 0.951134 + 0.00506143\n",
      "[3800]\tcv_agg's train auc: 0.998846 + 8.10287e-05\tcv_agg's valid auc: 0.951206 + 0.00502566\n",
      "[3850]\tcv_agg's train auc: 0.998902 + 7.79702e-05\tcv_agg's valid auc: 0.951273 + 0.00496923\n",
      "[3900]\tcv_agg's train auc: 0.998959 + 7.98896e-05\tcv_agg's valid auc: 0.95135 + 0.00493139\n",
      "[3950]\tcv_agg's train auc: 0.999007 + 8.18297e-05\tcv_agg's valid auc: 0.951395 + 0.00488893\n",
      "[4000]\tcv_agg's train auc: 0.999061 + 9.27593e-05\tcv_agg's valid auc: 0.951425 + 0.00488102\n",
      "[4050]\tcv_agg's train auc: 0.999101 + 8.94081e-05\tcv_agg's valid auc: 0.951443 + 0.00488898\n",
      "[4100]\tcv_agg's train auc: 0.999147 + 8.97235e-05\tcv_agg's valid auc: 0.951519 + 0.00487205\n",
      "[4150]\tcv_agg's train auc: 0.999186 + 9.27897e-05\tcv_agg's valid auc: 0.951564 + 0.00490396\n",
      "[4200]\tcv_agg's train auc: 0.999223 + 9.552e-05\tcv_agg's valid auc: 0.951587 + 0.00492216\n",
      "[4250]\tcv_agg's train auc: 0.999257 + 9.56672e-05\tcv_agg's valid auc: 0.951652 + 0.00493086\n",
      "[4300]\tcv_agg's train auc: 0.999293 + 9.84175e-05\tcv_agg's valid auc: 0.951738 + 0.00489276\n",
      "[4350]\tcv_agg's train auc: 0.999321 + 9.80686e-05\tcv_agg's valid auc: 0.951767 + 0.0048752\n",
      "Wall time: 18min 38s\n"
     ]
    }
   ],
   "source": [
    "%%time\n",
    "# кросвалидация\n",
    "cv_lgbm_lgbm = cv_lgbm(params, lgbm_train, y_train)"
   ]
  },
  {
   "cell_type": "code",
   "execution_count": 135,
   "metadata": {},
   "outputs": [
    {
     "data": {
      "image/png": "[encoded data removed]",
      "text/plain": [
       "<Figure size 1080x360 with 1 Axes>"
      ]
     },
     "metadata": {
      "needs_background": "light"
     },
     "output_type": "display_data"
    }
   ],
   "source": [
    "plotLgbmResult(cv_lgbm_lgbm)"
   ]
  },
  {
   "cell_type": "markdown",
   "metadata": {},
   "source": [
    "## CatBoost"
   ]
  },
  {
   "cell_type": "code",
   "execution_count": 22,
   "metadata": {},
   "outputs": [],
   "source": [
    "import catboost as cb"
   ]
  },
  {
   "cell_type": "code",
   "execution_count": 23,
   "metadata": {},
   "outputs": [],
   "source": [
    "cat_f = list(CAT_F)"
   ]
  },
  {
   "cell_type": "code",
   "execution_count": 24,
   "metadata": {},
   "outputs": [],
   "source": [
    "def train_catboost(params, x_train, x_valid, y_train, y_valid, cat_list=[]):\n",
    "    \n",
    "    model = cb.CatBoostClassifier(**cb_params)\n",
    "    \n",
    "    dtrain = cb.Pool(x_train, y_train, cat_features=cat_list)\n",
    "    dvalid = cb.Pool(x_valid, y_valid, cat_features=cat_list)\n",
    "    \n",
    "    return model.fit(dtrain, eval_set=dvalid)"
   ]
  },
  {
   "cell_type": "code",
   "execution_count": 29,
   "metadata": {},
   "outputs": [],
   "source": [
    "def cv_catboost(params, x_train, y_train, cat_list=[], n_fold=5):\n",
    "    dtrain = cb.Pool(x_train, y_train, cat_features=cat_list)\n",
    "    cv_result = cb.cv(\n",
    "        params=params,\n",
    "        dtrain=dtrain,\n",
    "        num_boost_round=10000,\n",
    "        early_stopping_rounds=50,\n",
    "        shuffle=True,\n",
    "        nfold=n_fold,\n",
    "        stratified=True,\n",
    "        verbose = 100,\n",
    "#         metric_period=50,\n",
    "    )\n",
    "    return cv_result"
   ]
  },
  {
   "cell_type": "code",
   "execution_count": 126,
   "metadata": {},
   "outputs": [],
   "source": [
    "# ['train auc-mean', 'train auc-stdv', 'valid auc-mean', 'valid auc-stdv']\n",
    "def plotCatBoostResult(cv_result):\n",
    "    res = pd.DataFrame.from_dict(cv_result)\n",
    "    res.columns =['train-auc-mean', 'train-auc-std', 'test-auc-mean', 'test-auc-std']\n",
    "    plotResult(res, 'CatBoost')"
   ]
  },
  {
   "cell_type": "code",
   "execution_count": 25,
   "metadata": {},
   "outputs": [],
   "source": [
    "cb_params = {\n",
    "    \"n_estimators\": 10000,\n",
    "    \"loss_function\": \"Logloss\",\n",
    "    \"eval_metric\": \"AUC\",\n",
    "    \"task_type\": \"GPU\",\n",
    "    \"devices\": '1',\n",
    "    \"max_bin\": 64,\n",
    "    \"verbose\": 100,\n",
    "    \"max_depth\": 5,\n",
    "    \"l2_leaf_reg\": 100,\n",
    "    \"early_stopping_rounds\": 50,\n",
    "    \"thread_count\": 6,\n",
    "    \"random_seed\": 42\n",
    "}"
   ]
  },
  {
   "cell_type": "markdown",
   "metadata": {},
   "source": [
    "#### CatBoost - числовые"
   ]
  },
  {
   "cell_type": "code",
   "execution_count": 63,
   "metadata": {},
   "outputs": [
    {
     "name": "stdout",
     "output_type": "stream",
     "text": [
      "0:\tlearn: 0.6396321\ttest: 0.6428615\tbest: 0.6428615 (0)\ttotal: 16.9ms\tremaining: 2m 49s\n",
      "50:\tlearn: 0.8392602\ttest: 0.8436866\tbest: 0.8436866 (50)\ttotal: 1.02s\tremaining: 3m 18s\n",
      "100:\tlearn: 0.8478016\ttest: 0.8558811\tbest: 0.8558811 (100)\ttotal: 1.99s\tremaining: 3m 15s\n",
      "150:\tlearn: 0.8624712\ttest: 0.8690299\tbest: 0.8690299 (150)\ttotal: 2.92s\tremaining: 3m 10s\n",
      "200:\tlearn: 0.8701346\ttest: 0.8754754\tbest: 0.8754754 (200)\ttotal: 3.77s\tremaining: 3m 3s\n",
      "250:\tlearn: 0.8759481\ttest: 0.8802985\tbest: 0.8802985 (250)\ttotal: 4.71s\tremaining: 3m 2s\n",
      "300:\tlearn: 0.8785817\ttest: 0.8820664\tbest: 0.8820664 (300)\ttotal: 5.57s\tremaining: 2m 59s\n",
      "350:\tlearn: 0.8805563\ttest: 0.8835579\tbest: 0.8835579 (350)\ttotal: 6.39s\tremaining: 2m 55s\n",
      "400:\tlearn: 0.8821465\ttest: 0.8847972\tbest: 0.8847972 (400)\ttotal: 7.28s\tremaining: 2m 54s\n",
      "450:\tlearn: 0.8836047\ttest: 0.8856752\tbest: 0.8856752 (450)\ttotal: 8.15s\tremaining: 2m 52s\n",
      "500:\tlearn: 0.8849949\ttest: 0.8867279\tbest: 0.8867279 (500)\ttotal: 8.96s\tremaining: 2m 49s\n",
      "550:\tlearn: 0.8861288\ttest: 0.8874551\tbest: 0.8874551 (549)\ttotal: 9.74s\tremaining: 2m 47s\n",
      "600:\tlearn: 0.8871768\ttest: 0.8881586\tbest: 0.8881677 (598)\ttotal: 10.6s\tremaining: 2m 45s\n",
      "650:\tlearn: 0.8881469\ttest: 0.8887298\tbest: 0.8887298 (650)\ttotal: 11.4s\tremaining: 2m 44s\n",
      "700:\tlearn: 0.8890199\ttest: 0.8893245\tbest: 0.8893323 (696)\ttotal: 12.3s\tremaining: 2m 43s\n",
      "750:\tlearn: 0.8903611\ttest: 0.8901465\tbest: 0.8901465 (750)\ttotal: 13.2s\tremaining: 2m 42s\n",
      "800:\tlearn: 0.8913546\ttest: 0.8907788\tbest: 0.8907805 (799)\ttotal: 14s\tremaining: 2m 40s\n",
      "850:\tlearn: 0.8923770\ttest: 0.8913307\tbest: 0.8913307 (850)\ttotal: 14.9s\tremaining: 2m 39s\n",
      "900:\tlearn: 0.8932278\ttest: 0.8917698\tbest: 0.8917845 (892)\ttotal: 15.7s\tremaining: 2m 38s\n",
      "950:\tlearn: 0.8939227\ttest: 0.8922753\tbest: 0.8922753 (950)\ttotal: 16.5s\tremaining: 2m 37s\n",
      "1000:\tlearn: 0.8943518\ttest: 0.8925402\tbest: 0.8925432 (991)\ttotal: 17.4s\tremaining: 2m 36s\n",
      "1050:\tlearn: 0.8948726\ttest: 0.8929259\tbest: 0.8929259 (1050)\ttotal: 18.2s\tremaining: 2m 35s\n",
      "1100:\tlearn: 0.8954234\ttest: 0.8932726\tbest: 0.8932726 (1100)\ttotal: 19s\tremaining: 2m 33s\n",
      "1150:\tlearn: 0.8959731\ttest: 0.8935608\tbest: 0.8935608 (1150)\ttotal: 19.9s\tremaining: 2m 32s\n",
      "1200:\tlearn: 0.8966934\ttest: 0.8940062\tbest: 0.8940089 (1198)\ttotal: 20.7s\tremaining: 2m 31s\n",
      "1250:\tlearn: 0.8970016\ttest: 0.8941544\tbest: 0.8941592 (1243)\ttotal: 21.5s\tremaining: 2m 30s\n",
      "1300:\tlearn: 0.8973563\ttest: 0.8944612\tbest: 0.8944612 (1300)\ttotal: 22.4s\tremaining: 2m 29s\n",
      "1350:\tlearn: 0.8978966\ttest: 0.8947577\tbest: 0.8947664 (1349)\ttotal: 23.2s\tremaining: 2m 28s\n",
      "1400:\tlearn: 0.8981697\ttest: 0.8949322\tbest: 0.8949322 (1400)\ttotal: 24.1s\tremaining: 2m 27s\n",
      "1450:\tlearn: 0.8986507\ttest: 0.8952020\tbest: 0.8952020 (1450)\ttotal: 25s\tremaining: 2m 27s\n",
      "1500:\tlearn: 0.8991911\ttest: 0.8955535\tbest: 0.8955535 (1500)\ttotal: 25.8s\tremaining: 2m 26s\n",
      "1550:\tlearn: 0.8997840\ttest: 0.8960764\tbest: 0.8960764 (1550)\ttotal: 26.7s\tremaining: 2m 25s\n",
      "1600:\tlearn: 0.9002129\ttest: 0.8963808\tbest: 0.8963818 (1598)\ttotal: 27.6s\tremaining: 2m 24s\n",
      "1650:\tlearn: 0.9008096\ttest: 0.8966361\tbest: 0.8966453 (1640)\ttotal: 28.5s\tremaining: 2m 24s\n",
      "1700:\tlearn: 0.9014997\ttest: 0.8969589\tbest: 0.8969592 (1696)\ttotal: 29.3s\tremaining: 2m 22s\n",
      "1750:\tlearn: 0.9019476\ttest: 0.8972932\tbest: 0.8972977 (1748)\ttotal: 30.1s\tremaining: 2m 21s\n",
      "1800:\tlearn: 0.9023317\ttest: 0.8976057\tbest: 0.8976072 (1799)\ttotal: 30.9s\tremaining: 2m 20s\n",
      "1850:\tlearn: 0.9027716\ttest: 0.8976846\tbest: 0.8976846 (1850)\ttotal: 31.8s\tremaining: 2m 19s\n",
      "1900:\tlearn: 0.9030648\ttest: 0.8976765\tbest: 0.8976958 (1858)\ttotal: 32.7s\tremaining: 2m 19s\n",
      "1950:\tlearn: 0.9034717\ttest: 0.8979559\tbest: 0.8979559 (1950)\ttotal: 33.6s\tremaining: 2m 18s\n",
      "2000:\tlearn: 0.9039945\ttest: 0.8983504\tbest: 0.8983523 (1999)\ttotal: 34.4s\tremaining: 2m 17s\n",
      "2050:\tlearn: 0.9043306\ttest: 0.8985426\tbest: 0.8985438 (2049)\ttotal: 35.2s\tremaining: 2m 16s\n",
      "2100:\tlearn: 0.9047254\ttest: 0.8987175\tbest: 0.8987175 (2100)\ttotal: 36.1s\tremaining: 2m 15s\n",
      "2150:\tlearn: 0.9051456\ttest: 0.8989499\tbest: 0.8989575 (2147)\ttotal: 37s\tremaining: 2m 15s\n",
      "2200:\tlearn: 0.9054093\ttest: 0.8990980\tbest: 0.8991090 (2194)\ttotal: 37.9s\tremaining: 2m 14s\n",
      "2250:\tlearn: 0.9059159\ttest: 0.8994724\tbest: 0.8994724 (2250)\ttotal: 38.8s\tremaining: 2m 13s\n",
      "2300:\tlearn: 0.9063624\ttest: 0.8997464\tbest: 0.8997464 (2300)\ttotal: 39.8s\tremaining: 2m 13s\n",
      "2350:\tlearn: 0.9068488\ttest: 0.9001202\tbest: 0.9001255 (2343)\ttotal: 40.8s\tremaining: 2m 12s\n",
      "2400:\tlearn: 0.9072207\ttest: 0.9003228\tbest: 0.9003228 (2400)\ttotal: 41.6s\tremaining: 2m 11s\n",
      "2450:\tlearn: 0.9075944\ttest: 0.9005711\tbest: 0.9005778 (2446)\ttotal: 42.5s\tremaining: 2m 10s\n",
      "2500:\tlearn: 0.9079434\ttest: 0.9008340\tbest: 0.9008340 (2499)\ttotal: 43.4s\tremaining: 2m 10s\n",
      "2550:\tlearn: 0.9082842\ttest: 0.9009584\tbest: 0.9009878 (2546)\ttotal: 44.3s\tremaining: 2m 9s\n",
      "2600:\tlearn: 0.9087369\ttest: 0.9011928\tbest: 0.9011976 (2590)\ttotal: 45.2s\tremaining: 2m 8s\n",
      "2650:\tlearn: 0.9092112\ttest: 0.9015263\tbest: 0.9015263 (2650)\ttotal: 46.1s\tremaining: 2m 7s\n",
      "2700:\tlearn: 0.9095824\ttest: 0.9017730\tbest: 0.9017730 (2700)\ttotal: 46.9s\tremaining: 2m 6s\n",
      "2750:\tlearn: 0.9099283\ttest: 0.9019274\tbest: 0.9019315 (2743)\ttotal: 47.7s\tremaining: 2m 5s\n",
      "2800:\tlearn: 0.9102157\ttest: 0.9020234\tbest: 0.9020234 (2800)\ttotal: 48.7s\tremaining: 2m 5s\n",
      "2850:\tlearn: 0.9104890\ttest: 0.9021818\tbest: 0.9021838 (2849)\ttotal: 49.6s\tremaining: 2m 4s\n",
      "2900:\tlearn: 0.9107569\ttest: 0.9023486\tbest: 0.9023553 (2897)\ttotal: 50.4s\tremaining: 2m 3s\n",
      "2950:\tlearn: 0.9109382\ttest: 0.9024431\tbest: 0.9024446 (2946)\ttotal: 51.3s\tremaining: 2m 2s\n",
      "3000:\tlearn: 0.9111736\ttest: 0.9025678\tbest: 0.9025678 (3000)\ttotal: 52.1s\tremaining: 2m 1s\n",
      "3050:\tlearn: 0.9115441\ttest: 0.9028769\tbest: 0.9028798 (3046)\ttotal: 53s\tremaining: 2m\n",
      "3100:\tlearn: 0.9117951\ttest: 0.9030727\tbest: 0.9030727 (3100)\ttotal: 53.9s\tremaining: 2m\n",
      "3150:\tlearn: 0.9121432\ttest: 0.9032894\tbest: 0.9032894 (3150)\ttotal: 54.8s\tremaining: 1m 59s\n",
      "3200:\tlearn: 0.9123912\ttest: 0.9033898\tbest: 0.9034046 (3190)\ttotal: 55.7s\tremaining: 1m 58s\n",
      "3250:\tlearn: 0.9126761\ttest: 0.9036030\tbest: 0.9036034 (3249)\ttotal: 56.5s\tremaining: 1m 57s\n",
      "3300:\tlearn: 0.9129522\ttest: 0.9037634\tbest: 0.9037634 (3300)\ttotal: 57.3s\tremaining: 1m 56s\n",
      "3350:\tlearn: 0.9132399\ttest: 0.9039925\tbest: 0.9039925 (3350)\ttotal: 58.2s\tremaining: 1m 55s\n",
      "3400:\tlearn: 0.9136106\ttest: 0.9041595\tbest: 0.9041603 (3396)\ttotal: 59.1s\tremaining: 1m 54s\n",
      "3450:\tlearn: 0.9138076\ttest: 0.9042130\tbest: 0.9042203 (3441)\ttotal: 60s\tremaining: 1m 53s\n",
      "3500:\tlearn: 0.9140630\ttest: 0.9044246\tbest: 0.9044248 (3499)\ttotal: 1m\tremaining: 1m 52s\n",
      "3550:\tlearn: 0.9143526\ttest: 0.9046037\tbest: 0.9046044 (3547)\ttotal: 1m 1s\tremaining: 1m 51s\n",
      "3600:\tlearn: 0.9145725\ttest: 0.9047963\tbest: 0.9047966 (3599)\ttotal: 1m 2s\tremaining: 1m 51s\n",
      "3650:\tlearn: 0.9148122\ttest: 0.9049193\tbest: 0.9049193 (3650)\ttotal: 1m 3s\tremaining: 1m 50s\n",
      "3700:\tlearn: 0.9151189\ttest: 0.9050560\tbest: 0.9050561 (3699)\ttotal: 1m 4s\tremaining: 1m 49s\n",
      "3750:\tlearn: 0.9153714\ttest: 0.9051972\tbest: 0.9051972 (3750)\ttotal: 1m 5s\tremaining: 1m 48s\n",
      "3800:\tlearn: 0.9156432\ttest: 0.9053019\tbest: 0.9053092 (3798)\ttotal: 1m 5s\tremaining: 1m 47s\n",
      "3850:\tlearn: 0.9159719\ttest: 0.9055222\tbest: 0.9055347 (3841)\ttotal: 1m 6s\tremaining: 1m 46s\n",
      "3900:\tlearn: 0.9162249\ttest: 0.9057292\tbest: 0.9057332 (3897)\ttotal: 1m 7s\tremaining: 1m 45s\n",
      "3950:\tlearn: 0.9164765\ttest: 0.9058312\tbest: 0.9058312 (3950)\ttotal: 1m 8s\tremaining: 1m 44s\n",
      "4000:\tlearn: 0.9167261\ttest: 0.9060470\tbest: 0.9060509 (3997)\ttotal: 1m 9s\tremaining: 1m 44s\n",
      "4050:\tlearn: 0.9169414\ttest: 0.9061194\tbest: 0.9061194 (4050)\ttotal: 1m 10s\tremaining: 1m 43s\n",
      "4100:\tlearn: 0.9171312\ttest: 0.9062544\tbest: 0.9062544 (4100)\ttotal: 1m 11s\tremaining: 1m 42s\n",
      "4150:\tlearn: 0.9173428\ttest: 0.9064314\tbest: 0.9064320 (4147)\ttotal: 1m 12s\tremaining: 1m 41s\n",
      "4200:\tlearn: 0.9175578\ttest: 0.9065677\tbest: 0.9065694 (4199)\ttotal: 1m 13s\tremaining: 1m 41s\n",
      "4250:\tlearn: 0.9177745\ttest: 0.9066847\tbest: 0.9066934 (4242)\ttotal: 1m 14s\tremaining: 1m 40s\n",
      "4300:\tlearn: 0.9180118\ttest: 0.9068356\tbest: 0.9068430 (4297)\ttotal: 1m 15s\tremaining: 1m 39s\n",
      "4350:\tlearn: 0.9183311\ttest: 0.9070443\tbest: 0.9070443 (4350)\ttotal: 1m 16s\tremaining: 1m 38s\n",
      "4400:\tlearn: 0.9184864\ttest: 0.9071614\tbest: 0.9071716 (4389)\ttotal: 1m 17s\tremaining: 1m 37s\n",
      "4450:\tlearn: 0.9186922\ttest: 0.9073204\tbest: 0.9073204 (4449)\ttotal: 1m 17s\tremaining: 1m 37s\n",
      "4500:\tlearn: 0.9188044\ttest: 0.9073789\tbest: 0.9073847 (4483)\ttotal: 1m 18s\tremaining: 1m 36s\n",
      "4550:\tlearn: 0.9190216\ttest: 0.9074861\tbest: 0.9074891 (4549)\ttotal: 1m 19s\tremaining: 1m 35s\n",
      "4600:\tlearn: 0.9192731\ttest: 0.9076672\tbest: 0.9076762 (4594)\ttotal: 1m 20s\tremaining: 1m 34s\n",
      "4650:\tlearn: 0.9194703\ttest: 0.9077809\tbest: 0.9077809 (4650)\ttotal: 1m 21s\tremaining: 1m 33s\n",
      "4700:\tlearn: 0.9197413\ttest: 0.9079352\tbest: 0.9079352 (4700)\ttotal: 1m 22s\tremaining: 1m 33s\n",
      "4750:\tlearn: 0.9199937\ttest: 0.9081383\tbest: 0.9081422 (4749)\ttotal: 1m 23s\tremaining: 1m 32s\n",
      "4800:\tlearn: 0.9201837\ttest: 0.9082225\tbest: 0.9082268 (4797)\ttotal: 1m 24s\tremaining: 1m 31s\n",
      "4850:\tlearn: 0.9203328\ttest: 0.9083014\tbest: 0.9083014 (4850)\ttotal: 1m 25s\tremaining: 1m 30s\n",
      "4900:\tlearn: 0.9205522\ttest: 0.9084462\tbest: 0.9084462 (4900)\ttotal: 1m 26s\tremaining: 1m 29s\n",
      "4950:\tlearn: 0.9208356\ttest: 0.9085920\tbest: 0.9085933 (4949)\ttotal: 1m 27s\tremaining: 1m 28s\n",
      "5000:\tlearn: 0.9210559\ttest: 0.9087400\tbest: 0.9087400 (5000)\ttotal: 1m 27s\tremaining: 1m 27s\n",
      "5050:\tlearn: 0.9212171\ttest: 0.9088538\tbest: 0.9088538 (5050)\ttotal: 1m 28s\tremaining: 1m 27s\n",
      "5100:\tlearn: 0.9214377\ttest: 0.9089435\tbest: 0.9089512 (5096)\ttotal: 1m 29s\tremaining: 1m 26s\n",
      "5150:\tlearn: 0.9216326\ttest: 0.9090583\tbest: 0.9090608 (5149)\ttotal: 1m 30s\tremaining: 1m 25s\n",
      "5200:\tlearn: 0.9218333\ttest: 0.9092151\tbest: 0.9092151 (5200)\ttotal: 1m 31s\tremaining: 1m 24s\n",
      "5250:\tlearn: 0.9220826\ttest: 0.9093118\tbest: 0.9093158 (5246)\ttotal: 1m 32s\tremaining: 1m 23s\n",
      "5300:\tlearn: 0.9222314\ttest: 0.9094537\tbest: 0.9094537 (5300)\ttotal: 1m 33s\tremaining: 1m 22s\n",
      "5350:\tlearn: 0.9223473\ttest: 0.9095308\tbest: 0.9095393 (5344)\ttotal: 1m 34s\tremaining: 1m 21s\n",
      "5400:\tlearn: 0.9226045\ttest: 0.9097076\tbest: 0.9097084 (5399)\ttotal: 1m 35s\tremaining: 1m 21s\n",
      "5450:\tlearn: 0.9228497\ttest: 0.9098319\tbest: 0.9098319 (5450)\ttotal: 1m 36s\tremaining: 1m 20s\n",
      "5500:\tlearn: 0.9230677\ttest: 0.9099230\tbest: 0.9099293 (5496)\ttotal: 1m 37s\tremaining: 1m 19s\n",
      "5550:\tlearn: 0.9232645\ttest: 0.9100516\tbest: 0.9100516 (5550)\ttotal: 1m 37s\tremaining: 1m 18s\n",
      "5600:\tlearn: 0.9234763\ttest: 0.9101762\tbest: 0.9101914 (5599)\ttotal: 1m 38s\tremaining: 1m 17s\n",
      "5650:\tlearn: 0.9236151\ttest: 0.9103200\tbest: 0.9103200 (5650)\ttotal: 1m 39s\tremaining: 1m 16s\n",
      "5700:\tlearn: 0.9237180\ttest: 0.9103028\tbest: 0.9103339 (5662)\ttotal: 1m 40s\tremaining: 1m 15s\n",
      "5750:\tlearn: 0.9239003\ttest: 0.9104158\tbest: 0.9104158 (5749)\ttotal: 1m 41s\tremaining: 1m 14s\n",
      "5800:\tlearn: 0.9240704\ttest: 0.9104740\tbest: 0.9104740 (5800)\ttotal: 1m 42s\tremaining: 1m 14s\n",
      "5850:\tlearn: 0.9243335\ttest: 0.9107143\tbest: 0.9107143 (5850)\ttotal: 1m 43s\tremaining: 1m 13s\n",
      "5900:\tlearn: 0.9245425\ttest: 0.9108746\tbest: 0.9108766 (5899)\ttotal: 1m 44s\tremaining: 1m 12s\n",
      "5950:\tlearn: 0.9247400\ttest: 0.9110343\tbest: 0.9110348 (5947)\ttotal: 1m 44s\tremaining: 1m 11s\n",
      "6000:\tlearn: 0.9249430\ttest: 0.9111409\tbest: 0.9111479 (5998)\ttotal: 1m 45s\tremaining: 1m 10s\n",
      "6050:\tlearn: 0.9250814\ttest: 0.9112416\tbest: 0.9112437 (6049)\ttotal: 1m 46s\tremaining: 1m 9s\n",
      "6100:\tlearn: 0.9252596\ttest: 0.9113914\tbest: 0.9113914 (6100)\ttotal: 1m 47s\tremaining: 1m 8s\n",
      "6150:\tlearn: 0.9253846\ttest: 0.9114897\tbest: 0.9114897 (6150)\ttotal: 1m 48s\tremaining: 1m 7s\n",
      "6200:\tlearn: 0.9254854\ttest: 0.9115260\tbest: 0.9115269 (6174)\ttotal: 1m 49s\tremaining: 1m 6s\n",
      "6250:\tlearn: 0.9256911\ttest: 0.9116397\tbest: 0.9116397 (6250)\ttotal: 1m 50s\tremaining: 1m 6s\n",
      "6300:\tlearn: 0.9258576\ttest: 0.9117169\tbest: 0.9117241 (6294)\ttotal: 1m 50s\tremaining: 1m 5s\n",
      "6350:\tlearn: 0.9259834\ttest: 0.9117683\tbest: 0.9117737 (6343)\ttotal: 1m 51s\tremaining: 1m 4s\n",
      "6400:\tlearn: 0.9261182\ttest: 0.9118456\tbest: 0.9118480 (6396)\ttotal: 1m 52s\tremaining: 1m 3s\n",
      "6450:\tlearn: 0.9263218\ttest: 0.9120046\tbest: 0.9120119 (6447)\ttotal: 1m 53s\tremaining: 1m 2s\n",
      "6500:\tlearn: 0.9264721\ttest: 0.9120189\tbest: 0.9120197 (6498)\ttotal: 1m 54s\tremaining: 1m 1s\n",
      "6550:\tlearn: 0.9265417\ttest: 0.9120577\tbest: 0.9120691 (6540)\ttotal: 1m 55s\tremaining: 1m\n",
      "6600:\tlearn: 0.9267274\ttest: 0.9121758\tbest: 0.9121773 (6596)\ttotal: 1m 56s\tremaining: 60s\n",
      "6650:\tlearn: 0.9269136\ttest: 0.9122850\tbest: 0.9122850 (6650)\ttotal: 1m 57s\tremaining: 59.1s\n",
      "6700:\tlearn: 0.9270852\ttest: 0.9124476\tbest: 0.9124510 (6695)\ttotal: 1m 58s\tremaining: 58.3s\n",
      "6750:\tlearn: 0.9272282\ttest: 0.9125919\tbest: 0.9125919 (6750)\ttotal: 1m 59s\tremaining: 57.4s\n",
      "6800:\tlearn: 0.9273797\ttest: 0.9126679\tbest: 0.9126679 (6800)\ttotal: 2m\tremaining: 56.6s\n",
      "6850:\tlearn: 0.9274753\ttest: 0.9127427\tbest: 0.9127481 (6848)\ttotal: 2m 1s\tremaining: 55.7s\n",
      "6900:\tlearn: 0.9276161\ttest: 0.9128125\tbest: 0.9128134 (6899)\ttotal: 2m 2s\tremaining: 54.9s\n",
      "6950:\tlearn: 0.9277511\ttest: 0.9129461\tbest: 0.9129461 (6950)\ttotal: 2m 3s\tremaining: 54s\n",
      "7000:\tlearn: 0.9279224\ttest: 0.9130448\tbest: 0.9130518 (6999)\ttotal: 2m 3s\tremaining: 53.1s\n",
      "7050:\tlearn: 0.9281512\ttest: 0.9132516\tbest: 0.9132516 (7050)\ttotal: 2m 4s\tremaining: 52.2s\n",
      "7100:\tlearn: 0.9283077\ttest: 0.9133205\tbest: 0.9133205 (7100)\ttotal: 2m 5s\tremaining: 51.3s\n",
      "7150:\tlearn: 0.9284440\ttest: 0.9134212\tbest: 0.9134212 (7150)\ttotal: 2m 6s\tremaining: 50.4s\n",
      "7200:\tlearn: 0.9286663\ttest: 0.9136015\tbest: 0.9136015 (7200)\ttotal: 2m 7s\tremaining: 49.5s\n",
      "7250:\tlearn: 0.9288286\ttest: 0.9136493\tbest: 0.9136654 (7229)\ttotal: 2m 8s\tremaining: 48.7s\n",
      "7300:\tlearn: 0.9289815\ttest: 0.9137655\tbest: 0.9137661 (7295)\ttotal: 2m 9s\tremaining: 47.8s\n",
      "7350:\tlearn: 0.9291540\ttest: 0.9138921\tbest: 0.9138923 (7349)\ttotal: 2m 10s\tremaining: 46.9s\n",
      "7400:\tlearn: 0.9292686\ttest: 0.9139510\tbest: 0.9139525 (7399)\ttotal: 2m 10s\tremaining: 46s\n",
      "7450:\tlearn: 0.9294053\ttest: 0.9140572\tbest: 0.9140572 (7450)\ttotal: 2m 11s\tremaining: 45.1s\n",
      "7500:\tlearn: 0.9295400\ttest: 0.9141928\tbest: 0.9141958 (7497)\ttotal: 2m 12s\tremaining: 44.2s\n",
      "7550:\tlearn: 0.9297707\ttest: 0.9143862\tbest: 0.9143865 (7549)\ttotal: 2m 13s\tremaining: 43.3s\n",
      "7600:\tlearn: 0.9299755\ttest: 0.9145393\tbest: 0.9145393 (7600)\ttotal: 2m 14s\tremaining: 42.4s\n",
      "7650:\tlearn: 0.9301890\ttest: 0.9147018\tbest: 0.9147018 (7650)\ttotal: 2m 15s\tremaining: 41.6s\n",
      "7700:\tlearn: 0.9303024\ttest: 0.9147531\tbest: 0.9147568 (7697)\ttotal: 2m 16s\tremaining: 40.7s\n",
      "7750:\tlearn: 0.9304452\ttest: 0.9148360\tbest: 0.9148443 (7742)\ttotal: 2m 17s\tremaining: 39.8s\n",
      "7800:\tlearn: 0.9306058\ttest: 0.9149428\tbest: 0.9149480 (7797)\ttotal: 2m 18s\tremaining: 38.9s\n",
      "7850:\tlearn: 0.9307651\ttest: 0.9150241\tbest: 0.9150267 (7846)\ttotal: 2m 18s\tremaining: 38s\n",
      "7900:\tlearn: 0.9309721\ttest: 0.9151835\tbest: 0.9151835 (7900)\ttotal: 2m 19s\tremaining: 37.2s\n",
      "7950:\tlearn: 0.9311542\ttest: 0.9153000\tbest: 0.9153031 (7948)\ttotal: 2m 20s\tremaining: 36.3s\n",
      "8000:\tlearn: 0.9313162\ttest: 0.9154128\tbest: 0.9154155 (7998)\ttotal: 2m 21s\tremaining: 35.4s\n",
      "8050:\tlearn: 0.9313923\ttest: 0.9154263\tbest: 0.9154348 (8018)\ttotal: 2m 22s\tremaining: 34.5s\n",
      "bestTest = 0.9154348075\n",
      "bestIteration = 8018\n",
      "Shrink model to first 8019 iterations.\n",
      "Wall time: 3min 4s\n"
     ]
    }
   ],
   "source": [
    "%%time\n",
    "model = train_catboost(cb_params, num_train, num_valid, y_train, y_valid)"
   ]
  },
  {
   "cell_type": "code",
   "execution_count": 30,
   "metadata": {},
   "outputs": [
    {
     "name": "stdout",
     "output_type": "stream",
     "text": [
      "0:\ttest: 0.6166786\tbest: 0.6166786 (0)\n",
      "100:\ttest: 0.8541647\tbest: 0.8541647 (100)\n",
      "200:\ttest: 0.8671525\tbest: 0.8671525 (200)\n",
      "300:\ttest: 0.8748628\tbest: 0.8748628 (300)\n",
      "400:\ttest: 0.8795230\tbest: 0.8795230 (400)\n",
      "500:\ttest: 0.8828538\tbest: 0.8828538 (500)\n",
      "600:\ttest: 0.8855963\tbest: 0.8855963 (600)\n",
      "700:\ttest: 0.8878708\tbest: 0.8878708 (700)\n",
      "800:\ttest: 0.8893879\tbest: 0.8893879 (800)\n",
      "900:\ttest: 0.8910218\tbest: 0.8910218 (900)\n",
      "1000:\ttest: 0.8922838\tbest: 0.8922858 (999)\n",
      "1100:\ttest: 0.8937310\tbest: 0.8937310 (1100)\n",
      "1200:\ttest: 0.8948268\tbest: 0.8948268 (1200)\n",
      "1300:\ttest: 0.8957970\tbest: 0.8957970 (1300)\n",
      "1400:\ttest: 0.8965537\tbest: 0.8965588 (1397)\n",
      "1500:\ttest: 0.8971783\tbest: 0.8971783 (1500)\n",
      "1600:\ttest: 0.8977595\tbest: 0.8977595 (1600)\n",
      "1700:\ttest: 0.8982858\tbest: 0.8982884 (1698)\n",
      "1800:\ttest: 0.8988146\tbest: 0.8988146 (1800)\n",
      "1900:\ttest: 0.8994233\tbest: 0.8994233 (1900)\n",
      "2000:\ttest: 0.8999694\tbest: 0.8999694 (2000)\n",
      "2100:\ttest: 0.9006997\tbest: 0.9006997 (2100)\n",
      "2200:\ttest: 0.9011914\tbest: 0.9011914 (2200)\n",
      "2300:\ttest: 0.9017331\tbest: 0.9017331 (2300)\n",
      "2400:\ttest: 0.9023080\tbest: 0.9023080 (2400)\n",
      "2500:\ttest: 0.9028111\tbest: 0.9028111 (2500)\n",
      "2600:\ttest: 0.9032271\tbest: 0.9032271 (2600)\n",
      "2700:\ttest: 0.9037933\tbest: 0.9037933 (2700)\n",
      "2800:\ttest: 0.9041874\tbest: 0.9041874 (2800)\n",
      "2900:\ttest: 0.9045471\tbest: 0.9045471 (2900)\n",
      "3000:\ttest: 0.9048464\tbest: 0.9048464 (3000)\n",
      "3100:\ttest: 0.9051288\tbest: 0.9051288 (3100)\n",
      "3200:\ttest: 0.9054526\tbest: 0.9054526 (3200)\n",
      "3300:\ttest: 0.9057494\tbest: 0.9057494 (3300)\n",
      "3400:\ttest: 0.9060994\tbest: 0.9060994 (3400)\n",
      "3500:\ttest: 0.9064541\tbest: 0.9064541 (3500)\n",
      "3600:\ttest: 0.9068772\tbest: 0.9068772 (3600)\n",
      "3700:\ttest: 0.9071062\tbest: 0.9071062 (3700)\n",
      "3800:\ttest: 0.9074197\tbest: 0.9074237 (3795)\n",
      "3900:\ttest: 0.9077583\tbest: 0.9077583 (3900)\n",
      "4000:\ttest: 0.9081152\tbest: 0.9081152 (4000)\n",
      "4100:\ttest: 0.9085106\tbest: 0.9085106 (4100)\n",
      "4200:\ttest: 0.9089363\tbest: 0.9089365 (4199)\n",
      "4300:\ttest: 0.9092389\tbest: 0.9092389 (4300)\n",
      "4400:\ttest: 0.9095411\tbest: 0.9095426 (4399)\n",
      "4500:\ttest: 0.9098874\tbest: 0.9098874 (4500)\n",
      "4600:\ttest: 0.9101890\tbest: 0.9101892 (4599)\n",
      "4700:\ttest: 0.9105338\tbest: 0.9105338 (4700)\n",
      "4800:\ttest: 0.9108090\tbest: 0.9108090 (4800)\n",
      "4900:\ttest: 0.9110925\tbest: 0.9110925 (4899)\n",
      "5000:\ttest: 0.9113591\tbest: 0.9113591 (5000)\n",
      "5100:\ttest: 0.9116933\tbest: 0.9116933 (5100)\n",
      "5200:\ttest: 0.9119462\tbest: 0.9119554 (5198)\n",
      "5300:\ttest: 0.9122374\tbest: 0.9122385 (5298)\n",
      "5400:\ttest: 0.9125951\tbest: 0.9125951 (5400)\n",
      "5500:\ttest: 0.9128806\tbest: 0.9128806 (5500)\n",
      "5600:\ttest: 0.9131455\tbest: 0.9131455 (5600)\n",
      "5700:\ttest: 0.9133432\tbest: 0.9133441 (5699)\n",
      "5800:\ttest: 0.9136127\tbest: 0.9136153 (5799)\n",
      "5900:\ttest: 0.9137971\tbest: 0.9138014 (5897)\n",
      "6000:\ttest: 0.9139995\tbest: 0.9139995 (6000)\n",
      "6100:\ttest: 0.9142182\tbest: 0.9142194 (6095)\n",
      "6200:\ttest: 0.9144609\tbest: 0.9144610 (6199)\n",
      "6300:\ttest: 0.9146794\tbest: 0.9146794 (6300)\n",
      "6400:\ttest: 0.9148935\tbest: 0.9148935 (6400)\n",
      "6500:\ttest: 0.9150729\tbest: 0.9150730 (6499)\n",
      "6600:\ttest: 0.9152553\tbest: 0.9152553 (6599)\n",
      "6700:\ttest: 0.9154656\tbest: 0.9154656 (6700)\n",
      "6800:\ttest: 0.9156660\tbest: 0.9156665 (6799)\n",
      "6900:\ttest: 0.9158567\tbest: 0.9158601 (6898)\n",
      "7000:\ttest: 0.9161016\tbest: 0.9161016 (7000)\n",
      "7100:\ttest: 0.9163120\tbest: 0.9163120 (7100)\n",
      "7200:\ttest: 0.9165059\tbest: 0.9165084 (7199)\n",
      "7300:\ttest: 0.9167587\tbest: 0.9167587 (7300)\n",
      "7400:\ttest: 0.9169088\tbest: 0.9169088 (7400)\n",
      "7500:\ttest: 0.9170968\tbest: 0.9170968 (7500)\n",
      "7600:\ttest: 0.9173430\tbest: 0.9173430 (7600)\n",
      "7700:\ttest: 0.9175142\tbest: 0.9175170 (7698)\n",
      "7800:\ttest: 0.9177332\tbest: 0.9177332 (7800)\n",
      "7900:\ttest: 0.9178997\tbest: 0.9179076 (7897)\n",
      "8000:\ttest: 0.9181174\tbest: 0.9181230 (7995)\n",
      "8100:\ttest: 0.9183801\tbest: 0.9183801 (8100)\n",
      "8200:\ttest: 0.9185746\tbest: 0.9185746 (8200)\n",
      "8300:\ttest: 0.9187565\tbest: 0.9187567 (8299)\n",
      "8400:\ttest: 0.9189752\tbest: 0.9189752 (8400)\n",
      "8500:\ttest: 0.9191794\tbest: 0.9191800 (8496)\n",
      "8600:\ttest: 0.9193913\tbest: 0.9193928 (8599)\n",
      "8700:\ttest: 0.9195990\tbest: 0.9195990 (8700)\n",
      "8800:\ttest: 0.9198453\tbest: 0.9198487 (8794)\n",
      "8900:\ttest: 0.9200214\tbest: 0.9200256 (8897)\n",
      "9000:\ttest: 0.9202346\tbest: 0.9202368 (8997)\n",
      "9100:\ttest: 0.9203677\tbest: 0.9203691 (9099)\n",
      "9200:\ttest: 0.9205209\tbest: 0.9205209 (9200)\n",
      "9300:\ttest: 0.9207576\tbest: 0.9207576 (9300)\n",
      "9400:\ttest: 0.9209161\tbest: 0.9209162 (9399)\n",
      "9500:\ttest: 0.9211006\tbest: 0.9211006 (9500)\n",
      "9600:\ttest: 0.9213221\tbest: 0.9213221 (9600)\n",
      "9700:\ttest: 0.9215179\tbest: 0.9215179 (9700)\n",
      "9800:\ttest: 0.9217480\tbest: 0.9217480 (9800)\n",
      "9900:\ttest: 0.9219532\tbest: 0.9219532 (9900)\n",
      "9999:\ttest: 0.9221329\tbest: 0.9221329 (9999)\ttotal: 44m 52s\tremaining: 0us\n",
      "Wall time: 44min 53s\n"
     ]
    }
   ],
   "source": [
    "%%time\n",
    "# кросвалидация\n",
    "cv_cboost_num = cv_catboost(cb_params, num_train, y_train)"
   ]
  },
  {
   "cell_type": "code",
   "execution_count": 31,
   "metadata": {},
   "outputs": [
    {
     "data": {
      "text/html": [
       "<div>\n",
       "<style scoped>\n",
       "    .dataframe tbody tr th:only-of-type {\n",
       "        vertical-align: middle;\n",
       "    }\n",
       "\n",
       "    .dataframe tbody tr th {\n",
       "        vertical-align: top;\n",
       "    }\n",
       "\n",
       "    .dataframe thead th {\n",
       "        text-align: right;\n",
       "    }\n",
       "</style>\n",
       "<table border=\"1\" class=\"dataframe\">\n",
       "  <thead>\n",
       "    <tr style=\"text-align: right;\">\n",
       "      <th></th>\n",
       "      <th>iterations</th>\n",
       "      <th>test-AUC-mean</th>\n",
       "      <th>test-AUC-std</th>\n",
       "      <th>test-Logloss-mean</th>\n",
       "      <th>test-Logloss-std</th>\n",
       "      <th>train-Logloss-mean</th>\n",
       "      <th>train-Logloss-std</th>\n",
       "    </tr>\n",
       "  </thead>\n",
       "  <tbody>\n",
       "    <tr>\n",
       "      <th>0</th>\n",
       "      <td>0</td>\n",
       "      <td>0.616679</td>\n",
       "      <td>0.012407</td>\n",
       "      <td>0.641011</td>\n",
       "      <td>0.000081</td>\n",
       "      <td>0.640997</td>\n",
       "      <td>0.000131</td>\n",
       "    </tr>\n",
       "    <tr>\n",
       "      <th>1</th>\n",
       "      <td>1</td>\n",
       "      <td>0.675927</td>\n",
       "      <td>0.010630</td>\n",
       "      <td>0.592246</td>\n",
       "      <td>0.000072</td>\n",
       "      <td>0.592230</td>\n",
       "      <td>0.000180</td>\n",
       "    </tr>\n",
       "  </tbody>\n",
       "</table>\n",
       "</div>"
      ],
      "text/plain": [
       "   iterations  test-AUC-mean  test-AUC-std  test-Logloss-mean  \\\n",
       "0           0       0.616679      0.012407           0.641011   \n",
       "1           1       0.675927      0.010630           0.592246   \n",
       "\n",
       "   test-Logloss-std  train-Logloss-mean  train-Logloss-std  \n",
       "0          0.000081            0.640997           0.000131  \n",
       "1          0.000072            0.592230           0.000180  "
      ]
     },
     "execution_count": 31,
     "metadata": {},
     "output_type": "execute_result"
    }
   ],
   "source": [
    "cv_cboost_num.head(2)"
   ]
  },
  {
   "cell_type": "markdown",
   "metadata": {},
   "source": [
    "#### CatBoost - числовые и обработанные категориальные"
   ]
  },
  {
   "cell_type": "code",
   "execution_count": 65,
   "metadata": {},
   "outputs": [
    {
     "name": "stdout",
     "output_type": "stream",
     "text": [
      "0:\tlearn: 0.6396321\ttest: 0.6428615\tbest: 0.6428615 (0)\ttotal: 15.4ms\tremaining: 2m 33s\n",
      "100:\tlearn: 0.8495834\ttest: 0.8573451\tbest: 0.8573451 (100)\ttotal: 1.89s\tremaining: 3m 5s\n",
      "200:\tlearn: 0.8769727\ttest: 0.8827421\tbest: 0.8827421 (200)\ttotal: 3.86s\tremaining: 3m 8s\n",
      "300:\tlearn: 0.8868943\ttest: 0.8904108\tbest: 0.8904108 (300)\ttotal: 5.55s\tremaining: 2m 58s\n",
      "400:\tlearn: 0.8901703\ttest: 0.8927070\tbest: 0.8927070 (400)\ttotal: 7.2s\tremaining: 2m 52s\n",
      "500:\tlearn: 0.8938037\ttest: 0.8951279\tbest: 0.8951281 (499)\ttotal: 8.97s\tremaining: 2m 50s\n",
      "600:\tlearn: 0.8957067\ttest: 0.8964755\tbest: 0.8964758 (598)\ttotal: 10.8s\tremaining: 2m 49s\n",
      "700:\tlearn: 0.8973790\ttest: 0.8974811\tbest: 0.8974811 (700)\ttotal: 13.6s\tremaining: 3m\n",
      "800:\tlearn: 0.8991018\ttest: 0.8984433\tbest: 0.8984440 (799)\ttotal: 18.1s\tremaining: 3m 27s\n",
      "900:\tlearn: 0.9008102\ttest: 0.8994193\tbest: 0.8994360 (895)\ttotal: 22.7s\tremaining: 3m 49s\n",
      "1000:\tlearn: 0.9020970\ttest: 0.9003863\tbest: 0.9003863 (1000)\ttotal: 27s\tremaining: 4m 2s\n",
      "1100:\tlearn: 0.9030360\ttest: 0.9009570\tbest: 0.9009580 (1099)\ttotal: 31.3s\tremaining: 4m 13s\n",
      "1200:\tlearn: 0.9043985\ttest: 0.9017957\tbest: 0.9017977 (1195)\ttotal: 35.7s\tremaining: 4m 21s\n",
      "1300:\tlearn: 0.9051318\ttest: 0.9023352\tbest: 0.9023352 (1300)\ttotal: 40s\tremaining: 4m 27s\n",
      "1400:\tlearn: 0.9059707\ttest: 0.9027303\tbest: 0.9027303 (1400)\ttotal: 44.2s\tremaining: 4m 31s\n",
      "1500:\tlearn: 0.9068908\ttest: 0.9033740\tbest: 0.9033800 (1494)\ttotal: 48.8s\tremaining: 4m 36s\n",
      "1600:\tlearn: 0.9080410\ttest: 0.9040756\tbest: 0.9040861 (1595)\ttotal: 53.1s\tremaining: 4m 38s\n",
      "1700:\tlearn: 0.9091561\ttest: 0.9047310\tbest: 0.9047310 (1700)\ttotal: 57.4s\tremaining: 4m 40s\n",
      "1800:\tlearn: 0.9099538\ttest: 0.9053063\tbest: 0.9053076 (1799)\ttotal: 1m 1s\tremaining: 4m 40s\n",
      "1900:\tlearn: 0.9107069\ttest: 0.9056756\tbest: 0.9056770 (1899)\ttotal: 1m 6s\tremaining: 4m 41s\n",
      "2000:\tlearn: 0.9117721\ttest: 0.9064816\tbest: 0.9064821 (1999)\ttotal: 1m 10s\tremaining: 4m 41s\n",
      "2100:\tlearn: 0.9125198\ttest: 0.9068940\tbest: 0.9069028 (2099)\ttotal: 1m 14s\tremaining: 4m 40s\n",
      "2200:\tlearn: 0.9132782\ttest: 0.9073496\tbest: 0.9073596 (2195)\ttotal: 1m 18s\tremaining: 4m 39s\n",
      "2300:\tlearn: 0.9140695\ttest: 0.9078918\tbest: 0.9078918 (2300)\ttotal: 1m 23s\tremaining: 4m 38s\n",
      "2400:\tlearn: 0.9148607\ttest: 0.9084938\tbest: 0.9084938 (2400)\ttotal: 1m 27s\tremaining: 4m 36s\n",
      "2500:\tlearn: 0.9156913\ttest: 0.9090380\tbest: 0.9090380 (2500)\ttotal: 1m 31s\tremaining: 4m 34s\n",
      "2600:\tlearn: 0.9162849\ttest: 0.9093313\tbest: 0.9093330 (2598)\ttotal: 1m 35s\tremaining: 4m 32s\n",
      "2700:\tlearn: 0.9170720\ttest: 0.9097755\tbest: 0.9097760 (2699)\ttotal: 1m 40s\tremaining: 4m 30s\n",
      "2800:\tlearn: 0.9176208\ttest: 0.9099491\tbest: 0.9099518 (2797)\ttotal: 1m 44s\tremaining: 4m 28s\n",
      "2900:\tlearn: 0.9182554\ttest: 0.9103959\tbest: 0.9103959 (2900)\ttotal: 1m 48s\tremaining: 4m 26s\n",
      "3000:\tlearn: 0.9186728\ttest: 0.9106351\tbest: 0.9106351 (3000)\ttotal: 1m 52s\tremaining: 4m 23s\n",
      "3100:\tlearn: 0.9193962\ttest: 0.9110360\tbest: 0.9110369 (3099)\ttotal: 1m 57s\tremaining: 4m 20s\n",
      "3200:\tlearn: 0.9199051\ttest: 0.9113256\tbest: 0.9113323 (3196)\ttotal: 2m 1s\tremaining: 4m 18s\n",
      "3300:\tlearn: 0.9204796\ttest: 0.9116441\tbest: 0.9116441 (3300)\ttotal: 2m 5s\tremaining: 4m 15s\n",
      "3400:\tlearn: 0.9213068\ttest: 0.9120692\tbest: 0.9120783 (3396)\ttotal: 2m 10s\tremaining: 4m 12s\n",
      "3500:\tlearn: 0.9218927\ttest: 0.9124148\tbest: 0.9124148 (3500)\ttotal: 2m 14s\tremaining: 4m 9s\n",
      "3600:\tlearn: 0.9224417\ttest: 0.9127776\tbest: 0.9127819 (3599)\ttotal: 2m 18s\tremaining: 4m 6s\n",
      "3700:\tlearn: 0.9230140\ttest: 0.9130827\tbest: 0.9130836 (3699)\ttotal: 2m 22s\tremaining: 4m 3s\n",
      "3800:\tlearn: 0.9234572\ttest: 0.9133217\tbest: 0.9133248 (3798)\ttotal: 2m 27s\tremaining: 4m\n",
      "3900:\tlearn: 0.9240130\ttest: 0.9135849\tbest: 0.9135996 (3896)\ttotal: 2m 31s\tremaining: 3m 56s\n",
      "4000:\tlearn: 0.9245180\ttest: 0.9139560\tbest: 0.9139560 (4000)\ttotal: 2m 35s\tremaining: 3m 53s\n",
      "4100:\tlearn: 0.9248970\ttest: 0.9141823\tbest: 0.9141874 (4099)\ttotal: 2m 39s\tremaining: 3m 50s\n",
      "4200:\tlearn: 0.9252287\ttest: 0.9143817\tbest: 0.9143862 (4197)\ttotal: 2m 44s\tremaining: 3m 46s\n",
      "4300:\tlearn: 0.9257199\ttest: 0.9146989\tbest: 0.9147035 (4298)\ttotal: 2m 48s\tremaining: 3m 43s\n",
      "4400:\tlearn: 0.9261917\ttest: 0.9149603\tbest: 0.9149625 (4392)\ttotal: 2m 52s\tremaining: 3m 39s\n",
      "4500:\tlearn: 0.9266687\ttest: 0.9152645\tbest: 0.9152672 (4499)\ttotal: 2m 57s\tremaining: 3m 36s\n",
      "4600:\tlearn: 0.9271172\ttest: 0.9154925\tbest: 0.9154962 (4595)\ttotal: 3m 1s\tremaining: 3m 32s\n",
      "4700:\tlearn: 0.9275607\ttest: 0.9156824\tbest: 0.9156846 (4695)\ttotal: 3m 5s\tremaining: 3m 29s\n",
      "4800:\tlearn: 0.9279211\ttest: 0.9158906\tbest: 0.9158906 (4800)\ttotal: 3m 9s\tremaining: 3m 25s\n",
      "4900:\tlearn: 0.9284003\ttest: 0.9161927\tbest: 0.9161935 (4897)\ttotal: 3m 14s\tremaining: 3m 22s\n",
      "5000:\tlearn: 0.9287763\ttest: 0.9164352\tbest: 0.9164383 (4993)\ttotal: 3m 18s\tremaining: 3m 18s\n",
      "5100:\tlearn: 0.9292044\ttest: 0.9166518\tbest: 0.9166518 (5100)\ttotal: 3m 23s\tremaining: 3m 14s\n",
      "5200:\tlearn: 0.9296537\ttest: 0.9168624\tbest: 0.9168655 (5198)\ttotal: 3m 27s\tremaining: 3m 11s\n",
      "5300:\tlearn: 0.9300156\ttest: 0.9170056\tbest: 0.9170096 (5299)\ttotal: 3m 31s\tremaining: 3m 7s\n",
      "5400:\tlearn: 0.9304196\ttest: 0.9172244\tbest: 0.9172244 (5400)\ttotal: 3m 36s\tremaining: 3m 4s\n",
      "5500:\tlearn: 0.9309459\ttest: 0.9175147\tbest: 0.9175147 (5500)\ttotal: 3m 40s\tremaining: 3m\n",
      "5600:\tlearn: 0.9314198\ttest: 0.9179432\tbest: 0.9179499 (5599)\ttotal: 3m 44s\tremaining: 2m 56s\n",
      "5700:\tlearn: 0.9317230\ttest: 0.9180720\tbest: 0.9180988 (5684)\ttotal: 3m 49s\tremaining: 2m 52s\n",
      "5800:\tlearn: 0.9320266\ttest: 0.9182782\tbest: 0.9182820 (5798)\ttotal: 3m 53s\tremaining: 2m 48s\n",
      "5900:\tlearn: 0.9323698\ttest: 0.9184925\tbest: 0.9184925 (5900)\ttotal: 3m 57s\tremaining: 2m 45s\n",
      "6000:\tlearn: 0.9327030\ttest: 0.9187116\tbest: 0.9187162 (5998)\ttotal: 4m 1s\tremaining: 2m 41s\n",
      "bestTest = 0.9187258482\n",
      "bestIteration = 6004\n",
      "Shrink model to first 6005 iterations.\n",
      "Wall time: 4min 36s\n"
     ]
    }
   ],
   "source": [
    "%%time\n",
    "model = train_catboost(cb_params, prep_train, prep_valid, y_train, y_valid)"
   ]
  },
  {
   "cell_type": "markdown",
   "metadata": {},
   "source": [
    "#### CatBoost данные с автоматической обработкой"
   ]
  },
  {
   "cell_type": "code",
   "execution_count": 66,
   "metadata": {},
   "outputs": [],
   "source": [
    "def make_categoty_str_type(df):\n",
    "    data = df.copy()\n",
    "    for feature in CAT_F:\n",
    "        print(feature, end=' ')\n",
    "        data[feature] = pd.Series(data[feature], dtype='str')\n",
    "    print()\n",
    "    return data"
   ]
  },
  {
   "cell_type": "code",
   "execution_count": 67,
   "metadata": {},
   "outputs": [
    {
     "name": "stdout",
     "output_type": "stream",
     "text": [
      "ProductCD card4 card6 P_emaildomain R_emaildomain M1 M2 M3 M4 M5 M6 M7 M8 M9 \n",
      "ProductCD card4 card6 P_emaildomain R_emaildomain M1 M2 M3 M4 M5 M6 M7 M8 M9 \n"
     ]
    }
   ],
   "source": [
    "cb_train = make_categoty_str_type(x_train)\n",
    "cb_valid = make_categoty_str_type(x_valid)"
   ]
  },
  {
   "cell_type": "code",
   "execution_count": 68,
   "metadata": {},
   "outputs": [
    {
     "name": "stdout",
     "output_type": "stream",
     "text": [
      "0:\tlearn: 0.6913539\ttest: 0.7025497\tbest: 0.7025497 (0)\ttotal: 54ms\tremaining: 8m 59s\n",
      "100:\tlearn: 0.7831840\ttest: 0.7863421\tbest: 0.7863421 (100)\ttotal: 5.67s\tremaining: 9m 15s\n",
      "200:\tlearn: 0.8413569\ttest: 0.8443944\tbest: 0.8443944 (200)\ttotal: 11.1s\tremaining: 9m 3s\n",
      "300:\tlearn: 0.8561819\ttest: 0.8582412\tbest: 0.8582412 (300)\ttotal: 16.7s\tremaining: 8m 57s\n",
      "400:\tlearn: 0.8677556\ttest: 0.8696395\tbest: 0.8696395 (400)\ttotal: 22.1s\tremaining: 8m 49s\n",
      "500:\tlearn: 0.8743216\ttest: 0.8756148\tbest: 0.8756159 (499)\ttotal: 27.6s\tremaining: 8m 42s\n",
      "600:\tlearn: 0.8796681\ttest: 0.8803839\tbest: 0.8803843 (599)\ttotal: 33s\tremaining: 8m 36s\n",
      "700:\tlearn: 0.8822428\ttest: 0.8825323\tbest: 0.8825335 (698)\ttotal: 38.8s\tremaining: 8m 34s\n",
      "800:\tlearn: 0.8848441\ttest: 0.8847421\tbest: 0.8847421 (800)\ttotal: 44.6s\tremaining: 8m 31s\n",
      "900:\tlearn: 0.8860823\ttest: 0.8857420\tbest: 0.8857420 (900)\ttotal: 50.2s\tremaining: 8m 26s\n",
      "1000:\tlearn: 0.8882031\ttest: 0.8876719\tbest: 0.8876719 (1000)\ttotal: 55.8s\tremaining: 8m 21s\n",
      "1100:\tlearn: 0.8889287\ttest: 0.8882095\tbest: 0.8882113 (1096)\ttotal: 1m 1s\tremaining: 8m 17s\n",
      "1200:\tlearn: 0.8897955\ttest: 0.8888628\tbest: 0.8888628 (1200)\ttotal: 1m 7s\tremaining: 8m 11s\n",
      "1300:\tlearn: 0.8908108\ttest: 0.8897397\tbest: 0.8897397 (1300)\ttotal: 1m 12s\tremaining: 8m 4s\n",
      "1400:\tlearn: 0.8922533\ttest: 0.8908128\tbest: 0.8908150 (1394)\ttotal: 1m 17s\tremaining: 7m 57s\n",
      "1500:\tlearn: 0.8933721\ttest: 0.8917660\tbest: 0.8917660 (1500)\ttotal: 1m 23s\tremaining: 7m 50s\n",
      "1600:\tlearn: 0.8945558\ttest: 0.8926613\tbest: 0.8926676 (1592)\ttotal: 1m 28s\tremaining: 7m 44s\n",
      "1700:\tlearn: 0.8955218\ttest: 0.8932554\tbest: 0.8932554 (1700)\ttotal: 1m 33s\tremaining: 7m 37s\n",
      "1800:\tlearn: 0.8963669\ttest: 0.8941501\tbest: 0.8941501 (1800)\ttotal: 1m 39s\tremaining: 7m 31s\n",
      "1900:\tlearn: 0.8973342\ttest: 0.8949085\tbest: 0.8949108 (1895)\ttotal: 1m 44s\tremaining: 7m 25s\n",
      "2000:\tlearn: 0.8979827\ttest: 0.8953723\tbest: 0.8953809 (1987)\ttotal: 1m 50s\tremaining: 7m 20s\n",
      "2100:\tlearn: 0.8987587\ttest: 0.8960033\tbest: 0.8960033 (2099)\ttotal: 2m 2s\tremaining: 7m 40s\n",
      "2200:\tlearn: 0.8993237\ttest: 0.8964977\tbest: 0.8964978 (2197)\ttotal: 2m 14s\tremaining: 7m 56s\n",
      "2300:\tlearn: 0.9001287\ttest: 0.8971172\tbest: 0.8971261 (2287)\ttotal: 2m 26s\tremaining: 8m 10s\n",
      "2400:\tlearn: 0.9006433\ttest: 0.8975715\tbest: 0.8975716 (2399)\ttotal: 2m 38s\tremaining: 8m 22s\n",
      "2500:\tlearn: 0.9012429\ttest: 0.8980309\tbest: 0.8980311 (2490)\ttotal: 2m 51s\tremaining: 8m 33s\n",
      "2600:\tlearn: 0.9016207\ttest: 0.8982174\tbest: 0.8982174 (2600)\ttotal: 3m 3s\tremaining: 8m 41s\n",
      "2700:\tlearn: 0.9024385\ttest: 0.8986527\tbest: 0.8986527 (2700)\ttotal: 3m 15s\tremaining: 8m 48s\n",
      "2800:\tlearn: 0.9028725\ttest: 0.8989079\tbest: 0.8989079 (2800)\ttotal: 3m 28s\tremaining: 8m 54s\n",
      "2900:\tlearn: 0.9033316\ttest: 0.8992689\tbest: 0.8992689 (2899)\ttotal: 3m 40s\tremaining: 9m\n",
      "3000:\tlearn: 0.9037679\ttest: 0.8995893\tbest: 0.8995893 (3000)\ttotal: 3m 53s\tremaining: 9m 3s\n",
      "3100:\tlearn: 0.9040900\ttest: 0.8997819\tbest: 0.8997854 (3094)\ttotal: 4m 5s\tremaining: 9m 6s\n",
      "3200:\tlearn: 0.9045362\ttest: 0.9001412\tbest: 0.9001458 (3195)\ttotal: 4m 17s\tremaining: 9m 7s\n",
      "3300:\tlearn: 0.9050331\ttest: 0.9005088\tbest: 0.9005098 (3298)\ttotal: 4m 30s\tremaining: 9m 8s\n",
      "3400:\tlearn: 0.9054866\ttest: 0.9007069\tbest: 0.9007069 (3400)\ttotal: 4m 41s\tremaining: 9m 7s\n",
      "3500:\tlearn: 0.9059517\ttest: 0.9011125\tbest: 0.9011134 (3496)\ttotal: 4m 54s\tremaining: 9m 6s\n",
      "3600:\tlearn: 0.9062039\ttest: 0.9013065\tbest: 0.9013065 (3599)\ttotal: 5m 6s\tremaining: 9m 3s\n",
      "3700:\tlearn: 0.9066769\ttest: 0.9017509\tbest: 0.9017509 (3700)\ttotal: 5m 18s\tremaining: 9m 1s\n",
      "3800:\tlearn: 0.9071937\ttest: 0.9019863\tbest: 0.9019863 (3800)\ttotal: 5m 30s\tremaining: 8m 58s\n",
      "3900:\tlearn: 0.9075511\ttest: 0.9021579\tbest: 0.9021606 (3898)\ttotal: 5m 42s\tremaining: 8m 55s\n",
      "4000:\tlearn: 0.9078721\ttest: 0.9024125\tbest: 0.9024143 (3977)\ttotal: 5m 54s\tremaining: 8m 51s\n",
      "4100:\tlearn: 0.9083032\ttest: 0.9026657\tbest: 0.9026657 (4100)\ttotal: 6m 7s\tremaining: 8m 47s\n",
      "4200:\tlearn: 0.9086355\ttest: 0.9028505\tbest: 0.9028510 (4197)\ttotal: 6m 19s\tremaining: 8m 43s\n",
      "4300:\tlearn: 0.9090254\ttest: 0.9030627\tbest: 0.9030629 (4297)\ttotal: 6m 31s\tremaining: 8m 38s\n",
      "4400:\tlearn: 0.9093985\ttest: 0.9033035\tbest: 0.9033214 (4392)\ttotal: 6m 43s\tremaining: 8m 33s\n",
      "4500:\tlearn: 0.9096904\ttest: 0.9034082\tbest: 0.9034308 (4493)\ttotal: 6m 55s\tremaining: 8m 27s\n",
      "4600:\tlearn: 0.9098286\ttest: 0.9034927\tbest: 0.9035046 (4562)\ttotal: 7m 7s\tremaining: 8m 21s\n",
      "4700:\tlearn: 0.9102503\ttest: 0.9037594\tbest: 0.9037594 (4699)\ttotal: 7m 19s\tremaining: 8m 15s\n",
      "4800:\tlearn: 0.9107256\ttest: 0.9041935\tbest: 0.9041935 (4800)\ttotal: 7m 32s\tremaining: 8m 9s\n",
      "4900:\tlearn: 0.9110422\ttest: 0.9043657\tbest: 0.9043657 (4900)\ttotal: 7m 44s\tremaining: 8m 3s\n",
      "5000:\tlearn: 0.9113727\ttest: 0.9045022\tbest: 0.9045029 (4996)\ttotal: 7m 56s\tremaining: 7m 56s\n",
      "5100:\tlearn: 0.9116699\ttest: 0.9047152\tbest: 0.9047166 (5099)\ttotal: 8m 8s\tremaining: 7m 49s\n",
      "5200:\tlearn: 0.9121743\ttest: 0.9049692\tbest: 0.9049704 (5199)\ttotal: 8m 21s\tremaining: 7m 42s\n",
      "5300:\tlearn: 0.9124371\ttest: 0.9052210\tbest: 0.9052210 (5300)\ttotal: 8m 33s\tremaining: 7m 35s\n",
      "5400:\tlearn: 0.9126849\ttest: 0.9054103\tbest: 0.9054103 (5400)\ttotal: 8m 46s\tremaining: 7m 27s\n",
      "5500:\tlearn: 0.9128950\ttest: 0.9056043\tbest: 0.9056134 (5479)\ttotal: 8m 58s\tremaining: 7m 20s\n",
      "5600:\tlearn: 0.9131565\ttest: 0.9057048\tbest: 0.9057139 (5598)\ttotal: 9m 11s\tremaining: 7m 12s\n",
      "5700:\tlearn: 0.9133024\ttest: 0.9057644\tbest: 0.9057777 (5658)\ttotal: 9m 23s\tremaining: 7m 4s\n",
      "5800:\tlearn: 0.9135315\ttest: 0.9059086\tbest: 0.9059123 (5798)\ttotal: 9m 35s\tremaining: 6m 56s\n",
      "5900:\tlearn: 0.9138549\ttest: 0.9060656\tbest: 0.9060656 (5899)\ttotal: 10m 10s\tremaining: 7m 4s\n",
      "6000:\tlearn: 0.9141375\ttest: 0.9061614\tbest: 0.9061705 (5988)\ttotal: 10m 53s\tremaining: 7m 15s\n",
      "6100:\tlearn: 0.9143129\ttest: 0.9063229\tbest: 0.9063229 (6100)\ttotal: 11m 36s\tremaining: 7m 25s\n",
      "6200:\tlearn: 0.9145969\ttest: 0.9065547\tbest: 0.9065547 (6200)\ttotal: 12m 18s\tremaining: 7m 32s\n",
      "6300:\tlearn: 0.9147186\ttest: 0.9066151\tbest: 0.9066278 (6290)\ttotal: 13m\tremaining: 7m 38s\n",
      "6400:\tlearn: 0.9150690\ttest: 0.9068706\tbest: 0.9068706 (6400)\ttotal: 13m 42s\tremaining: 7m 42s\n",
      "6500:\tlearn: 0.9154459\ttest: 0.9070807\tbest: 0.9070807 (6500)\ttotal: 14m 23s\tremaining: 7m 44s\n",
      "6600:\tlearn: 0.9157186\ttest: 0.9072497\tbest: 0.9072500 (6599)\ttotal: 15m 5s\tremaining: 7m 46s\n",
      "6700:\tlearn: 0.9160255\ttest: 0.9073951\tbest: 0.9074019 (6690)\ttotal: 15m 46s\tremaining: 7m 45s\n",
      "6800:\tlearn: 0.9162368\ttest: 0.9075322\tbest: 0.9075322 (6798)\ttotal: 16m 28s\tremaining: 7m 44s\n",
      "6900:\tlearn: 0.9164258\ttest: 0.9076296\tbest: 0.9076407 (6881)\ttotal: 17m 9s\tremaining: 7m 42s\n",
      "7000:\tlearn: 0.9166383\ttest: 0.9078090\tbest: 0.9078098 (6996)\ttotal: 17m 51s\tremaining: 7m 38s\n",
      "7100:\tlearn: 0.9168696\ttest: 0.9079078\tbest: 0.9079085 (7099)\ttotal: 18m 33s\tremaining: 7m 34s\n",
      "7200:\tlearn: 0.9171228\ttest: 0.9080414\tbest: 0.9080414 (7200)\ttotal: 19m 15s\tremaining: 7m 29s\n",
      "7300:\tlearn: 0.9172824\ttest: 0.9081288\tbest: 0.9081288 (7300)\ttotal: 19m 57s\tremaining: 7m 22s\n",
      "7400:\tlearn: 0.9175275\ttest: 0.9082531\tbest: 0.9082534 (7392)\ttotal: 20m 39s\tremaining: 7m 15s\n",
      "7500:\tlearn: 0.9178820\ttest: 0.9084764\tbest: 0.9084764 (7500)\ttotal: 21m 22s\tremaining: 7m 7s\n",
      "7600:\tlearn: 0.9181738\ttest: 0.9086286\tbest: 0.9086306 (7599)\ttotal: 22m 4s\tremaining: 6m 57s\n",
      "7700:\tlearn: 0.9183812\ttest: 0.9087000\tbest: 0.9087062 (7659)\ttotal: 22m 45s\tremaining: 6m 47s\n",
      "bestTest = 0.908706218\n",
      "bestIteration = 7659\n",
      "Shrink model to first 7660 iterations.\n",
      "Wall time: 23min 40s\n"
     ]
    }
   ],
   "source": [
    "%%time\n",
    "model = train_catboost(cb_params, cb_train, cb_valid, y_train, y_valid, cat_list=cat_f)"
   ]
  },
  {
   "cell_type": "code",
   "execution_count": null,
   "metadata": {},
   "outputs": [],
   "source": []
  }
 ],
 "metadata": {
  "kernelspec": {
   "display_name": "Python 3",
   "language": "python",
   "name": "python3"
  },
  "language_info": {
   "codemirror_mode": {
    "name": "ipython",
    "version": 3
   },
   "file_extension": ".py",
   "mimetype": "text/x-python",
   "name": "python",
   "nbconvert_exporter": "python",
   "pygments_lexer": "ipython3",
   "version": "3.8.4"
  }
 },
 "nbformat": 4,
 "nbformat_minor": 4
}
