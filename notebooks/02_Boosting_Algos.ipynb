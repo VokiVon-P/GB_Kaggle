{
 "cells": [
  {
   "cell_type": "markdown",
   "metadata": {},
   "source": [
    "# 02 - Обзор основных алгоритмов Boosting "
   ]
  },
  {
   "cell_type": "code",
   "execution_count": 82,
   "metadata": {},
   "outputs": [],
   "source": [
    "if 0:\n",
    "    !pip install -U xgboost\n",
    "    !pip install -U lightgbm\n",
    "    !pip install -U catboost"
   ]
  },
  {
   "cell_type": "code",
   "execution_count": 83,
   "metadata": {},
   "outputs": [],
   "source": [
    "from tqdm.notebook import tqdm\n",
    "\n",
    "import numpy as np\n",
    "import pandas as pd\n",
    "\n",
    "import matplotlib as mpl\n",
    "import matplotlib.pyplot as plt\n",
    "import seaborn as sns\n",
    "\n",
    "# pd.set_option('display.max_columns', None)\n",
    "%matplotlib inline"
   ]
  },
  {
   "cell_type": "code",
   "execution_count": 84,
   "metadata": {},
   "outputs": [],
   "source": [
    "from sklearn.model_selection import train_test_split\n",
    "from sklearn.metrics import roc_auc_score"
   ]
  },
  {
   "cell_type": "markdown",
   "metadata": {},
   "source": [
    "#### Загрузка данных"
   ]
  },
  {
   "cell_type": "code",
   "execution_count": 85,
   "metadata": {},
   "outputs": [],
   "source": [
    "DATA_TRAIN = \"../data/02/assignment_2_train.csv\"\n",
    "DATA_TEST = \"../data/02/assignment_2_test.csv\""
   ]
  },
  {
   "cell_type": "code",
   "execution_count": 86,
   "metadata": {},
   "outputs": [
    {
     "name": "stdout",
     "output_type": "stream",
     "text": [
      "data.shape = 180000 rows, 394 cols\n"
     ]
    },
    {
     "data": {
      "text/html": [
       "<div>\n",
       "<style scoped>\n",
       "    .dataframe tbody tr th:only-of-type {\n",
       "        vertical-align: middle;\n",
       "    }\n",
       "\n",
       "    .dataframe tbody tr th {\n",
       "        vertical-align: top;\n",
       "    }\n",
       "\n",
       "    .dataframe thead th {\n",
       "        text-align: right;\n",
       "    }\n",
       "</style>\n",
       "<table border=\"1\" class=\"dataframe\">\n",
       "  <thead>\n",
       "    <tr style=\"text-align: right;\">\n",
       "      <th></th>\n",
       "      <th>TransactionID</th>\n",
       "      <th>isFraud</th>\n",
       "      <th>TransactionDT</th>\n",
       "      <th>TransactionAmt</th>\n",
       "      <th>ProductCD</th>\n",
       "      <th>card1</th>\n",
       "      <th>card2</th>\n",
       "      <th>card3</th>\n",
       "      <th>card4</th>\n",
       "      <th>card5</th>\n",
       "      <th>...</th>\n",
       "      <th>V330</th>\n",
       "      <th>V331</th>\n",
       "      <th>V332</th>\n",
       "      <th>V333</th>\n",
       "      <th>V334</th>\n",
       "      <th>V335</th>\n",
       "      <th>V336</th>\n",
       "      <th>V337</th>\n",
       "      <th>V338</th>\n",
       "      <th>V339</th>\n",
       "    </tr>\n",
       "  </thead>\n",
       "  <tbody>\n",
       "    <tr>\n",
       "      <th>0</th>\n",
       "      <td>2987000</td>\n",
       "      <td>0</td>\n",
       "      <td>86400</td>\n",
       "      <td>68.5</td>\n",
       "      <td>W</td>\n",
       "      <td>13926</td>\n",
       "      <td>NaN</td>\n",
       "      <td>150.0</td>\n",
       "      <td>discover</td>\n",
       "      <td>142.0</td>\n",
       "      <td>...</td>\n",
       "      <td>NaN</td>\n",
       "      <td>NaN</td>\n",
       "      <td>NaN</td>\n",
       "      <td>NaN</td>\n",
       "      <td>NaN</td>\n",
       "      <td>NaN</td>\n",
       "      <td>NaN</td>\n",
       "      <td>NaN</td>\n",
       "      <td>NaN</td>\n",
       "      <td>NaN</td>\n",
       "    </tr>\n",
       "    <tr>\n",
       "      <th>1</th>\n",
       "      <td>2987001</td>\n",
       "      <td>0</td>\n",
       "      <td>86401</td>\n",
       "      <td>29.0</td>\n",
       "      <td>W</td>\n",
       "      <td>2755</td>\n",
       "      <td>404.0</td>\n",
       "      <td>150.0</td>\n",
       "      <td>mastercard</td>\n",
       "      <td>102.0</td>\n",
       "      <td>...</td>\n",
       "      <td>NaN</td>\n",
       "      <td>NaN</td>\n",
       "      <td>NaN</td>\n",
       "      <td>NaN</td>\n",
       "      <td>NaN</td>\n",
       "      <td>NaN</td>\n",
       "      <td>NaN</td>\n",
       "      <td>NaN</td>\n",
       "      <td>NaN</td>\n",
       "      <td>NaN</td>\n",
       "    </tr>\n",
       "  </tbody>\n",
       "</table>\n",
       "<p>2 rows × 394 columns</p>\n",
       "</div>"
      ],
      "text/plain": [
       "   TransactionID  isFraud  TransactionDT  TransactionAmt ProductCD  card1  \\\n",
       "0        2987000        0          86400            68.5         W  13926   \n",
       "1        2987001        0          86401            29.0         W   2755   \n",
       "\n",
       "   card2  card3       card4  card5  ... V330  V331  V332  V333  V334 V335  \\\n",
       "0    NaN  150.0    discover  142.0  ...  NaN   NaN   NaN   NaN   NaN  NaN   \n",
       "1  404.0  150.0  mastercard  102.0  ...  NaN   NaN   NaN   NaN   NaN  NaN   \n",
       "\n",
       "  V336  V337  V338  V339  \n",
       "0  NaN   NaN   NaN   NaN  \n",
       "1  NaN   NaN   NaN   NaN  \n",
       "\n",
       "[2 rows x 394 columns]"
      ]
     },
     "execution_count": 86,
     "metadata": {},
     "output_type": "execute_result"
    }
   ],
   "source": [
    "data = pd.read_csv(DATA_TRAIN)\n",
    "print(\"data.shape = {} rows, {} cols\".format(*data.shape))\n",
    "data.head(n=2)"
   ]
  },
  {
   "cell_type": "code",
   "execution_count": 95,
   "metadata": {},
   "outputs": [
    {
     "name": "stdout",
     "output_type": "stream",
     "text": [
      "data_test.shape = 100001 rows, 394 cols\n"
     ]
    },
    {
     "data": {
      "text/html": [
       "<div>\n",
       "<style scoped>\n",
       "    .dataframe tbody tr th:only-of-type {\n",
       "        vertical-align: middle;\n",
       "    }\n",
       "\n",
       "    .dataframe tbody tr th {\n",
       "        vertical-align: top;\n",
       "    }\n",
       "\n",
       "    .dataframe thead th {\n",
       "        text-align: right;\n",
       "    }\n",
       "</style>\n",
       "<table border=\"1\" class=\"dataframe\">\n",
       "  <thead>\n",
       "    <tr style=\"text-align: right;\">\n",
       "      <th></th>\n",
       "      <th>TransactionID</th>\n",
       "      <th>isFraud</th>\n",
       "      <th>TransactionDT</th>\n",
       "      <th>TransactionAmt</th>\n",
       "      <th>ProductCD</th>\n",
       "      <th>card1</th>\n",
       "      <th>card2</th>\n",
       "      <th>card3</th>\n",
       "      <th>card4</th>\n",
       "      <th>card5</th>\n",
       "      <th>...</th>\n",
       "      <th>V330</th>\n",
       "      <th>V331</th>\n",
       "      <th>V332</th>\n",
       "      <th>V333</th>\n",
       "      <th>V334</th>\n",
       "      <th>V335</th>\n",
       "      <th>V336</th>\n",
       "      <th>V337</th>\n",
       "      <th>V338</th>\n",
       "      <th>V339</th>\n",
       "    </tr>\n",
       "  </thead>\n",
       "  <tbody>\n",
       "    <tr>\n",
       "      <th>0</th>\n",
       "      <td>3287000</td>\n",
       "      <td>1</td>\n",
       "      <td>7415038</td>\n",
       "      <td>226.0</td>\n",
       "      <td>W</td>\n",
       "      <td>12473</td>\n",
       "      <td>555.0</td>\n",
       "      <td>150.0</td>\n",
       "      <td>visa</td>\n",
       "      <td>226.0</td>\n",
       "      <td>...</td>\n",
       "      <td>NaN</td>\n",
       "      <td>NaN</td>\n",
       "      <td>NaN</td>\n",
       "      <td>NaN</td>\n",
       "      <td>NaN</td>\n",
       "      <td>NaN</td>\n",
       "      <td>NaN</td>\n",
       "      <td>NaN</td>\n",
       "      <td>NaN</td>\n",
       "      <td>NaN</td>\n",
       "    </tr>\n",
       "    <tr>\n",
       "      <th>1</th>\n",
       "      <td>3287001</td>\n",
       "      <td>0</td>\n",
       "      <td>7415054</td>\n",
       "      <td>3072.0</td>\n",
       "      <td>W</td>\n",
       "      <td>15651</td>\n",
       "      <td>417.0</td>\n",
       "      <td>150.0</td>\n",
       "      <td>visa</td>\n",
       "      <td>226.0</td>\n",
       "      <td>...</td>\n",
       "      <td>NaN</td>\n",
       "      <td>NaN</td>\n",
       "      <td>NaN</td>\n",
       "      <td>NaN</td>\n",
       "      <td>NaN</td>\n",
       "      <td>NaN</td>\n",
       "      <td>NaN</td>\n",
       "      <td>NaN</td>\n",
       "      <td>NaN</td>\n",
       "      <td>NaN</td>\n",
       "    </tr>\n",
       "  </tbody>\n",
       "</table>\n",
       "<p>2 rows × 394 columns</p>\n",
       "</div>"
      ],
      "text/plain": [
       "   TransactionID  isFraud  TransactionDT  TransactionAmt ProductCD  card1  \\\n",
       "0        3287000        1        7415038           226.0         W  12473   \n",
       "1        3287001        0        7415054          3072.0         W  15651   \n",
       "\n",
       "   card2  card3 card4  card5  ... V330  V331  V332  V333  V334 V335 V336  \\\n",
       "0  555.0  150.0  visa  226.0  ...  NaN   NaN   NaN   NaN   NaN  NaN  NaN   \n",
       "1  417.0  150.0  visa  226.0  ...  NaN   NaN   NaN   NaN   NaN  NaN  NaN   \n",
       "\n",
       "   V337  V338  V339  \n",
       "0   NaN   NaN   NaN  \n",
       "1   NaN   NaN   NaN  \n",
       "\n",
       "[2 rows x 394 columns]"
      ]
     },
     "execution_count": 95,
     "metadata": {},
     "output_type": "execute_result"
    }
   ],
   "source": [
    "test_data = pd.read_csv(DATA_TEST)\n",
    "print(\"data_test.shape = {} rows, {} cols\".format(*test_data.shape))\n",
    "test_data.head(n=2)"
   ]
  },
  {
   "cell_type": "markdown",
   "metadata": {},
   "source": [
    "#### Быстрый просмотр данных"
   ]
  },
  {
   "cell_type": "code",
   "execution_count": 87,
   "metadata": {},
   "outputs": [
    {
     "name": "stdout",
     "output_type": "stream",
     "text": [
      "<class 'pandas.core.frame.DataFrame'>\n",
      "RangeIndex: 180000 entries, 0 to 179999\n",
      "Columns: 394 entries, TransactionID to V339\n",
      "dtypes: float64(376), int64(4), object(14)\n",
      "memory usage: 541.1+ MB\n"
     ]
    }
   ],
   "source": [
    "data.info()"
   ]
  },
  {
   "cell_type": "code",
   "execution_count": 97,
   "metadata": {},
   "outputs": [
    {
     "name": "stdout",
     "output_type": "stream",
     "text": [
      "<class 'pandas.core.frame.DataFrame'>\n",
      "RangeIndex: 100001 entries, 0 to 100000\n",
      "Columns: 394 entries, TransactionID to V339\n",
      "dtypes: float64(376), int64(4), object(14)\n",
      "memory usage: 300.6+ MB\n"
     ]
    }
   ],
   "source": [
    "test_data.info()"
   ]
  },
  {
   "cell_type": "code",
   "execution_count": 88,
   "metadata": {},
   "outputs": [],
   "source": [
    "ID_F = 'TransactionID'\n",
    "TARGET_F = 'isFraud'\n",
    "DT_F = 'TransactionDT'\n",
    "NUMERICAL_F = data.select_dtypes(include=[np.number]).columns.drop([TARGET_F, ID_F])\n",
    "CAT_F = data.select_dtypes(include='object').columns"
   ]
  },
  {
   "cell_type": "code",
   "execution_count": 89,
   "metadata": {},
   "outputs": [
    {
     "data": {
      "text/plain": [
       "Index(['TransactionDT', 'TransactionAmt', 'card1', 'card2', 'card3', 'card5',\n",
       "       'addr1', 'addr2', 'dist1', 'dist2',\n",
       "       ...\n",
       "       'V330', 'V331', 'V332', 'V333', 'V334', 'V335', 'V336', 'V337', 'V338',\n",
       "       'V339'],\n",
       "      dtype='object', length=378)"
      ]
     },
     "execution_count": 89,
     "metadata": {},
     "output_type": "execute_result"
    }
   ],
   "source": [
    "NUMERICAL_F"
   ]
  },
  {
   "cell_type": "code",
   "execution_count": 90,
   "metadata": {},
   "outputs": [
    {
     "data": {
      "text/plain": [
       "Index(['ProductCD', 'card4', 'card6', 'P_emaildomain', 'R_emaildomain', 'M1',\n",
       "       'M2', 'M3', 'M4', 'M5', 'M6', 'M7', 'M8', 'M9'],\n",
       "      dtype='object')"
      ]
     },
     "execution_count": 90,
     "metadata": {},
     "output_type": "execute_result"
    }
   ],
   "source": [
    "CAT_F"
   ]
  },
  {
   "cell_type": "code",
   "execution_count": 10,
   "metadata": {},
   "outputs": [],
   "source": [
    "# pd.to_timedelta(tr_data[DT_F], unit='s')"
   ]
  },
  {
   "cell_type": "markdown",
   "metadata": {},
   "source": [
    "### Подготовка данных для моделей"
   ]
  },
  {
   "cell_type": "code",
   "execution_count": null,
   "metadata": {},
   "outputs": [],
   "source": []
  },
  {
   "cell_type": "code",
   "execution_count": 134,
   "metadata": {},
   "outputs": [
    {
     "name": "stdout",
     "output_type": "stream",
     "text": [
      "tr_df.shape = 180000 rows, 392 cols\n"
     ]
    }
   ],
   "source": [
    "target = data[TARGET_F]\n",
    "train_df = data.drop([ID_F, TARGET_F], axis=1)\n",
    "print(\"tr_df.shape = {} rows, {} cols\".format(*tr_df.shape))"
   ]
  },
  {
   "cell_type": "markdown",
   "metadata": {},
   "source": [
    "#### Числовые данные"
   ]
  },
  {
   "cell_type": "code",
   "execution_count": 135,
   "metadata": {},
   "outputs": [],
   "source": [
    "def make_numeric_df(df: pd.DataFrame) -> pd.DataFrame:\n",
    "    return df[NUMERICAL_F]"
   ]
  },
  {
   "cell_type": "code",
   "execution_count": 167,
   "metadata": {},
   "outputs": [],
   "source": [
    "num_df = make_numeric_df(train_df)\n",
    "\n",
    "num_test = make_numeric_df(test_data)"
   ]
  },
  {
   "cell_type": "markdown",
   "metadata": {},
   "source": [
    "### Категориальные данные"
   ]
  },
  {
   "cell_type": "code",
   "execution_count": 115,
   "metadata": {},
   "outputs": [],
   "source": [
    "def make_small_cat(col: pd.Series, level: float = 0.05) -> pd.Series:\n",
    "    \"\"\" Заменяет значения признака на other если в отсортированной \n",
    "        по возрастанию коммулятивной сумме значение в диапазоне [0, level]\n",
    "    \"\"\"\n",
    "    try:\n",
    "        vc_p =col.value_counts(normalize=True,ascending=True)\n",
    "        p_other_cat = vc_p[vc_p.cumsum() <= 0.05].index.to_list()\n",
    "        return col.apply(lambda x: 'other' if x in p_other_cat else x)\n",
    "    except Exception as err:\n",
    "        print(f'Ошибка при обработке {col.name}')\n",
    "        raise err"
   ]
  },
  {
   "cell_type": "code",
   "execution_count": 127,
   "metadata": {},
   "outputs": [],
   "source": [
    "def make_category_df(df: pd.DataFrame) -> pd.DataFrame:\n",
    "    cat_data = df[CAT_F].copy()\n",
    "    # сократим кол-во категорий в мейлах\n",
    "    cat_data['P_emaildomain'] = make_small_cat(cat_data['P_emaildomain'])\n",
    "    cat_data['R_emaildomain'] = make_small_cat(cat_data['R_emaildomain'])\n",
    "    # encoding бинарных переменных\n",
    "    m_dict = {'T': 0, 'F': 1}\n",
    "    m_cols = {'M1','M2', 'M3', 'M5', 'M6', 'M7', 'M8', 'M9'}\n",
    "    for col in cat_data:\n",
    "        if col in m_cols:\n",
    "            print(col, end='')\n",
    "            cat_data[col] = cat_data[col].apply(m_dict.get)\n",
    "    print()\n",
    "    # дальше все в дамми\n",
    "    return pd.get_dummies(cat_data)"
   ]
  },
  {
   "cell_type": "code",
   "execution_count": 140,
   "metadata": {},
   "outputs": [
    {
     "name": "stdout",
     "output_type": "stream",
     "text": [
      "M1M2M3M5M6M7M8M9\n"
     ]
    }
   ],
   "source": [
    "# обработанные категориальные\n",
    "cat_df = make_category_df(train_df)"
   ]
  },
  {
   "cell_type": "code",
   "execution_count": 144,
   "metadata": {},
   "outputs": [],
   "source": [
    "# num+cat данные\n",
    "prep_df = num_df.join(cat_df)"
   ]
  },
  {
   "cell_type": "code",
   "execution_count": 145,
   "metadata": {},
   "outputs": [
    {
     "name": "stdout",
     "output_type": "stream",
     "text": [
      "<class 'pandas.core.frame.DataFrame'>\n",
      "RangeIndex: 180000 entries, 0 to 179999\n",
      "Columns: 431 entries, TransactionDT to M4_M2\n",
      "dtypes: float64(384), int64(2), uint8(45)\n",
      "memory usage: 537.8 MB\n"
     ]
    }
   ],
   "source": [
    "prep_df.info()"
   ]
  },
  {
   "cell_type": "code",
   "execution_count": 149,
   "metadata": {},
   "outputs": [],
   "source": [
    "# разбиваем все на трайн и валид\n",
    "x_train, x_valid, num_train, num_valid, prep_train, prep_valid, y_train, y_valid = train_test_split(\n",
    "    tr_df, num_df, prep_df, target, train_size=0.75, stratify=target, random_state=1\n",
    ")"
   ]
  },
  {
   "cell_type": "code",
   "execution_count": 152,
   "metadata": {},
   "outputs": [
    {
     "name": "stdout",
     "output_type": "stream",
     "text": [
      "x_train.shape = 135000 rows, 392 cols\n",
      "x_valid.shape = 45000 rows, 392 cols\n"
     ]
    }
   ],
   "source": [
    "print(\"x_train.shape = {} rows, {} cols\".format(*x_train.shape))\n",
    "print(\"x_valid.shape = {} rows, {} cols\".format(*x_valid.shape))"
   ]
  },
  {
   "cell_type": "code",
   "execution_count": 153,
   "metadata": {},
   "outputs": [
    {
     "name": "stdout",
     "output_type": "stream",
     "text": [
      "num_train.shape = 135000 rows, 378 cols\n",
      "num_valid.shape = 45000 rows, 378 cols\n"
     ]
    }
   ],
   "source": [
    "print(\"num_train.shape = {} rows, {} cols\".format(*num_train.shape))\n",
    "print(\"num_valid.shape = {} rows, {} cols\".format(*num_valid.shape))"
   ]
  },
  {
   "cell_type": "code",
   "execution_count": 154,
   "metadata": {},
   "outputs": [
    {
     "name": "stdout",
     "output_type": "stream",
     "text": [
      "prep_train.shape = 135000 rows, 431 cols\n",
      "prep_valid.shape = 45000 rows, 431 cols\n"
     ]
    }
   ],
   "source": [
    "print(\"prep_train.shape = {} rows, {} cols\".format(*prep_train.shape))\n",
    "print(\"prep_valid.shape = {} rows, {} cols\".format(*prep_valid.shape))"
   ]
  },
  {
   "cell_type": "markdown",
   "metadata": {},
   "source": [
    "## XGBoost API"
   ]
  },
  {
   "cell_type": "code",
   "execution_count": 106,
   "metadata": {},
   "outputs": [],
   "source": [
    "import xgboost as xgb"
   ]
  },
  {
   "cell_type": "code",
   "execution_count": 162,
   "metadata": {},
   "outputs": [],
   "source": [
    "def train_xgb(params, x_train, x_valid, y_train, y_valid):\n",
    "    \n",
    "    dtrain = xgb.DMatrix(data=x_train, label=y_train)\n",
    "    dvalid = xgb.DMatrix(data=x_valid, label=y_valid)\n",
    "    \n",
    "    xg_model = xgb.train(\n",
    "        params=params,\n",
    "        dtrain=dtrain,\n",
    "        num_boost_round=10000,\n",
    "        early_stopping_rounds=100,\n",
    "        evals=[(dtrain, \"train\"), (dvalid, \"valid\")],\n",
    "        verbose_eval=10,\n",
    "        maximize=True,\n",
    "    )\n",
    "        \n",
    "    return  xg_model\n"
   ]
  },
  {
   "cell_type": "code",
   "execution_count": 173,
   "metadata": {},
   "outputs": [],
   "source": [
    "def cv_xgb(params, x_train, y_train, n_fold=5):\n",
    "    dtrain = xgb.DMatrix(data=x_train, label=y_train)\n",
    "    cv_result = xgb.cv(\n",
    "        params=params,\n",
    "        dtrain=dtrain,\n",
    "        num_boost_round=10000,\n",
    "        early_stopping_rounds=100,\n",
    "        verbose_eval=10,\n",
    "        stratified=True,\n",
    "        metrics=\"auc\",\n",
    "        maximize=True,\n",
    "        shuffle=True,\n",
    "        nfold=n_fold,\n",
    "    )\n",
    "    return cv_result"
   ]
  },
  {
   "cell_type": "code",
   "execution_count": 179,
   "metadata": {},
   "outputs": [],
   "source": [
    "def plotXgbResult(cv_result):\n",
    "    fig = plt.figure(figsize=(15, 5))\n",
    "    plt.plot(cv_result[\"train-auc-mean\"], color=\"blue\", linewidth=3, label=\"train\")\n",
    "    plt.plot(cv_result[\"test-auc-mean\"], color=\"orange\", linewidth=3, label=\"test\")\n",
    "    plt.fill_between(\n",
    "        x=cv_result.index,\n",
    "        y1=cv_result[\"train-auc-mean\"] - cv_result[\"train-auc-std\"],\n",
    "        y2=cv_result[\"train-auc-mean\"] + cv_result[\"train-auc-std\"],\n",
    "        alpha=0.25, color=\"blue\"\n",
    "    )\n",
    "    plt.fill_between(\n",
    "        x=cv_result.index,\n",
    "        y1=cv_result[\"test-auc-mean\"] - cv_result[\"test-auc-std\"],\n",
    "        y2=cv_result[\"test-auc-mean\"] + cv_result[\"test-auc-std\"],\n",
    "        alpha=0.25, color=\"orange\"\n",
    "    )\n",
    "    plt.title(\"XGBoost, CV-Results\", size=14)\n",
    "    plt.xlabel(\"n_iterations\", size=14)\n",
    "    plt.xlim(0, cv_result.index.max())\n",
    "    plt.ylabel(\"ROC-AUC\", size=14)\n",
    "    plt.legend(loc=\"best\")"
   ]
  },
  {
   "cell_type": "code",
   "execution_count": 164,
   "metadata": {},
   "outputs": [],
   "source": [
    "params = {\n",
    "    \"booster\": \"gbtree\",\n",
    "    \"objective\": \"binary:logistic\",\n",
    "    \"eval_metric\": \"auc\",\n",
    "    \"learning_rate\": 1e-1,\n",
    "    # \"n_estimators\": 250,\n",
    "    \"reg_lambda\": 100,\n",
    "    \"max_depth\": 4,\n",
    "    \"gamma\": 10,\n",
    "    \"nthread\": 6,\n",
    "    \"seed\": 42,\n",
    "}\n",
    "params['gpu_id'] = 1\n",
    "params['tree_method'] = 'gpu_hist'\n"
   ]
  },
  {
   "cell_type": "markdown",
   "metadata": {},
   "source": [
    "#### Тренируем и оцениваем модель - числовые данные"
   ]
  },
  {
   "cell_type": "code",
   "execution_count": 177,
   "metadata": {},
   "outputs": [
    {
     "name": "stdout",
     "output_type": "stream",
     "text": [
      "[0]\ttrain-auc:0.64819\tvalid-auc:0.65529\n",
      "Multiple eval metrics have been passed: 'valid-auc' will be used for early stopping.\n",
      "\n",
      "Will train until valid-auc hasn't improved in 100 rounds.\n",
      "[10]\ttrain-auc:0.74610\tvalid-auc:0.74640\n",
      "[20]\ttrain-auc:0.82007\tvalid-auc:0.82447\n",
      "[30]\ttrain-auc:0.86097\tvalid-auc:0.86787\n",
      "[40]\ttrain-auc:0.86795\tvalid-auc:0.87335\n",
      "[50]\ttrain-auc:0.87952\tvalid-auc:0.88496\n",
      "[60]\ttrain-auc:0.88604\tvalid-auc:0.88955\n",
      "[70]\ttrain-auc:0.88928\tvalid-auc:0.89204\n",
      "[80]\ttrain-auc:0.89209\tvalid-auc:0.89382\n",
      "[90]\ttrain-auc:0.89510\tvalid-auc:0.89593\n",
      "[100]\ttrain-auc:0.89765\tvalid-auc:0.89777\n",
      "[110]\ttrain-auc:0.89932\tvalid-auc:0.89906\n",
      "[120]\ttrain-auc:0.89932\tvalid-auc:0.89906\n",
      "[130]\ttrain-auc:0.89932\tvalid-auc:0.89906\n",
      "[140]\ttrain-auc:0.89932\tvalid-auc:0.89906\n",
      "[150]\ttrain-auc:0.89932\tvalid-auc:0.89906\n",
      "[160]\ttrain-auc:0.89932\tvalid-auc:0.89906\n",
      "[170]\ttrain-auc:0.89932\tvalid-auc:0.89906\n",
      "[180]\ttrain-auc:0.89932\tvalid-auc:0.89906\n",
      "[190]\ttrain-auc:0.89932\tvalid-auc:0.89906\n",
      "[200]\ttrain-auc:0.89932\tvalid-auc:0.89906\n",
      "[210]\ttrain-auc:0.89932\tvalid-auc:0.89906\n",
      "Stopping. Best iteration:\n",
      "[110]\ttrain-auc:0.89932\tvalid-auc:0.89906\n",
      "\n",
      "Wall time: 6.15 s\n"
     ]
    }
   ],
   "source": [
    "%%time\n",
    "model = train_xgb(params, num_train, num_valid, y_train, y_valid)"
   ]
  },
  {
   "cell_type": "code",
   "execution_count": 180,
   "metadata": {},
   "outputs": [
    {
     "name": "stdout",
     "output_type": "stream",
     "text": [
      "[0]\ttrain-auc:0.62718+0.01094\ttest-auc:0.62467+0.01491\n",
      "[10]\ttrain-auc:0.77757+0.01413\ttest-auc:0.77465+0.02327\n",
      "[20]\ttrain-auc:0.82439+0.00455\ttest-auc:0.82047+0.00809\n",
      "[30]\ttrain-auc:0.85273+0.00603\ttest-auc:0.84898+0.00637\n",
      "[40]\ttrain-auc:0.86870+0.00143\ttest-auc:0.86369+0.00594\n",
      "[50]\ttrain-auc:0.87906+0.00104\ttest-auc:0.87292+0.00437\n",
      "[60]\ttrain-auc:0.88546+0.00107\ttest-auc:0.87838+0.00422\n",
      "[70]\ttrain-auc:0.88920+0.00097\ttest-auc:0.88141+0.00458\n",
      "[80]\ttrain-auc:0.89198+0.00103\ttest-auc:0.88377+0.00447\n",
      "[90]\ttrain-auc:0.89458+0.00094\ttest-auc:0.88583+0.00472\n",
      "[100]\ttrain-auc:0.89668+0.00073\ttest-auc:0.88742+0.00498\n",
      "[110]\ttrain-auc:0.89667+0.00072\ttest-auc:0.88743+0.00498\n",
      "[120]\ttrain-auc:0.89667+0.00072\ttest-auc:0.88743+0.00498\n",
      "[130]\ttrain-auc:0.89667+0.00072\ttest-auc:0.88743+0.00498\n",
      "[140]\ttrain-auc:0.89667+0.00072\ttest-auc:0.88743+0.00498\n",
      "[150]\ttrain-auc:0.89667+0.00072\ttest-auc:0.88743+0.00498\n",
      "[160]\ttrain-auc:0.89667+0.00072\ttest-auc:0.88743+0.00498\n",
      "[170]\ttrain-auc:0.89667+0.00072\ttest-auc:0.88743+0.00498\n",
      "[180]\ttrain-auc:0.89667+0.00072\ttest-auc:0.88743+0.00498\n",
      "[190]\ttrain-auc:0.89667+0.00072\ttest-auc:0.88743+0.00498\n",
      "[200]\ttrain-auc:0.89667+0.00072\ttest-auc:0.88743+0.00498\n",
      "Wall time: 20.3 s\n"
     ]
    },
    {
     "data": {
      "image/png": "[encoded data removed]",
      "text/plain": [
       "<Figure size 1080x360 with 1 Axes>"
      ]
     },
     "metadata": {
      "needs_background": "light"
     },
     "output_type": "display_data"
    }
   ],
   "source": [
    "%%time\n",
    "# кросвалидация\n",
    "cv_result = cv_xgb(params, num_train, y_train)\n",
    "plotXgbResult(cv_result)"
   ]
  },
  {
   "cell_type": "markdown",
   "metadata": {},
   "source": [
    "#### Тренируем и оцениваем модель - числовые и обработанные категориальные"
   ]
  },
  {
   "cell_type": "code",
   "execution_count": 181,
   "metadata": {},
   "outputs": [
    {
     "name": "stdout",
     "output_type": "stream",
     "text": [
      "[0]\ttrain-auc:0.64819\tvalid-auc:0.65529\n",
      "Multiple eval metrics have been passed: 'valid-auc' will be used for early stopping.\n",
      "\n",
      "Will train until valid-auc hasn't improved in 100 rounds.\n",
      "[10]\ttrain-auc:0.74610\tvalid-auc:0.74640\n",
      "[20]\ttrain-auc:0.81983\tvalid-auc:0.82434\n",
      "[30]\ttrain-auc:0.86089\tvalid-auc:0.86836\n",
      "[40]\ttrain-auc:0.87294\tvalid-auc:0.87844\n",
      "[50]\ttrain-auc:0.88426\tvalid-auc:0.88780\n",
      "[60]\ttrain-auc:0.89188\tvalid-auc:0.89390\n",
      "[70]\ttrain-auc:0.89637\tvalid-auc:0.89715\n",
      "[80]\ttrain-auc:0.90030\tvalid-auc:0.90037\n",
      "[90]\ttrain-auc:0.90348\tvalid-auc:0.90253\n",
      "[100]\ttrain-auc:0.90560\tvalid-auc:0.90403\n",
      "[110]\ttrain-auc:0.90783\tvalid-auc:0.90497\n",
      "[120]\ttrain-auc:0.90923\tvalid-auc:0.90609\n",
      "[130]\ttrain-auc:0.90923\tvalid-auc:0.90609\n",
      "[140]\ttrain-auc:0.90923\tvalid-auc:0.90609\n",
      "[150]\ttrain-auc:0.90923\tvalid-auc:0.90609\n",
      "[160]\ttrain-auc:0.90923\tvalid-auc:0.90609\n",
      "[170]\ttrain-auc:0.90923\tvalid-auc:0.90609\n",
      "[180]\ttrain-auc:0.90923\tvalid-auc:0.90609\n",
      "[190]\ttrain-auc:0.90923\tvalid-auc:0.90609\n",
      "[200]\ttrain-auc:0.90923\tvalid-auc:0.90609\n",
      "[210]\ttrain-auc:0.90923\tvalid-auc:0.90609\n",
      "Stopping. Best iteration:\n",
      "[118]\ttrain-auc:0.90923\tvalid-auc:0.90609\n",
      "\n",
      "Wall time: 7.13 s\n"
     ]
    }
   ],
   "source": [
    "%%time\n",
    "model = train_xgb(params, prep_train, prep_valid, y_train, y_valid)"
   ]
  },
  {
   "cell_type": "code",
   "execution_count": 182,
   "metadata": {},
   "outputs": [
    {
     "name": "stdout",
     "output_type": "stream",
     "text": [
      "[0]\ttrain-auc:0.62718+0.01094\ttest-auc:0.62467+0.01491\n",
      "[10]\ttrain-auc:0.77759+0.01414\ttest-auc:0.77467+0.02329\n",
      "[20]\ttrain-auc:0.82452+0.00473\ttest-auc:0.82056+0.00820\n",
      "[30]\ttrain-auc:0.85605+0.00445\ttest-auc:0.85167+0.00655\n",
      "[40]\ttrain-auc:0.87199+0.00122\ttest-auc:0.86674+0.00679\n",
      "[50]\ttrain-auc:0.88326+0.00106\ttest-auc:0.87713+0.00488\n",
      "[60]\ttrain-auc:0.89045+0.00071\ttest-auc:0.88319+0.00560\n",
      "[70]\ttrain-auc:0.89566+0.00078\ttest-auc:0.88793+0.00543\n",
      "[80]\ttrain-auc:0.89949+0.00093\ttest-auc:0.89136+0.00551\n",
      "[90]\ttrain-auc:0.90226+0.00118\ttest-auc:0.89387+0.00527\n",
      "[100]\ttrain-auc:0.90490+0.00118\ttest-auc:0.89598+0.00527\n",
      "[110]\ttrain-auc:0.90646+0.00145\ttest-auc:0.89738+0.00507\n",
      "[120]\ttrain-auc:0.90646+0.00145\ttest-auc:0.89738+0.00507\n",
      "[130]\ttrain-auc:0.90646+0.00145\ttest-auc:0.89738+0.00507\n",
      "[140]\ttrain-auc:0.90646+0.00145\ttest-auc:0.89738+0.00507\n",
      "[150]\ttrain-auc:0.90646+0.00145\ttest-auc:0.89738+0.00507\n",
      "[160]\ttrain-auc:0.90646+0.00145\ttest-auc:0.89738+0.00507\n",
      "[170]\ttrain-auc:0.90646+0.00145\ttest-auc:0.89738+0.00507\n",
      "[180]\ttrain-auc:0.90646+0.00145\ttest-auc:0.89738+0.00507\n",
      "[190]\ttrain-auc:0.90646+0.00145\ttest-auc:0.89738+0.00507\n",
      "[200]\ttrain-auc:0.90646+0.00145\ttest-auc:0.89738+0.00507\n",
      "Wall time: 23.5 s\n"
     ]
    },
    {
     "data": {
      "image/png": "[encoded data removed]",
      "text/plain": [
       "<Figure size 1080x360 with 1 Axes>"
      ]
     },
     "metadata": {
      "needs_background": "light"
     },
     "output_type": "display_data"
    }
   ],
   "source": [
    "%%time\n",
    "# кросвалидация\n",
    "cv_result = cv_xgb(params, prep_train, y_train)\n",
    "plotXgbResult(cv_result)"
   ]
  },
  {
   "cell_type": "markdown",
   "metadata": {},
   "source": [
    "### Вывод по XGBoost\n",
    "\n",
    "Добавление предобработанных данных повышает качество на 0,01 "
   ]
  },
  {
   "cell_type": "code",
   "execution_count": null,
   "metadata": {},
   "outputs": [],
   "source": []
  }
 ],
 "metadata": {
  "kernelspec": {
   "display_name": "Python 3",
   "language": "python",
   "name": "python3"
  },
  "language_info": {
   "codemirror_mode": {
    "name": "ipython",
    "version": 3
   },
   "file_extension": ".py",
   "mimetype": "text/x-python",
   "name": "python",
   "nbconvert_exporter": "python",
   "pygments_lexer": "ipython3",
   "version": "3.8.4"
  }
 },
 "nbformat": 4,
 "nbformat_minor": 4
}
